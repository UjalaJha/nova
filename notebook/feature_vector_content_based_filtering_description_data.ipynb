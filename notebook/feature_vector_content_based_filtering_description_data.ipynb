{
  "nbformat": 4,
  "nbformat_minor": 0,
  "metadata": {
    "colab": {
      "provenance": [],
      "authorship_tag": "ABX9TyMQXpkxji7SA/TxC+0zujkq",
      "include_colab_link": true
    },
    "kernelspec": {
      "name": "python3",
      "display_name": "Python 3"
    },
    "language_info": {
      "name": "python"
    }
  },
  "cells": [
    {
      "cell_type": "markdown",
      "metadata": {
        "id": "view-in-github",
        "colab_type": "text"
      },
      "source": [
        "<a href=\"https://colab.research.google.com/github/UjalaJha/nova/blob/develop/notebook/feature_vector_content_based_filtering_description_data.ipynb\" target=\"_parent\"><img src=\"https://colab.research.google.com/assets/colab-badge.svg\" alt=\"Open In Colab\"/></a>"
      ]
    },
    {
      "cell_type": "code",
      "execution_count": 3,
      "metadata": {
        "id": "kCxdvn6aFPjl"
      },
      "outputs": [],
      "source": [
        "#import libraries\n",
        "import pandas as pd\n",
        "import numpy as np\n",
        "import random as rd\n",
        "import matplotlib.pyplot as plt\n",
        "from sklearn.cluster import KMeans\n",
        "from google.colab import drive\n",
        "from sklearn.preprocessing import LabelEncoder\n",
        "import ast"
      ]
    },
    {
      "cell_type": "code",
      "source": [
        "# !pip install langdetect\n",
        "# !pip install ntlk"
      ],
      "metadata": {
        "colab": {
          "base_uri": "https://localhost:8080/"
        },
        "id": "wFEWucLTrVTG",
        "outputId": "87384275-7786-4827-f757-2310478aed12"
      },
      "execution_count": 103,
      "outputs": [
        {
          "output_type": "stream",
          "name": "stdout",
          "text": [
            "Looking in indexes: https://pypi.org/simple, https://us-python.pkg.dev/colab-wheels/public/simple/\n",
            "Requirement already satisfied: langdetect in /usr/local/lib/python3.9/dist-packages (1.0.9)\n",
            "Requirement already satisfied: six in /usr/local/lib/python3.9/dist-packages (from langdetect) (1.16.0)\n",
            "Looking in indexes: https://pypi.org/simple, https://us-python.pkg.dev/colab-wheels/public/simple/\n",
            "\u001b[31mERROR: Could not find a version that satisfies the requirement ntlk (from versions: none)\u001b[0m\u001b[31m\n",
            "\u001b[0m\u001b[31mERROR: No matching distribution found for ntlk\u001b[0m\u001b[31m\n",
            "\u001b[0m"
          ]
        }
      ]
    },
    {
      "cell_type": "code",
      "source": [
        "# Mount Google Drive folder\n",
        "drive.mount('/content/drive')"
      ],
      "metadata": {
        "colab": {
          "base_uri": "https://localhost:8080/"
        },
        "id": "5KG6romsFpTo",
        "outputId": "b911a521-d4b7-4dad-8696-60a9176ebe75"
      },
      "execution_count": 4,
      "outputs": [
        {
          "output_type": "stream",
          "name": "stdout",
          "text": [
            "Drive already mounted at /content/drive; to attempt to forcibly remount, call drive.mount(\"/content/drive\", force_remount=True).\n"
          ]
        }
      ]
    },
    {
      "cell_type": "code",
      "source": [
        "# Path to file in mounted Google Drive folder\n",
        "file_path = '/content/drive/MyDrive/Grace Hopper/combined-1kAbove-stars.csv'\n",
        "\n",
        "# Read CSV file using pandas\n",
        "data = pd.read_csv(file_path)\n",
        "data.head()"
      ],
      "metadata": {
        "colab": {
          "base_uri": "https://localhost:8080/",
          "height": 716
        },
        "id": "Ya8lVlgiFY9w",
        "outputId": "356e227c-5fcc-4a9c-fde7-66e3e21608ad"
      },
      "execution_count": 5,
      "outputs": [
        {
          "output_type": "execute_result",
          "data": {
            "text/plain": [
              "   Unnamed: 0.1  Unnamed: 0         id                           node_id  \\\n",
              "0             0           0   45717250  MDEwOlJlcG9zaXRvcnk0NTcxNzI1MA==   \n",
              "1             1           1   20580498  MDEwOlJlcG9zaXRvcnkyMDU4MDQ5OA==   \n",
              "2             2           2  155220641  MDEwOlJlcG9zaXRvcnkxNTUyMjA2NDE=   \n",
              "3             3           3   20929025  MDEwOlJlcG9zaXRvcnkyMDkyOTAyNQ==   \n",
              "4             4           4   90796663  MDEwOlJlcG9zaXRvcnk5MDc5NjY2Mw==   \n",
              "\n",
              "           name                 full_name  private  \\\n",
              "0    tensorflow     tensorflow/tensorflow    False   \n",
              "1    kubernetes     kubernetes/kubernetes    False   \n",
              "2  transformers  huggingface/transformers    False   \n",
              "3    TypeScript      microsoft/TypeScript    False   \n",
              "4     puppeteer       puppeteer/puppeteer    False   \n",
              "\n",
              "                                               owner  \\\n",
              "0  {'login': 'tensorflow', 'id': 15658638, 'node_...   \n",
              "1  {'login': 'kubernetes', 'id': 13629408, 'node_...   \n",
              "2  {'login': 'huggingface', 'id': 25720743, 'node...   \n",
              "3  {'login': 'microsoft', 'id': 6154722, 'node_id...   \n",
              "4  {'login': 'puppeteer', 'id': 6906516, 'node_id...   \n",
              "\n",
              "                                      html_url  \\\n",
              "0     https://github.com/tensorflow/tensorflow   \n",
              "1     https://github.com/kubernetes/kubernetes   \n",
              "2  https://github.com/huggingface/transformers   \n",
              "3      https://github.com/microsoft/TypeScript   \n",
              "4       https://github.com/puppeteer/puppeteer   \n",
              "\n",
              "                                         description  ...  visibility  forks  \\\n",
              "0  An Open Source Machine Learning Framework for ...  ...      public  88115   \n",
              "1  Production-Grade Container Scheduling and Mana...  ...      public  35807   \n",
              "2  🤗 Transformers: State-of-the-art Machine Learn...  ...      public  19596   \n",
              "3  TypeScript is a superset of JavaScript that co...  ...      public  11681   \n",
              "4                        Headless Chrome Node.js API  ...      public   8877   \n",
              "\n",
              "  open_issues watchers default_branch  \\\n",
              "0        2216   173348         master   \n",
              "1        2486    97468         master   \n",
              "2         672    93079           main   \n",
              "3        6108    90382           main   \n",
              "4         268    82712           main   \n",
              "\n",
              "                                         permissions score  \\\n",
              "0  {'admin': False, 'maintain': False, 'push': Fa...   1.0   \n",
              "1  {'admin': False, 'maintain': False, 'push': Fa...   1.0   \n",
              "2  {'admin': False, 'maintain': False, 'push': Fa...   1.0   \n",
              "3  {'admin': False, 'maintain': False, 'push': Fa...   1.0   \n",
              "4  {'admin': False, 'maintain': False, 'push': Fa...   1.0   \n",
              "\n",
              "                                           lang_name  \\\n",
              "0  ['C++', 'Python', 'MLIR', 'Starlark', 'HTML', ...   \n",
              "1  ['Go', 'Shell', 'PowerShell', 'Makefile', 'Doc...   \n",
              "2  ['Python', 'Cuda', 'Shell', 'Dockerfile', 'C++...   \n",
              "3  ['TypeScript', 'JavaScript', 'Dockerfile', 'Sh...   \n",
              "4  ['TypeScript', 'JavaScript', 'HTML', 'CSS', 'D...   \n",
              "\n",
              "                                           lang_perc license_name  \n",
              "0  [132095537, 43756548, 13084966, 8623743, 46864...   Apache-2.0  \n",
              "1  [66222388, 1836554, 144474, 63695, 49417, 2373...   Apache-2.0  \n",
              "2  [42853265, 175419, 30374, 20516, 12959, 6021, ...   Apache-2.0  \n",
              "3                        [87866426, 198563, 330, 53]   Apache-2.0  \n",
              "4          [1859434, 112872, 25585, 6581, 1574, 600]   Apache-2.0  \n",
              "\n",
              "[5 rows x 86 columns]"
            ],
            "text/html": [
              "\n",
              "  <div id=\"df-2696fcc8-77d9-4648-8a97-dca3f948ace9\">\n",
              "    <div class=\"colab-df-container\">\n",
              "      <div>\n",
              "<style scoped>\n",
              "    .dataframe tbody tr th:only-of-type {\n",
              "        vertical-align: middle;\n",
              "    }\n",
              "\n",
              "    .dataframe tbody tr th {\n",
              "        vertical-align: top;\n",
              "    }\n",
              "\n",
              "    .dataframe thead th {\n",
              "        text-align: right;\n",
              "    }\n",
              "</style>\n",
              "<table border=\"1\" class=\"dataframe\">\n",
              "  <thead>\n",
              "    <tr style=\"text-align: right;\">\n",
              "      <th></th>\n",
              "      <th>Unnamed: 0.1</th>\n",
              "      <th>Unnamed: 0</th>\n",
              "      <th>id</th>\n",
              "      <th>node_id</th>\n",
              "      <th>name</th>\n",
              "      <th>full_name</th>\n",
              "      <th>private</th>\n",
              "      <th>owner</th>\n",
              "      <th>html_url</th>\n",
              "      <th>description</th>\n",
              "      <th>...</th>\n",
              "      <th>visibility</th>\n",
              "      <th>forks</th>\n",
              "      <th>open_issues</th>\n",
              "      <th>watchers</th>\n",
              "      <th>default_branch</th>\n",
              "      <th>permissions</th>\n",
              "      <th>score</th>\n",
              "      <th>lang_name</th>\n",
              "      <th>lang_perc</th>\n",
              "      <th>license_name</th>\n",
              "    </tr>\n",
              "  </thead>\n",
              "  <tbody>\n",
              "    <tr>\n",
              "      <th>0</th>\n",
              "      <td>0</td>\n",
              "      <td>0</td>\n",
              "      <td>45717250</td>\n",
              "      <td>MDEwOlJlcG9zaXRvcnk0NTcxNzI1MA==</td>\n",
              "      <td>tensorflow</td>\n",
              "      <td>tensorflow/tensorflow</td>\n",
              "      <td>False</td>\n",
              "      <td>{'login': 'tensorflow', 'id': 15658638, 'node_...</td>\n",
              "      <td>https://github.com/tensorflow/tensorflow</td>\n",
              "      <td>An Open Source Machine Learning Framework for ...</td>\n",
              "      <td>...</td>\n",
              "      <td>public</td>\n",
              "      <td>88115</td>\n",
              "      <td>2216</td>\n",
              "      <td>173348</td>\n",
              "      <td>master</td>\n",
              "      <td>{'admin': False, 'maintain': False, 'push': Fa...</td>\n",
              "      <td>1.0</td>\n",
              "      <td>['C++', 'Python', 'MLIR', 'Starlark', 'HTML', ...</td>\n",
              "      <td>[132095537, 43756548, 13084966, 8623743, 46864...</td>\n",
              "      <td>Apache-2.0</td>\n",
              "    </tr>\n",
              "    <tr>\n",
              "      <th>1</th>\n",
              "      <td>1</td>\n",
              "      <td>1</td>\n",
              "      <td>20580498</td>\n",
              "      <td>MDEwOlJlcG9zaXRvcnkyMDU4MDQ5OA==</td>\n",
              "      <td>kubernetes</td>\n",
              "      <td>kubernetes/kubernetes</td>\n",
              "      <td>False</td>\n",
              "      <td>{'login': 'kubernetes', 'id': 13629408, 'node_...</td>\n",
              "      <td>https://github.com/kubernetes/kubernetes</td>\n",
              "      <td>Production-Grade Container Scheduling and Mana...</td>\n",
              "      <td>...</td>\n",
              "      <td>public</td>\n",
              "      <td>35807</td>\n",
              "      <td>2486</td>\n",
              "      <td>97468</td>\n",
              "      <td>master</td>\n",
              "      <td>{'admin': False, 'maintain': False, 'push': Fa...</td>\n",
              "      <td>1.0</td>\n",
              "      <td>['Go', 'Shell', 'PowerShell', 'Makefile', 'Doc...</td>\n",
              "      <td>[66222388, 1836554, 144474, 63695, 49417, 2373...</td>\n",
              "      <td>Apache-2.0</td>\n",
              "    </tr>\n",
              "    <tr>\n",
              "      <th>2</th>\n",
              "      <td>2</td>\n",
              "      <td>2</td>\n",
              "      <td>155220641</td>\n",
              "      <td>MDEwOlJlcG9zaXRvcnkxNTUyMjA2NDE=</td>\n",
              "      <td>transformers</td>\n",
              "      <td>huggingface/transformers</td>\n",
              "      <td>False</td>\n",
              "      <td>{'login': 'huggingface', 'id': 25720743, 'node...</td>\n",
              "      <td>https://github.com/huggingface/transformers</td>\n",
              "      <td>🤗 Transformers: State-of-the-art Machine Learn...</td>\n",
              "      <td>...</td>\n",
              "      <td>public</td>\n",
              "      <td>19596</td>\n",
              "      <td>672</td>\n",
              "      <td>93079</td>\n",
              "      <td>main</td>\n",
              "      <td>{'admin': False, 'maintain': False, 'push': Fa...</td>\n",
              "      <td>1.0</td>\n",
              "      <td>['Python', 'Cuda', 'Shell', 'Dockerfile', 'C++...</td>\n",
              "      <td>[42853265, 175419, 30374, 20516, 12959, 6021, ...</td>\n",
              "      <td>Apache-2.0</td>\n",
              "    </tr>\n",
              "    <tr>\n",
              "      <th>3</th>\n",
              "      <td>3</td>\n",
              "      <td>3</td>\n",
              "      <td>20929025</td>\n",
              "      <td>MDEwOlJlcG9zaXRvcnkyMDkyOTAyNQ==</td>\n",
              "      <td>TypeScript</td>\n",
              "      <td>microsoft/TypeScript</td>\n",
              "      <td>False</td>\n",
              "      <td>{'login': 'microsoft', 'id': 6154722, 'node_id...</td>\n",
              "      <td>https://github.com/microsoft/TypeScript</td>\n",
              "      <td>TypeScript is a superset of JavaScript that co...</td>\n",
              "      <td>...</td>\n",
              "      <td>public</td>\n",
              "      <td>11681</td>\n",
              "      <td>6108</td>\n",
              "      <td>90382</td>\n",
              "      <td>main</td>\n",
              "      <td>{'admin': False, 'maintain': False, 'push': Fa...</td>\n",
              "      <td>1.0</td>\n",
              "      <td>['TypeScript', 'JavaScript', 'Dockerfile', 'Sh...</td>\n",
              "      <td>[87866426, 198563, 330, 53]</td>\n",
              "      <td>Apache-2.0</td>\n",
              "    </tr>\n",
              "    <tr>\n",
              "      <th>4</th>\n",
              "      <td>4</td>\n",
              "      <td>4</td>\n",
              "      <td>90796663</td>\n",
              "      <td>MDEwOlJlcG9zaXRvcnk5MDc5NjY2Mw==</td>\n",
              "      <td>puppeteer</td>\n",
              "      <td>puppeteer/puppeteer</td>\n",
              "      <td>False</td>\n",
              "      <td>{'login': 'puppeteer', 'id': 6906516, 'node_id...</td>\n",
              "      <td>https://github.com/puppeteer/puppeteer</td>\n",
              "      <td>Headless Chrome Node.js API</td>\n",
              "      <td>...</td>\n",
              "      <td>public</td>\n",
              "      <td>8877</td>\n",
              "      <td>268</td>\n",
              "      <td>82712</td>\n",
              "      <td>main</td>\n",
              "      <td>{'admin': False, 'maintain': False, 'push': Fa...</td>\n",
              "      <td>1.0</td>\n",
              "      <td>['TypeScript', 'JavaScript', 'HTML', 'CSS', 'D...</td>\n",
              "      <td>[1859434, 112872, 25585, 6581, 1574, 600]</td>\n",
              "      <td>Apache-2.0</td>\n",
              "    </tr>\n",
              "  </tbody>\n",
              "</table>\n",
              "<p>5 rows × 86 columns</p>\n",
              "</div>\n",
              "      <button class=\"colab-df-convert\" onclick=\"convertToInteractive('df-2696fcc8-77d9-4648-8a97-dca3f948ace9')\"\n",
              "              title=\"Convert this dataframe to an interactive table.\"\n",
              "              style=\"display:none;\">\n",
              "        \n",
              "  <svg xmlns=\"http://www.w3.org/2000/svg\" height=\"24px\"viewBox=\"0 0 24 24\"\n",
              "       width=\"24px\">\n",
              "    <path d=\"M0 0h24v24H0V0z\" fill=\"none\"/>\n",
              "    <path d=\"M18.56 5.44l.94 2.06.94-2.06 2.06-.94-2.06-.94-.94-2.06-.94 2.06-2.06.94zm-11 1L8.5 8.5l.94-2.06 2.06-.94-2.06-.94L8.5 2.5l-.94 2.06-2.06.94zm10 10l.94 2.06.94-2.06 2.06-.94-2.06-.94-.94-2.06-.94 2.06-2.06.94z\"/><path d=\"M17.41 7.96l-1.37-1.37c-.4-.4-.92-.59-1.43-.59-.52 0-1.04.2-1.43.59L10.3 9.45l-7.72 7.72c-.78.78-.78 2.05 0 2.83L4 21.41c.39.39.9.59 1.41.59.51 0 1.02-.2 1.41-.59l7.78-7.78 2.81-2.81c.8-.78.8-2.07 0-2.86zM5.41 20L4 18.59l7.72-7.72 1.47 1.35L5.41 20z\"/>\n",
              "  </svg>\n",
              "      </button>\n",
              "      \n",
              "  <style>\n",
              "    .colab-df-container {\n",
              "      display:flex;\n",
              "      flex-wrap:wrap;\n",
              "      gap: 12px;\n",
              "    }\n",
              "\n",
              "    .colab-df-convert {\n",
              "      background-color: #E8F0FE;\n",
              "      border: none;\n",
              "      border-radius: 50%;\n",
              "      cursor: pointer;\n",
              "      display: none;\n",
              "      fill: #1967D2;\n",
              "      height: 32px;\n",
              "      padding: 0 0 0 0;\n",
              "      width: 32px;\n",
              "    }\n",
              "\n",
              "    .colab-df-convert:hover {\n",
              "      background-color: #E2EBFA;\n",
              "      box-shadow: 0px 1px 2px rgba(60, 64, 67, 0.3), 0px 1px 3px 1px rgba(60, 64, 67, 0.15);\n",
              "      fill: #174EA6;\n",
              "    }\n",
              "\n",
              "    [theme=dark] .colab-df-convert {\n",
              "      background-color: #3B4455;\n",
              "      fill: #D2E3FC;\n",
              "    }\n",
              "\n",
              "    [theme=dark] .colab-df-convert:hover {\n",
              "      background-color: #434B5C;\n",
              "      box-shadow: 0px 1px 3px 1px rgba(0, 0, 0, 0.15);\n",
              "      filter: drop-shadow(0px 1px 2px rgba(0, 0, 0, 0.3));\n",
              "      fill: #FFFFFF;\n",
              "    }\n",
              "  </style>\n",
              "\n",
              "      <script>\n",
              "        const buttonEl =\n",
              "          document.querySelector('#df-2696fcc8-77d9-4648-8a97-dca3f948ace9 button.colab-df-convert');\n",
              "        buttonEl.style.display =\n",
              "          google.colab.kernel.accessAllowed ? 'block' : 'none';\n",
              "\n",
              "        async function convertToInteractive(key) {\n",
              "          const element = document.querySelector('#df-2696fcc8-77d9-4648-8a97-dca3f948ace9');\n",
              "          const dataTable =\n",
              "            await google.colab.kernel.invokeFunction('convertToInteractive',\n",
              "                                                     [key], {});\n",
              "          if (!dataTable) return;\n",
              "\n",
              "          const docLinkHtml = 'Like what you see? Visit the ' +\n",
              "            '<a target=\"_blank\" href=https://colab.research.google.com/notebooks/data_table.ipynb>data table notebook</a>'\n",
              "            + ' to learn more about interactive tables.';\n",
              "          element.innerHTML = '';\n",
              "          dataTable['output_type'] = 'display_data';\n",
              "          await google.colab.output.renderOutput(dataTable, element);\n",
              "          const docLink = document.createElement('div');\n",
              "          docLink.innerHTML = docLinkHtml;\n",
              "          element.appendChild(docLink);\n",
              "        }\n",
              "      </script>\n",
              "    </div>\n",
              "  </div>\n",
              "  "
            ]
          },
          "metadata": {},
          "execution_count": 5
        }
      ]
    },
    {
      "cell_type": "code",
      "source": [
        "data.columns"
      ],
      "metadata": {
        "colab": {
          "base_uri": "https://localhost:8080/"
        },
        "id": "C2KofemkGHzQ",
        "outputId": "82ba18bc-3046-49c8-ce12-58da1b3e1233"
      },
      "execution_count": null,
      "outputs": [
        {
          "output_type": "execute_result",
          "data": {
            "text/plain": [
              "Index(['Unnamed: 0.1', 'Unnamed: 0', 'id', 'node_id', 'name', 'full_name',\n",
              "       'private', 'owner', 'html_url', 'description', 'fork', 'url',\n",
              "       'forks_url', 'keys_url', 'collaborators_url', 'teams_url', 'hooks_url',\n",
              "       'issue_events_url', 'events_url', 'assignees_url', 'branches_url',\n",
              "       'tags_url', 'blobs_url', 'git_tags_url', 'git_refs_url', 'trees_url',\n",
              "       'statuses_url', 'languages_url', 'stargazers_url', 'contributors_url',\n",
              "       'subscribers_url', 'subscription_url', 'commits_url', 'git_commits_url',\n",
              "       'comments_url', 'issue_comment_url', 'contents_url', 'compare_url',\n",
              "       'merges_url', 'archive_url', 'downloads_url', 'issues_url', 'pulls_url',\n",
              "       'milestones_url', 'notifications_url', 'labels_url', 'releases_url',\n",
              "       'deployments_url', 'created_at', 'updated_at', 'pushed_at', 'git_url',\n",
              "       'ssh_url', 'clone_url', 'svn_url', 'homepage', 'size',\n",
              "       'stargazers_count', 'watchers_count', 'language', 'has_issues',\n",
              "       'has_projects', 'has_downloads', 'has_wiki', 'has_pages',\n",
              "       'has_discussions', 'forks_count', 'mirror_url', 'archived', 'disabled',\n",
              "       'open_issues_count', 'license', 'allow_forking', 'is_template',\n",
              "       'web_commit_signoff_required', 'topics', 'visibility', 'forks',\n",
              "       'open_issues', 'watchers', 'default_branch', 'permissions', 'score',\n",
              "       'lang_name', 'lang_perc', 'license_name'],\n",
              "      dtype='object')"
            ]
          },
          "metadata": {},
          "execution_count": 5
        }
      ]
    },
    {
      "cell_type": "markdown",
      "source": [
        "# Preprocess Data"
      ],
      "metadata": {
        "id": "yh_rP3bV8xxX"
      }
    },
    {
      "cell_type": "code",
      "source": [
        "# Data Picking and Analysis\n",
        "from IPython.display import display\n",
        "data_selected = data[[\"full_name\",\"name\",\"description\",\"topics\",\"language\",\"lang_name\",\"license_name\"]]\n",
        "print('\\n\\nAll Data -------------------------------------------------------------\\n\\n')\n",
        "display(data_selected)\n",
        "print('\\n\\nAll Data HEAD -------------------------------------------------------------\\n\\n')\n",
        "display(data_selected.head())\n",
        "print('\\n\\nAll Data Describe -------------------------------------------------------------\\n\\n')\n",
        "display(data_selected.describe())\n",
        "print('\\n\\nAll Data COUNT -------------------------------------------------------------\\n\\n')\n",
        "display(data_selected.count())"
      ],
      "metadata": {
        "colab": {
          "base_uri": "https://localhost:8080/",
          "height": 1000
        },
        "id": "NkN5H3e-GDie",
        "outputId": "b2190a06-0d41-426d-d8dd-166462665e96"
      },
      "execution_count": 6,
      "outputs": [
        {
          "output_type": "stream",
          "name": "stdout",
          "text": [
            "\n",
            "\n",
            "All Data -------------------------------------------------------------\n",
            "\n",
            "\n"
          ]
        },
        {
          "output_type": "display_data",
          "data": {
            "text/plain": [
              "                               full_name                     name  \\\n",
              "0                  tensorflow/tensorflow               tensorflow   \n",
              "1                  kubernetes/kubernetes               kubernetes   \n",
              "2               huggingface/transformers             transformers   \n",
              "3                   microsoft/TypeScript               TypeScript   \n",
              "4                    puppeteer/puppeteer                puppeteer   \n",
              "...                                  ...                      ...   \n",
              "5320           hashicorp/setup-terraform          setup-terraform   \n",
              "5321  luguanxing/Cheating-Plugin-Program  Cheating-Plugin-Program   \n",
              "5322                     actiontech/sqle                     sqle   \n",
              "5323         gzuidhof/starboard-notebook       starboard-notebook   \n",
              "5324                       stepci/stepci                   stepci   \n",
              "\n",
              "                                            description  \\\n",
              "0     An Open Source Machine Learning Framework for ...   \n",
              "1     Production-Grade Container Scheduling and Mana...   \n",
              "2     🤗 Transformers: State-of-the-art Machine Learn...   \n",
              "3     TypeScript is a superset of JavaScript that co...   \n",
              "4                           Headless Chrome Node.js API   \n",
              "...                                                 ...   \n",
              "5320  Sets up Terraform CLI in your GitHub Actions w...   \n",
              "5321                                       从零开始研究外挂设计原理   \n",
              "5322  SQLE is a SQL audit platform | SQLE 是一个支持多场景，原...   \n",
              "5323                      In-browser literate notebooks   \n",
              "5324        Automated API Testing and Quality Assurance   \n",
              "\n",
              "                                                 topics    language  \\\n",
              "0     ['deep-learning', 'deep-neural-networks', 'dis...         C++   \n",
              "1            ['cncf', 'containers', 'go', 'kubernetes']          Go   \n",
              "2     ['bert', 'deep-learning', 'flax', 'hacktoberfe...      Python   \n",
              "3     ['javascript', 'language', 'typechecker', 'typ...  TypeScript   \n",
              "4     ['automation', 'chrome', 'chromium', 'develope...  TypeScript   \n",
              "...                                                 ...         ...   \n",
              "5320                                                 []  JavaScript   \n",
              "5321                                                 []         C++   \n",
              "5322  ['advisor', 'audit', 'jetbrains', 'mssql', 'my...          Go   \n",
              "5323  ['literate-programming', 'notebook', 'starboar...  TypeScript   \n",
              "5324  ['actions', 'api', 'api-rest', 'api-testing', ...  TypeScript   \n",
              "\n",
              "                                              lang_name license_name  \n",
              "0     ['C++', 'Python', 'MLIR', 'Starlark', 'HTML', ...   Apache-2.0  \n",
              "1     ['Go', 'Shell', 'PowerShell', 'Makefile', 'Doc...   Apache-2.0  \n",
              "2     ['Python', 'Cuda', 'Shell', 'Dockerfile', 'C++...   Apache-2.0  \n",
              "3     ['TypeScript', 'JavaScript', 'Dockerfile', 'Sh...   Apache-2.0  \n",
              "4     ['TypeScript', 'JavaScript', 'HTML', 'CSS', 'D...   Apache-2.0  \n",
              "...                                                 ...          ...  \n",
              "5320                            ['JavaScript', 'Shell']      MPL-2.0  \n",
              "5321                           ['C++', 'C', 'Makefile']      MPL-2.0  \n",
              "5322  ['Go', 'Makefile', 'Shell', 'Dockerfile', 'Pyt...      MPL-2.0  \n",
              "5323  ['TypeScript', 'SCSS', 'JavaScript', 'CSS', 'M...      MPL-2.0  \n",
              "5324              ['TypeScript', 'Shell', 'Dockerfile']      MPL-2.0  \n",
              "\n",
              "[5325 rows x 7 columns]"
            ],
            "text/html": [
              "\n",
              "  <div id=\"df-dc5f3205-63d7-4576-a452-f9617e46fc2c\">\n",
              "    <div class=\"colab-df-container\">\n",
              "      <div>\n",
              "<style scoped>\n",
              "    .dataframe tbody tr th:only-of-type {\n",
              "        vertical-align: middle;\n",
              "    }\n",
              "\n",
              "    .dataframe tbody tr th {\n",
              "        vertical-align: top;\n",
              "    }\n",
              "\n",
              "    .dataframe thead th {\n",
              "        text-align: right;\n",
              "    }\n",
              "</style>\n",
              "<table border=\"1\" class=\"dataframe\">\n",
              "  <thead>\n",
              "    <tr style=\"text-align: right;\">\n",
              "      <th></th>\n",
              "      <th>full_name</th>\n",
              "      <th>name</th>\n",
              "      <th>description</th>\n",
              "      <th>topics</th>\n",
              "      <th>language</th>\n",
              "      <th>lang_name</th>\n",
              "      <th>license_name</th>\n",
              "    </tr>\n",
              "  </thead>\n",
              "  <tbody>\n",
              "    <tr>\n",
              "      <th>0</th>\n",
              "      <td>tensorflow/tensorflow</td>\n",
              "      <td>tensorflow</td>\n",
              "      <td>An Open Source Machine Learning Framework for ...</td>\n",
              "      <td>['deep-learning', 'deep-neural-networks', 'dis...</td>\n",
              "      <td>C++</td>\n",
              "      <td>['C++', 'Python', 'MLIR', 'Starlark', 'HTML', ...</td>\n",
              "      <td>Apache-2.0</td>\n",
              "    </tr>\n",
              "    <tr>\n",
              "      <th>1</th>\n",
              "      <td>kubernetes/kubernetes</td>\n",
              "      <td>kubernetes</td>\n",
              "      <td>Production-Grade Container Scheduling and Mana...</td>\n",
              "      <td>['cncf', 'containers', 'go', 'kubernetes']</td>\n",
              "      <td>Go</td>\n",
              "      <td>['Go', 'Shell', 'PowerShell', 'Makefile', 'Doc...</td>\n",
              "      <td>Apache-2.0</td>\n",
              "    </tr>\n",
              "    <tr>\n",
              "      <th>2</th>\n",
              "      <td>huggingface/transformers</td>\n",
              "      <td>transformers</td>\n",
              "      <td>🤗 Transformers: State-of-the-art Machine Learn...</td>\n",
              "      <td>['bert', 'deep-learning', 'flax', 'hacktoberfe...</td>\n",
              "      <td>Python</td>\n",
              "      <td>['Python', 'Cuda', 'Shell', 'Dockerfile', 'C++...</td>\n",
              "      <td>Apache-2.0</td>\n",
              "    </tr>\n",
              "    <tr>\n",
              "      <th>3</th>\n",
              "      <td>microsoft/TypeScript</td>\n",
              "      <td>TypeScript</td>\n",
              "      <td>TypeScript is a superset of JavaScript that co...</td>\n",
              "      <td>['javascript', 'language', 'typechecker', 'typ...</td>\n",
              "      <td>TypeScript</td>\n",
              "      <td>['TypeScript', 'JavaScript', 'Dockerfile', 'Sh...</td>\n",
              "      <td>Apache-2.0</td>\n",
              "    </tr>\n",
              "    <tr>\n",
              "      <th>4</th>\n",
              "      <td>puppeteer/puppeteer</td>\n",
              "      <td>puppeteer</td>\n",
              "      <td>Headless Chrome Node.js API</td>\n",
              "      <td>['automation', 'chrome', 'chromium', 'develope...</td>\n",
              "      <td>TypeScript</td>\n",
              "      <td>['TypeScript', 'JavaScript', 'HTML', 'CSS', 'D...</td>\n",
              "      <td>Apache-2.0</td>\n",
              "    </tr>\n",
              "    <tr>\n",
              "      <th>...</th>\n",
              "      <td>...</td>\n",
              "      <td>...</td>\n",
              "      <td>...</td>\n",
              "      <td>...</td>\n",
              "      <td>...</td>\n",
              "      <td>...</td>\n",
              "      <td>...</td>\n",
              "    </tr>\n",
              "    <tr>\n",
              "      <th>5320</th>\n",
              "      <td>hashicorp/setup-terraform</td>\n",
              "      <td>setup-terraform</td>\n",
              "      <td>Sets up Terraform CLI in your GitHub Actions w...</td>\n",
              "      <td>[]</td>\n",
              "      <td>JavaScript</td>\n",
              "      <td>['JavaScript', 'Shell']</td>\n",
              "      <td>MPL-2.0</td>\n",
              "    </tr>\n",
              "    <tr>\n",
              "      <th>5321</th>\n",
              "      <td>luguanxing/Cheating-Plugin-Program</td>\n",
              "      <td>Cheating-Plugin-Program</td>\n",
              "      <td>从零开始研究外挂设计原理</td>\n",
              "      <td>[]</td>\n",
              "      <td>C++</td>\n",
              "      <td>['C++', 'C', 'Makefile']</td>\n",
              "      <td>MPL-2.0</td>\n",
              "    </tr>\n",
              "    <tr>\n",
              "      <th>5322</th>\n",
              "      <td>actiontech/sqle</td>\n",
              "      <td>sqle</td>\n",
              "      <td>SQLE is a SQL audit platform | SQLE 是一个支持多场景，原...</td>\n",
              "      <td>['advisor', 'audit', 'jetbrains', 'mssql', 'my...</td>\n",
              "      <td>Go</td>\n",
              "      <td>['Go', 'Makefile', 'Shell', 'Dockerfile', 'Pyt...</td>\n",
              "      <td>MPL-2.0</td>\n",
              "    </tr>\n",
              "    <tr>\n",
              "      <th>5323</th>\n",
              "      <td>gzuidhof/starboard-notebook</td>\n",
              "      <td>starboard-notebook</td>\n",
              "      <td>In-browser literate notebooks</td>\n",
              "      <td>['literate-programming', 'notebook', 'starboar...</td>\n",
              "      <td>TypeScript</td>\n",
              "      <td>['TypeScript', 'SCSS', 'JavaScript', 'CSS', 'M...</td>\n",
              "      <td>MPL-2.0</td>\n",
              "    </tr>\n",
              "    <tr>\n",
              "      <th>5324</th>\n",
              "      <td>stepci/stepci</td>\n",
              "      <td>stepci</td>\n",
              "      <td>Automated API Testing and Quality Assurance</td>\n",
              "      <td>['actions', 'api', 'api-rest', 'api-testing', ...</td>\n",
              "      <td>TypeScript</td>\n",
              "      <td>['TypeScript', 'Shell', 'Dockerfile']</td>\n",
              "      <td>MPL-2.0</td>\n",
              "    </tr>\n",
              "  </tbody>\n",
              "</table>\n",
              "<p>5325 rows × 7 columns</p>\n",
              "</div>\n",
              "      <button class=\"colab-df-convert\" onclick=\"convertToInteractive('df-dc5f3205-63d7-4576-a452-f9617e46fc2c')\"\n",
              "              title=\"Convert this dataframe to an interactive table.\"\n",
              "              style=\"display:none;\">\n",
              "        \n",
              "  <svg xmlns=\"http://www.w3.org/2000/svg\" height=\"24px\"viewBox=\"0 0 24 24\"\n",
              "       width=\"24px\">\n",
              "    <path d=\"M0 0h24v24H0V0z\" fill=\"none\"/>\n",
              "    <path d=\"M18.56 5.44l.94 2.06.94-2.06 2.06-.94-2.06-.94-.94-2.06-.94 2.06-2.06.94zm-11 1L8.5 8.5l.94-2.06 2.06-.94-2.06-.94L8.5 2.5l-.94 2.06-2.06.94zm10 10l.94 2.06.94-2.06 2.06-.94-2.06-.94-.94-2.06-.94 2.06-2.06.94z\"/><path d=\"M17.41 7.96l-1.37-1.37c-.4-.4-.92-.59-1.43-.59-.52 0-1.04.2-1.43.59L10.3 9.45l-7.72 7.72c-.78.78-.78 2.05 0 2.83L4 21.41c.39.39.9.59 1.41.59.51 0 1.02-.2 1.41-.59l7.78-7.78 2.81-2.81c.8-.78.8-2.07 0-2.86zM5.41 20L4 18.59l7.72-7.72 1.47 1.35L5.41 20z\"/>\n",
              "  </svg>\n",
              "      </button>\n",
              "      \n",
              "  <style>\n",
              "    .colab-df-container {\n",
              "      display:flex;\n",
              "      flex-wrap:wrap;\n",
              "      gap: 12px;\n",
              "    }\n",
              "\n",
              "    .colab-df-convert {\n",
              "      background-color: #E8F0FE;\n",
              "      border: none;\n",
              "      border-radius: 50%;\n",
              "      cursor: pointer;\n",
              "      display: none;\n",
              "      fill: #1967D2;\n",
              "      height: 32px;\n",
              "      padding: 0 0 0 0;\n",
              "      width: 32px;\n",
              "    }\n",
              "\n",
              "    .colab-df-convert:hover {\n",
              "      background-color: #E2EBFA;\n",
              "      box-shadow: 0px 1px 2px rgba(60, 64, 67, 0.3), 0px 1px 3px 1px rgba(60, 64, 67, 0.15);\n",
              "      fill: #174EA6;\n",
              "    }\n",
              "\n",
              "    [theme=dark] .colab-df-convert {\n",
              "      background-color: #3B4455;\n",
              "      fill: #D2E3FC;\n",
              "    }\n",
              "\n",
              "    [theme=dark] .colab-df-convert:hover {\n",
              "      background-color: #434B5C;\n",
              "      box-shadow: 0px 1px 3px 1px rgba(0, 0, 0, 0.15);\n",
              "      filter: drop-shadow(0px 1px 2px rgba(0, 0, 0, 0.3));\n",
              "      fill: #FFFFFF;\n",
              "    }\n",
              "  </style>\n",
              "\n",
              "      <script>\n",
              "        const buttonEl =\n",
              "          document.querySelector('#df-dc5f3205-63d7-4576-a452-f9617e46fc2c button.colab-df-convert');\n",
              "        buttonEl.style.display =\n",
              "          google.colab.kernel.accessAllowed ? 'block' : 'none';\n",
              "\n",
              "        async function convertToInteractive(key) {\n",
              "          const element = document.querySelector('#df-dc5f3205-63d7-4576-a452-f9617e46fc2c');\n",
              "          const dataTable =\n",
              "            await google.colab.kernel.invokeFunction('convertToInteractive',\n",
              "                                                     [key], {});\n",
              "          if (!dataTable) return;\n",
              "\n",
              "          const docLinkHtml = 'Like what you see? Visit the ' +\n",
              "            '<a target=\"_blank\" href=https://colab.research.google.com/notebooks/data_table.ipynb>data table notebook</a>'\n",
              "            + ' to learn more about interactive tables.';\n",
              "          element.innerHTML = '';\n",
              "          dataTable['output_type'] = 'display_data';\n",
              "          await google.colab.output.renderOutput(dataTable, element);\n",
              "          const docLink = document.createElement('div');\n",
              "          docLink.innerHTML = docLinkHtml;\n",
              "          element.appendChild(docLink);\n",
              "        }\n",
              "      </script>\n",
              "    </div>\n",
              "  </div>\n",
              "  "
            ]
          },
          "metadata": {}
        },
        {
          "output_type": "stream",
          "name": "stdout",
          "text": [
            "\n",
            "\n",
            "All Data HEAD -------------------------------------------------------------\n",
            "\n",
            "\n"
          ]
        },
        {
          "output_type": "display_data",
          "data": {
            "text/plain": [
              "                  full_name          name  \\\n",
              "0     tensorflow/tensorflow    tensorflow   \n",
              "1     kubernetes/kubernetes    kubernetes   \n",
              "2  huggingface/transformers  transformers   \n",
              "3      microsoft/TypeScript    TypeScript   \n",
              "4       puppeteer/puppeteer     puppeteer   \n",
              "\n",
              "                                         description  \\\n",
              "0  An Open Source Machine Learning Framework for ...   \n",
              "1  Production-Grade Container Scheduling and Mana...   \n",
              "2  🤗 Transformers: State-of-the-art Machine Learn...   \n",
              "3  TypeScript is a superset of JavaScript that co...   \n",
              "4                        Headless Chrome Node.js API   \n",
              "\n",
              "                                              topics    language  \\\n",
              "0  ['deep-learning', 'deep-neural-networks', 'dis...         C++   \n",
              "1         ['cncf', 'containers', 'go', 'kubernetes']          Go   \n",
              "2  ['bert', 'deep-learning', 'flax', 'hacktoberfe...      Python   \n",
              "3  ['javascript', 'language', 'typechecker', 'typ...  TypeScript   \n",
              "4  ['automation', 'chrome', 'chromium', 'develope...  TypeScript   \n",
              "\n",
              "                                           lang_name license_name  \n",
              "0  ['C++', 'Python', 'MLIR', 'Starlark', 'HTML', ...   Apache-2.0  \n",
              "1  ['Go', 'Shell', 'PowerShell', 'Makefile', 'Doc...   Apache-2.0  \n",
              "2  ['Python', 'Cuda', 'Shell', 'Dockerfile', 'C++...   Apache-2.0  \n",
              "3  ['TypeScript', 'JavaScript', 'Dockerfile', 'Sh...   Apache-2.0  \n",
              "4  ['TypeScript', 'JavaScript', 'HTML', 'CSS', 'D...   Apache-2.0  "
            ],
            "text/html": [
              "\n",
              "  <div id=\"df-69c442ba-b87a-4430-af0d-6bfc133dbc29\">\n",
              "    <div class=\"colab-df-container\">\n",
              "      <div>\n",
              "<style scoped>\n",
              "    .dataframe tbody tr th:only-of-type {\n",
              "        vertical-align: middle;\n",
              "    }\n",
              "\n",
              "    .dataframe tbody tr th {\n",
              "        vertical-align: top;\n",
              "    }\n",
              "\n",
              "    .dataframe thead th {\n",
              "        text-align: right;\n",
              "    }\n",
              "</style>\n",
              "<table border=\"1\" class=\"dataframe\">\n",
              "  <thead>\n",
              "    <tr style=\"text-align: right;\">\n",
              "      <th></th>\n",
              "      <th>full_name</th>\n",
              "      <th>name</th>\n",
              "      <th>description</th>\n",
              "      <th>topics</th>\n",
              "      <th>language</th>\n",
              "      <th>lang_name</th>\n",
              "      <th>license_name</th>\n",
              "    </tr>\n",
              "  </thead>\n",
              "  <tbody>\n",
              "    <tr>\n",
              "      <th>0</th>\n",
              "      <td>tensorflow/tensorflow</td>\n",
              "      <td>tensorflow</td>\n",
              "      <td>An Open Source Machine Learning Framework for ...</td>\n",
              "      <td>['deep-learning', 'deep-neural-networks', 'dis...</td>\n",
              "      <td>C++</td>\n",
              "      <td>['C++', 'Python', 'MLIR', 'Starlark', 'HTML', ...</td>\n",
              "      <td>Apache-2.0</td>\n",
              "    </tr>\n",
              "    <tr>\n",
              "      <th>1</th>\n",
              "      <td>kubernetes/kubernetes</td>\n",
              "      <td>kubernetes</td>\n",
              "      <td>Production-Grade Container Scheduling and Mana...</td>\n",
              "      <td>['cncf', 'containers', 'go', 'kubernetes']</td>\n",
              "      <td>Go</td>\n",
              "      <td>['Go', 'Shell', 'PowerShell', 'Makefile', 'Doc...</td>\n",
              "      <td>Apache-2.0</td>\n",
              "    </tr>\n",
              "    <tr>\n",
              "      <th>2</th>\n",
              "      <td>huggingface/transformers</td>\n",
              "      <td>transformers</td>\n",
              "      <td>🤗 Transformers: State-of-the-art Machine Learn...</td>\n",
              "      <td>['bert', 'deep-learning', 'flax', 'hacktoberfe...</td>\n",
              "      <td>Python</td>\n",
              "      <td>['Python', 'Cuda', 'Shell', 'Dockerfile', 'C++...</td>\n",
              "      <td>Apache-2.0</td>\n",
              "    </tr>\n",
              "    <tr>\n",
              "      <th>3</th>\n",
              "      <td>microsoft/TypeScript</td>\n",
              "      <td>TypeScript</td>\n",
              "      <td>TypeScript is a superset of JavaScript that co...</td>\n",
              "      <td>['javascript', 'language', 'typechecker', 'typ...</td>\n",
              "      <td>TypeScript</td>\n",
              "      <td>['TypeScript', 'JavaScript', 'Dockerfile', 'Sh...</td>\n",
              "      <td>Apache-2.0</td>\n",
              "    </tr>\n",
              "    <tr>\n",
              "      <th>4</th>\n",
              "      <td>puppeteer/puppeteer</td>\n",
              "      <td>puppeteer</td>\n",
              "      <td>Headless Chrome Node.js API</td>\n",
              "      <td>['automation', 'chrome', 'chromium', 'develope...</td>\n",
              "      <td>TypeScript</td>\n",
              "      <td>['TypeScript', 'JavaScript', 'HTML', 'CSS', 'D...</td>\n",
              "      <td>Apache-2.0</td>\n",
              "    </tr>\n",
              "  </tbody>\n",
              "</table>\n",
              "</div>\n",
              "      <button class=\"colab-df-convert\" onclick=\"convertToInteractive('df-69c442ba-b87a-4430-af0d-6bfc133dbc29')\"\n",
              "              title=\"Convert this dataframe to an interactive table.\"\n",
              "              style=\"display:none;\">\n",
              "        \n",
              "  <svg xmlns=\"http://www.w3.org/2000/svg\" height=\"24px\"viewBox=\"0 0 24 24\"\n",
              "       width=\"24px\">\n",
              "    <path d=\"M0 0h24v24H0V0z\" fill=\"none\"/>\n",
              "    <path d=\"M18.56 5.44l.94 2.06.94-2.06 2.06-.94-2.06-.94-.94-2.06-.94 2.06-2.06.94zm-11 1L8.5 8.5l.94-2.06 2.06-.94-2.06-.94L8.5 2.5l-.94 2.06-2.06.94zm10 10l.94 2.06.94-2.06 2.06-.94-2.06-.94-.94-2.06-.94 2.06-2.06.94z\"/><path d=\"M17.41 7.96l-1.37-1.37c-.4-.4-.92-.59-1.43-.59-.52 0-1.04.2-1.43.59L10.3 9.45l-7.72 7.72c-.78.78-.78 2.05 0 2.83L4 21.41c.39.39.9.59 1.41.59.51 0 1.02-.2 1.41-.59l7.78-7.78 2.81-2.81c.8-.78.8-2.07 0-2.86zM5.41 20L4 18.59l7.72-7.72 1.47 1.35L5.41 20z\"/>\n",
              "  </svg>\n",
              "      </button>\n",
              "      \n",
              "  <style>\n",
              "    .colab-df-container {\n",
              "      display:flex;\n",
              "      flex-wrap:wrap;\n",
              "      gap: 12px;\n",
              "    }\n",
              "\n",
              "    .colab-df-convert {\n",
              "      background-color: #E8F0FE;\n",
              "      border: none;\n",
              "      border-radius: 50%;\n",
              "      cursor: pointer;\n",
              "      display: none;\n",
              "      fill: #1967D2;\n",
              "      height: 32px;\n",
              "      padding: 0 0 0 0;\n",
              "      width: 32px;\n",
              "    }\n",
              "\n",
              "    .colab-df-convert:hover {\n",
              "      background-color: #E2EBFA;\n",
              "      box-shadow: 0px 1px 2px rgba(60, 64, 67, 0.3), 0px 1px 3px 1px rgba(60, 64, 67, 0.15);\n",
              "      fill: #174EA6;\n",
              "    }\n",
              "\n",
              "    [theme=dark] .colab-df-convert {\n",
              "      background-color: #3B4455;\n",
              "      fill: #D2E3FC;\n",
              "    }\n",
              "\n",
              "    [theme=dark] .colab-df-convert:hover {\n",
              "      background-color: #434B5C;\n",
              "      box-shadow: 0px 1px 3px 1px rgba(0, 0, 0, 0.15);\n",
              "      filter: drop-shadow(0px 1px 2px rgba(0, 0, 0, 0.3));\n",
              "      fill: #FFFFFF;\n",
              "    }\n",
              "  </style>\n",
              "\n",
              "      <script>\n",
              "        const buttonEl =\n",
              "          document.querySelector('#df-69c442ba-b87a-4430-af0d-6bfc133dbc29 button.colab-df-convert');\n",
              "        buttonEl.style.display =\n",
              "          google.colab.kernel.accessAllowed ? 'block' : 'none';\n",
              "\n",
              "        async function convertToInteractive(key) {\n",
              "          const element = document.querySelector('#df-69c442ba-b87a-4430-af0d-6bfc133dbc29');\n",
              "          const dataTable =\n",
              "            await google.colab.kernel.invokeFunction('convertToInteractive',\n",
              "                                                     [key], {});\n",
              "          if (!dataTable) return;\n",
              "\n",
              "          const docLinkHtml = 'Like what you see? Visit the ' +\n",
              "            '<a target=\"_blank\" href=https://colab.research.google.com/notebooks/data_table.ipynb>data table notebook</a>'\n",
              "            + ' to learn more about interactive tables.';\n",
              "          element.innerHTML = '';\n",
              "          dataTable['output_type'] = 'display_data';\n",
              "          await google.colab.output.renderOutput(dataTable, element);\n",
              "          const docLink = document.createElement('div');\n",
              "          docLink.innerHTML = docLinkHtml;\n",
              "          element.appendChild(docLink);\n",
              "        }\n",
              "      </script>\n",
              "    </div>\n",
              "  </div>\n",
              "  "
            ]
          },
          "metadata": {}
        },
        {
          "output_type": "stream",
          "name": "stdout",
          "text": [
            "\n",
            "\n",
            "All Data Describe -------------------------------------------------------------\n",
            "\n",
            "\n"
          ]
        },
        {
          "output_type": "display_data",
          "data": {
            "text/plain": [
              "                    full_name  name  \\\n",
              "count                    5325  5324   \n",
              "unique                   5277  5175   \n",
              "top     redux-form/redux-form  core   \n",
              "freq                        2     5   \n",
              "\n",
              "                                              description topics language  \\\n",
              "count                                                5280   5325     4945   \n",
              "unique                                               5229   3839      100   \n",
              "top     A data-driven UICollectionView framework for b...     []   Python   \n",
              "freq                                                    2   1424      902   \n",
              "\n",
              "       lang_name license_name  \n",
              "count       5325         5325  \n",
              "unique      3129            9  \n",
              "top           []   Apache-2.0  \n",
              "freq         366         1000  "
            ],
            "text/html": [
              "\n",
              "  <div id=\"df-f76eab43-6d3f-48e0-9ea5-7d50ffe544ab\">\n",
              "    <div class=\"colab-df-container\">\n",
              "      <div>\n",
              "<style scoped>\n",
              "    .dataframe tbody tr th:only-of-type {\n",
              "        vertical-align: middle;\n",
              "    }\n",
              "\n",
              "    .dataframe tbody tr th {\n",
              "        vertical-align: top;\n",
              "    }\n",
              "\n",
              "    .dataframe thead th {\n",
              "        text-align: right;\n",
              "    }\n",
              "</style>\n",
              "<table border=\"1\" class=\"dataframe\">\n",
              "  <thead>\n",
              "    <tr style=\"text-align: right;\">\n",
              "      <th></th>\n",
              "      <th>full_name</th>\n",
              "      <th>name</th>\n",
              "      <th>description</th>\n",
              "      <th>topics</th>\n",
              "      <th>language</th>\n",
              "      <th>lang_name</th>\n",
              "      <th>license_name</th>\n",
              "    </tr>\n",
              "  </thead>\n",
              "  <tbody>\n",
              "    <tr>\n",
              "      <th>count</th>\n",
              "      <td>5325</td>\n",
              "      <td>5324</td>\n",
              "      <td>5280</td>\n",
              "      <td>5325</td>\n",
              "      <td>4945</td>\n",
              "      <td>5325</td>\n",
              "      <td>5325</td>\n",
              "    </tr>\n",
              "    <tr>\n",
              "      <th>unique</th>\n",
              "      <td>5277</td>\n",
              "      <td>5175</td>\n",
              "      <td>5229</td>\n",
              "      <td>3839</td>\n",
              "      <td>100</td>\n",
              "      <td>3129</td>\n",
              "      <td>9</td>\n",
              "    </tr>\n",
              "    <tr>\n",
              "      <th>top</th>\n",
              "      <td>redux-form/redux-form</td>\n",
              "      <td>core</td>\n",
              "      <td>A data-driven UICollectionView framework for b...</td>\n",
              "      <td>[]</td>\n",
              "      <td>Python</td>\n",
              "      <td>[]</td>\n",
              "      <td>Apache-2.0</td>\n",
              "    </tr>\n",
              "    <tr>\n",
              "      <th>freq</th>\n",
              "      <td>2</td>\n",
              "      <td>5</td>\n",
              "      <td>2</td>\n",
              "      <td>1424</td>\n",
              "      <td>902</td>\n",
              "      <td>366</td>\n",
              "      <td>1000</td>\n",
              "    </tr>\n",
              "  </tbody>\n",
              "</table>\n",
              "</div>\n",
              "      <button class=\"colab-df-convert\" onclick=\"convertToInteractive('df-f76eab43-6d3f-48e0-9ea5-7d50ffe544ab')\"\n",
              "              title=\"Convert this dataframe to an interactive table.\"\n",
              "              style=\"display:none;\">\n",
              "        \n",
              "  <svg xmlns=\"http://www.w3.org/2000/svg\" height=\"24px\"viewBox=\"0 0 24 24\"\n",
              "       width=\"24px\">\n",
              "    <path d=\"M0 0h24v24H0V0z\" fill=\"none\"/>\n",
              "    <path d=\"M18.56 5.44l.94 2.06.94-2.06 2.06-.94-2.06-.94-.94-2.06-.94 2.06-2.06.94zm-11 1L8.5 8.5l.94-2.06 2.06-.94-2.06-.94L8.5 2.5l-.94 2.06-2.06.94zm10 10l.94 2.06.94-2.06 2.06-.94-2.06-.94-.94-2.06-.94 2.06-2.06.94z\"/><path d=\"M17.41 7.96l-1.37-1.37c-.4-.4-.92-.59-1.43-.59-.52 0-1.04.2-1.43.59L10.3 9.45l-7.72 7.72c-.78.78-.78 2.05 0 2.83L4 21.41c.39.39.9.59 1.41.59.51 0 1.02-.2 1.41-.59l7.78-7.78 2.81-2.81c.8-.78.8-2.07 0-2.86zM5.41 20L4 18.59l7.72-7.72 1.47 1.35L5.41 20z\"/>\n",
              "  </svg>\n",
              "      </button>\n",
              "      \n",
              "  <style>\n",
              "    .colab-df-container {\n",
              "      display:flex;\n",
              "      flex-wrap:wrap;\n",
              "      gap: 12px;\n",
              "    }\n",
              "\n",
              "    .colab-df-convert {\n",
              "      background-color: #E8F0FE;\n",
              "      border: none;\n",
              "      border-radius: 50%;\n",
              "      cursor: pointer;\n",
              "      display: none;\n",
              "      fill: #1967D2;\n",
              "      height: 32px;\n",
              "      padding: 0 0 0 0;\n",
              "      width: 32px;\n",
              "    }\n",
              "\n",
              "    .colab-df-convert:hover {\n",
              "      background-color: #E2EBFA;\n",
              "      box-shadow: 0px 1px 2px rgba(60, 64, 67, 0.3), 0px 1px 3px 1px rgba(60, 64, 67, 0.15);\n",
              "      fill: #174EA6;\n",
              "    }\n",
              "\n",
              "    [theme=dark] .colab-df-convert {\n",
              "      background-color: #3B4455;\n",
              "      fill: #D2E3FC;\n",
              "    }\n",
              "\n",
              "    [theme=dark] .colab-df-convert:hover {\n",
              "      background-color: #434B5C;\n",
              "      box-shadow: 0px 1px 3px 1px rgba(0, 0, 0, 0.15);\n",
              "      filter: drop-shadow(0px 1px 2px rgba(0, 0, 0, 0.3));\n",
              "      fill: #FFFFFF;\n",
              "    }\n",
              "  </style>\n",
              "\n",
              "      <script>\n",
              "        const buttonEl =\n",
              "          document.querySelector('#df-f76eab43-6d3f-48e0-9ea5-7d50ffe544ab button.colab-df-convert');\n",
              "        buttonEl.style.display =\n",
              "          google.colab.kernel.accessAllowed ? 'block' : 'none';\n",
              "\n",
              "        async function convertToInteractive(key) {\n",
              "          const element = document.querySelector('#df-f76eab43-6d3f-48e0-9ea5-7d50ffe544ab');\n",
              "          const dataTable =\n",
              "            await google.colab.kernel.invokeFunction('convertToInteractive',\n",
              "                                                     [key], {});\n",
              "          if (!dataTable) return;\n",
              "\n",
              "          const docLinkHtml = 'Like what you see? Visit the ' +\n",
              "            '<a target=\"_blank\" href=https://colab.research.google.com/notebooks/data_table.ipynb>data table notebook</a>'\n",
              "            + ' to learn more about interactive tables.';\n",
              "          element.innerHTML = '';\n",
              "          dataTable['output_type'] = 'display_data';\n",
              "          await google.colab.output.renderOutput(dataTable, element);\n",
              "          const docLink = document.createElement('div');\n",
              "          docLink.innerHTML = docLinkHtml;\n",
              "          element.appendChild(docLink);\n",
              "        }\n",
              "      </script>\n",
              "    </div>\n",
              "  </div>\n",
              "  "
            ]
          },
          "metadata": {}
        },
        {
          "output_type": "stream",
          "name": "stdout",
          "text": [
            "\n",
            "\n",
            "All Data COUNT -------------------------------------------------------------\n",
            "\n",
            "\n"
          ]
        },
        {
          "output_type": "display_data",
          "data": {
            "text/plain": [
              "full_name       5325\n",
              "name            5324\n",
              "description     5280\n",
              "topics          5325\n",
              "language        4945\n",
              "lang_name       5325\n",
              "license_name    5325\n",
              "dtype: int64"
            ]
          },
          "metadata": {}
        }
      ]
    },
    {
      "cell_type": "code",
      "source": [
        "print('\\n\\nUnique Counts -------------------------------------------------------------\\n\\n')\n",
        "display(data_selected[\"language\"].unique())\n",
        "display(len(data_selected[\"language\"].unique()))\n",
        "\n",
        "display(data_selected[\"license_name\"].unique())\n",
        "display(len(data_selected[\"license_name\"].unique()))\n"
      ],
      "metadata": {
        "colab": {
          "base_uri": "https://localhost:8080/",
          "height": 491
        },
        "id": "3xiZtEzwJp6u",
        "outputId": "0f9cee52-d48c-435a-e11a-7e0876657df6"
      },
      "execution_count": null,
      "outputs": [
        {
          "output_type": "stream",
          "name": "stdout",
          "text": [
            "\n",
            "\n",
            "Unique Counts -------------------------------------------------------------\n",
            "\n",
            "\n"
          ]
        },
        {
          "output_type": "display_data",
          "data": {
            "text/plain": [
              "array(['C++', 'Go', 'Python', 'TypeScript', 'C', 'Java', 'Rust',\n",
              "       'Dockerfile', nan, 'Kotlin', 'JavaScript', 'Shell', 'Scala',\n",
              "       'SCSS', 'Lua', 'HTML', 'Jupyter Notebook', 'Swift', 'Elixir',\n",
              "       'Vue', 'Crystal', 'Makefile', 'Objective-C', 'Mustache', 'VimL',\n",
              "       'WebAssembly', 'Starlark', 'Groovy', 'Markdown', 'Dart', 'Jinja',\n",
              "       'PHP', 'Pascal', 'Ruby', 'Erlang', 'C#', 'PowerShell', 'Cython',\n",
              "       'CSS', 'Assembly', 'Svelte', 'Prolog', 'Scheme', 'Jsonnet',\n",
              "       'PLpgSQL', 'Handlebars', 'Vim Script', 'Emacs Lisp', 'Perl',\n",
              "       'Matlab', 'Nim', 'TeX', 'ASL', 'CMake', 'Factor', 'Haskell',\n",
              "       'YARA', 'MATLAB', 'CoffeeScript', 'Elm', 'Dhall', 'Odin',\n",
              "       'AppleScript', 'Batchfile', 'Vim script', 'PostScript', 'Pawn',\n",
              "       'Verilog', 'Cuda', 'Solidity', 'SVG', 'DIGITAL Command Language',\n",
              "       'JSON', 'R', 'Clojure', 'Objective-C++', 'Vala', 'D', 'XSLT',\n",
              "       'Mercury', 'HLSL', 'Smali', 'Visual Basic .NET', 'AutoHotkey',\n",
              "       'Blade', 'OCaml', 'Haxe', 'Adblock Filter List', 'GAP', 'Zig',\n",
              "       'AutoIt', 'Reason', 'Inno Setup', 'Nunjucks', 'Julia', 'V', 'Roff',\n",
              "       'Bicep', 'Nix', 'FreeMarker', 'HCL'], dtype=object)"
            ]
          },
          "metadata": {}
        },
        {
          "output_type": "display_data",
          "data": {
            "text/plain": [
              "101"
            ]
          },
          "metadata": {}
        },
        {
          "output_type": "display_data",
          "data": {
            "text/plain": [
              "array(['Apache-2.0', 'BSD-2-Clause', 'BSD-3-Clause', 'CC0-1.0', 'EPL-2.0',\n",
              "       'GPL-3.0', 'LGPL-3.0', 'MIT', 'MPL-2.0'], dtype=object)"
            ]
          },
          "metadata": {}
        },
        {
          "output_type": "display_data",
          "data": {
            "text/plain": [
              "9"
            ]
          },
          "metadata": {}
        }
      ]
    },
    {
      "cell_type": "code",
      "source": [
        "#This is funny the Repo is named NULL and hence its name is detected in NA LOL\n",
        "df_name_na=data_selected[data_selected[\"name\"].isna()]\n",
        "display(df_name_na)"
      ],
      "metadata": {
        "colab": {
          "base_uri": "https://localhost:8080/",
          "height": 81
        },
        "id": "YjcfTlHGG3aJ",
        "outputId": "f7502eed-dc8d-4a89-8622-73f59abe99e7"
      },
      "execution_count": null,
      "outputs": [
        {
          "output_type": "display_data",
          "data": {
            "text/plain": [
              "        full_name name                             description  \\\n",
              "1270  guregu/null  NaN  reasonable handling of nullable values   \n",
              "\n",
              "      stargazers_count  forks_count                 topics language lang_name  \\\n",
              "1270              1546          224  ['go', 'json', 'sql']       Go    ['Go']   \n",
              "\n",
              "      license_name  \n",
              "1270  BSD-2-Clause  "
            ],
            "text/html": [
              "\n",
              "  <div id=\"df-be464f99-b3e9-4224-936d-31929cd5d18d\">\n",
              "    <div class=\"colab-df-container\">\n",
              "      <div>\n",
              "<style scoped>\n",
              "    .dataframe tbody tr th:only-of-type {\n",
              "        vertical-align: middle;\n",
              "    }\n",
              "\n",
              "    .dataframe tbody tr th {\n",
              "        vertical-align: top;\n",
              "    }\n",
              "\n",
              "    .dataframe thead th {\n",
              "        text-align: right;\n",
              "    }\n",
              "</style>\n",
              "<table border=\"1\" class=\"dataframe\">\n",
              "  <thead>\n",
              "    <tr style=\"text-align: right;\">\n",
              "      <th></th>\n",
              "      <th>full_name</th>\n",
              "      <th>name</th>\n",
              "      <th>description</th>\n",
              "      <th>stargazers_count</th>\n",
              "      <th>forks_count</th>\n",
              "      <th>topics</th>\n",
              "      <th>language</th>\n",
              "      <th>lang_name</th>\n",
              "      <th>license_name</th>\n",
              "    </tr>\n",
              "  </thead>\n",
              "  <tbody>\n",
              "    <tr>\n",
              "      <th>1270</th>\n",
              "      <td>guregu/null</td>\n",
              "      <td>NaN</td>\n",
              "      <td>reasonable handling of nullable values</td>\n",
              "      <td>1546</td>\n",
              "      <td>224</td>\n",
              "      <td>['go', 'json', 'sql']</td>\n",
              "      <td>Go</td>\n",
              "      <td>['Go']</td>\n",
              "      <td>BSD-2-Clause</td>\n",
              "    </tr>\n",
              "  </tbody>\n",
              "</table>\n",
              "</div>\n",
              "      <button class=\"colab-df-convert\" onclick=\"convertToInteractive('df-be464f99-b3e9-4224-936d-31929cd5d18d')\"\n",
              "              title=\"Convert this dataframe to an interactive table.\"\n",
              "              style=\"display:none;\">\n",
              "        \n",
              "  <svg xmlns=\"http://www.w3.org/2000/svg\" height=\"24px\"viewBox=\"0 0 24 24\"\n",
              "       width=\"24px\">\n",
              "    <path d=\"M0 0h24v24H0V0z\" fill=\"none\"/>\n",
              "    <path d=\"M18.56 5.44l.94 2.06.94-2.06 2.06-.94-2.06-.94-.94-2.06-.94 2.06-2.06.94zm-11 1L8.5 8.5l.94-2.06 2.06-.94-2.06-.94L8.5 2.5l-.94 2.06-2.06.94zm10 10l.94 2.06.94-2.06 2.06-.94-2.06-.94-.94-2.06-.94 2.06-2.06.94z\"/><path d=\"M17.41 7.96l-1.37-1.37c-.4-.4-.92-.59-1.43-.59-.52 0-1.04.2-1.43.59L10.3 9.45l-7.72 7.72c-.78.78-.78 2.05 0 2.83L4 21.41c.39.39.9.59 1.41.59.51 0 1.02-.2 1.41-.59l7.78-7.78 2.81-2.81c.8-.78.8-2.07 0-2.86zM5.41 20L4 18.59l7.72-7.72 1.47 1.35L5.41 20z\"/>\n",
              "  </svg>\n",
              "      </button>\n",
              "      \n",
              "  <style>\n",
              "    .colab-df-container {\n",
              "      display:flex;\n",
              "      flex-wrap:wrap;\n",
              "      gap: 12px;\n",
              "    }\n",
              "\n",
              "    .colab-df-convert {\n",
              "      background-color: #E8F0FE;\n",
              "      border: none;\n",
              "      border-radius: 50%;\n",
              "      cursor: pointer;\n",
              "      display: none;\n",
              "      fill: #1967D2;\n",
              "      height: 32px;\n",
              "      padding: 0 0 0 0;\n",
              "      width: 32px;\n",
              "    }\n",
              "\n",
              "    .colab-df-convert:hover {\n",
              "      background-color: #E2EBFA;\n",
              "      box-shadow: 0px 1px 2px rgba(60, 64, 67, 0.3), 0px 1px 3px 1px rgba(60, 64, 67, 0.15);\n",
              "      fill: #174EA6;\n",
              "    }\n",
              "\n",
              "    [theme=dark] .colab-df-convert {\n",
              "      background-color: #3B4455;\n",
              "      fill: #D2E3FC;\n",
              "    }\n",
              "\n",
              "    [theme=dark] .colab-df-convert:hover {\n",
              "      background-color: #434B5C;\n",
              "      box-shadow: 0px 1px 3px 1px rgba(0, 0, 0, 0.15);\n",
              "      filter: drop-shadow(0px 1px 2px rgba(0, 0, 0, 0.3));\n",
              "      fill: #FFFFFF;\n",
              "    }\n",
              "  </style>\n",
              "\n",
              "      <script>\n",
              "        const buttonEl =\n",
              "          document.querySelector('#df-be464f99-b3e9-4224-936d-31929cd5d18d button.colab-df-convert');\n",
              "        buttonEl.style.display =\n",
              "          google.colab.kernel.accessAllowed ? 'block' : 'none';\n",
              "\n",
              "        async function convertToInteractive(key) {\n",
              "          const element = document.querySelector('#df-be464f99-b3e9-4224-936d-31929cd5d18d');\n",
              "          const dataTable =\n",
              "            await google.colab.kernel.invokeFunction('convertToInteractive',\n",
              "                                                     [key], {});\n",
              "          if (!dataTable) return;\n",
              "\n",
              "          const docLinkHtml = 'Like what you see? Visit the ' +\n",
              "            '<a target=\"_blank\" href=https://colab.research.google.com/notebooks/data_table.ipynb>data table notebook</a>'\n",
              "            + ' to learn more about interactive tables.';\n",
              "          element.innerHTML = '';\n",
              "          dataTable['output_type'] = 'display_data';\n",
              "          await google.colab.output.renderOutput(dataTable, element);\n",
              "          const docLink = document.createElement('div');\n",
              "          docLink.innerHTML = docLinkHtml;\n",
              "          element.appendChild(docLink);\n",
              "        }\n",
              "      </script>\n",
              "    </div>\n",
              "  </div>\n",
              "  "
            ]
          },
          "metadata": {}
        }
      ]
    },
    {
      "cell_type": "code",
      "source": [
        "# Case where topic is empty\n",
        "result = data_selected[data_selected['lang_name'].str.contains('Adblock')]\n",
        "display(result)"
      ],
      "metadata": {
        "colab": {
          "base_uri": "https://localhost:8080/",
          "height": 112
        },
        "id": "TY1eNDnGG9GT",
        "outputId": "3259a94d-048a-4930-eb59-d4858cb6cc5a"
      },
      "execution_count": null,
      "outputs": [
        {
          "output_type": "display_data",
          "data": {
            "text/plain": [
              "                 full_name     name  \\\n",
              "3688  uBlockOrigin/uAssets  uAssets   \n",
              "3969      cjx82630/cjxlist  cjxlist   \n",
              "\n",
              "                                            description  stargazers_count  \\\n",
              "3688  Resources for uBlock Origin, uMatrix: static f...              2427   \n",
              "3969                                                NaN              1425   \n",
              "\n",
              "      forks_count topics             language  \\\n",
              "3688          561     []  Adblock Filter List   \n",
              "3969          129     []  Adblock Filter List   \n",
              "\n",
              "                                              lang_name license_name  \n",
              "3688  ['Adblock Filter List', 'JavaScript', 'Makefil...      GPL-3.0  \n",
              "3969                            ['Adblock Filter List']     LGPL-3.0  "
            ],
            "text/html": [
              "\n",
              "  <div id=\"df-3b134667-ffca-400c-8d21-92219089a4e1\">\n",
              "    <div class=\"colab-df-container\">\n",
              "      <div>\n",
              "<style scoped>\n",
              "    .dataframe tbody tr th:only-of-type {\n",
              "        vertical-align: middle;\n",
              "    }\n",
              "\n",
              "    .dataframe tbody tr th {\n",
              "        vertical-align: top;\n",
              "    }\n",
              "\n",
              "    .dataframe thead th {\n",
              "        text-align: right;\n",
              "    }\n",
              "</style>\n",
              "<table border=\"1\" class=\"dataframe\">\n",
              "  <thead>\n",
              "    <tr style=\"text-align: right;\">\n",
              "      <th></th>\n",
              "      <th>full_name</th>\n",
              "      <th>name</th>\n",
              "      <th>description</th>\n",
              "      <th>stargazers_count</th>\n",
              "      <th>forks_count</th>\n",
              "      <th>topics</th>\n",
              "      <th>language</th>\n",
              "      <th>lang_name</th>\n",
              "      <th>license_name</th>\n",
              "    </tr>\n",
              "  </thead>\n",
              "  <tbody>\n",
              "    <tr>\n",
              "      <th>3688</th>\n",
              "      <td>uBlockOrigin/uAssets</td>\n",
              "      <td>uAssets</td>\n",
              "      <td>Resources for uBlock Origin, uMatrix: static f...</td>\n",
              "      <td>2427</td>\n",
              "      <td>561</td>\n",
              "      <td>[]</td>\n",
              "      <td>Adblock Filter List</td>\n",
              "      <td>['Adblock Filter List', 'JavaScript', 'Makefil...</td>\n",
              "      <td>GPL-3.0</td>\n",
              "    </tr>\n",
              "    <tr>\n",
              "      <th>3969</th>\n",
              "      <td>cjx82630/cjxlist</td>\n",
              "      <td>cjxlist</td>\n",
              "      <td>NaN</td>\n",
              "      <td>1425</td>\n",
              "      <td>129</td>\n",
              "      <td>[]</td>\n",
              "      <td>Adblock Filter List</td>\n",
              "      <td>['Adblock Filter List']</td>\n",
              "      <td>LGPL-3.0</td>\n",
              "    </tr>\n",
              "  </tbody>\n",
              "</table>\n",
              "</div>\n",
              "      <button class=\"colab-df-convert\" onclick=\"convertToInteractive('df-3b134667-ffca-400c-8d21-92219089a4e1')\"\n",
              "              title=\"Convert this dataframe to an interactive table.\"\n",
              "              style=\"display:none;\">\n",
              "        \n",
              "  <svg xmlns=\"http://www.w3.org/2000/svg\" height=\"24px\"viewBox=\"0 0 24 24\"\n",
              "       width=\"24px\">\n",
              "    <path d=\"M0 0h24v24H0V0z\" fill=\"none\"/>\n",
              "    <path d=\"M18.56 5.44l.94 2.06.94-2.06 2.06-.94-2.06-.94-.94-2.06-.94 2.06-2.06.94zm-11 1L8.5 8.5l.94-2.06 2.06-.94-2.06-.94L8.5 2.5l-.94 2.06-2.06.94zm10 10l.94 2.06.94-2.06 2.06-.94-2.06-.94-.94-2.06-.94 2.06-2.06.94z\"/><path d=\"M17.41 7.96l-1.37-1.37c-.4-.4-.92-.59-1.43-.59-.52 0-1.04.2-1.43.59L10.3 9.45l-7.72 7.72c-.78.78-.78 2.05 0 2.83L4 21.41c.39.39.9.59 1.41.59.51 0 1.02-.2 1.41-.59l7.78-7.78 2.81-2.81c.8-.78.8-2.07 0-2.86zM5.41 20L4 18.59l7.72-7.72 1.47 1.35L5.41 20z\"/>\n",
              "  </svg>\n",
              "      </button>\n",
              "      \n",
              "  <style>\n",
              "    .colab-df-container {\n",
              "      display:flex;\n",
              "      flex-wrap:wrap;\n",
              "      gap: 12px;\n",
              "    }\n",
              "\n",
              "    .colab-df-convert {\n",
              "      background-color: #E8F0FE;\n",
              "      border: none;\n",
              "      border-radius: 50%;\n",
              "      cursor: pointer;\n",
              "      display: none;\n",
              "      fill: #1967D2;\n",
              "      height: 32px;\n",
              "      padding: 0 0 0 0;\n",
              "      width: 32px;\n",
              "    }\n",
              "\n",
              "    .colab-df-convert:hover {\n",
              "      background-color: #E2EBFA;\n",
              "      box-shadow: 0px 1px 2px rgba(60, 64, 67, 0.3), 0px 1px 3px 1px rgba(60, 64, 67, 0.15);\n",
              "      fill: #174EA6;\n",
              "    }\n",
              "\n",
              "    [theme=dark] .colab-df-convert {\n",
              "      background-color: #3B4455;\n",
              "      fill: #D2E3FC;\n",
              "    }\n",
              "\n",
              "    [theme=dark] .colab-df-convert:hover {\n",
              "      background-color: #434B5C;\n",
              "      box-shadow: 0px 1px 3px 1px rgba(0, 0, 0, 0.15);\n",
              "      filter: drop-shadow(0px 1px 2px rgba(0, 0, 0, 0.3));\n",
              "      fill: #FFFFFF;\n",
              "    }\n",
              "  </style>\n",
              "\n",
              "      <script>\n",
              "        const buttonEl =\n",
              "          document.querySelector('#df-3b134667-ffca-400c-8d21-92219089a4e1 button.colab-df-convert');\n",
              "        buttonEl.style.display =\n",
              "          google.colab.kernel.accessAllowed ? 'block' : 'none';\n",
              "\n",
              "        async function convertToInteractive(key) {\n",
              "          const element = document.querySelector('#df-3b134667-ffca-400c-8d21-92219089a4e1');\n",
              "          const dataTable =\n",
              "            await google.colab.kernel.invokeFunction('convertToInteractive',\n",
              "                                                     [key], {});\n",
              "          if (!dataTable) return;\n",
              "\n",
              "          const docLinkHtml = 'Like what you see? Visit the ' +\n",
              "            '<a target=\"_blank\" href=https://colab.research.google.com/notebooks/data_table.ipynb>data table notebook</a>'\n",
              "            + ' to learn more about interactive tables.';\n",
              "          element.innerHTML = '';\n",
              "          dataTable['output_type'] = 'display_data';\n",
              "          await google.colab.output.renderOutput(dataTable, element);\n",
              "          const docLink = document.createElement('div');\n",
              "          docLink.innerHTML = docLinkHtml;\n",
              "          element.appendChild(docLink);\n",
              "        }\n",
              "      </script>\n",
              "    </div>\n",
              "  </div>\n",
              "  "
            ]
          },
          "metadata": {}
        }
      ]
    },
    {
      "cell_type": "code",
      "source": [
        "repo_data = data_selected.copy()\n",
        "display(repo_data.head())"
      ],
      "metadata": {
        "colab": {
          "base_uri": "https://localhost:8080/",
          "height": 206
        },
        "id": "10f5rUMTwI1z",
        "outputId": "1b58db20-bd24-4227-81fc-01b648547f27"
      },
      "execution_count": 35,
      "outputs": [
        {
          "output_type": "display_data",
          "data": {
            "text/plain": [
              "                  full_name          name  \\\n",
              "0     tensorflow/tensorflow    tensorflow   \n",
              "1     kubernetes/kubernetes    kubernetes   \n",
              "2  huggingface/transformers  transformers   \n",
              "3      microsoft/TypeScript    TypeScript   \n",
              "4       puppeteer/puppeteer     puppeteer   \n",
              "\n",
              "                                         description  \\\n",
              "0  An Open Source Machine Learning Framework for ...   \n",
              "1  Production-Grade Container Scheduling and Mana...   \n",
              "2  🤗 Transformers: State-of-the-art Machine Learn...   \n",
              "3  TypeScript is a superset of JavaScript that co...   \n",
              "4                        Headless Chrome Node.js API   \n",
              "\n",
              "                                              topics    language  \\\n",
              "0  ['deep-learning', 'deep-neural-networks', 'dis...         C++   \n",
              "1         ['cncf', 'containers', 'go', 'kubernetes']          Go   \n",
              "2  ['bert', 'deep-learning', 'flax', 'hacktoberfe...      Python   \n",
              "3  ['javascript', 'language', 'typechecker', 'typ...  TypeScript   \n",
              "4  ['automation', 'chrome', 'chromium', 'develope...  TypeScript   \n",
              "\n",
              "                                           lang_name license_name  \n",
              "0  ['C++', 'Python', 'MLIR', 'Starlark', 'HTML', ...   Apache-2.0  \n",
              "1  ['Go', 'Shell', 'PowerShell', 'Makefile', 'Doc...   Apache-2.0  \n",
              "2  ['Python', 'Cuda', 'Shell', 'Dockerfile', 'C++...   Apache-2.0  \n",
              "3  ['TypeScript', 'JavaScript', 'Dockerfile', 'Sh...   Apache-2.0  \n",
              "4  ['TypeScript', 'JavaScript', 'HTML', 'CSS', 'D...   Apache-2.0  "
            ],
            "text/html": [
              "\n",
              "  <div id=\"df-9f4a6a69-cf98-4a65-80f8-2d97c86c04d9\">\n",
              "    <div class=\"colab-df-container\">\n",
              "      <div>\n",
              "<style scoped>\n",
              "    .dataframe tbody tr th:only-of-type {\n",
              "        vertical-align: middle;\n",
              "    }\n",
              "\n",
              "    .dataframe tbody tr th {\n",
              "        vertical-align: top;\n",
              "    }\n",
              "\n",
              "    .dataframe thead th {\n",
              "        text-align: right;\n",
              "    }\n",
              "</style>\n",
              "<table border=\"1\" class=\"dataframe\">\n",
              "  <thead>\n",
              "    <tr style=\"text-align: right;\">\n",
              "      <th></th>\n",
              "      <th>full_name</th>\n",
              "      <th>name</th>\n",
              "      <th>description</th>\n",
              "      <th>topics</th>\n",
              "      <th>language</th>\n",
              "      <th>lang_name</th>\n",
              "      <th>license_name</th>\n",
              "    </tr>\n",
              "  </thead>\n",
              "  <tbody>\n",
              "    <tr>\n",
              "      <th>0</th>\n",
              "      <td>tensorflow/tensorflow</td>\n",
              "      <td>tensorflow</td>\n",
              "      <td>An Open Source Machine Learning Framework for ...</td>\n",
              "      <td>['deep-learning', 'deep-neural-networks', 'dis...</td>\n",
              "      <td>C++</td>\n",
              "      <td>['C++', 'Python', 'MLIR', 'Starlark', 'HTML', ...</td>\n",
              "      <td>Apache-2.0</td>\n",
              "    </tr>\n",
              "    <tr>\n",
              "      <th>1</th>\n",
              "      <td>kubernetes/kubernetes</td>\n",
              "      <td>kubernetes</td>\n",
              "      <td>Production-Grade Container Scheduling and Mana...</td>\n",
              "      <td>['cncf', 'containers', 'go', 'kubernetes']</td>\n",
              "      <td>Go</td>\n",
              "      <td>['Go', 'Shell', 'PowerShell', 'Makefile', 'Doc...</td>\n",
              "      <td>Apache-2.0</td>\n",
              "    </tr>\n",
              "    <tr>\n",
              "      <th>2</th>\n",
              "      <td>huggingface/transformers</td>\n",
              "      <td>transformers</td>\n",
              "      <td>🤗 Transformers: State-of-the-art Machine Learn...</td>\n",
              "      <td>['bert', 'deep-learning', 'flax', 'hacktoberfe...</td>\n",
              "      <td>Python</td>\n",
              "      <td>['Python', 'Cuda', 'Shell', 'Dockerfile', 'C++...</td>\n",
              "      <td>Apache-2.0</td>\n",
              "    </tr>\n",
              "    <tr>\n",
              "      <th>3</th>\n",
              "      <td>microsoft/TypeScript</td>\n",
              "      <td>TypeScript</td>\n",
              "      <td>TypeScript is a superset of JavaScript that co...</td>\n",
              "      <td>['javascript', 'language', 'typechecker', 'typ...</td>\n",
              "      <td>TypeScript</td>\n",
              "      <td>['TypeScript', 'JavaScript', 'Dockerfile', 'Sh...</td>\n",
              "      <td>Apache-2.0</td>\n",
              "    </tr>\n",
              "    <tr>\n",
              "      <th>4</th>\n",
              "      <td>puppeteer/puppeteer</td>\n",
              "      <td>puppeteer</td>\n",
              "      <td>Headless Chrome Node.js API</td>\n",
              "      <td>['automation', 'chrome', 'chromium', 'develope...</td>\n",
              "      <td>TypeScript</td>\n",
              "      <td>['TypeScript', 'JavaScript', 'HTML', 'CSS', 'D...</td>\n",
              "      <td>Apache-2.0</td>\n",
              "    </tr>\n",
              "  </tbody>\n",
              "</table>\n",
              "</div>\n",
              "      <button class=\"colab-df-convert\" onclick=\"convertToInteractive('df-9f4a6a69-cf98-4a65-80f8-2d97c86c04d9')\"\n",
              "              title=\"Convert this dataframe to an interactive table.\"\n",
              "              style=\"display:none;\">\n",
              "        \n",
              "  <svg xmlns=\"http://www.w3.org/2000/svg\" height=\"24px\"viewBox=\"0 0 24 24\"\n",
              "       width=\"24px\">\n",
              "    <path d=\"M0 0h24v24H0V0z\" fill=\"none\"/>\n",
              "    <path d=\"M18.56 5.44l.94 2.06.94-2.06 2.06-.94-2.06-.94-.94-2.06-.94 2.06-2.06.94zm-11 1L8.5 8.5l.94-2.06 2.06-.94-2.06-.94L8.5 2.5l-.94 2.06-2.06.94zm10 10l.94 2.06.94-2.06 2.06-.94-2.06-.94-.94-2.06-.94 2.06-2.06.94z\"/><path d=\"M17.41 7.96l-1.37-1.37c-.4-.4-.92-.59-1.43-.59-.52 0-1.04.2-1.43.59L10.3 9.45l-7.72 7.72c-.78.78-.78 2.05 0 2.83L4 21.41c.39.39.9.59 1.41.59.51 0 1.02-.2 1.41-.59l7.78-7.78 2.81-2.81c.8-.78.8-2.07 0-2.86zM5.41 20L4 18.59l7.72-7.72 1.47 1.35L5.41 20z\"/>\n",
              "  </svg>\n",
              "      </button>\n",
              "      \n",
              "  <style>\n",
              "    .colab-df-container {\n",
              "      display:flex;\n",
              "      flex-wrap:wrap;\n",
              "      gap: 12px;\n",
              "    }\n",
              "\n",
              "    .colab-df-convert {\n",
              "      background-color: #E8F0FE;\n",
              "      border: none;\n",
              "      border-radius: 50%;\n",
              "      cursor: pointer;\n",
              "      display: none;\n",
              "      fill: #1967D2;\n",
              "      height: 32px;\n",
              "      padding: 0 0 0 0;\n",
              "      width: 32px;\n",
              "    }\n",
              "\n",
              "    .colab-df-convert:hover {\n",
              "      background-color: #E2EBFA;\n",
              "      box-shadow: 0px 1px 2px rgba(60, 64, 67, 0.3), 0px 1px 3px 1px rgba(60, 64, 67, 0.15);\n",
              "      fill: #174EA6;\n",
              "    }\n",
              "\n",
              "    [theme=dark] .colab-df-convert {\n",
              "      background-color: #3B4455;\n",
              "      fill: #D2E3FC;\n",
              "    }\n",
              "\n",
              "    [theme=dark] .colab-df-convert:hover {\n",
              "      background-color: #434B5C;\n",
              "      box-shadow: 0px 1px 3px 1px rgba(0, 0, 0, 0.15);\n",
              "      filter: drop-shadow(0px 1px 2px rgba(0, 0, 0, 0.3));\n",
              "      fill: #FFFFFF;\n",
              "    }\n",
              "  </style>\n",
              "\n",
              "      <script>\n",
              "        const buttonEl =\n",
              "          document.querySelector('#df-9f4a6a69-cf98-4a65-80f8-2d97c86c04d9 button.colab-df-convert');\n",
              "        buttonEl.style.display =\n",
              "          google.colab.kernel.accessAllowed ? 'block' : 'none';\n",
              "\n",
              "        async function convertToInteractive(key) {\n",
              "          const element = document.querySelector('#df-9f4a6a69-cf98-4a65-80f8-2d97c86c04d9');\n",
              "          const dataTable =\n",
              "            await google.colab.kernel.invokeFunction('convertToInteractive',\n",
              "                                                     [key], {});\n",
              "          if (!dataTable) return;\n",
              "\n",
              "          const docLinkHtml = 'Like what you see? Visit the ' +\n",
              "            '<a target=\"_blank\" href=https://colab.research.google.com/notebooks/data_table.ipynb>data table notebook</a>'\n",
              "            + ' to learn more about interactive tables.';\n",
              "          element.innerHTML = '';\n",
              "          dataTable['output_type'] = 'display_data';\n",
              "          await google.colab.output.renderOutput(dataTable, element);\n",
              "          const docLink = document.createElement('div');\n",
              "          docLink.innerHTML = docLinkHtml;\n",
              "          element.appendChild(docLink);\n",
              "        }\n",
              "      </script>\n",
              "    </div>\n",
              "  </div>\n",
              "  "
            ]
          },
          "metadata": {}
        }
      ]
    },
    {
      "cell_type": "code",
      "source": [
        "#converting into list and replacing space by hyphen for each data\n",
        "repo_data['topics'] = repo_data['topics'].apply(lambda x: ast.literal_eval(x))\n",
        "repo_data['topics'] = repo_data['topics'].apply(lambda x: [i.replace(' ', '-') for i in x])\n",
        "\n",
        "\n",
        "repo_data['lang_name'] = repo_data['lang_name'].apply(lambda x: ast.literal_eval(x))\n",
        "repo_data['lang_name'] = repo_data['lang_name'].apply(lambda x: [i.replace(' ', '-') for i in x])\n",
        "\n"
      ],
      "metadata": {
        "id": "QA-EiOt7zpAT"
      },
      "execution_count": 36,
      "outputs": []
    },
    {
      "cell_type": "code",
      "source": [
        "#Unique language set\n",
        "tokens = repo_data[\"lang_name\"]\n",
        "tokens_list = list()\n",
        "tokens_set = set()\n",
        "for token in tokens:\n",
        "  tokens_list.append(token)\n",
        "  tokens_set = tokens_set.union(set(token))\n",
        "\n",
        "display(len(tokens_list))\n",
        "display(len(tokens_set))"
      ],
      "metadata": {
        "colab": {
          "base_uri": "https://localhost:8080/",
          "height": 53
        },
        "id": "D8K0tX2Pljzk",
        "outputId": "9a742507-319e-4839-af20-88e23fdf66d2"
      },
      "execution_count": 37,
      "outputs": [
        {
          "output_type": "display_data",
          "data": {
            "text/plain": [
              "5325"
            ]
          },
          "metadata": {}
        },
        {
          "output_type": "display_data",
          "data": {
            "text/plain": [
              "372"
            ]
          },
          "metadata": {}
        }
      ]
    },
    {
      "cell_type": "code",
      "source": [
        "#Unique topic set\n",
        "tokens = repo_data[\"topics\"]\n",
        "tokens_list = list()\n",
        "tokens_set = set()\n",
        "for token in tokens:\n",
        "  tokens_list.append(token)\n",
        "  tokens_set = tokens_set.union(set(token))\n",
        "\n",
        "display(len(tokens_list))\n",
        "display(len(tokens_set))"
      ],
      "metadata": {
        "colab": {
          "base_uri": "https://localhost:8080/",
          "height": 53
        },
        "id": "xjbUtUeLm8dd",
        "outputId": "d2addb40-7dfb-4566-8c83-2ecd15af5ce5"
      },
      "execution_count": 38,
      "outputs": [
        {
          "output_type": "display_data",
          "data": {
            "text/plain": [
              "5325"
            ]
          },
          "metadata": {}
        },
        {
          "output_type": "display_data",
          "data": {
            "text/plain": [
              "11567"
            ]
          },
          "metadata": {}
        }
      ]
    },
    {
      "cell_type": "code",
      "source": [
        "# Step 1: Tokenize the description field into individual words or tokens\n",
        "import re\n",
        "\n",
        "def tokenize_text(text):\n",
        "    # Return None if text is empty\n",
        "    if not text:\n",
        "        return []\n",
        "    if isinstance(text, float):\n",
        "      return []\n",
        "    if isinstance(text, int):\n",
        "      return []\n",
        "    # Use regex to tokenize the text\n",
        "    tokens = re.findall('\\w+', text.lower())\n",
        "    return tokens\n",
        "\n",
        "repo_data['description_tokens'] = repo_data['description'].apply(tokenize_text)\n",
        "repo_data['description_tokens'] "
      ],
      "metadata": {
        "colab": {
          "base_uri": "https://localhost:8080/"
        },
        "id": "Pp9ZvYUIjjM5",
        "outputId": "f51002ba-79c5-4c19-a963-1c220a03149a"
      },
      "execution_count": 39,
      "outputs": [
        {
          "output_type": "execute_result",
          "data": {
            "text/plain": [
              "0       [an, open, source, machine, learning, framewor...\n",
              "1       [production, grade, container, scheduling, and...\n",
              "2       [transformers, state, of, the, art, machine, l...\n",
              "3       [typescript, is, a, superset, of, javascript, ...\n",
              "4                       [headless, chrome, node, js, api]\n",
              "                              ...                        \n",
              "5320    [sets, up, terraform, cli, in, your, github, a...\n",
              "5321                                       [从零开始研究外挂设计原理]\n",
              "5322    [sqle, is, a, sql, audit, platform, sqle, 是一个支...\n",
              "5323                   [in, browser, literate, notebooks]\n",
              "5324    [automated, api, testing, and, quality, assura...\n",
              "Name: description_tokens, Length: 5325, dtype: object"
            ]
          },
          "metadata": {},
          "execution_count": 39
        }
      ]
    },
    {
      "cell_type": "code",
      "source": [
        "# Step 2: Remove punctions and number from this\n",
        "import nltk\n",
        "nltk.download('stopwords')\n",
        "from langdetect import detect\n",
        "from nltk.corpus import stopwords\n",
        "import string\n",
        "punctuations = set(string.punctuation)\n",
        "stop_words = set(stopwords.words('english'))\n",
        "\n",
        "def remove_stopwords(tokens):\n",
        "    # Remove stop words from the token list\n",
        "    filtered_tokens = []\n",
        "    for token in tokens:\n",
        "        # Check if token is alphabetic, not a stop word, not a number or float, not a punctuation, and is ASCII\n",
        "        if token.isalpha() and token.lower() not in stop_words and not token.isdigit() and not token.replace('.','',1).isdigit() and token not in punctuations and token.isascii():\n",
        "            filtered_tokens.append(token)\n",
        "    return filtered_tokens\n",
        "\n",
        "\n",
        "repo_data['description_tokens'] = repo_data['description_tokens'].apply(remove_stopwords)\n",
        "repo_data['description_tokens']"
      ],
      "metadata": {
        "colab": {
          "base_uri": "https://localhost:8080/"
        },
        "id": "QG98CkIdkZ2V",
        "outputId": "d41e7d54-2b72-4b3a-ffb5-45939902b622"
      },
      "execution_count": 40,
      "outputs": [
        {
          "output_type": "stream",
          "name": "stderr",
          "text": [
            "[nltk_data] Downloading package stopwords to /root/nltk_data...\n",
            "[nltk_data]   Package stopwords is already up-to-date!\n"
          ]
        },
        {
          "output_type": "execute_result",
          "data": {
            "text/plain": [
              "0       [open, source, machine, learning, framework, e...\n",
              "1       [production, grade, container, scheduling, man...\n",
              "2       [transformers, state, art, machine, learning, ...\n",
              "3       [typescript, superset, javascript, compiles, c...\n",
              "4                       [headless, chrome, node, js, api]\n",
              "                              ...                        \n",
              "5320    [sets, terraform, cli, github, actions, workflow]\n",
              "5321                                                   []\n",
              "5322       [sqle, sql, audit, platform, sqle, mysql, sql]\n",
              "5323                       [browser, literate, notebooks]\n",
              "5324        [automated, api, testing, quality, assurance]\n",
              "Name: description_tokens, Length: 5325, dtype: object"
            ]
          },
          "metadata": {},
          "execution_count": 40
        }
      ]
    },
    {
      "cell_type": "code",
      "source": [
        "\n",
        "# # NOT needed as we are doing ascii checks\n",
        "# # Step 3: Remove all non english,special character,non ascii tokens\n",
        "# from langdetect import detect\n",
        "# from langdetect.lang_detect_exception import LangDetectException\n",
        "\n",
        "# def remove_non_english(tokens):\n",
        "#     filtered_tokens = []\n",
        "#     for token in tokens:\n",
        "#         try:\n",
        "#             if token.isalpha() and detect(token) == 'en':\n",
        "#                 filtered_tokens.append(token)\n",
        "#         except LangDetectException:\n",
        "#             print(token)\n",
        "#     return filtered_tokens\n",
        "\n",
        "# # repo_data['description_tokens'].count_na()\n",
        "# if not repo_data['description_tokens'].isna().all():\n",
        "#     repo_data['description_tokens'] = repo_data['description_tokens'].apply(remove_non_english)\n",
        "\n",
        "# # repo_data['description_tokens']"
      ],
      "metadata": {
        "colab": {
          "base_uri": "https://localhost:8080/"
        },
        "id": "DJoQJysXzACt",
        "outputId": "23c1258e-ce7d-405d-a43e-51b8939b1607"
      },
      "execution_count": 32,
      "outputs": [
        {
          "output_type": "stream",
          "name": "stdout",
          "text": [
            "ﾉ\n",
            "ﾉ\n",
            "ℹ\n",
            "ｆ\n",
            "𝓝𝐓𝚂\n",
            "ʖ\n",
            "ӿ\n",
            "𓃡\n",
            "𝘢𝘯𝘺𝘵𝘩𝘪𝘯𝘨\n",
            "𝘢𝘯𝘺𝘵𝘪𝘮𝘦\n",
            "𝘢𝘯𝘺𝘸𝘩𝘦𝘳𝘦\n",
            "𝚛𝚒𝚍𝚘𝚗𝚔𝚞𝚕𝚘𝚞𝚜𝚕𝚢\n",
            "钉钉\n"
          ]
        }
      ]
    },
    {
      "cell_type": "code",
      "source": [
        "# # Output is not as expected \n",
        "# # Apply stemming to the remaining tokens to reduce them to their base form\n",
        "# from nltk.stem.porter import PorterStemmer\n",
        "\n",
        "# stemmer = PorterStemmer()\n",
        "\n",
        "# def stem_tokens(tokens):\n",
        "#     # Apply stemming to the token list\n",
        "#     stemmed_tokens = [stemmer.stem(token) for token in tokens]\n",
        "#     return stemmed_tokens\n",
        "\n",
        "# repo_data['description_tokens'] = repo_data['description_tokens'].apply(stem_tokens)\n",
        "# repo_data['description_tokens'].to_string()"
      ],
      "metadata": {
        "colab": {
          "base_uri": "https://localhost:8080/",
          "height": 127
        },
        "id": "JwAJcuGDkqKR",
        "outputId": "7e899033-91bf-41a7-ecb0-22dcf4ed1cca"
      },
      "execution_count": 63,
      "outputs": [
        {
          "output_type": "execute_result",
          "data": {
            "text/plain": [
              "'0        [open, sourc, machin, learn, framework, everyon]\\n1               [product, grade, contain, schedul, manag]\\n2       [transform, state, art, machin, learn, pytorch...\\n3       [typescript, superset, javascript, compil, cle...\\n4                       [headless, chrome, node, js, api]\\n5                      [display, control, android, devic]\\n6                  [open, sourc, comput, vision, librari]\\n7                                          [spring, boot]\\n8              [world, fastest, framework, build, websit]\\n9       [fast, rever, proxi, help, expo, local, server...\\n10      [mobi, project, collabor, project, contain, ec...\\n11      [mall项目是一套电商系统, 包括前台商城系统及后台管理系统, 基于springboot,...\\n12                              [swift, program, languag]\\n13      [build, smaller, faster, secur, desktop, appli...\\n14      [house_with_garden, open, sourc, home, autom, ...\\n15                                   [deep, learn, human]\\n16      [best, way, write, secur, reliabl, applic, wri...\\n17      [apach, echart, power, interact, chart, data, ...\\n18                                    [spring, framework]\\n19      [apach, superset, data, visual, data, explor, ...\\n20      [tesseract, open, sourc, ocr, engin, main, rep...\\n21      [playwright, framework, web, test, autom, allo...\\n22                      [simpl, yet, eleg, http, librari]\\n23      [open, sourc, fireba, altern, follow, stay, up...\\n24                          [materi, design, icon, googl]\\n25       [prometheu, monitor, system, time, seri, databa]\\n26                           [googl, core, librari, java]\\n27      [rxjava, reactiv, exten, jvm, librari, compo, ...\\n28      [fast, exten, multi, platform, http, 1, 2, 3, ...\\n29                [cross, platform, opengl, termin, emul]\\n30      [squar, meticul, http, client, jvm, android, g...\\n31      [distribut, reliabl, key, valu, store, critic,...\\n32      [collect, sampl, discuss, showca, differ, arch...\\n33      [动手学深度学习, 面向中文读者, 能运行, 可讨论, 中英文版被60多个国家的400多所大...\\n34                              [pdf, reader, javascript]\\n35               [type, safe, http, client, android, jvm]\\n36                                  [cat, 1, clone, wing]\\n37                    [offici, electron, build, draw, io]\\n38        [ghidra, softwar, rever, engin, sre, framework]\\n39      [apach, dubbo, high, perform, java, base, open...\\n40             [cross, platform, framework, use, vue, js]\\n41      [c, base, grpc, c, python, rubi, object, c, ph...\\n42                          [tool, write, better, script]\\n43      [apach, spark, unifi, analyt, engin, larg, sca...\\n44                        [beauti, static, document, api]\\n45      [bootstrap, kubernet, hard, way, googl, cloud,...\\n46                           [cloud, nativ, api, gateway]\\n47      [style, guid, googl, origin, open, sourc, proj...\\n48      [企业级低代码平台, 前后端分离架构springboot, 2, x, springclou...\\n49                                  [dex, java, decompil]\\n50      [draw, io, javascript, client, side, editor, g...\\n51            [tensorflow, code, pre, train, model, bert]\\n52      [tidb, open, sourc, cloud, nativ, distribut, m...\\n53      [render, effect, anim, nativ, android, io, web...\\n54              [connect, secur, control, observ, servic]\\n55      [sheetj, spreadsheet, data, toolkit, new, home...\\n56                    [build, form, react, without, tear]\\n57      [alibaba, java, diagnost, tool, artha, alibaba...\\n58                [materi, design, compon, html, css, js]\\n59      [fire, android, develop, collect, follow, util...\\n60                [free, univ, databa, tool, sql, client]\\n61                   [command, modern, go, cli, interact]\\n62      [categor, collect, android, open, sourc, proje...\\n63      [netti, project, event, driven, asynchron, net...\\n64      [zxing, zebra, cross, barcod, scan, librari, j...\\n65      [next, gener, orm, node, js, typescript, postg...\\n66                  [pure, javascript, ocr, 100, languag]\\n67      [apach, airflow, platform, programmat, author,...\\n68      [awesom, multilingu, ocr, toolkit, base, paddl...\\n69      [blaze, fast, instant, realtim, graphql, api, ...\\n70           [defin, run, multi, contain, applic, docker]\\n71      [alibaba, java, code, guidelin, pmd, implement...\\n72                [reactiv, program, librari, javascript]\\n73      [natur, languag, process, next, decad, token, ...\\n74                                      [googl, research]\\n75               [memori, leak, detect, librari, android]\\n76               [clickhou, free, analyt, dbm, big, data]\\n77       [make, larg, ai, model, cheaper, faster, access]\\n78      [apollo, reliabl, configur, manag, system, sui...\\n79                      [快速, 简洁, 解决大文件内存溢出的java处理excel工具]\\n80       [rust, wasm, framework, build, client, web, app]\\n81            [simpl, fast, user, friendli, altern, find]\\n82                            [rust, base, platform, web]\\n83      [阿里云计算平台datawork, http, help, aliyun, com, doc...\\n84      [beauti, chart, io, tvo, osx, appl, side, cros...\\n85      [autom, audit, perform, metric, best, practic,...\\n86      [repositori, provid, code, run, infer, segment...\\n87                 [browser, autom, framework, ecosystem]\\n88                                 [run, kubernet, local]\\n89                          [openapi, specif, repositori]\\n90                                [一个基于, electron, 的音乐软件]\\n91      [framework, build, admin, panel, intern, tool,...\\n92      [easi, use, dynam, servic, discoveri, configur...\\n93               [yapi, 是一个可本地部署的, 打通前后端及qa的, 可视化的接口管理平台]\\n94      [fair, research, platform, object, detect, res...\\n95         [bind, android, view, callback, field, method]\\n96                      [simplifi, http, request, client]\\n97                      [阿里巴巴, mysql, binlog, 增量订阅, 消费组件]\\n98      [modern, document, format, toolchain, use, git...\\n99      [spring, cloud, alibaba, provid, one, stop, so...\\n100     [flash, os, imag, sd, card, usb, drive, safe, ...\\n101     [fastjson, 2, 0, x, relea, faster, secur, reco...\\n102     [ray, unifi, framework, scale, ai, python, app...\\n103     [lightn, fast, power, code, editor, written, r...\\n104                       [http下载工具, 基于http代理, 支持多连接分块下载]\\n105        [whale, curat, list, docker, resourc, project]\\n106     [deprec, see, http, github, com, ageron, hands...\\n107     [high, perform, node, js, imag, process, faste...\\n108     [open, sourc, c, librari, develop, use, facebook]\\n109            [code, search, tool, similar, ack, faster]\\n110     [pytorch, imag, model, script, pretrain, weigh...\\n111                                [mirror, apach, kafka]\\n112     [seri, jupyt, notebook, walk, fundament, machi...\\n113     [detectron2, platform, object, detect, segment...\\n114     [event, bu, android, java, simplifi, commun, a...\\n115     [下拉刷新, 上拉加载, 二级刷新, 淘宝二楼, refreshlayout, oversc...\\n116                             [kubernet, packag, manag]\\n117     [scalabl, portabl, distribut, gradient, boost,...\\n118     [io, librari, nativ, render, effect, vector, a...\\n119     [streamlit, fastest, way, build, data, app, py...\\n120               [openmmlab, detect, toolbox, benchmark]\\n121                        [fastai, deep, learn, librari]\\n122     [swagger, ui, collect, html, javascript, css, ...\\n123     [fire, seata, easi, use, high, perform, open, ...\\n124     [refreshingli, simpl, data, driven, game, engi...\\n125     [product, portabl, high, perform, program, pyt...\\n126                               [lightweight, kubernet]\\n127     [power, javascript, librari, interact, discord...\\n128                 [sampl, android, architectur, compon]\\n129     [compo, transform, python, numpi, program, dif...\\n130                      [open, autonom, drive, platform]\\n131           [block, style, editor, clean, json, output]\\n132     [deep, learn, framework, train, deploy, ship, ...\\n133     [openassist, chat, base, assist, understand, t...\\n134     [offlin, storag, improv, wrap, indexeddb, webs...\\n135                                  [html5, flv, player]\\n136     [java, serial, deseri, librari, convert, java,...\\n137           [free, open, sourc, manga, reader, android]\\n138                                 [数据结构和算法必知必会的50个代码实现]\\n139     [cloud, nativ, high, perform, edg, middl, serv...\\n140      [curat, list, go, design, pattern, recip, idiom]\\n141                            [homekit, support, impati]\\n142                                 [googl, android, app]\\n143               [apm, applic, perform, monitor, system]\\n144     [elixir, dynam, function, languag, design, bui...\\n145     [backstag, open, platform, build, develop, por...\\n146                            [tl, ssl, crypto, librari]\\n147            [secur, fast, microvm, serverless, comput]\\n148     [cross, platform, customiz, ml, solut, live, s...\\n149     [desktop, android, html5, io, java, game, deve...\\n150            [partly_sunni, right, way, check, weather]\\n151     [tornado, python, web, framework, asynchron, n...\\n152                                        [apach, flink]\\n153     [redisson, easi, redi, java, client, featur, m...\\n154     [dapr, portabl, event, driven, runtim, build, ...\\n155                   [complet, contain, manag, platform]\\n156     [cyber, swiss, armi, knife, web, app, encrypt,...\\n157     [power, flow, control, compon, enabl, reliabl,...\\n158     [fast, scalabl, multi, languag, exten, build, ...\\n159                       [exten, media, player, android]\\n160     [code, document, train, stanford, alpaca, mode...\\n161     [jhipster, develop, platform, quickli, gener, ...\\n162                [kubernet, cli, manag, cluster, style]\\n163     [lightweight, portabl, flexibl, distribut, mob...\\n164                            [go, microserv, framework]\\n165                       [make, comput, oper, system, c]\\n166                           [browser, markdown, editor]\\n167           [flatbuff, memori, effici, serial, librari]\\n168                      [par, server, node, js, express]\\n169     [parallel, distribut, deep, learn, machin, lea...\\n170                               [switch, host, quickli]\\n171     [babylon, js, power, beauti, simpl, open, game...\\n172     [open, sourc, trust, cloud, nativ, registri, p...\\n173                               [rxjava, bind, android]\\n174                       [react, base, ui, toolkit, web]\\n175              [modern, editor, backend, written, rust]\\n176                        [tool, visual, github, profil]\\n177     [项目基于, spring, boot, 2, 1, 0, jpa, spring, sec...\\n178     [jitsi, meet, secur, simpl, scalabl, video, co...\\n179     [beauti, fluid, exten, dialog, api, kotlin, an...\\n180                               [一款面向泛前端产品研发全生命周期的效率平台]\\n181           [eleg, scraper, crawler, framework, golang]\\n182                                  [web, file, browser]\\n183     [fast, offlin, first, reactiv, databa, javascr...\\n184     [apach, rocketmq, cloud, nativ, messag, stream...\\n185                           [virtual, machin, io, maco]\\n186     [deepsp, deep, learn, optim, librari, make, di...\\n187     [make, imag, smaller, use, best, class, codec,...\\n188       [power, imag, download, cach, librari, android]\\n189     [implement, imageview, android, support, zoom,...\\n190     [web, starter, kit, workflow, multi, devic, we...\\n191     [视频播放器, ijkplay, exoplay, mediaplay, http, 支持弹...\\n192                [mybati, sql, mapper, framework, java]\\n193                           [crystal, program, languag]\\n194        [magenta, music, art, gener, machin, intellig]\\n195     [ecosystem, transform, databa, distribut, data...\\n196        [framework, build, mobil, cross, platform, ui]\\n197     [build, multimod, ai, servic, via, cloud, nati...\\n198     [光, hikaricp, solid, high, perform, jdbc, conn...\\n199     [go, languag, implement, grpc, http, 2, base, ...\\n200                                    [flexbox, android]\\n201                             [java后端知识图谱, 帮助java初学者成长]\\n202               [coroutin, base, concurr, librari, php]\\n203                  [format, input, text, content, type]\\n204     [cat, 作为服务端项目基础组件, 提供了, java, c, c, node, js, ...\\n205     [readi, use, ocr, 80, support, languag, popula...\\n206     [zulip, server, web, applic, open, sourc, team...\\n207     [chatglm, 6b, 开源双语对话语言模型, open, bilingu, dialo...\\n208              [podman, tool, manag, oci, contain, pod]\\n209            [cncf, jaeger, distribut, trace, platform]\\n210                                    [微信小程序商城, 微信小程序微店]\\n211     [actix, web, power, pragmat, extrem, fast, web...\\n212     [webgl, accel, javascript, librari, train, dep...\\n213     [收集所有区块链, blockchain, 技术开发相关资料, 包括fabric和ether...\\n214                      [let, us, control, diffu, model]\\n215     [seaweedf, fast, distribut, storag, system, bl...\\n216     [bcc, tool, bpf, base, linux, io, analysi, net...\\n217     [find, vulner, misconfigur, secret, sbom, cont...\\n218                    [less, dynam, stylesheet, languag]\\n219                                     [深度学习经典, 新论文逐段精读]\\n220     [power, flexibl, librari, load, cach, display,...\\n221                     [par, gigabyt, json, per, second]\\n222     [sketch, style, paint, art, tog2018, siggraph2...\\n223     [cloud, nativ, vector, databa, storag, next, g...\\n224     [基于vite, vue3, gin搭建的开发基础平台, 支持t, js混用, 集成jwt鉴...\\n225     [databa, tool, incl, orm, migrat, admin, ui, p...\\n226     [garden, app, illustr, android, develop, best,...\\n227     [diem, mission, build, trust, innov, financ, n...\\n228     [luigi, python, modul, help, build, complex, p...\\n229           [low, code, program, event, driven, applic]\\n230     [slim, toolkit, chang, anyth, contain, imag, m...\\n231     [本项目将, 动手学深度学习, dive, deep, learn, 原书中的mxnet实现...\\n232     [android, app, provid, design, news, inspir, w...\\n233     [cross, platform, autom, framework, kind, app,...\\n234                    [zipkin, distribut, trace, system]\\n235        [singl, sign, multi, factor, portal, web, app]\\n236              [tool, rever, engin, android, apk, file]\\n237     [build, run, docker, contain, leverag, nvidia,...\\n238     [openapi, gener, allow, gener, api, client, li...\\n239           [ziplin, python, algorithm, trade, librari]\\n240     [open, sourc, machin, learn, framework, autom,...\\n241     [vitess, databa, cluster, system, horizont, sc...\\n242                  [pleasant, android, applic, develop]\\n243       [high, perform, inter, thread, messag, librari]\\n244                    [conver, rpa, sdk, chatbot, maker]\\n245     [realm, mobil, databa, replac, core, data, sql...\\n246     [largest, hub, readi, use, dataset, ml, model,...\\n247         [power, spider, web, crawler, system, python]\\n248                        [lotti, wrapper, react, nativ]\\n249     [home, page, http, pyscript, net, exampl, http...\\n250     [creat, ui, machin, learn, model, python, 3, m...\\n251              [lightweight, fuzzi, search, javascript]\\n252     [open, sourc, ident, access, manag, modern, ap...\\n253                [koala, pouchdb, pocket, size, databa]\\n254     [pulumi, univ, infrastructur, code, cloud, lan...\\n255     [filament, real, time, physic, base, render, e...\\n256     [new, markup, base, typeset, system, power, ea...\\n257     [swagger, codegen, contain, templat, driven, e...\\n258                      [command, line, benchmark, tool]\\n259                    [obsolet, curat, applic, kubernet]\\n260          [http, load, gener, apachebench, ab, replac]\\n261                               [ultim, vim, distribut]\\n262     [spring, boot, 实践学习案例, 是, spring, boot, 初学者及核心...\\n263               [typescript, like, languag, webassembl]\\n264                       [offici, jetpack, compo, sampl]\\n265     [languag, focu, docker, imag, minu, oper, system]\\n266     [gener, github, profil, readm, easili, latest,...\\n267     [sampl, app, part, seri, blog, post, written, ...\\n268     [simpl, secur, standard, compliant, web, serve...\\n269     [intellij, idea, commun, edit, intellij, platf...\\n270     [faster, way, switch, cluster, namespac, kubectl]\\n271     [ik, analysi, plugin, integr, lucen, ik, analy...\\n272                         [amp, web, compon, framework]\\n273                  [ebpf, base, network, secur, observ]\\n274                              [ultim, go, studi, guid]\\n275     [googl, common, java, c, javascript, librari, ...\\n276     [kubernet, oper, kop, product, grade, k8, inst...\\n277     [modular, customiz, materi, design, ui, compon...\\n278     [brpc, industri, grade, rpc, framework, use, c...\\n279                   [ingress, nginx, control, kubernet]\\n280               [face, recognit, deep, neural, network]\\n281     [offici, home, presto, distribut, sql, queri, ...\\n282                                     [dolt, git, data]\\n283                                  [adapt, fast, autom]\\n284     [egui, easi, use, immedi, mode, gui, rust, run...\\n285                          [open, sourc, graph, databa]\\n286              [open, standard, machin, learn, interop]\\n287     [hyperledg, fabric, enterpri, grade, permiss, ...\\n288                        [circular, imageview, android]\\n289     [power, enhanc, toolkit, mybati, simplifi, dev...\\n290     [author, librari, support, access, control, mo...\\n291     [maintain, propo, chang, user, visibl, enhanc,...\\n292          [easiest, secur, way, access, infrastructur]\\n293     [framework, assist, renov, android, compon, 帮助...\\n294      [open, sourc, platform, machin, learn, lifecycl]\\n295     [etherpad, modern, realli, real, time, collabo...\\n296     [scala, 2, compil, standard, librari, bug, see...\\n297     [sampl, cloud, first, applic, 10, microserv, s...\\n298            [dall, e, mini, gener, imag, text, prompt]\\n299     [openid, certifi, openid, connect, oauth, prov...\\n300     [flutter, 超完整的开源项目, 功能丰富, 适合学习和日常使用, gsygithub...\\n301                     [easi, repeat, kubernet, develop]\\n302     [server, side, swift, perfect, core, toolset, ...\\n303                                  [apach, weex, incub]\\n304                                 [微信, 跳一跳, python, 辅助]\\n305           [deploy, product, readi, kubernet, cluster]\\n306     [former, git, repo, webfunda, develop, googl, ...\\n307     [relea, repo, vicuna, open, chatbot, impress, ...\\n308           [javascript, librari, modern, svg, graphic]\\n309                             [applic, kernel, contain]\\n310                      [open, reliabl, contain, runtim]\\n311                               [uber, go, style, guid]\\n312                    [api, document, gener, javascript]\\n313                       [前端低代码框架, 通过, json, 配置就能生成各种页面]\\n314               [simpl, pretti, power, logger, android]\\n315     [process, autom, docker, contain, base, imag, ...\\n316     [open, sourc, iot, platform, devic, manag, dat...\\n317     [diffu, state, art, diffu, model, imag, audio,...\\n318                  [high, perform, cach, librari, java]\\n319                                       [apach, hadoop]\\n320     [librari, deep, learn, model, dataset, design,...\\n321     [flink, learn, blog, http, www, 54tianzhisheng...\\n322     [chao, monkey, resili, tool, help, applic, tol...\\n323                               [entiti, framework, go]\\n324     [picker, view, android, support, linkag, effec...\\n325     [luban, 鲁班, imag, compress, effici, close, wec...\\n326                               [formatt, python, file]\\n327     [ip2region, 2, 0, xdb, offlin, ip, address, ma...\\n328          [exten, math, librari, javascript, node, js]\\n329     [softwar, autom, manag, configur, infrastructu...\\n330     [tink, multi, languag, cross, platform, open, ...\\n331     [low, cost, android, screen, adapt, solut, 今日头...\\n332     [distribut, transact, key, valu, databa, origi...\\n333     [select, hybrid, textbox, select, box, jqueri,...\\n334     [arangodb, nativ, multi, model, databa, flexib...\\n335     [suit, tool, deploy, train, deep, learn, model...\\n336                               [perceptu, jpeg, encod]\\n337                          [sampl, audio, app, android]\\n338                           [workflow, engin, kubernet]\\n339                   [declar, continu, deploy, kubernet]\\n340           [interact, cheatsheet, tool, command, line]\\n341     [apm, applic, perform, manag, tool, larg, scal...\\n342     [command, line, interfac, test, internet, band...\\n343                  [build, contain, imag, java, applic]\\n344                     [pretrain, model, tensorflow, js]\\n345     [high, perform, server, nat, io, cloud, edg, n...\\n346     [label, studio, multi, type, data, label, anno...\\n347                   [datepick, twitter, bootstrap, twb]\\n348     [predictionio, machin, learn, server, develop,...\\n349     [zuul, gateway, servic, provid, dynam, rout, m...\\n350     [apach, pulsar, distribut, pub, sub, messag, s...\\n351     [apach, druid, high, perform, real, time, anal...\\n352       [react, compon, build, web, form, json, schema]\\n353                    [machin, learn, toolkit, kubernet]\\n354            [gener, purpo, web, ui, kubernet, cluster]\\n355     [contain, platform, tailor, kubernet, multi, c...\\n356     [firework, well, design, local, imag, video, s...\\n357     [短信轰炸, 短信测压, 一个健壮免费的python短信轰炸程序, 专门炸坏蛋蛋, 百万接口...\\n358                                     [play, framework]\\n359           [pictur, selector, librari, android, 图片选择器]\\n360     [premier, sourc, truth, power, network, autom,...\\n361     [banner, 2, 0, 来了, android广告图片轮播控件, 内部基于viewpa...\\n362     [effect, june, 1, 2021, phabric, longer, activ...\\n363         [visual, docker, contain, manag, mac, window]\\n364                               [rdp, wrapper, librari]\\n365     [foundationdb, open, sourc, distribut, transac...\\n366                      [build, contain, imag, kubernet]\\n367                             [fast, key, valu, db, go]\\n368     [这可能是史上功能最全的java权限认证框架, 目前已集成, 登录认证, 权限认证, 分布式...\\n369     [groupcach, cach, cach, fill, librari, intend,...\\n370                                [chrome, exten, sampl]\\n371                     [fast, secur, runtim, webassembl]\\n372     [android开发人员不得不收集的工具类集合, 支付宝支付, 微信支付, 统一下单, 微信...\\n373     [keep, multipl, browser, devic, sync, build, w...\\n374     [mall学习教程, 架构, 业务, 技术要点全方位解析, mall项目, 50k, sta...\\n375                          [abseil, common, librari, c]\\n376     [guic, pronounc, juic, lightweight, depend, in...\\n377           [fluentd, unifi, log, layer, project, cncf]\\n378                                     [write, os, rust]\\n379          [12306, 购票助手, 支持集群, 多账号, 多任务购票以及, web, 页面管理]\\n380                  [librari, support, kotlin, coroutin]\\n381                                         [nltk, sourc]\\n382                       [rust, compil, front, end, ide]\\n383                               [data, engin, cookbook]\\n384     [aw, servic, registri, resili, mid, tier, load...\\n385           [fast, light, weight, proxi, memcach, redi]\\n386       [easiest, way, orchestr, observ, data, pipelin]\\n387                       [api, first, develop, platform]\\n388     [repositori, contain, implement, illustr, code...\\n389                          [cloud, nativ, api, gateway]\\n390     [pix2cod, gener, code, graphic, user, interfac...\\n391          [admin, ui, administr, spring, boot, applic]\\n392                     [quarku, superson, subatom, java]\\n393                          [wall, 瓦力, devops开源项目代码部署平台]\\n394     [highli, avail, prometheu, setup, long, term, ...\\n395     [collect, sampl, app, showca, popular, use, ca...\\n396     [flexibl, easi, use, one, drawer, librari, and...\\n397     [python, packag, built, ea, deep, learn, graph...\\n398     [apach, arrow, multi, languag, toolbox, accel,...\\n399     [awesom, pre, train, model, toolkit, base, pad...\\n400     [rust, cour, use, android, team, googl, provid...\\n401     [open, sourc, nlp, research, librari, built, p...\\n402     [kubernet, docker, local, cluster, test, kuber...\\n403           [realm, mobil, databa, replac, sqlite, orm]\\n404     [simpl, librari, handl, keyboard, shortcut, ja...\\n405     [data, version, control, git, data, model, ml,...\\n406            [cmak, tool, manag, apach, kafka, cluster]\\n407     [curso, para, aprend, el, lenguaj, de, program...\\n408     [linux, virtual, machin, typic, maco, run, con...\\n409     [android, anim, librari, easili, add, itemanim...\\n410     [collect, tutori, learn, use, docker, variou, ...\\n411                                      [apach, zookeep]\\n412                        [webassembl, design, document]\\n413                  [web, base, visual, program, editor]\\n414     [android, librari, allow, easili, creat, appli...\\n415     [full, featur, fast, command, line, argument, ...\\n416        [declar, api, handl, android, runtim, permiss]\\n417     [approxim, nearest, neighbor, c, python, optim...\\n418                                    [monitor, resourc]\\n419     [materi, theme, epic, theme, visual, studio, c...\\n420     [compo, multiplatform, modern, ui, framework, ...\\n421     [framework, quickli, creat, connect, applic, k...\\n422     [chia, blockchain, python, implement, full, no...\\n423     [prevent, commit, secret, credenti, git, repos...\\n424                               [play, neural, network]\\n425                          [storag, orchestr, kubernet]\\n426     [open, sourc, time, seri, databa, fast, ingest...\\n427     [graph, relat, databa, declar, schema, built, ...\\n428     [ndb, improv, debug, experi, node, js, enabl, ...\\n429                           [kubernet, commun, content]\\n430     [fulli, function, android, app, built, entir, ...\\n431             [book, learn, write, emb, os, rust, crab]\\n432              [scalabl, web, crawler, framework, java]\\n433                 [end, end, object, detect, transform]\\n434         [tool, work, android, dex, java, class, file]\\n435     [multitask, multithread, multiconnect, breakpo...\\n436     [synap, matrix, homeserv, written, python, twist]\\n437     [android, 4, 4以上沉浸式状态栏和沉浸式导航栏管理, 适配横竖屏切换, 刘海屏,...\\n438                                 [interview, question]\\n439                           [owasp, zap, core, project]\\n440               [100, chine, word, vector, 上百种预训练中文词向量]\\n441                                              [即时通讯im]\\n442                          [fire, linux下c, 轻量级web服务器学习]\\n443                                    [project, develop]\\n444     [grumpi, python, go, sourc, code, transcompil,...\\n445     [googl, offici, support, node, js, client, lib...\\n446                                    [android官方培训课程中文版]\\n447     [mall, admin, web是一个电商后台管理系统的前端项目, 基于vue, elem...\\n448     [okgo, 3, 0, 震撼来袭, 该库是基于, http, 协议, 封装了, okhtt...\\n449                   [coredn, dn, server, chain, plugin]\\n450     [faster, subsequ, page, load, prefetch, viewpo...\\n451                    [compil, time, depend, inject, go]\\n452           [java, grpc, implement, http, 2, base, rpc]\\n453      [c, parallel, comput, asynchron, network, engin]\\n454            [android, runtim, permiss, power, rxjava2]\\n455                                         [erlang, otp]\\n456     [停止维护, 一个定期翻译国外android优质的技术, 开源库, 软件架构设计, 测试等文...\\n457     [curat, list, awesom, kotlin, relat, stuff, in...\\n458                      [memray, memori, profil, python]\\n459                              [develop, preview, ship]\\n460     [espressif, iot, develop, framework, offici, d...\\n461                     [make, cool, intro, android, app]\\n462     [apach, dolphinschedul, modern, data, workflow...\\n463     [web, base, tool, view, edit, format, valid, j...\\n464     [sealo, kubernet, distribut, gener, purpo, clo...\\n465            [javascript, librari, effici, data, fetch]\\n466     [restkit, framework, consum, model, rest, web,...\\n467     [cli, tool, spawn, run, contain, accord, oci, ...\\n468              [safe, exten, orm, queri, builder, rust]\\n469     [common, architectur, android, applic, develop...\\n470     [open, sourc, javascript, librari, world, clas...\\n471         [automat, provi, manag, tl, certif, kubernet]\\n472                                 [rust, packag, manag]\\n473                 [java, api, gener, java, sourc, file]\\n474                        [open, sourc, code, alphafold]\\n475               [linux, osx, freebsd, resourc, monitor]\\n476     [mall, swarm是一套微服务商城系统, 采用了, spring, cloud, 20...\\n477     [aw, cloud, develop, kit, framework, defin, cl...\\n478                   [collect, sourc, code, gener, java]\\n479      [apereo, ca, ident, singl, sign, earthl, beyond]\\n480     [dopamin, research, framework, fast, prototyp,...\\n481     [object, detect, toolkit, base, paddlepaddl, s...\\n482                [multilingu, sentenc, imag, emb, bert]\\n483     [cross, platform, multi, protocol, vpn, softwa...\\n484     [支持, python3, javascript, shell, typescript, 的...\\n485     [logger, small, exten, api, provid, util, top,...\\n486     [cli, tool, gener, terraform, file, exist, inf...\\n487     [next, gener, full, text, search, librari, bro...\\n488     [send, push, notif, phone, desktop, use, put, ...\\n489                 [深度学习入门教程, 优秀文章, deep, learn, tutori]\\n490     [cheat, sheet, android, interview, android, in...\\n491     [simul, shitti, network, connect, build, bette...\\n492                [record, replay, stub, http, interact]\\n493     [whatsapp, client, librari, nodej, connect, wh...\\n494         [gener, type, convert, json, schema, graphql]\\n495     [rocket, open, sourc, rest, api, spacex, launc...\\n496          [simpl, web, base, tool, sprite, pixel, art]\\n497     [imag, inpaint, tool, power, sota, ai, model, ...\\n498     [android, transform, librari, provid, varieti,...\\n499                         [tensorflow2, 0, delici, eat]\\n500     [deprec, power, librari, manag, fragment, andr...\\n501       [extract, inlin, critic, path, css, html, page]\\n502                   [offici, mongodb, node, js, driver]\\n503              [rxjava, bind, api, android, ui, widget]\\n504              [python, serverless, microframework, aw]\\n505                  [simplifi, android, system, permiss]\\n506                              [next, gen, ls, command]\\n507                   [swift, object, c, test, framework]\\n508                                       [apach, thrift]\\n509               [glossi, matrix, collabor, client, web]\\n510     [android, librari, observ, scroll, event, scro...\\n511              [instruct, tune, llama, consum, hardwar]\\n512     [spring, cloud, vue, oauth2, 0全家桶实战, 前后端分离模拟商城...\\n513     [flexibl, tool, creat, organ, share, visual, l...\\n514          [tensorflow, base, neural, network, librari]\\n515                    [custom, kubernet, yaml, configur]\\n516                       [comlink, make, webwork, enjoy]\\n517     [ultralight, secur, first, servic, mesh, kuber...\\n518                                    [go, client, redi]\\n519     [book, 本代码库是作者小傅哥多年从事一线互联网, java, 开发的学习历程技术汇总,...\\n520     [simpl, express, web, framework, java, spark, ...\\n521     [librari, provid, simpl, way, add, draggabl, s...\\n522                    [vulner, static, analysi, contain]\\n523                                [android开源弹幕引擎, 烈焰弹幕使]\\n524                             [pockethub, android, app]\\n525                [android, ndk, sampl, android, studio]\\n526                [simpl, unamb, mediat, implement, net]\\n527     [casao, simpl, easi, use, eleg, open, sourc, p...\\n528     [activ, light, weight, workflow, busi, process...\\n529     [open, deep, learn, compil, stack, cpu, gpu, s...\\n530     [blazor, move, http, github, com, dotnet, aspn...\\n531                   [web, render, surfac, node, applic]\\n532                                        [hazel, engin]\\n533          [f, flight, softwar, emb, system, framework]\\n534                       [beauti, access, math, browser]\\n535          [download, market, data, yahoo, financ, api]\\n536               [linux, osx, freebsd, resourc, monitor]\\n537     [c, applic, primari, purpo, farm, steam, card,...\\n538                         [googl, oper, research, tool]\\n539                   [ultra, fast, asyncio, event, loop]\\n540                   [small, build, system, focu, speed]\\n541      [android, real, time, display, control, softwar]\\n542              [packag, manag, swift, program, languag]\\n543     [declar, javascript, librari, applic, develop,...\\n544                      [minimalist, wrapper, indexeddb]\\n545                         [motion, design, editor, web]\\n546     [web, font, loader, give, ad, control, use, li...\\n547         [imag, load, android, back, kotlin, coroutin]\\n548     [librari, compon, android, l, use, android, 2, 2]\\n549     [magic, web, data, plane, api, microserv, fram...\\n550     [large_orange_diamond, fantast, mobil, ui, lib...\\n551     [openid, connect, oauth, 2, 0, framework, asp,...\\n552                 [simpl, rest, http, api, client, net]\\n553     [aw, serverless, applic, model, aw, sam, trans...\\n554                    [modern, text, index, librari, go]\\n555                                 [一套代码运行多端, 一端所见即多端所见]\\n556     [repositori, provid, state, art, sota, result,...\\n557          [java, jwt, json, web, token, java, android]\\n558     [go, cloud, develop, kit, go, cdk, librari, to...\\n559     [distribut, fast, open, sourc, graph, databa, ...\\n560     [cloud, cost, estim, terraform, pull, request,...\\n561     [git, platform, power, scala, easi, instal, hi...\\n562     [distribut, fault, toler, realtim, comput, str...\\n563                 [modern, json, librari, kotlin, java]\\n564     [spinnak, open, sourc, multi, cloud, continu, ...\\n565       [data, centric, declar, deep, learn, framework]\\n566     [project, end, rkt, pod, nativ, contain, engin...\\n567     [api, traffic, analyz, kubernet, provid, real,...\\n568     [agentweb, power, librari, base, android, webv...\\n569      [power, lightweight, plugin, framework, android]\\n570       [data, first, rust, nativ, ui, design, toolkit]\\n571                        [automl, librari, deep, learn]\\n572          [util, set, statu, bar, style, android, app]\\n573     [collect, sampl, demonstr, differ, framework, ...\\n574                                              [deprec]\\n575       [gomock, mock, framework, go, program, languag]\\n576     [cloud, nativ, interact, landscap, filter, sor...\\n577      [feign, make, write, java, http, client, easier]\\n578                              [export, machin, metric]\\n579           [data, scienc, data, without, acquir, copi]\\n580     [commun, driven, list, use, scala, librari, fr...\\n581     [resilience4j, fault, toler, librari, design, ...\\n582     [dynam, librari, tweak, wechat, maco, 首款微信, ma...\\n583     [best, simplest, free, open, sourc, websit, ch...\\n584     [android上一个优雅, 万能自定义ui, 仿io, 支持垂直, 水平方向切换, 支持周...\\n585     [nuitka, python, compil, written, python, full...\\n586         [fault, toler, protocol, agnost, rpc, system]\\n587     [easi, use, power, nlp, librari, awesom, model...\\n588                    [custom, font, android, easi, way]\\n589                                                    []\\n590               [conductor, microserv, orchestr, engin]\\n591      [oss, fuzz, continu, fuzz, open, sourc, softwar]\\n592     [modin, scale, panda, workflow, chang, singl, ...\\n593     [fast, build, system, encourag, creation, smal...\\n594                        [swagger, 2, 0, implement, go]\\n595            [php, client, librari, access, googl, api]\\n596     [goodbyedpi, deep, packet, inspect, circumv, u...\\n597     [webgl, accel, ml, linear, algebra, automat, d...\\n598     [rust, sql, toolkit, async, pure, rust, sql, c...\\n599     [react, like, gui, librari, desktop, web, mobi...\\n600                [rayon, data, parallel, librari, rust]\\n601     [go, program, languag, design, engin, stem, ed...\\n602     [deprec, custom, view, compon, mimic, new, mat...\\n603                  [fireba, quickstart, sampl, android]\\n604     [python, version, playwright, test, autom, lib...\\n605     [next, gen, ident, server, think, auth0, okta,...\\n606     [caffe2, lightweight, modular, scalabl, deep, ...\\n607                            [convert, compo, kubernet]\\n608     [damn, simpl, librari, build, product, readi, ...\\n609     [deprec, see, http, github, com, boot2dock, bo...\\n610     [collect, librari, tool, help, build, adapt, a...\\n611                              [stream, replic, sqlite]\\n612     [chang, data, captur, varieti, databa, plea, l...\\n613     [web, interfac, creat, custom, vector, base, v...\\n614     [robotgo, go, nativ, cross, platform, gui, aut...\\n615     [victoriametr, fast, cost, effect, monitor, so...\\n616     [modern, librari, android, java, kotlin, multi...\\n617                      [conform, test, suit, openshift]\\n618     [docker, bench, secur, script, check, dozen, c...\\n619                                  [sql, optim, rewrit]\\n620     [free, comprehen, rever, engin, tutori, cover,...\\n621                          [better, date, time, python]\\n622     [python, framework, creat, reproduc, maintain,...\\n623                       [aw, sdk, go, program, languag]\\n624     [rt, thread, open, sourc, iot, real, time, ope...\\n625     [kubescap, open, sourc, kubernet, secur, platf...\\n626            [proguard, resourc, android, wechat, team]\\n627                                        [rust, window]\\n628                           [alway, know, expect, data]\\n629     [exampl, jupyt, notebook, demonstr, build, tra...\\n630         [materi, design, viewpag, easi, use, librari]\\n631     [epoxi, android, librari, build, complex, scre...\\n632     [react, base, framework, provid, access, modul...\\n633     [traceur, javascript, next, javascript, today,...\\n634                    [repositori, opencv, extra, modul]\\n635      [python, bind, ffmpeg, complex, filter, support]\\n636     [librari, debug, android, databa, share, prefe...\\n637     [pre, train, whole, word, mask, chine, bert, 中...\\n638     [hyperscript, tag, markup, jsx, altern, use, s...\\n639     [immudb, immut, databa, base, zero, trust, sql...\\n640                                     [swagger, editor]\\n641     [crawl, web, scrape, browser, autom, librari, ...\\n642               [substrat, platform, blockchain, innov]\\n643         [ebitengin, dead, simpl, 2d, game, engin, go]\\n644     [mag, haystack, open, sourc, nlp, framework, i...\\n645        [kickstart, io, bring, new, idea, life, anywh]\\n646            [power, android, dynam, compon, framework]\\n647     [freerdp, free, remot, desktop, protocol, libr...\\n648     [list, open, sourc, tool, aw, secur, defen, of...\\n649     [yolox, high, perform, anchor, free, yolo, exc...\\n650     [lead, open, sourc, contain, attach, storag, b...\\n651     [基于springcloud2, 1的微服务开发脚手架, 整合了spring, secur,...\\n652      [programm, ci, cd, engin, run, pipelin, contain]\\n653     [popular, net, valid, librari, build, strongli...\\n654                 [differenti, comput, vision, librari]\\n655     [hsweb, haʊ, wɛb, 是一个基于spring, boot, 2, x开发, 首...\\n656     [openid, connect, oidc, ident, oauth, 2, 0, pr...\\n657                                     [aw, sdk, python]\\n658                              [web, app, pure, python]\\n659     [prowler, open, sourc, secur, tool, aw, azur, ...\\n660              [react, librari, build, dashboard, fast]\\n661     [android, librari, make, develop, use, sqlite,...\\n662     [koin, pragmat, lightweight, depend, inject, f...\\n663     [prometheu, oper, creat, configur, manag, prom...\\n664          [gener, autom, framework, accept, test, rpa]\\n665     [tool, keep, cloud, oper, top, form, chao, mon...\\n666                            [mirror, apach, cassandra]\\n667        [product, infrastructur, machin, learn, scale]\\n668     [flannel, network, fabric, contain, design, ku...\\n669            [open, sourc, gener, purpo, polici, engin]\\n670                 [easi, flexibl, alert, elasticsearch]\\n671     [ultim, plumber, tool, write, linux, pipe, ins...\\n672                 [android, applic, power, mirror, hou]\\n673     [java, rapid, develop, platform, base, spring,...\\n674     [deep, univ, probabilist, program, python, pyt...\\n675     [annot, trigger, method, call, log, debug, build]\\n676     [innov, blockchain, protocol, platform, everyo...\\n677                  [distribut, schedul, job, framework]\\n678     [juicef, distribut, posix, file, system, built...\\n679        [k, 9, mail, open, sourc, email, app, android]\\n680     [score, specif, provid, develop, centric, plat...\\n681                        [wide, use, python, c, compil]\\n682     [tsunami, gener, purpo, network, secur, scanne...\\n683                           [java, jsonpath, implement]\\n684                              [actor, framework, rust]\\n685     [apach, dori, easi, use, high, perform, unifi,...\\n686     [run, larg, languag, model, singl, gpu, throug...\\n687                      [cloud, nativ, pipelin, resourc]\\n688       [plug, play, modul, optim, perform, ai, system]\\n689     [微信全平台, sdk, senparc, weixin, c, 支持, net, fram...\\n690                 [demo, new, android, design, librari]\\n691     [toolkit, build, secur, portabl, lean, oper, s...\\n692     [apach, shenyu, java, nativ, api, gateway, ser...\\n693                       [starcraft, ii, learn, environ]\\n694        [deprec, unoffici, e, hentai, applic, android]\\n695     [lifecycl, handl, api, android, app, use, rxjava]\\n696     [chart_with_upwards_trend, captur, jvm, applic...\\n697                           [websocket, swift, io, osx]\\n698     [rocket, ultim, android, refer, road, becom, b...\\n699       [mopidi, exten, music, server, written, python]\\n700                            [阿里巴巴分布式数据库同步系统, 解决中美异地机房]\\n701                       [curat, select, blog, post, go]\\n702     [offici, repositori, trino, distribut, sql, qu...\\n703                   [30, mini, swift, app, self, studi]\\n704                                       [spring, secur]\\n705     [gnet, high, perform, lightweight, non, block,...\\n706         [fast, simpl, serverless, function, kubernet]\\n707     [scalen, high, perform, high, preci, cpu, gpu,...\\n708                                                    []\\n709           [fulli, configur, http, http, proxi, nodej]\\n710                  [free, ss, ssr, v2ray, 免费分享节点账号信息网站]\\n711                 [swift, web, framework, http, server]\\n712     [json, hero, open, sourc, beauti, json, explor...\\n713     [outlin, client, develop, jigsaw, outlin, clie...\\n714     [android, view, display, pdf, render, pdfiuman...\\n715     [primari, git, repositori, zephyr, project, ze...\\n716                                [go, client, kubernet]\\n717                      [learn, rxjava, android, exampl]\\n718     [搜狐视频, sohu, tv, redis私有云平台, 支持redis多种架构, stan...\\n719             [metadata, platform, modern, data, stack]\\n720     [simplifi, code, product, world, largest, open...\\n721     [android, librari, aar, highli, configur, easi...\\n722       [declar, framework, build, effici, ui, android]\\n723     [fire, 正在成为史上最全分类, android, 开源大全, 长期更新, star, ...\\n724                          [command, line, hex, viewer]\\n725     [directori, file, dn, vhost, bust, tool, writt...\\n726                                   [grpc, web, client]\\n727               [trax, deep, learn, clear, code, speed]\\n728                   [version, forkabl, syncabl, databa]\\n729       [vip, com, java, code, standard, librari, tool]\\n730     [toolkit, pack, ship, store, deliv, contain, c...\\n731     [open, sourc, self, hostabl, heroku, netlifi, ...\\n732                    [microbenchmark, support, librari]\\n733     [open, sourc, multi, tool, explor, publish, data]\\n734     [welcom, aw, code, exampl, repositori, repo, c...\\n735     [neon, serverless, postgr, separ, storag, comp...\\n736     [multi, dimens, chart, built, work, nativ, cro...\\n737     [chart, librari, android, compat, api, 8, seve...\\n738     [hippi, design, easili, build, cross, platform...\\n739     [pholcu, distribut, high, concurr, crawler, so...\\n740     [safe, portabl, gpu, abstract, rust, implement...\\n741     [pytorch, implement, efficientnet, efficientne...\\n742              [aw, sdk, javascript, browser, node, js]\\n743                     [offici, golang, driver, mongodb]\\n744     [uber, cross, platform, mobil, architectur, fr...\\n745     [microk8, small, fast, singl, packag, kubernet...\\n746     [lean, algorithm, trade, engin, quantconnect, ...\\n747                 [assembl, flutter, applic, framework]\\n748                     [easi, power, rust, http, client]\\n749     [event, driven, network, applic, framework, hi...\\n750                      [android, java, bytecod, viewer]\\n751               [fast, depend, injector, android, java]\\n752      [high, perform, server, side, applic, framework]\\n753     [基于谷歌最新aac架构, mvvm设计模式的一套快速开发库, 整合okhttp, rxja...\\n754     [计算机专业课, 408, 思维导图和笔记, 计算机组成原理, 第五版, 王爱英, 数据结构...\\n755                           [reactiv, program, android]\\n756            [build, 6, wheel, rover, base, rover, mar]\\n757     [recyclerview, advanc, flexibl, version, listv...\\n758                                              [算法学习笔记]\\n759     [backup, migrat, kubernet, applic, persist, vo...\\n760     [一款用于在android设备上获取照片, 拍照或从相册, 文件中选择, 裁剪图片, 压缩图...\\n761      [curat, list, resourc, chine, nlp, 中文自然语言处理相关资料]\\n762     [chef, infra, power, autom, platform, transfor...\\n763                             [framework, engin, manag]\\n764     [exampl, server, integr, gener, swagger, api, ...\\n765     [orchestr, platform, develop, product, observ,...\\n766     [unsupervi, text, token, neural, network, base...\\n767     [deprec, action, bar, implement, use, nativ, a...\\n768                       [quickstart, config, nvim, lsp]\\n769     [rust, bind, write, safe, fast, nativ, node, j...\\n770                     [conver, tradit, simplifi, chine]\\n771                               [better, tool, thought]\\n772     [replugin, flexibl, stabl, easi, use, android,...\\n773          [flyway, redgat, databa, migrat, made, easi]\\n774                      [visual, machin, learn, dataset]\\n775     [transform, svg, icon, multipl, theme, gener, ...\\n776                    [experi, plugin, flutter, desktop]\\n777     [fast, scalabl, high, perform, gradient, boost...\\n778                        [kotlin, nativ, infrastructur]\\n779       [open, sourc, enterpri, level, monitor, system]\\n780     [prql, modern, languag, transform, data, simpl...\\n781                             [网页版微信api, 包含终端版微信及微信机器人]\\n782                              [flutterdemo合集, 今天你fu了吗]\\n783     [golang, framework, help, gopher, build, data,...\\n784              [emb, javascript, templat, http, ej, co]\\n785                                  [tensorflow, exampl]\\n786                              [kotlin, sql, framework]\\n787                                [bitnami, helm, chart]\\n788                             [serial, framework, rust]\\n789     [creat, react, app, configur, overrid, easi, c...\\n790     [custom, viewpag, titl, strip, give, continu, ...\\n791       [distribut, server, social, realtim, game, app]\\n792                                                    []\\n793     [xpopup2, 0版本重磅来袭, 2倍以上性能提升, 带来可观的动画性能优化和交互细节的...\\n794                     [ui, autom, framework, game, app]\\n795     [scalabl, real, time, messag, server, languag,...\\n796     [exten, appl, xcodebuild, make, easier, test, ...\\n797     [nvidia, tensorrt, sdk, high, perform, deep, l...\\n798     [transport, plan, traffic, simul, softwar, cre...\\n799                                [rxjava, bind, kotlin]\\n800         [successor, http, github, com, fluxcd, flux2]\\n801     [apach, jmeter, open, sourc, load, test, tool,...\\n802     [flutter, 练习项目, 包括集成测试, 可访问性测试, 内含完整ui设计图, 更贴近...\\n803                    [server, autom, framework, applic]\\n804     [databrick, dolli, larg, languag, model, train...\\n805             [cross, platform, build, util, base, lua]\\n806                      [simpl, static, homepag, server]\\n807                        [integr, shell, work, aw, cli]\\n808     [code, newli, accept, paper, pattern, recognit...\\n809                                    [停止维护, okhttp的辅助类]\\n810                      [docker, minecraft, dockercraft]\\n811              [kubernet, nativ, serverless, framework]\\n812                        [cloud, nativ, control, plane]\\n813     [easi, use, speech, toolkit, includ, self, sup...\\n814                         [champagn, beta, emb, databa]\\n815     [lovefield, relat, databa, web, app, written, ...\\n816                      [use, sql, queri, elasticsearch]\\n817             [collect, android, secur, relat, resourc]\\n818     [easi, use, imag, segment, librari, awesom, pr...\\n819     [concour, contain, base, continu, thing, doer,...\\n820     [collect, use, perform, threadsaf, go, datastr...\\n821                          [javascript, checker, optim]\\n822     [dbt, enabl, data, analyst, engin, transform, ...\\n823                 [import, export, tool, elasticsearch]\\n824     [autowar, world, lead, open, sourc, softwar, p...\\n825     [terratest, go, librari, make, easier, write, ...\\n826     [open, sourc, recommend, system, servic, writt...\\n827           [lightweight, control, librari, javascript]\\n828     [librari, allow, easili, mock, test, base, aw,...\\n829     [fast, state, art, token, optim, research, pro...\\n830     [easi, use, modular, extend, packag, deep, lea...\\n831     [offici, maintain, support, paddlepaddl, inclu...\\n832                              [golang, secur, checker]\\n833     [main, repositori, gocd, continu, deliveri, se...\\n834     [paddlepaddl, gan, librari, includ, lot, inter...\\n835     [apach, beam, unifi, program, model, batch, st...\\n836         [open, sourc, distribut, rest, search, engin]\\n837                            [autosc, compon, kubernet]\\n838     [open, sourc, knowledg, base, commun, softwar,...\\n839     [smallest, header, gui, librari, 4, kloc, plat...\\n840     [profess, collabor, platform, emb, develop, al...\\n841                                 [intel, realsen, sdk]\\n842     [lab, demo, cour, gcp, train, http, cloud, goo...\\n843     [停止维护, android屏幕适配方案, 直接填写设计图上的像素尺寸即可完成适配, 最大限...\\n844     [pokedex, demonstr, modern, android, develop, ...\\n845     [analysi, implement, android, open, sourc, pro...\\n846            [high, level, trace, languag, linux, ebpf]\\n847                        [go, port, shadowsock, deprec]\\n848     [integr, react, js, rail, view, control, asset...\\n849                                       [apach, tomcat]\\n850     [concurr, cach, effici, dockerfil, agnost, bui...\\n851           [nvim, treesitt, configur, abstract, layer]\\n852       [strawberri, permiss, manag, android, platform]\\n853                                        [chez, scheme]\\n854     [rocket, build, manag, real, life, data, scien...\\n855         [android, signatur, v2, scheme签名下的新一代渠道包打包神器]\\n856              [machin, manag, contain, centric, world]\\n857                    [new, way, work, protocol, buffer]\\n858        [arnold, schwarzenegg, base, program, languag]\\n859                [document, gener, typescript, project]\\n860                             [dockerfil, apach, kafka]\\n861              [fast, minim, browser, protect, privaci]\\n862     [use, script, make, develop, everyday, life, e...\\n863     [ultra, lightweight, javascript, engin, intern...\\n864                [pentaho, data, integr, etl, k, kettl]\\n865     [docker, imag, provid, minecraft, server, auto...\\n866     [transpar, ui, block, detect, librari, android...\\n867     [defin, dev, environ, code, microserv, app, ku...\\n868                             [blog, jekyl, theme, pwa]\\n869                          [design, system, built, ibm]\\n870     [offici, python, client, librari, googl, disco...\\n871     [paddlepaddl, high, perform, deep, learn, infe...\\n872     [better, discord, enhanc, discord, desktop, ap...\\n873                 [io, framework, grow, fast, document]\\n874     [captur, ssl, tl, text, content, without, ca, ...\\n875        [simpl, resili, multi, host, contain, network]\\n876            [effici, cach, gigabyt, data, written, go]\\n877     [effici, reliabl, udp, unicast, udp, multicast...\\n878                                [mirror, apach, storm]\\n879     [simpl, rpc, framework, protobuf, servic, defi...\\n880     [cartograph, system, provid, real, time, simul...\\n881     [web, friendli, way, anyon, build, unusu, disp...\\n882     [sdk, build, kubernet, applic, provid, high, l...\\n883     [tini, linux, distro, run, entir, os, docker, ...\\n884         [simpl, modern, java, kotlin, web, framework]\\n885          [hybrid, visual, textual, function, program]\\n886     [exampl, simpl, basic, isol, app, bud, flutter...\\n887     [enterpri, grade, behavior, data, engin, web, ...\\n888          [uber, go, 语言编码规范中文版, uber, go, style, guid]\\n889          [pprof, tool, visual, analysi, profil, data]\\n890         [next, gener, cross, platform, packag, manag]\\n891     [catch, common, java, mistak, compil, time, er...\\n892     [float, action, button, android, base, materi,...\\n893     [vintag, 1980, do, inspir, twitter, bootstrap,...\\n894                         [sampl, spring, base, applic]\\n895     [set, web, base, tool, gener, graphic, asset, ...\\n896                       [golang实现的基于beego框架的接口在线文档管理系统]\\n897      [kubebuild, sdk, build, kubernet, api, use, crd]\\n898                  [end, end, speech, process, toolkit]\\n899                 [java, dsl, easi, test, rest, servic]\\n900       [optim, compil, toolchain, librari, webassembl]\\n901             [collect, exten, librari, jetpack, compo]\\n902     [transmittablethreadloc, ttl, miss, java, std,...\\n903     [light, power, c, web, framework, highli, scal...\\n904     [compact, highli, effici, workflow, busi, proc...\\n905     [newman, command, line, collect, runner, postman]\\n906     [marri, ground, dino, segment, anyth, stabl, d...\\n907         [python进阶, intermedi, python, chine, version]\\n908               [glove, model, distribut, word, repres]\\n909     [closed_book, 任阅, 网络小说阅读器, 3d翻页效果, txt, pdf, e...\\n910     [lighter, faster, browser, kernel, blink, inte...\\n911     [ansj分词, ict的真正java实现, 分词效果速度都超过开源版的ict, 中文分词,...\\n912     [cli, tool, build, test, debug, deploy, server...\\n913                           [nemo, toolkit, conver, ai]\\n914     [neural, net, train, interfac, tensorflow, foc...\\n915         [perform, financ, chart, built, html5, canva]\\n916                  [tutori, use, rabbitmq, variou, way]\\n917     [facilit, high, level, interact, wasm, modul, ...\\n918     [enterpri, level, cloud, nativ, monitor, syste...\\n919     [retool, open, sourc, altern, low, code, ui, c...\\n920     [javascript, player, librari, dash, hl, client...\\n921     [modsecur, open, sourc, cross, platform, web, ...\\n922     [imag, crop, librari, android, optim, camera, ...\\n923     [highli, exten, platform, develop, better, und...\\n924     [configur, extern, dn, server, aw, route53, go...\\n925     [cgcstcd, 2017, easi, flexibl, accur, plate, r...\\n926     [swiftui, combin, app, use, moviedb, api, cust...\\n927     [prevent, kubernet, misconfigur, reach, produc...\\n928                 [code, sampl, use, cloud, googl, com]\\n929     [gather, machin, learn, deep, learn, model, st...\\n930     [mycroft, core, mycroft, artifici, intellig, p...\\n931                 [公众号, 宫水三叶的刷题日记, 刷穿, leetcod, 系列文章源码]\\n932     [h2o, open, sourc, distribut, fast, scalabl, m...\\n933             [simpl, net, log, fulli, structur, event]\\n934                     [tool, facilit, build, oci, imag]\\n935                         [tensorflow, visual, toolkit]\\n936        [tensorflow, neural, machin, translat, tutori]\\n937     [socket, io, server, implement, java, realtim,...\\n938                     [jsonnet, data, templat, languag]\\n939     [keda, kubernet, base, event, driven, autosc, ...\\n940                 [python, librari, docker, engin, api]\\n941     [techniqu, deep, learn, satellit, aerial, imag...\\n942     [alluxio, data, orchestr, analyt, machin, lear...\\n943     [perkeep, née, camlistor, person, storag, syst...\\n944     [data, visual, analyt, compon, especi, well, s...\\n945     [diff, match, patch, high, perform, librari, m...\\n946        [remov, larg, amount, unwant, applic, quickli]\\n947     [android, librari, help, build, app, swipe, ba...\\n948     [open, sourc, librari, deep, learn, end, end, ...\\n949        [librari, gener, latex, express, python, code]\\n950                    [curat, list, tool, incid, respon]\\n951     [技术博客笔记大汇总, 包括java基础, 线程, 并发, 数据结构, android技术博...\\n952                       [exampl, built, tensorflow, js]\\n953     [go, open, sourc, distribut, simpl, effici, se...\\n954     [kubernet, control, tool, one, way, encrypt, s...\\n955     [sampl, cpu, heap, profil, java, featur, async...\\n956                           [intuit, version, du, rust]\\n957                                   [swift, tensorflow]\\n958     [docker, kubernet, network, troubl, shoot, swi...\\n959                           [stock, 股票系统, 使用python进行开发]\\n960     [repositori, archiv, move, new, repositori, ht...\\n961     [librari, bring, fulli, anim, materi, design, ...\\n962                      [applic, crash, report, android]\\n963     [sampl, project, creat, show, best, android, p...\\n964                       [physic, web, walk, use, anyth]\\n965     [idiomat, lean, fast, safe, pure, rust, implem...\\n966                    [flutter, app, collect, ui, uikit]\\n967     [apach, openwhisk, open, sourc, serverless, cl...\\n968     [xlnet, gener, autoregress, pretrain, languag,...\\n969     [richeditor, android, beauti, rich, text, wysi...\\n970     [command, line, tool, rust, librari, gener, re...\\n971      [curat, list, awesom, threat, intellig, resourc]\\n972     [web, base, notebook, enabl, data, driven, int...\\n973                        [tool, concurr, program, rust]\\n974                      [essenti, metric, healthi, site]\\n975     [springblad, 是一个由商业级项目升级优化而来的springcloud分布式微服务...\\n976     [work, remot, imag, registri, retriev, inform,...\\n977              [μwebsocket, node, js, back, end, metal]\\n978     [gener, java, type, json, json, schema, annot,...\\n979                          [python, port, shadowsocksr]\\n980                               [bit, modern, git, cli]\\n981     [fast, postgresql, databa, client, librari, py...\\n982                                  [ehview, 用爱发电, 快乐前行]\\n983         [java, io, object, c, translat, tool, runtim]\\n984                        [android, lib, github, websit]\\n985     [vertical_traffic_light, exten, linter, typesc...\\n986     [containerd, ctl, docker, compat, cli, contain...\\n987               [data, centric, pipelin, data, version]\\n988                     [headless, chrome, render, solut]\\n989                            [modern, load, test, code]\\n990     [matter, formerli, project, chip, creat, conne...\\n991                           [build, deploy, go, applic]\\n992            [java, kotlin, cheat, sheet, java, kotlin]\\n993     [open, sourc, storag, framework, enabl, build,...\\n994     [complet, mandiant, offen, vm, commando, vm, f...\\n995                        [distribut, id, gener, servic]\\n996     [chatrwkv, like, chatgpt, power, rwkv, 100, rn...\\n997     [rocket, perform, app, engin, creat, web, serv...\\n998     [make, rust, first, class, languag, ecosystem,...\\n999                 [truli, open, sourc, mongodb, altern]\\n1000    [javascript, librari, mobil, friendli, interac...\\n1001                   [miss, packag, manag, maco, linux]\\n1002                                [seren, oper, system]\\n1003    [make, compani, data, driven, connect, data, s...\\n1004               [fast, secur, effici, backup, program]\\n1005    [cli, workflow, administr, maco, applic, distr...\\n1006    [fast, well, test, wide, use, websocket, imple...\\n1007    [book, go语言高级编程, 开源图书, 涵盖cgo, go汇编语言, rpc实现, p...\\n1008    [x86, virtual, browser, recompil, x86, wasm, fli]\\n1009                   [type, safe, redi, client, golang]\\n1010        [load, environ, variabl, env, nodej, project]\\n1011    [turn, program, use, stdin, stdout, websocket,...\\n1012                        [project, document, markdown]\\n1013                [n³, unorthodox, termin, file, manag]\\n1014    [open, sourc, api, compat, altern, text, edito...\\n1015               [simpl, python, remot, execut, deploy]\\n1016    [run, compil, interact, web, browser, interact...\\n1017    [cross, platform, graphic, api, agnost, bring,...\\n1018       [node, js, debugg, base, blink, develop, tool]\\n1019    [check, syntax, vim, asynchron, fix, file, lan...\\n1020                 [nginx, base, media, stream, server]\\n1021    [default, formula, miss, packag, manag, maco, ...\\n1022                   [distribut, nginx, advanc, featur]\\n1023     [compil, go, javascript, run, go, code, browser]\\n1024                      [htmx, high, power, tool, html]\\n1025                [power, obfusc, javascript, node, js]\\n1026    [lime, explain, predict, machin, learn, classifi]\\n1027                                            [openlay]\\n1028                       [octocat, dark, github, style]\\n1029    [短信转发器, 监控android手机短信, 来电, app通知, 并根据指定规则转发到其他...\\n1030    [streamlink, cli, util, pipe, video, stream, v...\\n1031      [numpi, awar, dynam, python, compil, use, llvm]\\n1032    [http, proxi, written, go, cow, automat, ident...\\n1033                          [unoffici, wwdc, app, maco]\\n1034    [custom, packag, electron, app, os, specif, bu...\\n1035    [power, templat, engin, inherit, asynchron, co...\\n1036                        [simpl, error, handl, primit]\\n1037                 [cfssl, cloudflar, pki, tl, toolkit]\\n1038    [draw, simpl, svg, sequenc, diagram, textual, ...\\n1039    [savouri, implement, quic, transport, protocol...\\n1040               [swiss, armi, knife, pentest, network]\\n1041    [arc, gcd, compat, reachabl, class, io, maco, ...\\n1042    [comprehen, scalabl, python, librari, outlier,...\\n1043    [tile, window, manag, base, binari, space, par...\\n1044    [yadr, best, vim, git, zsh, plugin, cleanest, ...\\n1045                   [offici, matplotlib, cheat, sheet]\\n1046    [ecmascript, par, infrastructur, multipurpo, a...\\n1047             [emac, configur, bundl, batteri, includ]\\n1048    [power, user, friendli, binari, analysi, platf...\\n1049    [high, level, way, creat, menubar, desktop, ap...\\n1050             [inform, fanci, bash, prompt, git, user]\\n1051                [high, perform, maintain, stylesheet]\\n1052           [method, allow, use, html, code, coretext]\\n1053    [os, x, io, applic, framework, play, appl, pus...\\n1054        [simpl, librari, creat, color, consol, ouput]\\n1055                        [activ, develop, trunk, yarn]\\n1056    [text, editor, less, 1000, loc, syntax, highli...\\n1057    [suitabl, work, nsfw, classif, use, deep, neur...\\n1058                     [leveldb, key, valu, databa, go]\\n1059             [alpin, linux, docker, imag, win, minim]\\n1060                                   [log, file, navig]\\n1061    [基于googl, flutter的wanandroid客户端, 支持android和io,...\\n1062              [open, sourc, rout, machin, c, backend]\\n1063    [hor, poni, open, sourc, actor, model, capabl,...\\n1064     [golang, orm, focu, postgresql, featur, perform]\\n1065             [defeat, window, user, account, control]\\n1066                     [graphql, server, librari, rust]\\n1067      [cour, materi, modern, binari, exploit, rpisec]\\n1068    [elvish, express, program, languag, versatil, ...\\n1069                         [open, sourc, h, 264, codec]\\n1070        [proxi, softwar, help, circumv, great, firew]\\n1071    [troposph, python, librari, creat, aw, cloudfo...\\n1072                          [go, client, amqp, 0, 9, 1]\\n1073                              [cm, framework, django]\\n1074                                [sweeten, javascript]\\n1075    [sourc, code, pbrt, render, describ, third, ed...\\n1076                  [physic, base, anim, io, tvo, maco]\\n1077                     [graphql, server, focu, ea, use]\\n1078            [java, grow, java, java成长路线, 但学到不仅仅是java]\\n1079                                                   []\\n1080                   [simpl, dynam, string, librari, c]\\n1081                         [modern, rever, proxi, node]\\n1082    [comput, mortar_board, git, mac, win, linux, d...\\n1083             [bring, favorit, shell, wherev, go, ssh]\\n1084    [maintain, script, creat, nate, bridg, wifi, a...\\n1085    [slack, api, go, commun, maintain, fork, creat...\\n1086    [简洁易用的c, 11网络库, 支持单机千万并发连接, simpl, c, 11, netw...\\n1087                                 [request, gevent, 3]\\n1088          [classic, tomb, raider, open, sourc, engin]\\n1089                [webfont, load, simpl, small, effici]\\n1090         [open, sourc, old, school, runescap, client]\\n1091    [jodd, lightweight, java, zero, depend, use, l...\\n1092          [convert, word, document, docx, file, html]\\n1093               [python, task, manag, command, execut]\\n1094                             [visual, profil, python]\\n1095    [bootload, maco, window, linux, uefi, legaci, ...\\n1096    [command, line, util, extract, stream, variou,...\\n1097                           [break, time, remind, app]\\n1098    [matlab, octav, toolbox, deep, learn, includ, ...\\n1099    [cross, platform, ncur, spotifi, client, writt...\\n1100                      [cli, tool, run, yeoman, gener]\\n1101                               [ggplot, port, python]\\n1102       [give, javascript, abil, speak, mani, languag]\\n1103    [fast, power, commonmark, compliant, exten, ma...\\n1104            [virtual, maco, 12, later, appl, silicon]\\n1105           [toolkit, emb, hypervisor, capabl, applic]\\n1106                [uefi, firmwar, imag, viewer, editor]\\n1107                        [nginx, modul, googl, mirror]\\n1108                                     [debug, rubi, 2]\\n1109                         [javascript, interpret, net]\\n1110    [opencv, python, neural, network, autonom, rc,...\\n1111     [small, self, contain, altern, readlin, libedit]\\n1112                       [golang, job, schedul, packag]\\n1113            [python, modul, creat, excel, xlsx, file]\\n1114                        [fastest, safest, av1, encod]\\n1115    [bluepil, reliabl, io, test, tool, run, ui, te...\\n1116    [io, android, pure, javascript, react, nativ, ...\\n1117             [write, desktop, web, app, pure, python]\\n1118                              [c, c, perform, profil]\\n1119    [automat, color, use, deep, neural, network, c...\\n1120    [typescript, chess, librari, chess, move, gene...\\n1121    [cast, thing, allow, send, video, mani, mani, ...\\n1122        [bash, inspir, readlin, implement, powershel]\\n1123    [praw, acronym, python, reddit, api, wrapper, ...\\n1124         [note, minimalist, websocket, framework, go]\\n1125    [roshi, larg, scale, crdt, set, implement, tim...\\n1126    [cat2, webrtc, screenshar, electron, app, mac,...\\n1127                                        [cheddar, io]\\n1128                   [企业级, node, js, 应用性能监控与线上故障定位解决方案]\\n1129        [nginx, virtual, host, traffic, statu, modul]\\n1130                           [offici, nginx, dockerfil]\\n1131                     [matplotlib, 3, 1, cheat, sheet]\\n1132             [open, sourc, structur, motion, pipelin]\\n1133    [tini, javascript, librari, calcul, sun, moon,...\\n1134    [pinri, tile, imag, board, system, peopl, want...\\n1135                                               [fis3]\\n1136                    [lpip, metric, pip, instal, lpip]\\n1137    [android, io, like, scroll, effect, applic, al...\\n1138    [rudimentari, implement, basic, document, nosq...\\n1139                             [fast, file, navig, vim]\\n1140    [paa, built, top, amazon, ec2, contain, servic...\\n1141    [practic, tutori, style, notebook, cover, wide...\\n1142                                [annot, anyon, anywh]\\n1143    [make, function, return, someth, mean, type, s...\\n1144                 [redi, http, interfac, json, output]\\n1145    [django, applic, librari, import, export, data...\\n1146      [beer, penguin, homebrew, packag, manag, linux]\\n1147                    [e, commerc, app, built, flutter]\\n1148                            [sqlite, flutter, plugin]\\n1149    [slick, scala, languag, integr, connect, kit, ...\\n1150    [swagger, document, gener, django, rest, frame...\\n1151    [webgl, graphic, librari, build, scalabl, web3...\\n1152                                       [cask, ｆ, 𝓝𝐓𝚂]\\n1153    [robyn, fast, exten, async, python, web, frame...\\n1154                        [laravel, inver, seed, gener]\\n1155                             [jakt, program, languag]\\n1156                            [ecmascript, code, gener]\\n1157           [react, hook, api, implement, web, compon]\\n1158                                                   []\\n1159    [plenoxel, radianc, field, without, neural, ne...\\n1160                           [simpl, x, hotkey, daemon]\\n1161    [machin, learn, toolkit, dedic, time, seri, data]\\n1162    [slip, js, ui, librari, manipul, list, via, sw...\\n1163    [phpci, free, open, sourc, continu, integr, to...\\n1164    [scan, given, process, recogn, dump, varieti, ...\\n1165    [media, stream, server, base, nginx, rtmp, mod...\\n1166    [dart, http, server, framework, build, rest, a...\\n1167    [fast, power, safe, lightweight, script, langu...\\n1168    [crui, control, first, kind, fulli, autom, dyn...\\n1169    [simpl, use, go, golang, packag, gener, par, t...\\n1170                  [opnsen, gui, api, system, backend]\\n1171    [go, rice, go, packag, make, work, resourc, ht...\\n1172    [note, workaround, access, mac, os, x, pastebo...\\n1173    [window, rever, shell, payload, gener, handler...\\n1174    [build, vector, tileset, larg, collect, geojso...\\n1175                         [copi, past, anyth, network]\\n1176    [pytorch, implement, supervi, contrast, learn,...\\n1177               [go, 3d, game, engin, http, g3n, rock]\\n1178    [r, cnn, region, convolut, neural, network, fe...\\n1179    [proxi, incom, http, tl, connect, base, hostna...\\n1180    [educ, softwar, system, tini, self, compil, c,...\\n1181          [experi, weapon, nim, http, nim, lang, org]\\n1182    [headless, chromium, base, web, perform, metri...\\n1183     [stencil, simpl, power, templat, languag, swift]\\n1184                           [net, languag, playground]\\n1185                           [flat, pixel, art, editor]\\n1186    [mtuner, c, c, memori, profil, memori, leak, f...\\n1187               [type, safe, sql, templat, librari, c]\\n1188              [flexibl, event, driven, crawler, node]\\n1189    [python, sync, async, framework, interact, bro...\\n1190    [gener, bunch, malici, pdf, file, phone, home,...\\n1191    [high, perform, javascript, polylin, simplif, ...\\n1192    [php, class, gener, verifi, googl, authent, 2,...\\n1193                              [cryptographi, toolkit]\\n1194    [squeezenet, alexnet, level, accuraci, 50x, fe...\\n1195    [high, speed, network, driver, written, c, rus...\\n1196                              [download, imag, pixiv]\\n1197    [data, manipul, transform, audio, signal, proc...\\n1198                     [go, client, docker, engin, api]\\n1199                              [xss, hack, javascript]\\n1200                [esprima, compat, javascript, parser]\\n1201                        [tini, linux, compat, kernel]\\n1202              [php, exten, creat, reader, xlsx, file]\\n1203                            [sql, first, golang, orm]\\n1204    [cyf, next, gener, technolog, build, real, web...\\n1205       [msgpack, org, go, messagepack, encod, golang]\\n1206         [broken, edk2, port, qualcomm, platform, xd]\\n1207    [unix, pager, rich, function, design, work, ta...\\n1208    [snapchat, inspir, io, camera, framework, writ...\\n1209    [determin, geograph, locat, websit, visitor, b...\\n1210    [java, librari, par, render, commonmark, markd...\\n1211    [commonmark, markdown, java, parser, sourc, le...\\n1212     [app, let, open, car, file, brow, extract, imag]\\n1213         [fast, friendli, physic, base, anim, system]\\n1214                              [swift, version, manag]\\n1215    [ghost, driver, implement, remot, webdriv, wir...\\n1216    [recurr, neural, network, design, gener, class...\\n1217         [open, sourc, python, modul, comput, vision]\\n1218                                                   []\\n1219               [go, packag, implement, bloom, filter]\\n1220    [exten, leaflet, contain, configur, variou, fr...\\n1221                                  [simpl, profil, go]\\n1222    [featur, rich, wifi, hotspot, creator, linux, ...\\n1223                     [nginx, modul, brotli, compress]\\n1224       [python, modul, decor, wrapper, monkey, patch]\\n1225    [lua, http, client, cosocket, driver, openrest...\\n1226    [manag, background, servic, use, daemon, manag...\\n1227      [repo, contain, note, work, go, comput, system]\\n1228       [kxmenu, vertic, popup, menu, use, io, applic]\\n1229              [js, implement, twig, templat, languag]\\n1230    [flutter, common, util, librari, sputil, scree...\\n1231    [high, level, multiplatform, c, network, packe...\\n1232                              [convert, pe, shellcod]\\n1233       [weather, termin, ansi, color, unicod, symbol]\\n1234    [iclr, 2020, contrast, repres, distil, crd, be...\\n1235    [cross, platform, webrtc, client, framework, b...\\n1236                          [unoffici, go, api, notion]\\n1237                  [简单易用的python爬虫框架, qq交流群, 597510560]\\n1238                               [homebrew, un, instal]\\n1239             [sparkl, neo, vim, plugin, format, code]\\n1240       [sixpack, languag, agnost, b, test, framework]\\n1241    [重要通知, webqq将在2019年1月1日停止服务, 此项目目前已停止维护, 感谢大家四...\\n1242    [queri, analyz, par, redi, monitor, command, c...\\n1243     [function, immut, finit, state, machin, librari]\\n1244                             [updat, notif, cli, app]\\n1245    [python, jira, librari, develop, chat, avail, ...\\n1246    [small, librari, gener, transform, data, inspi...\\n1247    [httpleak, possibl, way, websit, leak, http, r...\\n1248           [flexibl, intuit, fast, forecast, librari]\\n1249    [io, platform, secur, anti, tamper, swift, lib...\\n1250                      [onlin, or1k, emul, run, linux]\\n1251       [automat, export, code, googl, com, p, netmap]\\n1252                              [redi, implement, rust]\\n1253    [userspac, raspberri, pi, pwm, librari, ws281x...\\n1254    [time, track, host, anywh, full, export, suppo...\\n1255    [time, calendar, manipul, librari, io, 9, maco...\\n1256    [babi, buddi, help, caregiv, track, sleep, fee...\\n1257                       [3d, lidar, base, graph, slam]\\n1258    [accel, packag, neural, network, multi, core, ...\\n1259    [lightweight, llvm, python, bind, write, jit, ...\\n1260                       [transpar, ssl, tl, intercept]\\n1261                   [archiv, self, host, file, storag]\\n1262                    [struct, base, argument, par, go]\\n1263    [scan, run, process, recogn, dump, varieti, po...\\n1264    [shiv, command, line, util, build, fulli, self...\\n1265                             [ladybird, web, browser]\\n1266    [build, chromium, os, raspberri, pi, 3b, 3b, 4...\\n1267                               [qr, code, gener, php]\\n1268    [javascript, librari, enabl, pan, zoom, svg, h...\\n1269                                 [sbt, nativ, packag]\\n1270                       [reason, handl, nullabl, valu]\\n1271    [note, repositori, retir, complet, unoffici, h...\\n1272                         [simpl, memori, cach, nodej]\\n1273    [collect, use, middlewar, go, http, servic, we...\\n1274           [open, librari, comput, vision, algorithm]\\n1275    [emac, mac, port, formula, homebrew, packag, m...\\n1276                    [univ, configur, librari, parser]\\n1277                        [python, smtp, server, human]\\n1278    [golang, bind, qt, cross, platform, applic, fr...\\n1279    [simpl, higher, level, interfac, go, web, scrape]\\n1280    [easili, add, zoom, hover, function, site, ima...\\n1281            [json, formatt, standard, python, logger]\\n1282    [modern, framework, manag, global, keyboard, s...\\n1283    [code, model, tempor, segment, network, tsn, e...\\n1284    [zygo, lisp, interpret, written, 100, go, cent...\\n1285              [help, preload, librari, pwning, stuff]\\n1286    [simpl, coredata, queri, languag, swift, objec...\\n1287                  [simpl, book, websit, 一个简单的在线版个人书库]\\n1288                        [small, script, languag, web]\\n1289            [cycl, accur, ne, emul, 1000, line, code]\\n1290                          [index, repo, kimera, code]\\n1291             [lightweight, simpl, plugin, manag, zsh]\\n1292    [booto, monolith, oper, system, 512, byte, x86...\\n1293                                     [contract, rubi]\\n1294     [forward, proxi, modul, connect, request, handl]\\n1295    [c, compil, time, enum, string, iter, singl, h...\\n1296                           [factor, program, languag]\\n1297                                [deep, learn, haskel]\\n1298        [tini, simpl, fast, heatmap, plugin, leaflet]\\n1299    [book, 一起写python文章, 一起看python文章, 利用readthedocs...\\n1300                      [effortless, path, oper, swift]\\n1301    [nativ, io, uitableview, react, nativ, json, s...\\n1302       [librari, send, mock, remot, notif, io, simul]\\n1303                        [微信公众平台, python, 开发包, deprec]\\n1304    [barf, multiplatform, open, sourc, binari, ana...\\n1305    [self, contain, machin, learn, natur, languag,...\\n1306    [java, wrapper, around, ffmpeg, command, line,...\\n1307             [indic, compromi, ioc, variou, investig]\\n1308    [program, convert, matlab, octav, figur, tikz,...\\n1309             [sftp, support, go, crypto, ssh, packag]\\n1310                          [simpl, compil, daemon, go]\\n1311    [command, line, tool, local, run, deploy, node...\\n1312    [materi, inspir, stylesheet, pyside2, pyside6,...\\n1313                                  [websocket, django]\\n1314    [aiopg, librari, access, postgresql, databa, a...\\n1315    [fresh, modern, googl, contact, manag, integr,...\\n1316                    [window, object, explor, 64, bit]\\n1317                         [obfusc, go, binari, packag]\\n1318            [poc, backdoor, use, gmail, c, c, server]\\n1319    [dart, common, util, librari, dateutil, encryp...\\n1320    [easi, use, 2d, html5, game, engin, written, t...\\n1321            [stop, io, webapp, bounc, around, scroll]\\n1322    [end, end, librari, edit, render, motion, 3d, ...\\n1323    [anim, engin, gestur, driven, user, interfac, ...\\n1324                       [python, modul, depend, graph]\\n1325    [implement, python, itertool, builtin, iter, f...\\n1326                  [tool, write, awesom, fabric, file]\\n1327                 [3, 8, 18, 3, cifar, 10, cifar, 100]\\n1328    [pygment, gener, syntax, highlight, written, p...\\n1329                           [postgresql, jdbc, driver]\\n1330    [detext, deep, neural, text, understand, frame...\\n1331          [lanyrd, mysql, postgresql, conver, script]\\n1332             [github, style, identicon, png, svg, js]\\n1333                                       [mega, c, sdk]\\n1334                  [sourc, power, react, anymor, blog]\\n1335    [unmaintain, replac, refer, non, optim, script...\\n1336           [python, librari, read, write, imag, data]\\n1337    [low, footprint, dom, style, json, parser, wri...\\n1338              [db, py, easier, way, interact, databa]\\n1339    [eccv, 2020, contrast, multiview, code, also, ...\\n1340                  [zip, file, librari, io, maco, tvo]\\n1341                                   [simpl, c, compil]\\n1342               [ruptur, chang, point, detect, python]\\n1343    [visual, inerti, odometri, slam, capabl, 3d, m...\\n1344    [make, cute, emoji, video, unlimit, durat, sha...\\n1345    [simpl, open, sourc, self, host, file, share, ...\\n1346    [neurip, 2020, differenti, augment, data, effi...\\n1347                               [openrc, init, system]\\n1348    [simpl, php, packag, send, messag, slack, focu...\\n1349    [new, gener, entropi, codec, finit, state, ent...\\n1350                [web, clone, card, game, card, human]\\n1351                                       [php, 面试知识点汇总]\\n1352    [formerli, core, formula, homebrew, packag, ma...\\n1353          [convert, kml, gpx, geojson, without, fuss]\\n1354                                  [apk, parser, java]\\n1355    [rail, inspir, gener, system, provid, scaffold...\\n1356    [go, cross, platform, librari, send, desktop, ...\\n1357                                 [jcodec, main, repo]\\n1358       [enhanc, cookiecutt, templat, python, librari]\\n1359         [react, nativ, compon, googl, admob, banner]\\n1360    [modern, hardwar, definit, languag, toolchain,...\\n1361                      [pixelnerf, offici, repositori]\\n1362                                                   []\\n1363                                   [tianocor, websit]\\n1364                             [node, bind, v8, profil]\\n1365         [menubar, process, monitor, mac, app, alpha]\\n1366                  [onlin, formula, browser, homebrew]\\n1367                        [iphon, hacker, news, client]\\n1368    [implement, http, github, com, joyent, node, i...\\n1369                              [canva, browser, liter]\\n1370                           [rich, text, area, javafx]\\n1371    [cyberpunk, inspir, web, ui, made, easi, get, ...\\n1372               [persist, http, cach, python, request]\\n1373       [coupl, multi, user, account, django, project]\\n1374    [control, toolbox, open, sourc, c, librari, ro...\\n1375    [nginx, modul, bring, power, echo, sleep, time...\\n1376                              [altern, version, cask]\\n1377    [ecdh, ecdsa, 8, bit, 32, bit, 64, bit, proces...\\n1378    [collect, use, stream, util, modul, write, bet...\\n1379    [visuali, go, program, gc, trace, data, real, ...\\n1380    [deeper, depth, predict, fulli, convolut, resi...\\n1381    [nswindow, subclass, highli, customiz, titl, b...\\n1382    [apriltag, visual, fiduci, system, popular, ro...\\n1383        [json, api, support, django, rest, framework]\\n1384                        [par, gener, xml, easili, go]\\n1385                  [py, test, fixtur, benchmark, code]\\n1386    [golang, asynchron, task, job, queue, redi, sq...\\n1387    [implement, en, core, function, registri, regi...\\n1388    [intelij, idea, plugin, display, code, mini, m...\\n1389    [flexibl, python, librari, build, cron, like, ...\\n1390    [command, line, tool, interact, macho, binari,...\\n1391                   [go, interfac, zeromq, version, 4]\\n1392                                [flake8, plugin, vim]\\n1393              [header, file, json, parser, serial, c]\\n1394    [self, contain, serverless, zero, configur, tr...\\n1395    [script, build, javascriptcor, android, react,...\\n1396    [python, client, microsoft, exchang, web, serv...\\n1397             [appli, save, color, scheme, matlab, ea]\\n1398             [tempor, segment, network, tsn, pytorch]\\n1399              [rubi, wrapper, cli, gitlab, rest, api]\\n1400    [ferret, free, softwar, lisp, implement, real,...\\n1401    [modern, advanc, portabl, multiprotocol, bootl...\\n1402    [fileless, ring, 3, rootkit, instal, persist, ...\\n1403                        [connect, like, firew, secur]\\n1404                           [multipeerconnect, codabl]\\n1405    [robust, realtim, face, facial, landmark, trac...\\n1406    [real, time, full, duplex, speech, recognit, s...\\n1407    [2d, java, physic, engin, nativ, java, port, c...\\n1408                                [lemon, oper, system]\\n1409                           [playground, app, flutter]\\n1410    [repositori, neurip, 2020, spotlight, adabelie...\\n1411    [fuse, filesystem, dungeon, crawl, adventur, g...\\n1412    [freecodecamp, org, open, sourc, codeba, curri...\\n1413    [flutter, make, easi, fast, build, beauti, app...\\n1414                               [go, program, languag]\\n1415             [web, framework, perfectionist, deadlin]\\n1416       [python, micro, framework, build, web, applic]\\n1417    [redi, memori, databa, persist, disk, data, mo...\\n1418               [scikit, learn, machin, learn, python]\\n1419    [scrapi, fast, high, level, web, crawl, scrape...\\n1420           [golang, ebook, intro, build, web, golang]\\n1421    [simpl, zero, config, tool, make, local, trust...\\n1422    [flexibl, power, data, analysi, manipul, libra...\\n1423    [quill, modern, wysiwyg, editor, built, compat...\\n1424    [leveldb, fast, key, valu, storag, librari, wr...\\n1425    [secur, backend, server, web, mobil, flutter, ...\\n1426           [googletest, googl, test, mock, framework]\\n1427                       [scriptabl, headless, browser]\\n1428    [httpie, termin, modern, user, friendli, comma...\\n1429                                 [creat, os, scratch]\\n1430    [fastest, http, 2, go, web, framework, new, mo...\\n1431        [fundament, packag, scientif, comput, python]\\n1432                       [origin, web, compon, librari]\\n1433    [javascript, syntax, highlight, languag, auto,...\\n1434    [set, exampl, around, pytorch, vision, text, r...\\n1435    [open, sourc, io, framework, gpu, base, imag, ...\\n1436    [real, esrgan, aim, develop, practic, algorith...\\n1437    [cross, platform, command, line, util, creat, ...\\n1438                         [php, unit, test, framework]\\n1439    [saleor, core, high, perform, compo, headless,...\\n1440    [power, http, router, url, matcher, build, go,...\\n1441    [free, open, sourc, web, builder, framework, n...\\n1442            [interact, data, visual, browser, python]\\n1443           [plugin, flutter, maintain, flutter, team]\\n1444          [fish, shell, like, syntax, highlight, zsh]\\n1445                [googl, chromium, san, integr, googl]\\n1446                          [php, parser, written, php]\\n1447    [offici, repositori, ipython, repo, ipython, o...\\n1448    [grpc, json, proxi, gener, follow, grpc, http,...\\n1449    [high, perform, http, request, router, scale, ...\\n1450    [go, languag, librari, read, write, microsoft,...\\n1451    [django, content, manag, system, focu, flexibl...\\n1452            [offici, github, mirror, chromium, sourc]\\n1453    [lit, simpl, librari, build, fast, lightweight...\\n1454               [jupyt, metapackag, instal, doc, chat]\\n1455    [antlr, anoth, tool, languag, recognit, power,...\\n1456       [yii, 2, fast, secur, profess, php, framework]\\n1457     [shell, portabl, unix, shell, command, node, js]\\n1458    [dataset, transform, model, specif, comput, vi...\\n1459    [python, compo, command, line, interfac, toolkit]\\n1460    [hand, introduct, video, technolog, imag, vide...\\n1461    [simpl, modern, secur, encrypt, tool, go, libr...\\n1462    [chatterbot, machin, learn, conver, dialog, en...\\n1463    [creat, react, nativ, app, run, io, android, web]\\n1464          [open, sourc, statu, page, system, everyon]\\n1465        [high, perform, canva, render, react, compon]\\n1466            [go, depend, manag, tool, experi, deprec]\\n1467    [fast, simpl, yet, power, flexibl, log, framew...\\n1468                           [webrtc, web, demo, sampl]\\n1469     [collect, zsh, framework, plugin, theme, tutori]\\n1470                             [memcach, develop, tree]\\n1471    [load, environ, variabl, env, getenv, _env, _s...\\n1472                          [littl, like, j, thing, go]\\n1473    [open, sourc, self, host, implement, tailscal,...\\n1474    [tushar, util, crawl, histor, data, china, stock]\\n1475                       [chromium, run, insid, termin]\\n1476    [polli, net, resili, transient, fault, handl, ...\\n1477           [easiest, secur, way, use, wireguard, 2fa]\\n1478                                  [opencor, bootload]\\n1479                   [scipi, librari, main, repositori]\\n1480        [postgr, cli, autocomplet, syntax, highlight]\\n1481    [turi, creat, simplifi, develop, custom, machi...\\n1482    [leetcode题解, 151道题完整版, 广告, 推荐刷题网站, http, www, ...\\n1483                    [parallel, comput, task, schedul]\\n1484                        [simpl, power, onlin, commun]\\n1485    [high, perform, full, stack, php, framework, d...\\n1486                      [statist, data, visual, python]\\n1487    [cookiecutt, django, framework, jumpstart, pro...\\n1488                                    [visual, grammar]\\n1489                  [next, gener, http, client, python]\\n1490            [keycastr, open, sourc, keystrok, visual]\\n1491    [php_codesniff, token, php, file, detect, viol...\\n1492                          [jupyt, interact, notebook]\\n1493    [swiper, carousel, compon, react, nativ, featu...\\n1494    [distribut, web, crawler, admin, platform, spi...\\n1495    [tar, high, perform, rpc, framework, base, nam...\\n1496                 [record, termin, session, svg, anim]\\n1497    [openrefin, free, open, sourc, power, tool, wo...\\n1498    [带有详细注释的, redi, 3, 0, 代码, annot, redi, 3, 0, s...\\n1499       [rest, api, packag, laravel, lumen, framework]\\n1500               [go, librari, access, github, v3, api]\\n1501    [cross, platform, lib, process, system, monito...\\n1502    [easi, use, develop, friendli, enterpri, cm, p...\\n1503                      [fast, express, templat, engin]\\n1504       [dart, sdk, includ, vm, dart2j, core, librari]\\n1505               [go, support, googl, protocol, buffer]\\n1506    [minimalist, go, packag, aim, creat, consol, u...\\n1507                              [practic, panda, skill]\\n1508                             [visual, scrape, scrapi]\\n1509    [beauti, open, sourc, rss, podcast, app, power...\\n1510    [pretrain, convnet, pytorch, nasnet, resnext, ...\\n1511    [ffmpeg, libav, tutori, learn, media, work, ba...\\n1512    [distribut, transact, framework, support, work...\\n1513    [librari, provid, collect, process, render, fu...\\n1514    [web, mine, modul, python, tool, scrape, natur...\\n1515    [keyba, go, librari, client, servic, os, x, io...\\n1516      [statsmodel, statist, model, econometr, python]\\n1517                                   [todomvc, flutter]\\n1518                [chromium, os, univ, chroot, environ]\\n1519    [librari, build, power, interact, command, lin...\\n1520    [floppy_disk, peer, peer, share, live, syncron...\\n1521           [declar, statist, visual, librari, python]\\n1522                           [tile, window, manag, x11]\\n1523                      [littl, asgi, framework, shine]\\n1524           [cross, platform, file, system, notif, go]\\n1525            [ssdb, fast, nosql, databa, altern, redi]\\n1526    [customiz, window, termin, tab, split, quak, s...\\n1527    [cross, platform, gui, autom, python, modul, h...\\n1528                   [disqu, distribut, messag, broker]\\n1529    [unmaintain, next, gener, open, sourc, platfor...\\n1530          [appri, push, notif, work, everi, platform]\\n1531                    [querystr, parser, nest, support]\\n1532    [mac, app, show, open, file, directori, socket...\\n1533    [twig, flexibl, fast, secur, templat, languag,...\\n1534    [re2, fast, safe, thread, friendli, altern, ba...\\n1535                           [new, file, upload, solut]\\n1536              [collect, fireba, plugin, flutter, app]\\n1537    [hyprland, highli, customiz, dynam, tile, wayl...\\n1538                        [main, gperftool, repositori]\\n1539    [configur, set, panel, display, variou, debug,...\\n1540                                  [util, class, time]\\n1541    [skia, complet, 2d, graphic, librari, draw, te...\\n1542           [rubi, rack, web, server, built, parallel]\\n1543               [setup, script, secur, research, tool]\\n1544                                    [diff, implement]\\n1545    [filterit, implement, filter, file, base, list...\\n1546                            [multithread, fork, redi]\\n1547        [librari, handl, version, inform, constraint]\\n1548                              [simpl, templat, engin]\\n1549    [compil, elm, function, languag, reliabl, webapp]\\n1550    [pytorch, exten, tool, easi, mix, preci, distr...\\n1551    [crow, fast, easi, use, c, micro, web, framewo...\\n1552    [eastl, stand, electron, art, standard, templa...\\n1553    [speech, recognit, modul, python, support, sev...\\n1554             [propo, ad, use, pipe, oper, javascript]\\n1555     [empir, powershel, python, post, exploit, agent]\\n1556    [simpl, librari, work, json, web, token, json,...\\n1557                                    [dn, librari, go]\\n1558                                  [零反射全动态android插件框架]\\n1559          [navig, waveform, built, web, audio, canva]\\n1560                                    [pytorch, tutori]\\n1561                [autom, machin, learn, scikit, learn]\\n1562         [provid, function, compar, php, valu, equal]\\n1563        [set, tool, keep, pin, python, depend, fresh]\\n1564                                   [mirror, go, tool]\\n1565               [unc0ver, jailbreak, io, 11, 0, 12, 4]\\n1566    [simpl, power, orm, go, support, mysql, postgr...\\n1567    [open, sourc, python, librari, autom, featur, ...\\n1568                       [pattern, match, swiss, knife]\\n1569           [tini, easili, embedd, http, server, java]\\n1570     [provid, function, export, php, variabl, visual]\\n1571                 [simpl, framework, creat, rest, api]\\n1572    [reliabl, unr, messag, udp, robust, messag, fr...\\n1573    [provid, function, help, write, php, code, run...\\n1574                                     [flutter, engin]\\n1575    [gonum, set, numer, librari, go, program, lang...\\n1576    [orchard, core, open, sourc, modular, multi, t...\\n1577         [look, function, method, line, code, belong]\\n1578                          [asgi, web, server, python]\\n1579                 [clapper, exten, media, player, web]\\n1580    [snapshot, global, state, factor, phpunit, sta...\\n1581        [unifi, framework, machin, learn, time, seri]\\n1582    [librari, help, manag, version, number, git, h...\\n1583                            [px4, autopilot, softwar]\\n1584     [provid, function, recur, process, php, variabl]\\n1585                            [apach, echart, 的微信小程序版本]\\n1586              [comprehen, wsgi, web, applic, librari]\\n1587    [traver, array, structur, object, graph, enum,...\\n1588    [fire, 2d, 3d, face, align, librari, build, us...\\n1589               [uniform, manifold, approxim, project]\\n1590          [upspin, framework, name, everyon, everyth]\\n1591       [cron, monitor, tool, written, python, django]\\n1592    [tool, list, diagno, go, process, current, run...\\n1593    [allow, reflect, object, attribut, includ, inh...\\n1594                             [interact, comput, suit]\\n1595    [fork, i3, window, manag, gap, featur, warn, i...\\n1596    [brython, browser, python, implement, python, ...\\n1597    [read, key, valu, pair, env, file, set, enviro...\\n1598    [nlog, advanc, structur, log, variou, net, pla...\\n1599    [shell, parser, formatt, interpret, bash, supp...\\n1600    [java, binari, serial, clone, fast, effici, au...\\n1601    [python, scikit, build, analyz, recommend, sys...\\n1602                            [sqlite3, bind, node, js]\\n1603             [gener, go, orm, tailor, databa, schema]\\n1604                          [awesom, document, factori]\\n1605                    [git, human, inspir, github, mac]\\n1606                 [domain, driven, e, commerc, django]\\n1607    [csstoinlinestyl, class, enabl, convert, html,...\\n1608    [devtool, proxi, chrome, remot, debug, protoco...\\n1609                  [minimalist, c, client, redi, 1, 2]\\n1610    [url, rout, librari, io, simpl, block, base, api]\\n1611    [lightweight, graphic, librari, provid, 2d, dr...\\n1612                [easi, fast, way, creat, python, gui]\\n1613                                  [web, api, toolkit]\\n1614    [flutter, window, maco, linux, base, flutter, ...\\n1615                                   [depend, tool, go]\\n1616              [develop, friendli, asynchroni, django]\\n1617                                        [openvr, sdk]\\n1618                [provid, packet, process, capabl, go]\\n1619    [headless, cm, automat, json, api, featur, aut...\\n1620                [offici, zend, framework, repositori]\\n1621    [super, fast, build, tool, android, altern, in...\\n1622                                   [rainbow, unicorn]\\n1623            [interact, prompt, command, line, applic]\\n1624    [cloudmapp, help, analyz, amazon, web, servic,...\\n1625    [simpl, librari, uni, direct, dataflow, applic...\\n1626    [immut, data, structur, javascript, backward, ...\\n1627                           [http, proxi, librari, go]\\n1628    [比libev, libuv更易用的网络库, c, c, network, librari,...\\n1629    [simpl, exten, administr, interfac, framework,...\\n1630                                  [mirror, go, mobil]\\n1631      [call, stack, profil, python, show, code, slow]\\n1632    [page, menu, control, built, view, control, pl...\\n1633    [march, 2019, repositori, read, salesforc, arc...\\n1634                  [paramet, execut, analyz, notebook]\\n1635    [openbla, optim, bla, librari, base, gotoblas2...\\n1636    [triton, infer, server, provid, optim, cloud, ...\\n1637    [flutter, galleri, resourc, help, develop, eva...\\n1638    [scikit, learn, compat, neural, network, libra...\\n1639    [easi, fast, book, searcher, creat, search, pr...\\n1640    [pandoc, latex, templat, convert, markdown, fi...\\n1641               [userspac, wireguard, implement, rust]\\n1642    [yii2, php, fecmal, fecshop, core, code, use, ...\\n1643    [pika, nosql, compat, redi, develop, qihoo, in...\\n1644                                     [use, go, modul]\\n1645    [librari, enabl, dynam, rebind, symbol, mach, ...\\n1646    [weaviat, open, sourc, vector, databa, store, ...\\n1647    [fawk, privaci, preserv, tool, facial, recogni...\\n1648                       [yii, php, framework, 1, 1, x]\\n1649                              [make, fortun, quietli]\\n1650    [gpuimag, 2, bsd, licen, swift, framework, gpu...\\n1651     [emul, rapid, prototyp, softwar, defin, network]\\n1652    [modern, desktop, rss, reader, built, electron...\\n1653                               [better, python, repl]\\n1654    [drop, replac, django, admin, come, lot, goodi...\\n1655                                         [go, oauth2]\\n1656                            [content, editor, github]\\n1657                                       [code, manual]\\n1658    [pytorch, implement, semant, segment, scene, p...\\n1659    [den, connect, convolut, network, cvpr, 2017, ...\\n1660    [android, compon, present, dismiss, view, bott...\\n1661                        [mock, code, autogen, golang]\\n1662                    [softvc, vit, sing, voic, conver]\\n1663               [fast, cross, platform, packag, manag]\\n1664    [librari, build, websocket, server, client, py...\\n1665    [legaci, repo, repositori, mainten, legaci, li...\\n1666           [experi, go, cross, platform, ui, librari]\\n1667    [connect, devic, singl, secur, privat, wiregua...\\n1668    [tacotron, 2, pytorch, implement, faster, real...\\n1669          [open, sourc, exten, platform, servic, paa]\\n1670           [libsvm, librari, support, vector, machin]\\n1671                                               [百度脑图]\\n1672                    [javascript, interview, question]\\n1673             [gener, css, neumorph, soft, ui, design]\\n1674    [go, packag, uuid, base, rfc, 4122, dce, 1, 1,...\\n1675    [high, level, librari, help, train, evalu, neu...\\n1676                       [onlin, machin, learn, python]\\n1677    [haskel, librari, simplifi, access, remot, dat...\\n1678                                      [linter, prose]\\n1679                      [interact, diagram, rx, observ]\\n1680    [lwjgl, java, librari, enabl, cross, platform,...\\n1681    [enterpri, grade, continu, deliveri, devop, au...\\n1682        [creat, modular, elm, code, scale, nice, app]\\n1683                                     [simpl, bdd, io]\\n1684    [simpl, rapid, applic, develop, framework, bui...\\n1685               [arrayfir, gener, purpo, gpu, librari]\\n1686         [common, librari, write, go, servic, applic]\\n1687    [dataset, code, 2016, paper, learn, drive, simul]\\n1688                    [deep, learn, gpu, train, system]\\n1689     [conci, grammar, interact, graphic, built, vega]\\n1690    [wafw00f, allow, one, identifi, fingerprint, w...\\n1691                                    [30天掌握量化交易, 持续更新]\\n1692        [consol, base, glsl, sandbox, 2d, 3d, shader]\\n1693                      [base64, implement, javascript]\\n1694    [window, gui, autom, python, base, text, prope...\\n1695                    [add, sqlalchemi, support, flask]\\n1696            [mirror, linter, go, sourc, code, deprec]\\n1697    [appr, tc, shutdown, plea, use, dockerfil, run...\\n1698    [gitpython, python, librari, use, interact, gi...\\n1699    [light, plugabl, javascript, librari, integr, ...\\n1700                           [maintain, configur, file]\\n1701    [pre, grid, respon, layout, toolkit, sass, dep...\\n1702                     [pretti, sweet, vulner, scanner]\\n1703    [littl, fail, safe, filesystem, design, microc...\\n1704                          [golang, go, bind, discord]\\n1705              [model, interpret, understand, pytorch]\\n1706    [graphic, user, interfac, creat, run, scratch,...\\n1707    [leav, refresh, program, languag, front, end, ...\\n1708    [open, sourc, email, campaign, manag, tool, no...\\n1709                [cookiecutt, templat, python, packag]\\n1710    [lightweight, scriptabl, browser, servic, http...\\n1711                             [drop, file, devic, lan]\\n1712                                    [book, go语言圣经中文版]\\n1713    [framework, implement, strict, json, parser, g...\\n1714                 [astronomi, astrophi, core, librari]\\n1715                        [ip, address, lookup, servic]\\n1716             [optimi, linux, system, perform, demand]\\n1717          [open, sourc, stm32, mcu, program, toolset]\\n1718                             [odin, program, languag]\\n1719    [tini, http, server, engin, written, swift, pr...\\n1720                                                   []\\n1721       [lektor, static, file, content, manag, system]\\n1722    [static, sourc, code, analysi, tool, improv, q...\\n1723                       [python, tool, geograph, data]\\n1724    [ultim, python, librari, build, oauth, openid,...\\n1725    [code, hyperparamet, paper, gener, adversari, ...\\n1726    [lavi, one, stop, librari, languag, vision, in...\\n1727    [wiki, collect, red, team, infrastructur, hard...\\n1728    [rocksdb, leveldb, inspir, key, valu, databa, go]\\n1729                             [c, 11, librari, serial]\\n1730    [offici, repositori, vul, scan, 15000, poc, 23...\\n1731    [cross, platform, termin, base, music, player,...\\n1732    [higher, level, wrapper, around, github, api, ...\\n1733              [javascript, html5, ca, nva, man, ipul]\\n1734    [build, gui, python, program, javascript, html...\\n1735                  [applescript, iterm2, alfr, integr]\\n1736    [nano, digit, currenc, ticker, xno, currenc, s...\\n1737    [static, site, gener, design, use, python, dja...\\n1738                     [packag, compar, go, valu, test]\\n1739                                       [pokémon, api]\\n1740             [python, nativ, os, nativ, gui, toolkit]\\n1741    [chameleon, port, appl, uikit, io, minim, rela...\\n1742                      [consol, progress, bar, golang]\\n1743    [learn, network, sysctl, variabl, fit, linux, ...\\n1744                        [auto, gener, googl, api, go]\\n1745              [window, exploit, suggest, next, gener]\\n1746    [shim, insul, app, spec, chang, prefix, differ...\\n1747                     [phish, tool, inform, collector]\\n1748     [automat, gener, rust, ffi, bind, c, c, librari]\\n1749                            [continu, archiv, postgr]\\n1750    [platform, reason, system, reinforc, learn, co...\\n1751     [complet, 3, game, develop, suit, written, java]\\n1752                     [async, databa, support, python]\\n1753    [aw, exploit, framework, design, test, secur, ...\\n1754      [fast, index, regexp, search, larg, file, tree]\\n1755      [webrtc, ortc, implement, python, use, asyncio]\\n1756                           [function, program, swift]\\n1757    [php, client, librari, recaptcha, free, servic...\\n1758    [creat, beauti, public, qualiti, book, documen...\\n1759                        [pyzmq, python, bind, zeromq]\\n1760              [arbitrari, kext, process, patch, maco]\\n1761    [model, data, loader, abstract, languag, proce...\\n1762    [core, ml, tool, contain, support, tool, core,...\\n1763                  [manipul, analysi, geometr, object]\\n1764    [modern, c, network, librari, develop, high, p...\\n1765             [non, valid, sql, parser, modul, python]\\n1766    [pure, python, rabbitmq, amqp, 0, 9, 1, client...\\n1767                           [comput, python, function]\\n1768    [gener, post, process, injector, game, video, ...\\n1769     [nativ, maco, hd, audio, offici, support, codec]\\n1770                   [wasm, power, jupyt, run, browser]\\n1771    [high, perform, microserv, framework, golang, ...\\n1772    [openthread, relea, googl, open, sourc, implem...\\n1773                  [numpi, panda, interfac, big, data]\\n1774    [simpl, cross, platform, color, termin, text, ...\\n1775                      [go, project, design, document]\\n1776    [patch, pe, elf, mach, binari, shellcod, new, ...\\n1777                                                   []\\n1778    [codegen, open, sourc, model, program, synthes...\\n1779         [legaci, code, v2ex, run, googl, app, engin]\\n1780                    [spring, io, site, refer, applic]\\n1781                     [lombok, plugin, intellij, idea]\\n1782          [seamlessli, add, swagger, webapi, project]\\n1783                     [fanci, practic, function, tool]\\n1784               [tilemil, modern, map, design, studio]\\n1785                                 [simpl, tag, django]\\n1786    [variou, patch, necessari, certain, ati, amd, ...\\n1787                            [deepfak, offen, toolkit]\\n1788    [intel, hardwar, accel, execut, manag, intel, ...\\n1789    [hackabl, statusbar, tmux, consist, dynam, bea...\\n1790                            [organ, github, star, ea]\\n1791                         [django, base, shop, system]\\n1792        [recurr, neural, network, audio, noi, reduct]\\n1793                  [interact, continu, python, profil]\\n1794                          [easi, ssh, server, golang]\\n1795        [combin, minifi, serv, css, javascript, file]\\n1796    [simpl, effici, tool, parallel, panda, oper, a...\\n1797        [quickli, accur, render, even, largest, data]\\n1798    [core, xmonad, small, function, icccm, complia...\\n1799    [modern, intellij, plugin, learn, shortcut, bu...\\n1800        [redteam, oper, platform, webui, 图形化红队行动辅助平台]\\n1801                            [rc, file, dotfil, manag]\\n1802                                             [shōgun]\\n1803                                                   []\\n1804    [merlion, machin, learn, framework, time, seri...\\n1805    [chrome, dev, editor, develop, tool, build, ap...\\n1806            [open, sourc, implement, actor, model, c]\\n1807        [high, perform, runtim, data, analyt, applic]\\n1808                 [c, tensor, broadcast, lazi, comput]\\n1809               [scalabl, postgresql, connect, pooler]\\n1810    [articl, publish, platform, automat, distribut...\\n1811              [eleg, modern, git, repositori, viewer]\\n1812                 [scrapi, splash, javascript, integr]\\n1813      [collect, use, packag, maintain, flutter, team]\\n1814     [ridicul, uncompl, maco, python, statusbar, app]\\n1815    [django, rever, exten, django, web, framework,...\\n1816    [siam, triplet, network, onlin, pair, triplet,...\\n1817                                [baidu, file, system]\\n1818                                                   []\\n1819                          [social, auth, made, simpl]\\n1820                 [toolkit, network, exten, framework]\\n1821                  [depend, inject, framework, python]\\n1822    [high, perform, java, apm, power, asm, tri, te...\\n1823                [simpl, tabl, sort, filter, angularj]\\n1824    [open, sourc, react, prosemirror, base, markdo...\\n1825    [deepvari, analysi, pipelin, use, deep, neural...\\n1826    [core, audio, base, stream, audio, player, io,...\\n1827                  [interact, widget, jupyt, notebook]\\n1828            [core, plot, sourc, code, exampl, applic]\\n1829    [hidden, markov, model, python, scikit, learn,...\\n1830          [defectdojo, devsecop, vulner, manag, tool]\\n1831       [warn, project, current, develop, see, bellow]\\n1832                                 [elm, core, librari]\\n1833        [html5, web, socket, implement, power, flash]\\n1834             [gener, json, schema, typescript, sourc]\\n1835        [www, sql, design, onlin, sql, diagram, tool]\\n1836        [jupyterlab, desktop, applic, base, electron]\\n1837    [autom, intern, window, penetrationtest, ad, s...\\n1838    [turbopilot, open, sourc, larg, languag, model...\\n1839           [framework, 3d, geospati, visual, browser]\\n1840    [python, clone, spark, mapreduc, alik, framewo...\\n1841                                             [premak]\\n1842         [high, level, app, dashboard, solut, python]\\n1843    [lightweight, high, perform, imag, storag, pro...\\n1844        [mirror, go, supplementari, network, librari]\\n1845    [learn, design, document, codeba, put, breadcr...\\n1846                [locat, intellig, data, visual, tool]\\n1847    [safe, pass, trust, data, untrust, environ, back]\\n1848    [open, sourc, web, base, viewer, zoomabl, imag...\\n1849              [web, trace, framework, librari, exten]\\n1850                                [chrome, devtool, ui]\\n1851    [turn, go, program, applianc, run, raspberri, ...\\n1852    [mirror, go, supplementari, cryptographi, libr...\\n1853    [telegram, bot, api, php, sdk, let, build, tel...\\n1854               [django, social, authent, made, simpl]\\n1855                [servic, daemon, run, scrapi, spider]\\n1856          [rime, input, method, engin, core, librari]\\n1857     [splinter, python, test, framework, web, applic]\\n1858                             [execut, javascript, go]\\n1859    [chart_with_upwards_trend, 韭菜盒子, vscode, 里也可以看...\\n1860                    [toolkit, industri, topic, model]\\n1861             [open, sourc, framework, machin, vision]\\n1862                                  [obfusc, go, build]\\n1863                                 [social, share, url]\\n1864    [vecti, let, build, respon, dynam, web, fronte...\\n1865                 [jupyt, kernel, c, program, languag]\\n1866    [gener, x86, x64, amd64, x86, posit, independ,...\\n1867    [cosmo, oper, system, construct, kit, build, o...\\n1868    [gflag, packag, contain, c, librari, implement...\\n1869        [eta, program, languag, dialect, haskel, jvm]\\n1870    [gener, spec, compliant, thorough, implement, ...\\n1871    [sequenti, model, base, optim, scipi, optim, i...\\n1872    [glue, simpl, command, line, tool, gener, css,...\\n1873            [repositori, global, open, address, data]\\n1874    [power, flexibl, web, base, server, manag, con...\\n1875                      [script, loader, condit, build]\\n1876                            [messag, librari, python]\\n1877                        [grace, process, restart, go]\\n1878            [unoffici, client, librari, googl, music]\\n1879                           [chrome, app, android, io]\\n1880                [fast, memori, effici, exact, attent]\\n1881         [swift, epub, reader, parser, framework, io]\\n1882               [librari, geographi, visual, 地理信息可视化库]\\n1883    [packag, gorilla, session, provid, cooki, file...\\n1884                [go, 语言中文网, golang中文社区, go语言学习园地, 源码]\\n1885    [top2vec, learn, jointli, emb, topic, document...\\n1886    [camera, microphon, stream, librari, via, rtmp...\\n1887                             [materi, design, django]\\n1888                           [pure, python, vim, clone]\\n1889                                    [muse, powershel]\\n1890    [gpuimag, 3, bsd, licen, swift, framework, gpu...\\n1891                      [sourc, code, upcom, qml, book]\\n1892    [highli, exten, php, markdown, parser, fulli, ...\\n1893    [convert, imag, pure, css, recreat, imag, use,...\\n1894                         [django, model, mixin, util]\\n1895                       [access, html5, video, player]\\n1896    [exten, pack, apach, echart, provid, globe, vi...\\n1897                     [repositori, plot, visual, data]\\n1898                             [holoview, data, visual]\\n1899                    [engin, haskel, ide, integr, ide]\\n1900    [packag, gocql, implement, fast, robust, cassa...\\n1901         [high, perform, implement, hdbscan, cluster]\\n1902               [deep, learn, toolkit, comput, vision]\\n1903    [stan, develop, repositori, master, branch, co...\\n1904                        [webassembl, virtual, machin]\\n1905    [fast, lightweight, 0, depend, pluggabl, tl, i...\\n1906                                                   []\\n1907           [i2p, end, end, encrypt, anonym, internet]\\n1908    [grid, view, iphon, ipad, design, look, simila...\\n1909                  [go, command, line, option, parser]\\n1910               [http, django, storag, readthedoc, io]\\n1911    [window, tile, win, tile, window, manag, writt...\\n1912    [creat, nativ, mac, applic, command, line, scr...\\n1913      [distribut, mutual, exclu, lock, use, redi, go]\\n1914                     [polyfil, html, dialog, element]\\n1915           [mergo, merg, go, struct, map, sinc, 2013]\\n1916    [machin, translat, read, list, maintain, tsing...\\n1917                                    [stricter, gofmt]\\n1918      [yubikey, agent, seamless, ssh, agent, yubikey]\\n1919              [flutter, map, widget, inspir, leaflet]\\n1920    [lio, sam, tightli, coupl, lidar, inerti, odom...\\n1921                                                   []\\n1922    [orchard, free, open, sourc, commun, focu, con...\\n1923                            [collect, alfr, workflow]\\n1924        [creat, isomorph, react, app, less, 5, minut]\\n1925              [handlebar, view, engin, express, suck]\\n1926                                                   []\\n1927                            [带有详细注释的, redi, 2, 6, 源码]\\n1928    [web, runtim, built, chrome, project, current,...\\n1929    [natur, languag, decathlon, multitask, challen...\\n1930     [qt, node, editor, dataflow, program, framework]\\n1931                            [gener, x86, assembl, go]\\n1932                       [bootstrap, 3, integr, django]\\n1933    [run, code, cloud, technolog, advanc, feel, li...\\n1934    [smtp4dev, fake, smtp, email, server, develop,...\\n1935                       [interact, go, program, jupyt]\\n1936          [cdn, run, build, cdn, scratch, learn, cdn]\\n1937       [scienc, fiction, desktop, run, linux, awesom]\\n1938    [interact, redi, termin, client, redi, autocom...\\n1939      [protocol, secur, client, server, connect, udp]\\n1940          [tool, quickli, measur, size, php, project]\\n1941                                   [core, ro, packag]\\n1942    [audio, video, cast, system, support, custom, ...\\n1943    [pytorch, code, blip, bootstrap, languag, imag...\\n1944               [python, parser, human, readabl, date]\\n1945    [redey, visual, analyt, tool, support, red, bl...\\n1946    [project, flogo, open, sourc, ecosystem, opini...\\n1947                    [d3, render, matplotlib, graphic]\\n1948    [fast, yet, power, python, markdown, parser, r...\\n1949    [network, librari, client, server, game, writt...\\n1950               [copi, past, detector, cpd, php, code]\\n1951    [tophat, small, self, contain, pure, go, web, ...\\n1952                       [neural, network, modul, redi]\\n1953                    [django, admin, ckeditor, integr]\\n1954            [unbound, valid, recur, cach, dn, resolv]\\n1955                         [bluetooth, plugin, flutter]\\n1956             [intel, implicit, spmd, program, compil]\\n1957    [mne, magnetoencephalographi, meg, electroence...\\n1958    [go, packag, make, lightweight, ascii, line, g...\\n1959    [tool, use, creat, offici, raspberri, pi, os, ...\\n1960    [librari, sklearn, compat, categor, variabl, e...\\n1961    [roguelik, toolkit, javascript, cool, dungeon,...\\n1962                   [shell, script, clone, boot, disk]\\n1963    [reflect, dll, inject, librari, inject, techni...\\n1964    [yslow, analyz, web, page, suggest, way, impro...\\n1965    [gener, gener, activ, stream, action, site, us...\\n1966                                 [金庸群侠传, c, 复刻版, 已完工]\\n1967    [fulli, go, userland, linux, bootload, u, root...\\n1968    [javascript, typescript, implement, complet, s...\\n1969    [transmogrifai, pronounc, trăn, mŏgˈrə, fī, au...\\n1970    [phpmd, spin, project, php, depend, aim, php, ...\\n1971    [basic, util, pytorch, natur, languag, process...\\n1972               [go, support, googl, protocol, buffer]\\n1973     [java, epub, reader, parser, framework, android]\\n1974                              [biscuit, research, os]\\n1975    [transmit, data, sound, use, web, audio, javas...\\n1976    [art, qt, widget, base, implement, materi, des...\\n1977                                    [tutori, vim, go]\\n1978                                       [code, exampl]\\n1979    [core, data, editor, let, easili, view, edit, ...\\n1980    [goka, compact, yet, power, distribut, stream,...\\n1981    [cross, platform, gui, plist, editor, written,...\\n1982           [distribut, self, replic, program, python]\\n1983       [autom, imag, process, django, current, v4, 0]\\n1984    [window, kernel, mode, driver, emul, well, kno...\\n1985    [net, ipv4, ipv6, machin, middl, tool, penetr,...\\n1986    [gryffin, larg, scale, web, secur, scan, platf...\\n1987       [flow, base, gener, network, speech, synthesi]\\n1988    [simpl, yet, power, realli, extend, applic, ma...\\n1989    [unoffici, github, card, card, github, profil,...\\n1990    [implement, microsoft, fluent, design, system,...\\n1991    [red, team, siem, tool, red, team, use, track,...\\n1992        [ramen, tasti, haskel, front, end, framework]\\n1993       [intel, perform, counter, monitor, intel, pcm]\\n1994        [univ, grid, map, librari, mobil, robot, map]\\n1995    [sprintf, js, complet, open, sourc, javascript...\\n1996    [ja3, standard, creat, ssl, client, fingerprin...\\n1997              [privileg, escal, enum, script, window]\\n1998                        [git, commit, fixup, automat]\\n1999    [flutter, packag, use, updat, widget, tree, dy...\\n2000           [open, sourc, time, seri, librari, python]\\n2001                 [polit, slim, concurr, web, crawler]\\n2002                            [file, system, notif, go]\\n2003                                          [rubi, ffi]\\n2004    [sourc, code, arm, side, librari, interfac, ra...\\n2005    [python, librari, implement, graphql, server, ...\\n2006                      [offici, sourc, rdkit, librari]\\n2007           [django, channel, http, websocket, server]\\n2008    [cloudgoat, rhino, secur, lab, vulner, design,...\\n2009    [openai管理界面, 聚合了openai的所有接口进行界面操作, 所有模型, 图片, 音...\\n2010               [go, tool, modifi, struct, field, tag]\\n2011                  [server, client, code, elm, websit]\\n2012    [gongsolut, wpf, dragdrop, librari, drag, n, d...\\n2013                                      [go, bind, gtk]\\n2014                               [interact, shell, git]\\n2015                                     [sdl2, bind, go]\\n2016                 [common, librari, data, structur, c]\\n2017                           [phish, campaign, toolkit]\\n2018    [lego, loam, lightweight, ground, optim, lidar...\\n2019    [django, app, creat, automat, web, ui, python,...\\n2020                    [simplifi, packag, python, modul]\\n2021    [packag, script, mingw, w64, target, build, ms...\\n2022    [starlark, go, starlark, configur, languag, im...\\n2023      [code, notebook, exampl, practic, busi, python]\\n2024       [lstm, qrnn, languag, model, toolkit, pytorch]\\n2025    [search, engin, hold, 100, trillion, line, log...\\n2026    [readi, use, data, scienc, templat, organ, too...\\n2027          [self, host, event, manag, tool, nonprofit]\\n2028    [kube2iam, provid, differ, aw, iam, role, pod,...\\n2029    [univ, plug, system, extend, anyth, webassembl...\\n2030                      [reusabl, gener, mixin, django]\\n2031                                                   []\\n2032    [portfolio, optim, quantit, strateg, asset, al...\\n2033                 [ahead, time, compil, numer, kernel]\\n2034    [theo, abstract, transform, format, design, to...\\n2035                            [internet, scale, databa]\\n2036    [pytorch, torchscript, fx, compil, nvidia, gpu...\\n2037                             [laravel, health, panel]\\n2038    [rdflib, python, librari, work, rdf, simpl, ye...\\n2039          [event, driven, concurr, framework, python]\\n2040                                  [effect, go, 中英双语版]\\n2041                          [flutter, plugin, intellij]\\n2042                        [properti, base, test, scala]\\n2043                          [php, mutat, test, librari]\\n2044        [advanc, shade, languag, product, gi, render]\\n2045    [hdf5, python, h5pi, packag, python, interfac,...\\n2046                      [python, bind, ffmpeg, librari]\\n2047                          [easi, usb, access, python]\\n2048    [richeditorview, simpl, modular, drop, uiview,...\\n2049    [sweat, rewrit, coffeescript, compil, proper, ...\\n2050               [commit, branch, workdir, explor, git]\\n2051    [deprec, catapult, github, plea, instead, use,...\\n2052    [gener, librari, conci, unambigu, url, safe, u...\\n2053    [store, model, histori, view, revert, chang, a...\\n2054                             [fast, cpp, csv, parser]\\n2055    [pygraphistri, python, librari, quickli, load,...\\n2056               [gaussian, process, framework, python]\\n2057    [slick, orm, cach, automat, granular, event, d...\\n2058    [deconz, rest, api, plugin, control, zigb, devic]\\n2059           [yolo, ro, real, time, object, detect, ro]\\n2060               [rex, runner, game, extract, chromium]\\n2061                        [termin, io, multipl, window]\\n2062              [simpl, vaultless, password, manag, go]\\n2063                      [go, implement, avalanch, node]\\n2064               [python, social, auth, applic, django]\\n2065    [embedd, uniti, game, engin, view, flutter, ad...\\n2066    [c, datafram, statist, financ, ml, analysi, mo...\\n2067    [lightweight, python, librari, ad, real, time,...\\n2068                    [golang, oauth2, server, librari]\\n2069                         [directori, bookmark, shell]\\n2070            [toggl, desktop, app, window, mac, linux]\\n2071    [cli, sqlite, databa, auto, complet, syntax, h...\\n2072                             [volumetr, light, uniti]\\n2073                                        [meme, gener]\\n2074                       [onlin, mysql, schema, migrat]\\n2075            [java, appl, push, notif, servic, provid]\\n2076                                       [dask, tutori]\\n2077            [identifi, byte, microsoft, defend, flag]\\n2078    [mozc, japan, input, method, editor, design, m...\\n2079    [condit, transform, languag, model, control, g...\\n2080                                                   []\\n2081    [parallel, sne, implement, python, torch, wrap...\\n2082                [learn, fpga, yosi, nextpnr, risc, v]\\n2083                               [golang, log, librari]\\n2084    [jit, assembl, x86, ia, 32, x64, amd64, x86, 6...\\n2085    [redi, protocol, compat, nosql, support, multi...\\n2086    [contribut, voluptu, despit, name, python, dat...\\n2087    [tcp, udp, client, server, librari, java, base...\\n2088    [painterengin, applic, game, engin, softwar, r...\\n2089    [memo, open, sourc, program, orient, space, re...\\n2090    [linear, algebra, eigenvalu, fft, bessel, elli...\\n2091    [integr, layer, request, selenium, autom, web,...\\n2092        [controlplan, context, sensit, comput, os, x]\\n2093    [gaa, open, sourc, program, design, fulli, aut...\\n2094    [microsoft, sql, server, driver, written, go, ...\\n2095                    [sourc, code, djangoproject, com]\\n2096                                 [nvidia, physx, sdk]\\n2097                                         [async, orm]\\n2098      [lzfse, compress, librari, command, line, tool]\\n2099                                                   []\\n2100    [high, perform, c, librari, multiphi, multibod...\\n2101    [python, librari, interact, topic, model, visu...\\n2102    [cloudsplain, aw, iam, secur, assess, tool, id...\\n2103    [c, wrapper, simd, intrin, parallel, optim, ma...\\n2104                          [laravel, countri, currenc]\\n2105    [exten, php, reflect, api, static, code, scan,...\\n2106                      [modular, decentrali, honeypot]\\n2107                              [peer, authent, webrtc]\\n2108            [quic, multiplex, stream, transport, udp]\\n2109                          [compound, chain, protocol]\\n2110    [go, querystr, go, librari, encod, struct, url...\\n2111                               [integr, ipython, pdb]\\n2112    [orbit, virtual, actor, framework, build, dist...\\n2113    [napari, fast, interact, multi, dimens, imag, ...\\n2114                          [code, webid, commun, edit]\\n2115    [raven, legaci, python, client, sentri, getsen...\\n2116                      [materi, scikit, learn, tutori]\\n2117                             [colour, scienc, python]\\n2118    [steam_locomot, flatten, unflatten, nest, java...\\n2119                  [nvidia, semant, segment, monorepo]\\n2120    [modern, prolog, implement, written, mostli, r...\\n2121    [bini, tini, high, perform, php, framework, we...\\n2122    [cherrypi, python, object, orient, http, frame...\\n2123                                  [thumbnail, django]\\n2124                  [mirror, plea, send, pull, request]\\n2125    [tool, support, convert, python, project, stan...\\n2126                               [code, snippet, share]\\n2127    [explain, analyz, visual, nlp, languag, model,...\\n2128    [implement, event, system, signal, slot, inter...\\n2129    [read, write, process, imag, wide, varieti, fi...\\n2130    [open, sourc, larg, vocabulari, continu, speec...\\n2131       [simpl, tun, tap, librari, written, nativ, go]\\n2132                              [python, product, zynq]\\n2133    [sciter, js, sciter, quickj, board, instead, t...\\n2134     [commun, base, python, librari, quantit, econom]\\n2135                                    [fluent, nhibern]\\n2136    [accur, separ, url, subdomain, domain, public,...\\n2137           [map, reduc, framework, distribut, comput]\\n2138    [offen, web, test, framework, owtf, framework,...\\n2139    [haskel, web, framework, inspir, rubi, sinatra...\\n2140    [seelog, nativ, go, log, librari, provid, flex...\\n2141    [nativ, zookeep, client, go, project, longer, ...\\n2142         [discord, termin, client, never, knew, want]\\n2143    [simpl, blog, system, implement, spring, boot,...\\n2144          [zap, mobil, robot, program, toolkit, mrpt]\\n2145                        [make, easi, merg, map, narr]\\n2146              [tool, manag, rack, app, develop, puma]\\n2147             [easi, way, use, socket, appl, platform]\\n2148    [sane, flexibl, openapi, 3, schema, gener, dja...\\n2149    [go, http, request, router, web, framework, be...\\n2150    [twelvemonkey, imageio, addit, plug, in, exten...\\n2151    [packag, provid, easi, way, add, shimmer, effe...\\n2152                 [yii, 2, 0, advanc, applic, templat]\\n2153    [low, level, graphic, librari, llgl, thin, abs...\\n2154    [opensouc, risc, v, cpu, core, implement, veri...\\n2155    [display, inform, file, differ, file, format, ...\\n2156               [librari, field, awar, factor, machin]\\n2157    [imagepickercontrol, live, filter, radial, blu...\\n2158    [sharpsploit, net, post, exploit, librari, wri...\\n2159             [archiv, soon, yahoo, mojito, framework]\\n2160                    [psr, 7, http, messag, implement]\\n2161        [python, mud, mux, mush, mu, develop, system]\\n2162     [creat, live, style, guid, use, markdown, react]\\n2163                   [github, notif, alik, app, django]\\n2164    [command, line, kanban, board, task, manag, su...\\n2165    [librari, make, work, bluetooth, le, android, ...\\n2166    [deprec, framework, agnost, authent, author, s...\\n2167                      [krypton, winform, compon, net]\\n2168    [close, experi, mobil, app, elm, use, react, n...\\n2169    [autom, censorship, eva, client, side, server,...\\n2170                          [fastdf, java, client, sdk]\\n2171                                 [dynam, django, set]\\n2172        [mix, gan, implement, includ, progress, grow]\\n2173     [gopi, gener, cpython, exten, modul, go, packag]\\n2174    [xorm是一个简单而强大的go语言orm库, 通过它可以使数据库操作非常简便, 本库是基于...\\n2175                                   [smc, emul, layer]\\n2176    [sourc, repo, at_client, at_client_mobil, pack...\\n2177                [gpu, accel, sne, cuda, python, bind]\\n2178        [fast, lightweight, html, css, render, engin]\\n2179    [steal, signatur, make, one, invalid, signatur...\\n2180    [new, ugrep, v3, 11, ultra, fast, grep, intera...\\n2181               [skeleton, applic, zend, mvc, project]\\n2182     [reorgan, tabl, postgresql, databa, minim, lock]\\n2183                      [mirror, version, go, prototyp]\\n2184      [compo, beauti, command, line, interfac, swift]\\n2185    [c1000k, comet, push, server, built, c, web, m...\\n2186    [tunnel, websocket, protocol, static, binari, ...\\n2187    [transmit, data, sound, includ, binari, soundc...\\n2188                [two, factor, authent, command, line]\\n2189    [cmake, toolchain, file, io, maco, watcho, tvo...\\n2190    [pure, python, interfac, raspberri, pi, camera...\\n2191    [valitron, simpl, eleg, stand, alon, valid, li...\\n2192             [postgresql, metric, monitor, dashboard]\\n2193                      [corelan, repositori, mona, py]\\n2194                               [scala, kernel, jupyt]\\n2195                  [nsfw, aka, porn, detector, coreml]\\n2196    [build, multi, config, webpack, project, paral...\\n2197               [old, celeri, integr, project, django]\\n2198      [color, manag, framework, visual, effect, anim]\\n2199    [proxi, awar, c2, framework, use, aid, red, te...\\n2200    [serverpod, next, gener, app, web, server, exp...\\n2201    [lightweight, python, librari, simul, chine, h...\\n2202                            [jupyt, notebook, conver]\\n2203    [open, sourc, freerto, base, esp8266, softwar,...\\n2204                                   [mirror, tour, go]\\n2205                                [file, archiv, manag]\\n2206         [powershel, runspac, post, exploit, toolkit]\\n2207                [python, packag, time, seri, classif]\\n2208      [eleg, librari, stub, http, request, ea, swift]\\n2209    [code, assist, jupyterlab, code, navig, hover,...\\n2210                    [fetish, theme, program, languag]\\n2211                     [webgl, 2, lesson, start, basic]\\n2212       [turn, repositori, jupyt, enabl, docker, imag]\\n2213            [javascript, version, gpac, mp4box, tool]\\n2214    [onlin, dart, editor, support, consol, web, fl...\\n2215                                                   []\\n2216      [easi, use, php, class, access, instagram, api]\\n2217    [legaci, uniti, project, help, build, pokémon,...\\n2218    [lightweight, robust, scheme, like, lisp, impl...\\n2219                     [distribut, task, schedul, dask]\\n2220    [pyglet, cross, platform, window, multimedia, ...\\n2221      [graphviz, dot, render, anim, transit, use, d3]\\n2222            [use, http, github, com, leptur, authlib]\\n2223              [ghc, base, haskel, javascript, compil]\\n2224                                  [window, paravirtu]\\n2225         [framework, agnost, authent, author, system]\\n2226    [flexibl, python, configur, system, last, one,...\\n2227                    [standalon, web, client, scratch]\\n2228    [origin, medium, com, inspir, imag, zoom, libr...\\n2229      [singl, cell, analysi, python, scale, 1m, cell]\\n2230       [apnsphp, appl, push, notif, feedback, provid]\\n2231      [sync, data, persist, engin, like, etl, stodgi]\\n2232                                 [c, associ, contain]\\n2233    [coff, tool, gener, requir, txt, python, proje...\\n2234                            [cooper, primit, cuda, c]\\n2235                     [gener, util, aid, serial, json]\\n2236                       [high, perform, java, reflect]\\n2237    [django, applic, manag, ticket, intern, helpde...\\n2238                                       [useragent解析库]\\n2239    [self, valid, secur, smart, model, laravel, el...\\n2240              [termin, multiplex, like, tmux, python]\\n2241                          [matplotlib, jupyt, integr]\\n2242    [bee, swarm, client, implement, go, basic, bui...\\n2243    [research, languag, array, process, haskel, ml...\\n2244         [tool, better, align, logo, center, contain]\\n2245        [pytorch, domain, librari, recommend, system]\\n2246                                      [go, 语言官方教程中文版]\\n2247      [flexibl, form, valid, render, librari, python]\\n2248     [snappi, compress, format, go, program, languag]\\n2249     [hyperdex, scalabl, searchabl, key, valu, store]\\n2250            [sm, forward, robot, run, android, devic]\\n2251                    [qutip, quantum, toolbox, python]\\n2252    [packag, throttl, implement, rate, limit, acce...\\n2253                                   [深度学习与计算机视觉, 配套代码]\\n2254                                  [go, bind, glfw, 3]\\n2255                             [perform, tool, flutter]\\n2256    [creat, nativ, mobil, app, javascript, typescr...\\n2257    [python, modul, cross, platform, clipboard, fu...\\n2258           [connect, fossasia, chrome, exten, rocket]\\n2259    [iter, closest, point, icp, librari, 2d, 3d, m...\\n2260    [simpl, integr, flask, wtform, includ, csrf, f...\\n2261    [vfsstream, stream, wrapper, virtual, file, sy...\\n2262    [javascript, librari, gener, human, readabl, s...\\n2263    [sabr, dav, caldav, carddav, webdav, framework...\\n2264                        [simpl, patch, plugin, compo]\\n2265    [snake, trigger, happi, bu, bu, internet, servic]\\n2266    [rust, deriv, base, argument, par, optim, code...\\n2267    [webloop, scriptabl, headless, webkit, go, api...\\n2268                   [use, databa, url, django, applic]\\n2269                     [firew, packag, laravel, applic]\\n2270     [featur, engin, packag, sklearn, like, function]\\n2271                     [add, featur, entiti, framework]\\n2272    [simpl, power, discord, music, bot, built, ful...\\n2273    [watcher, go, packag, watch, file, directori, ...\\n2274    [python, control, system, librari, python, mod...\\n2275            [nanobind, tini, effici, c, python, bind]\\n2276    [sourc, code, wsrv, nl, formerli, imag, weserv...\\n2277                     [mongrel2, web, server, project]\\n2278                                [跟上, java, 8, 视频课程源码]\\n2279    [cocotb, coroutin, base, cosimul, librari, wri...\\n2280                 [sonicboom, berkeley, order, machin]\\n2281                            [simpl, prebuilt, applic]\\n2282          [nativ, io, video, chat, app, base, webrtc]\\n2283    [relay, inspir, librari, base, promi, instead,...\\n2284     [github, com, cznic, ql, move, modernc, org, ql]\\n2285    [high, qualiti, ui, control, complement, core,...\\n2286       [access, usb, bluetooth, hid, devic, node, js]\\n2287    [check, expir, domain, categor, reput, archiv,...\\n2288                            [easi, thumbnail, django]\\n2289                     [conform, checker, epub, public]\\n2290               [docker, offici, imag, packag, golang]\\n2291                            [elixir, rest, framework]\\n2292    [genet, program, python, scikit, learn, inspir...\\n2293                   [emac, mode, go, program, languag]\\n2294             [robot, moveit, motion, plan, framework]\\n2295                             [simd, vector, class, c]\\n2296    [go, bind, opencv, 2, x, api, gocv, 1, x, api,...\\n2297    [firm, believ, maintain, least, part, consum, ...\\n2298    [larg, annot, semant, par, corpu, develop, nat...\\n2299    [elm, format, format, elm, sourc, code, accord...\\n2300    [nff, go, network, function, framework, go, fo...\\n2301    [command, line, client, sql, server, auto, com...\\n2302    [high, perform, fulli, featur, proxi, redi, su...\\n2303                 [crf, contain, registri, filesystem]\\n2304    [sourc, code, kiwi, next, kiwi, browser, auto,...\\n2305      [keep, simpl, stupid, 3d, graphic, engin, rust]\\n2306    [sourc, code, pygad, python, 3, librari, build...\\n2307    [high, perform, python, base, system, larg, sm...\\n2308                     [蚁阅, 让, rss, 更好用, 轻松订阅你喜欢的博客和资讯]\\n2309                                  [never, write, css]\\n2310         [proper, subset, haskel, compil, javascript]\\n2311    [python, implement, boruta, relev, featur, sel...\\n2312           [cloudflar, internet, face, ssl, configur]\\n2313                        [powershel, pass, hash, util]\\n2314    [functorch, jax, like, compo, function, transf...\\n2315    [基于python的网页自动化工具, 既能控制浏览器, 也能收发数据包, 可兼顾浏览器自动化...\\n2316                      [drop, replac, django, runserv]\\n2317    [place, activ, batchnorm, memori, optim, train...\\n2318    [free, teraci, wirefram, kit, avail, hire, htt...\\n2319                           [mozilla, local, platform]\\n2320                          [kubernet, histori, visual]\\n2321                      [3d, html5, voxel, game, engin]\\n2322                          [multilingu, dialog, corpu]\\n2323    [best, practic, convent, trick, ro, want, beco...\\n2324    [multitask, monolith, kernel, base, x86, targe...\\n2325    [bash, line, editor, full, featur, line, edito...\\n2326                   [quic, http, 3, implement, python]\\n2327               [account, django, made, beauti, simpl]\\n2328                 [liquid, fill, chart, apach, echart]\\n2329                               [upnp, igd, implement]\\n2330    [pytorch, implement, quasi, recurr, neural, ne...\\n2331                                       [yaw, webserv]\\n2332                             [git, exten, jupyterlab]\\n2333          [caff, implement, googl, mobilenet, v1, v2]\\n2334             [simpl, form, maker, flutter, framework]\\n2335                  [dom, traver, scrape, use, graphql]\\n2336                                                   []\\n2337                      [librari, event, sourc, python]\\n2338                           [flutter, codelab, exampl]\\n2339          [privaci, friendli, document, scanner, app]\\n2340                                                   []\\n2341    [gener, secur, multiword, password, passphra, ...\\n2342                    [scalabl, frontier, web, crawler]\\n2343    [canva, base, data, grid, web, compon, capabl,...\\n2344                        [download, manag, packag, go]\\n2345    [li₃, fast, flexibl, rad, develop, framework, ...\\n2346                                    [go, test, color]\\n2347    [transpil, train, scikit, learn, estim, c, jav...\\n2348                                 [asgi, specif, util]\\n2349    [proof, work, algorithm, base, random, code, e...\\n2350    [tool, check, keychain, item, avail, attack, i...\\n2351               [offici, repositori, gevent, socketio]\\n2352    [handi, high, perform, modsecur, compat, nginx...\\n2353    [bypass, firew, traffic, forward, use, webshel...\\n2354    [todomvc, app, written, elm, nice, exampl, beg...\\n2355        [cpputest, unit, test, mock, framework, c, c]\\n2356        [simpl, app, make, flutter, develop, delight]\\n2357    [translat, django, model, use, registr, approach]\\n2358                             [keyba, filesystem, kbf]\\n2359                                                   []\\n2360    [deep, neural, network, without, learn, cliff,...\\n2361                                         [强大的脑图可视化工具]\\n2362    [python, implement, neat, neuroevolut, algorithm]\\n2363    [基于mach, o解析技术的包大小占比分析, 基于反汇编的object, c, swift...\\n2364    [python, packag, manag, extrem, larg, amount, ...\\n2365                        [move, polym, tool, monorepo]\\n2366    [open, sourc, haskel, built, video, editor, gi...\\n2367                                     [type, css, elm]\\n2368    [lightweight, gener, scalabl, c, librari, fini...\\n2369    [treefrog, framework, high, speed, c, mvc, fra...\\n2370    [openupm, open, sourc, uniti, packag, registri...\\n2371                     [rubyinst, window, build, recip]\\n2372                              [packag, script, msys2]\\n2373    [lvi, sam, tightli, coupl, lidar, visual, iner...\\n2374    [skylark, go, skylark, configur, languag, impl...\\n2375    [custom, keyboard, ios8, serv, tasti, imit, de...\\n2376    [alia, legaci, zf, class, name, lamina, projec...\\n2377              [tamago, arm, risc, v, bare, metal, go]\\n2378       [data, visual, curriculum, interact, notebook]\\n2379             [deform, convolut, network, v2, pytorch]\\n2380                    [system, assign, grade, notebook]\\n2381    [exerci, deep, learn, textbook, www, deeplearn...\\n2382      [extend, adapt, rewrit, django, contrib, admin]\\n2383    [packag, gorilla, schema, fill, struct, form, ...\\n2384    [python, numpi, opengl, fast, scalabl, beauti,...\\n2385                              [calendar, app, django]\\n2386    [calcul, cyclomat, complex, function, go, sour...\\n2387    [low, output, latenc, stream, html, parser, re...\\n2388              [multilingu, word, vector, 78, languag]\\n2389                    [exten, parallel, implement, sne]\\n2390    [tini, self, contain, configur, past, bin, url...\\n2391                      [ufo, sky, ultra, fold, neovim]\\n2392    [cross, framework, winform, wpf, pdf, metro, m...\\n2393                          [applic, framework, python]\\n2394                       [read, eval, print, loop, php]\\n2395       [fake, window, logon, screen, steal, password]\\n2396                [real, time, stream, process, python]\\n2397                                                   []\\n2398                                       [comput, trap]\\n2399                       [flutter, commun, plu, plugin]\\n2400    [offici, repositori, babel, python, intern, li...\\n2401    [nativ, go, golang, graphic, interfac, system,...\\n2402    [jsend, specif, simpl, frill, json, base, form...\\n2403                  [time, seri, data, visual, softwar]\\n2404    [client, privaci, pass, protocol, provid, unli...\\n2405      [virtual, machin, translat, intermedi, languag]\\n2406                                                   []\\n2407    [humbug, mutat, test, framework, php, measur, ...\\n2408    [matlab, toolbox, export, public, qualiti, figur]\\n2409    [hi, librari, interact, github, rest, api, con...\\n2410              [𓃡, quadrup, robot, base, mit, cheetah]\\n2411    [collect, valu, object, repr, type, php, type,...\\n2412                [awesom, list, kind, interest, topic]\\n2413                    [collect, use, gitignor, templat]\\n2414    [repo, includ, chatgpt, prompt, curat, use, ch...\\n2415    [perfect, front, end, checklist, modern, websi...\\n2416    [collect, variou, awesom, list, hacker, pentes...\\n2417    [becom, big, differ, origin, idea, collect, pr...\\n2418            [zap, delight, node, js, packag, resourc]\\n2419                [curat, list, react, compon, librari]\\n2420    [awesom, list, open, sourc, applic, maco, http...\\n2421        [iphon, collabor, list, open, sourc, io, app]\\n2422                   [curat, list, rust, code, resourc]\\n2423    [curat, list, awesom, command, line, framework...\\n2424          [collect, tip, help, take, css, skill, pro]\\n2425    [list, semi, fulli, remot, friendli, compani, ...\\n2426                 [use, resourc, creat, app, electron]\\n2427    [collabor, list, awesom, swift, librari, resou...\\n2428                       [awesom, docker, compo, sampl]\\n2429    [curat, list, delight, vs, code, packag, resourc]\\n2430    [comput, awesom, curat, list, best, applic, to...\\n2431           [curat, list, awesom, warez, piraci, link]\\n2432           [curat, list, awesom, action, use, github]\\n2433                        [falsehood, programm, believ]\\n2434    [conci, consist, legibl, badg, svg, raster, fo...\\n2435    [curat, opinion, list, resourc, chief, technol...\\n2436         [curat, list, awesom, github, profil, readm]\\n2437    [tensorflow, curat, list, dedic, resourc, http...\\n2438    [collect, awesom, net, librari, tool, framewor...\\n2439                        [编程随想, 收藏的电子书清单, 多个学科, 含下载链接]\\n2440                          [svg, icon, popular, brand]\\n2441    [book, curat, list, resourc, dedic, natur, lan...\\n2442    [machin, learn, deep, learn, tutori, articl, r...\\n2443                     [must, watch, video, javascript]\\n2444    [curat, list, microserv, architectur, relat, p...\\n2445    [mail, box, help, individu, take, back, contro...\\n2446    [city_sunri, collect, link, free, stock, photo...\\n2447                                    [command, runner]\\n2448                [ethereum, improv, propo, repositori]\\n2449                                       [国内低代码平台从业者交流]\\n2450    [curat, list, termin, framework, plugin, resou...\\n2451                [awesom, thing, relat, tailwind, css]\\n2452                 [collect, essenti, typescript, type]\\n2453                   [clone, tri, simpl, electron, app]\\n2454             [delight, hyper, plugin, theme, resourc]\\n2455    [discov, latest, machin, learn, ai, cour, youtub]\\n2456                        [收集整理, github, 上高质量, 有趣的开源项目]\\n2457    [curat, list, site, reliabl, product, engin, r...\\n2458      [curat, list, awesom, android, packag, resourc]\\n2459                    [collect, awesom, neovim, plugin]\\n2460    [curat, list, movi, everi, hacker, cyberpunk, ...\\n2461    [repositori, help, beauti, attract, github, pr...\\n2462     [collect, awesom, resourc, flipper, zero, devic]\\n2463                                      [use, vim, ide]\\n2464                                [awesom, react, hook]\\n2465    [cool, open, sourc, project, written, variou, ...\\n2466    [definit, list, list, list, curat, github, els...\\n2467    [page_facing_up, curat, list, awesom, angular,...\\n2468    [curat, list, high, qualiti, code, style, conv...\\n2469    [awesom, privaci, curat, list, servic, altern,...\\n2470    [curat, list, awesom, postgresql, softwar, lib...\\n2471    [curat, collect, publicli, avail, resourc, tec...\\n2472    [curat, list, ctf, framework, librari, resourc...\\n2473                                      [learn, haskel]\\n2474    [curat, list, awesom, thing, regard, webassemb...\\n2475    [resourc, blazor, net, web, framework, use, c,...\\n2476                               [c, primer, 5, answer]\\n2477                               [world, hate, sticker]\\n2478                            [awesom, develop, stream]\\n2479                                  [window, 11, react]\\n2480                           [specif, build, json, api]\\n2481          [handi, guid, financ, support, open, sourc]\\n2482    [javascript, talk, see, function, program, per...\\n2483          [curat, list, awesom, thing, relat, django]\\n2484    [curat, list, awesom, system, design, k, distr...\\n2485    [super, mario, 64, decompil, brought, bunch, c...\\n2486                       [main, web, site, onlin, book]\\n2487                [tini, script, gener, attract, color]\\n2488                     [github, repo, mdn, learn, area]\\n2489                           [huge, collect, svg, logo]\\n2490        [list, almost, headless, web, browser, exist]\\n2491         [curat, list, awesom, uniti, asset, resourc]\\n2492                 [offici, repo, tidytuesday, project]\\n2493         [curat, list, awesom, thing, relat, fastapi]\\n2494    [awesom, tool, resourc, chrome, devtool, devto...\\n2495                  [curat, list, chao, engin, resourc]\\n2496    [compil, list, link, ask, hn, post, startup, g...\\n2497    [collect, public, resourc, softwar, compani, t...\\n2498               [interact, guid, game, theori, cooper]\\n2499    [cli, tool, save, complet, web, page, singl, h...\\n2500        [curat, list, project, relat, remark, tablet]\\n2501                        [best, practic, css, foundat]\\n2502                                 [jest, cheat, sheet]\\n2503          [vim, plugin, inten, nerdi, comment, power]\\n2504    [archiv, style, guid, code, convent, swift, pr...\\n2505    [design, checklist, creativ, web, design, pati...\\n2506    [curat, list, awesom, resourc, electron, engin...\\n2507    [collect, import, graph, emb, classif, repres,...\\n2508    [curat, list, fuzz, resourc, book, cour, free,...\\n2509    [curat, list, awesom, webpack, resourc, librar...\\n2510                            [awesom, stuff, obsidian]\\n2511                                    [编程随想, 收藏的开源项目清单]\\n2512    [share, list, problem, domain, peopl, may, wan...\\n2513    [repositori, contain, compat, data, web, techn...\\n2514    [css, talk, see, cover, css, grid, flexbox, cu...\\n2515         [curat, list, resourc, hashicorp, terraform]\\n2516               [promi, packag, pattern, chat, tutori]\\n2517                          [awesom, npm, resourc, tip]\\n2518                   [collect, tip, help, jqueri, game]\\n2519                            [swag, opportun, develop]\\n2520    [awesom, list, awesom, youtub, teach, technolo...\\n2521    [collect, interest, funni, depress, search, qu...\\n2522    [curat, list, privaci, secur, focu, softwar, s...\\n2523          [use, resourc, use, ipf, build, thing, top]\\n2524            [curat, list, awesom, thing, relat, deno]\\n2525    [comprehen, curat, list, avail, bug, bounti, d...\\n2526    [authorit, list, awesom, devsecop, tool, help,...\\n2527         [curat, list, python, resourc, data, scienc]\\n2528       [一个全栈增长工程师的练手项目集, growth, engin, idea, action]\\n2529                             [sci, fi, worth, consum]\\n2530                  [guid, human, cryto, currenc, algo]\\n2531    [collect, awesom, blockchain, open, distribut,...\\n2532          [list, awesom, eslint, plugin, config, etc]\\n2533               [curat, prompt, plugin, fish, treasur]\\n2534    [graphic, note, gilbert, strang, linear, algeb...\\n2535    [new, webpack, boilerpl, hot, reload, react, c...\\n2536    [jupyt, notebook, behind, oreilli, report, whi...\\n2537                              [go, 语言优秀资源整理, 为项目落地加速]\\n2538    [collabor, list, great, resourc, rest, api, ar...\\n2539    [curat, list, awesom, minimalist, framework, s...\\n2540          [一份硬核, hardcor, 计算机科学cs自学计划, 偏向软件工程和系统架构方向]\\n2541                 [list, total, open, altern, chatgpt]\\n2542                  [studi, note, web, hack, web安全学习笔记]\\n2543    [duelyst, digit, collect, card, game, turn, ba...\\n2544                [long, list, geospati, tool, resourc]\\n2545               [catalog, angular, 2, compon, librari]\\n2546    [wikipedia, web, api, directori, rest, api, de...\\n2547    [icon, set, made, pure, css, code, depend, gra...\\n2548           [ethereum, proof, stake, consensu, specif]\\n2549                             [game, preserv, project]\\n2550     [watch, protect, privaci, global, mass, surveil]\\n2551                [book, solut, c, primer, 5th, exerci]\\n2552                                       [free, gopher]\\n2553    [curat, list, tech, stack, build, differ, appl...\\n2554          [curat, list, awesom, project, relat, ebpf]\\n2555                               [curat, list, roadmap]\\n2556    [pack, 100, gopher, pictur, element, help, bui...\\n2557    [electric_plug, everyth, need, know, creat, of...\\n2558    [curat, list, awesom, machin, learn, interpret...\\n2559    [iphon, list, open, sourc, flutter, applic, oc...\\n2560     [promot, solut, improv, wellb, freedom, societi]\\n2561    [tutori, write, bare, metal, oper, system, ras...\\n2562                [everyth, make, work, databa, easier]\\n2563    [curat, list, awesom, foren, analysi, tool, re...\\n2564                        [desktop, app, youtub, music]\\n2565    [curat, list, awesom, json, dataset, requir, a...\\n2566    [set, boilerpl, script, describ, normal, scrip...\\n2567                     [employ, handbook, built, inclu]\\n2568    [collect, tool, develop, research, comput, sci...\\n2569    [amaz, ui, openai, chatgpt, websit, window, ma...\\n2570      [program, show, imsi, number, cellphon, around]\\n2571    [curat, list, amazingli, awesom, löve, librari...\\n2572    [gener, ai, landscap, collect, awesom, gener, ...\\n2573    [collect, open, close, sourc, content, manag, ...\\n2574    [curat, list, awesom, articl, websit, resourc,...\\n2575    [seri, web, compon, exampl, relat, mdn, web, c...\\n2576    [awesom, frida, curat, list, frida, resourc, h...\\n2577    [exampl, book, design, pattern, rubi, russ, ol...\\n2578           [short, php, code, snippet, develop, need]\\n2579    [curat, list, awesom, blender, addon, tool, tu...\\n2580                                          [全栈增长工程师实战]\\n2581    [tool, profess, robot, develop, c, python, tou...\\n2582             [curat, list, variou, bug, bounti, tool]\\n2583        [curat, list, amazingli, awesom, burp, exten]\\n2584    [set, icon, main, cryptocurr, altcoin, rang, s...\\n2585          [绝妙的个人生产力, awesom, product, chine, version]\\n2586    [curat, list, resourc, learn, vehicl, secur, c...\\n2587    [linux, system, inform, web, dashboard, use, p...\\n2588       [html, pre, proce, sor, web, ty, pog, ra, phi]\\n2589      [curat, list, awesom, curat, list, mani, topic]\\n2590    [code, exampl, accompani, variou, mdn, dom, we...\\n2591    [guidanc, chang, default, branch, name, github...\\n2592                         [link, awesom, ocr, project]\\n2593    [curat, list, awesom, pico, 8, resourc, cart, ...\\n2594    [collect, awesom, train, seri, articl, video, ...\\n2595    [get, quantum, machin, learn, basic, algorithm...\\n2596         [30, second, collect, use, java, 8, snippet]\\n2597    [convert, modern, css, someth, browser, unders...\\n2598              [curat, list, static, web, site, gener]\\n2599          [curat, list, awesom, web, compon, resourc]\\n2600                       [watch, cargo, project, sourc]\\n2601                  [comput, curat, list, ssh, resourc]\\n2602    [collect, research, paper, deci, classif, regr...\\n2603    [display, current, git, branch, name, termin, ...\\n2604    [curat, list, awesom, open, sourc, healthcar, ...\\n2605          [collect, php, backdoor, educ, test, purpo]\\n2606    [curat, list, commun, detect, research, paper,...\\n2607       [curat, list, awesom, kubernet, tool, resourc]\\n2608    [collect, easi, digest, code, exampl, lightn, ...\\n2609                                      [编程随想, 收藏的各色网站]\\n2610    [github, employ, intellectu, properti, agreeme...\\n2611    [collect, comput, graphic, relat, cour, book, ...\\n2612    [collect, bookmark, resourc, articl, product, ...\\n2613    [curat, list, awesom, quantum, comput, learn, ...\\n2614             [tool, scan, secret, file, http, server]\\n2615    [simpl, open, sourc, proxi, api, allow, access...\\n2616    [http, rust, lang, nurseri, github, io, rust, ...\\n2617                   [set, standard, document, templat]\\n2618                  [geojson, util, make, life, easier]\\n2619                  [gener, resourc, competit, program]\\n2620    [comprehen, refer, topic, relat, natur, langua...\\n2621    [awesom, implement, mapbox, vector, tile, specif]\\n2622    [curat, list, awesom, loo, perform, relat, jvm...\\n2623          [curat, list, resourc, machin, learn, rubi]\\n2624          [view, roadmap, develop, role, help, learn]\\n2625        [curat, list, delight, atom, packag, resourc]\\n2626             [curat, list, delight, product, resourc]\\n2627    [browser, exten, simplifi, access, ipf, resour...\\n2628      [curat, collect, game, develop, learn, resourc]\\n2629    [member, unit, state, congress, 1789, present,...\\n2630    [curat, list, github, repositori, full, free, ...\\n2631    [curat, list, awesom, sass, scss, framework, l...\\n2632         [curat, list, awesom, dash, plotli, resourc]\\n2633    [curat, list, amazingli, awesom, git, tool, re...\\n2634         [curat, list, resourc, softwar, architectur]\\n2635    [open, standard, sound, interop, javascript, p...\\n2636    [curat, list, awesom, machin, learn, strategi,...\\n2637        [sparkling_heart, curat, list, awesom, thing]\\n2638     [sunglass, curat, list, robot, librari, softwar]\\n2639                     [cpu, mcu, document, one, place]\\n2640               [copi, past, friendli, golang, crypto]\\n2641            [public, place, platform, sampl, project]\\n2642    [collect, awesom, thing, relat, aw, cloud, dev...\\n2643    [deprec, head, raytrac, github, io, repo, new,...\\n2644    [develop, roadmap, use, growth, http, github, ...\\n2645        [curat, list, awesom, static, websit, servic]\\n2646    [curat, list, awesom, cloud, nativ, tool, soft...\\n2647    [github, resourc, inform, develop, commun, india]\\n2648                  [rice, custom, linux, config, file]\\n2649    [pointer, tool, learn, day, day, practic, engi...\\n2650                    [webrtc, curiou, go, beyond, api]\\n2651    [gener, collect, inform, tool, tip, regard, ct...\\n2652    [curat, list, game, teach, learn, program, lan...\\n2653                                  [curat, list, a11i]\\n2654    [nut_and_bolt, collect, awesom, resourc, learn...\\n2655    [real, time, pathtrac, global, illumin, progre...\\n2656                       [use, sass, like, markup, css]\\n2657            [list, awesom, asset, discoveri, resourc]\\n2658    [system, font, stack, css, organ, typefac, cla...\\n2659    [curat, list, awesom, v, framework, librari, s...\\n2660                    [awesom, readm, templat, project]\\n2661    [rough, list, favorit, deep, learn, resourc, u...\\n2662    [curat, list, awesom, articl, video, resourc, ...\\n2663    [profess, curat, list, awesom, conform, predic...\\n2664                              [python, develop, guid]\\n2665    [make, sen, web3, crypto, introduct, key, conc...\\n2666                                [tool, think, system]\\n2667             [statist, rethink, cour, jan, mar, 2023]\\n2668        [vim, 实操教程, learn, vim, vim, practic, tutori]\\n2669       [curat, list, use, resourc, javascript, promi]\\n2670    [collabor, develop, github, site, polici, proc...\\n2671                                                   []\\n2672        [curat, list, invest, financ, relat, resourc]\\n2673    [curat, list, awesom, delphi, freepasc, pascal...\\n2674        [awesom, list, awesom, list, relat, node, js]\\n2675    [offici, pytorch, implement, preprint, paper, ...\\n2676    [sunri, collect, awesom, resourc, build, progr...\\n2677                                  [new, world, linux]\\n2678    [list, resourc, program, practic, write, safet...\\n2679    [curat, list, awesom, apach, spark, packag, re...\\n2680              [curat, list, okr, object, key, result]\\n2681     [awesom, llm, curat, list, larg, languag, model]\\n2682                                     [poi, icon, set]\\n2683    [curat, list, open, technolog, project, sustai...\\n2684              [awesom, list, get, start, web, archiv]\\n2685    [curat, collect, awesom, regex, librari, tool,...\\n2686    [node, python, java, repositori, sampl, custom...\\n2687    [repositori, demo, illustr, featur, web, speec...\\n2688                  [one, guid, get, tech, job, abroad]\\n2689    [inspir, free, program, book, free, scienc, book]\\n2690            [transit, softwar, develop, engin, manag]\\n2691                             [rust, bitcoin, librari]\\n2692    [curat, list, awesom, go, framework, librari, ...\\n2693    [list, link, differ, freeli, avail, learn, res...\\n2694    [local, librari, websit, written, django, exam...\\n2695      [repositori, modern, c, pattern, curat, commun]\\n2696    [awesom, list, creat, react, app, articl, tuto...\\n2697    [sparrow, ps1, creat, cisa, cloud, foren, team...\\n2698    [curat, list, awesom, android, learn, resourc,...\\n2699                                                   []\\n2700                      [studi, guid, learn, transform]\\n2701    [curat, list, free, window, softwar, onlin, se...\\n2702    [curat, list, awesom, prometheu, resourc, proj...\\n2703                                 [面向编译器开发人员的v8内部实现文档]\\n2704      [curat, list, data, mine, paper, fraud, detect]\\n2705    [curat, list, best, resourc, nix, commun, main...\\n2706                [curat, list, wayland, code, resourc]\\n2707                                     [atcod, librari]\\n2708                                    [rare, exot, sat]\\n2709    [book, start, point, career, softwar, qualiti,...\\n2710    [curat, list, grid, tabl, librari, resourc, de...\\n2711                         [awesom, crypto, trade, bot]\\n2712                             [awesom, linux, rootkit]\\n2713                 [list, microgr, program, good, idea]\\n2714     [minimalist, mp3, decod, singl, header, librari]\\n2715                         [curat, list, test, resourc]\\n2716               [curat, list, resourc, node, base, ui]\\n2717    [awesom, list, librari, genesi, world, largest...\\n2718    [playabl, post, harmless, choic, make, harm, w...\\n2719    [musical_not, algorithm, written, differ, prog...\\n2720    [curat, list, awesom, asgi, server, framework,...\\n2721    [welcom, public, roadmap, thing, docker, welco...\\n2722          [train, model, file, dlib, exampl, program]\\n2723    [multi, user, anti, filter, panel, effortless,...\\n2724    [svg, webfont, full, main, payment, system, icon]\\n2725    [collabor, curat, list, awesom, open, sourc, i...\\n2726                [curat, list, free, freedom, softwar]\\n2727        [curat, list, awesom, json, librari, resourc]\\n2728             [kotlin, exten, libgdx, game, framework]\\n2729    [house_with_garden, book, anyon, get, start, u...\\n2730    [whisper, gpt, base, app, pass, remot, swe, in...\\n2731    [powershel, modul, use, blue, team, incid, res...\\n2732                  [minim, jekyl, theme, github, page]\\n2733                              [zap, tool, build, bot]\\n2734                   [standwithukrain, support, materi]\\n2735                                 [turn, folder, blog]\\n2736                                [exampl, fabric, mod]\\n2737      [code, exampl, accompani, mdn, webgl, document]\\n2738    [awesom, r, python, packag, offer, extend, ui,...\\n2739      [curat, list, awesom, emb, iot, secur, resourc]\\n2740    [curat, list, awesom, thing, relat, yew, webas...\\n2741    [curat, list, awesom, webgl, librari, resourc,...\\n2742    [curat, list, awesom, stream, video, tool, fra...\\n2743                     [list, program, telegram, group]\\n2744                        [commun, graphic, pack, cemu]\\n2745          [book, perform, analysi, tune, modern, cpu]\\n2746    [curat, list, awesom, tool, librari, resourc, ...\\n2747                  [curat, list, awesom, lit, resourc]\\n2748      [awesom, list, resourc, agil, softwar, develop]\\n2749        [curat, list, avail, fantasi, consol, comput]\\n2750              [curat, list, name, thing, done, right]\\n2751    [list, awesom, web, anim, librari, book, app, ...\\n2752                           [curat, list, react, hook]\\n2753                      [solid, specif, draft, 0, 7, 0]\\n2754    [curat, list, awesom, technolog, relat, anim, ...\\n2755    [curat, list, variou, semant, web, link, data,...\\n2756    [ident, access, manag, knowledg, cloud, platform]\\n2757    [curat, list, awesom, editor, js, tool, librar...\\n2758           [curat, list, awesom, thing, relat, flask]\\n2759                    [simpl, golang, http, tl, exampl]\\n2760                                           [代码防腐实用技术]\\n2761                                   [everyth, chatgpt]\\n2762        [commun, sourc, list, log4j, affect, softwar]\\n2763    [curat, repositori, make, live, geoscientist, ...\\n2764             [list, resourc, asynchron, program, php]\\n2765    [list, c, sourc, gener, necessarili, awesom, a...\\n2766    [curat, list, blockchain, secur, captur, flag,...\\n2767                                                   []\\n2768    [curat, list, articl, cover, softwar, engin, b...\\n2769    [talk, blog, post, interview, experi, open, so...\\n2770    [lab, wrap, git, hub, make, simpl, clone, fork...\\n2771    [c, 11, 14, 17, std, expect, function, style, ...\\n2772    [curat, list, open, sourc, quantum, softwar, p...\\n2773               [curat, list, awesom, web, font, icon]\\n2774    [unlock, sunglass, curat, list, awesom, guid, ...\\n2775    [une, list, de, lien, permett, de, se, former,...\\n2776                        [osx, io, relat, secur, tool]\\n2777                    [curat, list, awesom, userscript]\\n2778    [curat, list, awesom, resourc, webexten, develop]\\n2779                       [collect, postmortem, templat]\\n2780       [clone, tri, simpl, electron, app, typescript]\\n2781    [curat, list, awesom, symbol, execut, resourc,...\\n2782    [local, librari, websit, written, nodej, expre...\\n2783                    [list, awesom, star, style, guid]\\n2784                        [dfir, tool, written, python]\\n2785                                         [book, tree]\\n2786    [commun, power, list, program, work, window, s...\\n2787    [curat, list, awesom, f, framework, librari, s...\\n2788     [metropolitan, museum, art, open, access, initi]\\n2789    [everyth, class, imbalanc, long, tail, learn, ...\\n2790         [curat, list, vapor, relat, awesom, project]\\n2791    [curat, list, prompt, tool, resourc, regard, g...\\n2792    [awesom, azur, architectur, http, aka, ms, awe...\\n2793    [curat, list, awesom, resourc, product, progra...\\n2794                [essenti, guid, keep, ai, ml, dl, cv]\\n2795    [collect, awesom, wpf, resourc, librari, ui, c...\\n2796    [code, exampl, accompani, mdn, web, doc, page,...\\n2797         [exampl, program, design, pattern, uniti, c]\\n2798                                          [系统设计面试题精选]\\n2799    [content, repositori, help, launch, career, bl...\\n2800    [sunglass, curat, list, awesom, softwar, numer...\\n2801                 [cayman, jekyl, theme, github, page]\\n2802                [kubernet, nativ, ide, develop, team]\\n2803            [music, program, languag, musician, note]\\n2804                             [add, on, openhab, 1, x]\\n2805    [eclip, sumo, open, sourc, highli, portabl, mi...\\n2806       [java, languag, support, visual, studio, code]\\n2807                                   [add, on, openhab]\\n2808              [collect, sampl, applic, use, junit, 5]\\n2809    [基于开源组件, incept, sqladvisor, soar, 的sql审核, sql...\\n2810                              [java, languag, server]\\n2811    [asyncssh, python, packag, provid, asynchron, ...\\n2812                         [binari, distribut, openhab]\\n2813    [high, perform, data, driven, data, specif, li...\\n2814    [open, liberti, highli, compo, fast, start, dy...\\n2815    [reactiv, clojur, dialect, web, develop, use, ...\\n2816    [share, msvcrt, dll, optim, c, c, applic, file...\\n2817                          [book, 免费的计算机编程类中文书籍, 欢迎投稿]\\n2818    [real, time, perform, monitor, done, right, ht...\\n2819    [ansibl, radic, simpl, autom, platform, make, ...\\n2820    [深度学习500问, 以问答形式对常用的概率知识, 线性代数, 机器学习, 深度学习, 计算...\\n2821                           [new, bootabl, usb, solut]\\n2822                                   [deepfak, softwar]\\n2823    [gui, client, window, support, xray, core, v2f...\\n2824                                   [微信小程序开发资源汇总, 100]\\n2825                             [rule, base, tunnel, go]\\n2826         [deepfacelab, lead, softwar, creat, deepfak]\\n2827    [cross, platform, customiz, scienc, fiction, t...\\n2828    [ublock, origin, effici, blocker, chromium, fi...\\n2829    [fullpag, plugin, alvaro, trigo, creat, full, ...\\n2830                               [magic, mask, android]\\n2831                        [modern, video, player, maco]\\n2832    [shellcheck, static, analysi, tool, shell, scr...\\n2833                          [next, gener, shadowsocksx]\\n2834    [pure, unix, shell, script, implement, acm, cl...\\n2835    [run, maco, vm, docker, run, near, nativ, osx,...\\n2836    [科研工作专用chatgpt拓展, 特别优化学术paper润色体验, 支持自定义快捷按钮, ...\\n2837                                        [强大易用的开源建站工具]\\n2838    [algorithm, data, structur, implement, javascr...\\n2839    [一款轻量级, 高性能, 功能强大的内网穿透代理服务器, 支持tcp, udp, socks...\\n2840                             [nintendo, switch, emul]\\n2841                          [code, complet, engin, vim]\\n2842    [distribut, task, schedul, framework, 分布式任务调度平...\\n2843    [sharex, free, open, sourc, program, let, capt...\\n2844    [transform, data, chao, clariti, json, crack, ...\\n2845                           [privat, messeng, android]\\n2846     [libr, lightweight, stream, front, end, android]\\n2847    [commun, driven, emac, distribut, best, editor...\\n2848                        [rule, base, tunnel, android]\\n2849                         [reliabl, usb, format, util]\\n2850                                [made, wrapper, refu]\\n2851              [free, open, sourc, crypto, trade, bot]\\n2852    [modern, data, stack, directu, instant, rest, ...\\n2853    [v2ray, client, android, support, xray, core, ...\\n2854    [power, yet, simpl, use, screenshot, softwar, ...\\n2855    [谷粒, chrome插件英雄榜, 为优秀的chrome插件写一本中文说明书, 让chrom...\\n2856      [jumpserv, 是广受欢迎的开源堡垒机, 是符合, 4a, 规范的专业运维安全审计系统]\\n2857    [trollfac, hex, editor, wechat, qq, tim, pc版微信...\\n2858           [solid, smart, contract, program, languag]\\n2859    [commun, driven, modular, vim, neovim, distrib...\\n2860    [lenster, decentr, permissionless, social, med...\\n2861    [altern, firmwar, esp8266, esp32, base, devic,...\\n2862     [manag, switch, multipl, proxi, quickli, easili]\\n2863    [cross, platform, fast, featur, rich, gpu, bas...\\n2864                          [infer, code, llama, model]\\n2865    [updat, daili, list, popular, bittorr, tracker...\\n2866    [支持多家云存储的云盘系统, self, host, file, manag, share,...\\n2867    [liber, web, analyt, star, us, github, 1, mato...\\n2868                            [autom, tower, defen, rt]\\n2869              [unidentifi, mechan, help, bypass, gfw]\\n2870      [network, wide, ad, tracker, block, dn, server]\\n2871    [blaze, fast, neovim, framework, provid, solid...\\n2872    [collect, variou, algorithm, mathemat, machin,...\\n2873    [deep, learn, imag, process, includ, classif, ...\\n2874    [low, code, machin, learn, platform, help, dev...\\n2875             [progress, web, app, local, file, share]\\n2876    [star, linux, window, maco, 跨平台, v2ray, 客户端, 支...\\n2877    [instagram, bot, tool, autom, instagram, inter...\\n2878    [offici, sourc, code, repositori, calibr, eboo...\\n2879    [marlin, optim, firmwar, reprap, 3d, printer, ...\\n2880    [simpl, app, use, xpose, without, root, unlock...\\n2881    [legado, 3, 0, book, reader, power, control, f...\\n2882            [design, pattern, implement, swift, 5, 0]\\n2883                               [simpl, proxi, client]\\n2884           [bring, maco, quick, look, featur, window]\\n2885    [textmat, graphic, text, editor, maco, 10, 12,...\\n2886    [love_lett, beauti, fast, fulli, open, sourc, ...\\n2887    [lunarvim, ide, layer, neovim, complet, free, ...\\n2888    [mobil, secur, framework, mobsf, autom, one, m...\\n2889    [proxi, high, perform, http, proxi, socks5, pr...\\n2890    [java, 8, jar, android, apk, rever, engin, sui...\\n2891    [cross, platform, network, tool, design, devel...\\n2892    [sourcetrail, free, open, sourc, interact, sou...\\n2893    [world, largest, contributor, driven, code, da...\\n2894    [node, js, base, forum, softwar, built, modern...\\n2895    [collect, hack, penetr, test, resourc, make, b...\\n2896            [watt, toolkit, 是一个开源跨平台的多功能, steam, 工具箱]\\n2897    [free, open, sourc, enterpri, resourc, plan, erp]\\n2898                     [vim, inspir, filemanag, consol]\\n2899              [keep, applic, set, sync, os, x, linux]\\n2900    [free, open, sourc, rever, engin, platform, po...\\n2901    [open, sourc, altern, algolia, easier, use, al...\\n2902     [browser, exten, enhanc, search, engin, chatgpt]\\n2903    [modern, easi, use, sql, client, mysql, postgr...\\n2904    [open, sourc, real, time, strategi, game, engi...\\n2905                                       [use, js, tip]\\n2906                     [standalon, java, decompil, gui]\\n2907                      [编程随想, 整理的, 太子党关系网络, 专门揭露赵国的权贵]\\n2908                           [fast, linter, runner, go]\\n2909    [哔哩下载姬downkyi, 哔哩哔哩网站视频下载工具, 支持批量下载, 支持8k, hdr...\\n2910                                          [已失效, 不再维护]\\n2911    [mailchimp, open, commerc, api, first, headles...\\n2912         [match, command, line, argument, help, text]\\n2913                               [machin, learn, numpi]\\n2914     [open, sourc, implement, rollercoast, tycoon, 2]\\n2915                     [rogu, access, point, framework]\\n2916                                       [mobil, shell]\\n2917    [tool, shell, command, execut, visual, alert, ...\\n2918                            [termin, session, record]\\n2919                               [advanc, xss, scanner]\\n2920    [lightweight, util, make, window, taskbar, tra...\\n2921    [fast, simpl, node, js, version, manag, built,...\\n2922                             [ios开发常用三方库, 插件, 知名博客等等]\\n2923    [real, time, face, swap, pc, stream, video, call]\\n2924              [chrome, exten, return, youtub, dislik]\\n2925    [blackhol, modern, maco, virtual, audio, drive...\\n2926            [git, interfac, miss, life, final, arriv]\\n2927    [fancyss, project, provid, tool, across, gfw, ...\\n2928    [lyni, secur, audit, tool, linux, maco, unix, ...\\n2929         [docker, implement, around, 100, line, bash]\\n2930                                [支持多协议多用户的, xray, 面板]\\n2931    [v2ray, 路由规则文件加强版, 可代替, v2ray, 官方, geoip, dat,...\\n2932    [web接口管理工具, 开源免费, 接口自动化, mock数据自动生成, 自动化测试, 企业...\\n2933    [free, open, sourc, softwar, allow, user, set,...\\n2934                  [open, sourc, implement, diablo, 2]\\n2935         [python, backtest, librari, trade, strategi]\\n2936    [assembl, configur, deploy, autonom, ai, agent...\\n2937            [offlin, document, browser, inspir, dash]\\n2938                  [softwar, version, control, visual]\\n2939    [instant, messag, platform, backend, go, clien...\\n2940                                 [sumatrapdf, reader]\\n2941            [best, resourc, system, design, internet]\\n2942                     [algorithm, gener, triangl, art]\\n2943    [customiz, type, websit, minimalist, design, t...\\n2944    [isg, let, use, youtub, cloud, storag, file, v...\\n2945    [agent, less, vulner, scanner, linux, freebsd,...\\n2946    [newb, mall是一套电商系统, 包括基础版本, spring, boot, thym...\\n2947    [q, run, sql, directli, delimit, file, multi, ...\\n2948                              [live, reload, go, app]\\n2949    [阿布量化交易系统, 股票, 期权, 期货, 比特币, 机器学习, 基于python的开源量...\\n2950    [tinyhttpd, 是j, david, blackstone在1999年写的一个不到,...\\n2951    [implement, paper, yolov7, trainabl, bag, free...\\n2952                   [darwin, maco, emul, layer, linux]\\n2953                              [modern, port, scanner]\\n2954    [simpl, anim, gif, screen, record, easi, use, ...\\n2955    [remov, larg, troublesom, blob, like, git, fil...\\n2956    [amaz, qrcode, gener, python, support, anim, g...\\n2957           [inform, gather, framework, phone, number]\\n2958    [自选优选, ip, 测试, cloudflar, cdn, 延迟和速度, 获取最快, ip...\\n2959                             [sandboxi, plu, classic]\\n2960                                   [人人可用的开源数据可视化分析工具]\\n2961                 [incr, fast, crawler, design, osint]\\n2962    [zigb, mqtt, bridg, get, rid, proprietari, zig...\\n2963                                  [lspose, framework]\\n2964                                  [科学上网插件的离线安装包储存在这里]\\n2965    [cross, platform, gui, written, rust, use, adb...\\n2966    [clash, premium, 规则集, rule, set, 兼容, clashx, p...\\n2967    [univ, radio, hacker, investig, wireless, prot...\\n2968    [multi, platform, transpar, client, side, encr...\\n2969    [browser, base, frontend, gdb, gnu, debugg, ad...\\n2970       [nativ, cross, platform, mongodb, manag, tool]\\n2971    [metersph, 是一站式开源持续测试平台, 覆盖测试管理, 接口测试, ui, 测试和...\\n2972    [regexr, html, js, base, tool, creat, test, le...\\n2973       [yet, anoth, yogurt, aur, helper, written, go]\\n2974     [stanford, corenlp, java, suit, core, nlp, tool]\\n2975    [book, web, app, brow, read, download, ebook, ...\\n2976                             [gui, chatgpt, api, llm]\\n2977    [persist, servic, gener, mock, data, quickli, ...\\n2978    [astronvim, aesthet, featur, rich, neovim, con...\\n2979            [termin, emul, base, uwp, web, technolog]\\n2980                                    [spotifi, daemon]\\n2981           [util, convert, variou, subscript, format]\\n2982    [为键盘工作者设计的单词记忆与英语肌肉记忆锻炼软件, word, learn, englis...\\n2983    [计算机基础, 计算机网络, 操作系统, 数据库, git, 面试问题全面总结, 包含详细的...\\n2984                               [futur, onlin, commun]\\n2985    [opensnitch, gnu, linux, interact, applic, fir...\\n2986    [unoffici, exten, integr, draw, io, also, know...\\n2987    [keyboard, driven, vim, like, browser, base, p...\\n2988    [fastdf, open, sourc, high, perform, distribut...\\n2989               [smart, pvr, newsgroup, bittorr, user]\\n2990                       [better, font, render, window]\\n2991      [zeromq, core, engin, c, implement, zmtp, 3, 1]\\n2992    [dockerfil, linter, valid, inlin, bash, writte...\\n2993                               [low, level, programm]\\n2994                     [flat, theme, transpar, element]\\n2995    [linux, system, optim, monitor, http, oguzhani...\\n2996    [anbox, contain, base, approach, boot, full, a...\\n2997                    [markdown, editor, 21st, centuri]\\n2998                                  [uci, chess, engin]\\n2999        [arduplan, arducopt, ardurov, ardusub, sourc]\\n3000    [kotlin, multiplatform, music, download, suppo...\\n3001    [open, sourc, post, exploit, framework, studen...\\n3002         [new, gener, cm, top, react, redux, graphql]\\n3003    [gtfobin, curat, list, unix, binari, use, bypa...\\n3004    [pattern, base, approach, learn, technic, inte...\\n3005    [ublock, fast, lightweight, lean, blocker, chr...\\n3006                           [six, degr, domain, admin]\\n3007                        [identifi, technolog, websit]\\n3008                                       [vanc, instal]\\n3009    [mysqltun, script, written, perl, assist, mysq...\\n3010                             [compil, write, journey]\\n3011    [ultim, copilot, desktop, chatbox, desktop, ap...\\n3012    [autom, phish, tool, 30, templat, tool, made, ...\\n3013                            [lulu, free, maco, firew]\\n3014    [cross, platform, sophist, frontend, libretro,...\\n3015                     [telegram, web, applic, gpl, v3]\\n3016    [window, manag, applic, replac, divvi, sizeup,...\\n3017               [scan, index, archiv, paper, document]\\n3018    [open, appl, airdrop, implement, written, python]\\n3019    [leak, mirai, sourc, code, research, ioc, deve...\\n3020    [commun, support, supercharg, version, paperle...\\n3021    [cross, platform, qt, open, sourc, gplv3, vide...\\n3022    [distribut, offlin, first, bug, tracker, emb, ...\\n3023                       [applic, use, revanc, android]\\n3024    [thefatrat, massiv, exploit, tool, easi, tool,...\\n3025                        [提供计算机考研和软件工程考研专业的各个学校, 考研真题]\\n3026                      [1, free, onedr, client, linux]\\n3027               [exten, vs, code, visual, data, debug]\\n3028    [darktabl, open, sourc, photographi, workflow,...\\n3029    [randomx, kawpow, cryptonight, ghostrid, unifi...\\n3030    [h5, page, maker, h5, editor, lowcod, make, h5...\\n3031                    [damn, vulner, web, applic, dvwa]\\n3032    [yewtub, fork, mp, youtub, termin, base, youtu...\\n3033    [repositori, contain, cut, edg, open, sourc, s...\\n3034    [deprec, mist, brow, use, ðapp, ethereum, netw...\\n3035       [fork, sonarr, work, movi, à, la, couchpotato]\\n3036    [阅读是一款可以自定义来源阅读网络内容的工具, 为广大网络文学爱好者提供一种方便, 快捷舒适...\\n3037                           [chine, do, game, collect]\\n3038                             [gui, v2ray, core, maco]\\n3039       [cross, platform, text, expand, written, rust]\\n3040                       [transpar, file, encrypt, git]\\n3041      [algorithm, 4th, edit, textbook, code, librari]\\n3042    [standalon, man, middl, attack, framework, use...\\n3043                             [window, alt, tab, maco]\\n3044                               [janu, webrtc, server]\\n3045    [cloud, curat, list, awesom, servic, solut, re...\\n3046    [ultisnip, ultim, snippet, solut, vim, send, p...\\n3047                      [autom, cryptocurr, trade, bot]\\n3048                       [简悦, simpread, 让你瞬间进入沉浸式阅读的扩展]\\n3049                    [flipper, zero, unleash, firmwar]\\n3050    [never, ever, ever, use, pixel, redact, techniqu]\\n3051    [project, base, script, capabl, sever, excel, ...\\n3052    [把萌萌哒的看板娘抱回家, ノ, ノ, live2d, widget, web, platf...\\n3053                  [minim, pytorch, implement, yolov3]\\n3054                         [ea, function, cheat, sheet]\\n3055    [modern, desktop, interfac, linux, improv, use...\\n3056    [robust, video, mat, pytorch, tensorflow, tens...\\n3057    [基于soa架构的分布式电商购物商城, 前后端分离, 前台商城, vue全家桶, 后台管理系...\\n3058                     [smart, nfc, ink, display, card]\\n3059                                      [whatsapp, lib]\\n3060    [modern, self, host, framework, fulli, autom, ...\\n3061      [open, sourc, jailbreak, tool, mani, io, devic]\\n3062    [openproject, lead, open, sourc, project, mana...\\n3063                          [polkadot, node, implement]\\n3064              [open, sourc, flight, control, firmwar]\\n3065    [pytorch, implement, u, net, imag, semant, seg...\\n3066                                  [canon, spec, ulid]\\n3067    [哔哩漫游, 解除b站客户端番剧区域限制的xposed模块, 并且提供其他小功能, xpos...\\n3068    [info, spider, 是一个集众多数据源于一身的爬虫工具箱, 旨在安全快捷的帮助用户...\\n3069    [statu, page, monitor, websit, applic, beauti,...\\n3070    [osintgram, osint, tool, instagram, offer, int...\\n3071                      [klipper, 3d, printer, firmwar]\\n3072    [mailbox_with_mail, easili, secur, share, file...\\n3073    [dropbox, upload, bash, script, use, upload, d...\\n3074    [termin, spreadsheet, multitool, discov, arran...\\n3075                               [v2ray, xray多用户管理部署程序]\\n3076    [deep, learn, base, chine, speech, recognit, s...\\n3077    [modern, music, server, streamer, compat, subs...\\n3078                [flipper, zero, firmwar, sourc, code]\\n3079                                       [ship, theseu]\\n3080                                [解锁完整的, apple功能和集成服务]\\n3081    [peopl, need, way, protect, person, space, pos...\\n3082          [lutri, desktop, client, python, pygobject]\\n3083    [free, open, sourc, messag, email, app, combin...\\n3084                   [clipboard, manag, advanc, featur]\\n3085                                    [mailcow, docker]\\n3086    [go实现的trojan代理, 支持多路复用, 路由功能, cdn中转, shadowsoc...\\n3087                   [offic, tool, plu, local, project]\\n3088                       [stabl, diffu, built, blender]\\n3089                              [net, deobfusc, unpack]\\n3090                                                   []\\n3091    [ankidroid, anki, flashcard, android, secret, ...\\n3092                            [oneforall是一款功能强大的子域收集工具]\\n3093    [blender, addon, make, bridg, blender, geograp...\\n3094    [local, dn, server, obtain, fastest, websit, i...\\n3095      [multipass, orchestr, virtual, ubuntu, instanc]\\n3096        [toturi, come, data, scienc, roadmap, pictur]\\n3097                      [free, onlin, account, softwar]\\n3098    [infect, monkey, open, sourc, adversari, emul,...\\n3099                         [πf, data, free, filesystem]\\n3100    [light, weight, system, monitor, x, wayland, t...\\n3101    [loop, habit, tracker, mobil, app, creat, main...\\n3102    [translat, darknet, tensorflow, load, train, w...\\n3103    [captainhook, tweak, logo, tweak, command, lin...\\n3104    [open, sourc, vr, headset, steamvr, support, 200]\\n3105    [flutter, 集录指南, app, uniti, flutter, uniti, co...\\n3106    [linux, tool, show, progress, cp, mv, dd, form...\\n3107                 [magit, git, porcelain, insid, emac]\\n3108    [octocat, person, websit, blog, everi, github,...\\n3109                           [深蓝词库转换, 一款开源免费的输入法词库转换程序]\\n3110                                 [mag, googl, termin]\\n3111                      [object, runtim, mobil, explor]\\n3112    [open, inexpen, diy, ip, kvm, base, raspberri,...\\n3113                                 [local, movi, organ]\\n3114              [cross, platform, reimplement, notepad]\\n3115    [ethereum, miner, opencl, cuda, stratum, support]\\n3116                      [captcha, solver, exten, human]\\n3117    [collect, thought, note, without, leav, comman...\\n3118    [base, golang, lightweight, tcp, concurr, serv...\\n3119    [wip, en, web, design, tool, mobil, page, buil...\\n3120    [ocean, 一款, materi, design, 风格的, hexo, 主题, ele...\\n3121    [fulli, open, sourc, end, end, encrypt, note, ...\\n3122                [blink, mobil, shell, io, mosh, base]\\n3123                         [papiru, icon, theme, linux]\\n3124                               [smart, activ, script]\\n3125             [persepoli, download, manag, gui, aria2]\\n3126            [fasthub, ultim, github, client, android]\\n3127                                       [带充电宝功能的便携显示器]\\n3128    [shapez, open, sourc, base, build, game, steam...\\n3129                 [design, pattern, implement, kotlin]\\n3130                  [bookmark, person, mini, web, text]\\n3131         [自由钢琴, autopiano, simpl, eleg, piano, onlin]\\n3132    [highli, customiz, homepag, startpag, applic, ...\\n3133    [redshift, adjust, color, temperatur, screen, ...\\n3134                         [adversari, emul, framework]\\n3135                          [neural, style, tensorflow]\\n3136    [open, sourc, solder, iron, firmwar, miniwar, ...\\n3137    [person, assist, whatsapp, user, friendli, use...\\n3138    [highli, customiz, changelog, gener, follow, c...\\n3139       [key, stateless, open, sourc, password, manag]\\n3140          [sieg, http, load, tester, benchmark, util]\\n3141    [automat, switch, dark, light, theme, window, ...\\n3142         [screen, share, develop, http, screego, net]\\n3143                                    [自用的一些乱七八糟, 油猴脚本]\\n3144    [tipi, homeserv, everyon, one, command, setup,...\\n3145    [publii, desktop, base, cm, window, mac, linux...\\n3146      [live, land, binari, script, lolbin, lolscript]\\n3147    [supercharg, version, paperless, scan, index, ...\\n3148    [free, secur, open, sourc, app, android, manag...\\n3149            [high, perform, mysql, proxi, gpl, licen]\\n3150         [use, git, upload, chang, file, ftp, server]\\n3151    [command, line, tool, recreat, famou, data, de...\\n3152    [gamestream, client, pc, window, mac, linux, s...\\n3153    [rengin, autom, reconnaiss, framework, web, ap...\\n3154                            [algorithm, implement, c]\\n3155                  [gephi, open, graph, viz, platform]\\n3156    [tutanota, email, servic, strong, focu, secur,...\\n3157                                    [subtitl, editor]\\n3158    [web, base, traffic, secur, network, traffic, ...\\n3159    [imag, analysi, simul, softwar, radio, interfe...\\n3160                          [self, host, newslett, app]\\n3161    [adaway, free, open, sourc, ad, blocker, android]\\n3162    [simpl, exten, shell, script, manag, todo, txt...\\n3163    [nativ, gog, epic, game, launcher, linux, wind...\\n3164    [bromit, chromium, fork, ad, block, privaci, e...\\n3165    [browser, exten, read, medium, com, articl, fr...\\n3166    [waydroid, use, contain, base, approach, boot,...\\n3167                                   [带网络功能的伪全息透明显示桌面站]\\n3168    [go, engin, human, provid, knowledg, model, al...\\n3169    [advanc, frontend, drag, drop, page, builder, ...\\n3170    [nativ, linux, app, ui, ux, design, built, val...\\n3171                          [小巧精悍, 准确, 实用, geoip2, 数据库]\\n3172    [minecraft, launcher, multi, function, cross, ...\\n3173        [sigil, multi, platform, epub, ebook, editor]\\n3174    [macast, cross, platform, applic, use, mpv, dl...\\n3175                 [synchron, multiroom, audio, player]\\n3176            [soundcloud, client, built, react, redux]\\n3177    [huge, collect, rofi, base, custom, applet, la...\\n3178                    [elder, driver, xpose, framework]\\n3179    [encrypt, ipv6, network, use, public, key, cry...\\n3180    [bash, script, instal, v2ray, oper, system, de...\\n3181                                    [peer, peer, vpn]\\n3182    [xray, v2ray, trojan, naiveproxi, trojan, go, ...\\n3183              [rudimentari, roam, replica, org, mode]\\n3184    [huge, collect, polybar, theme, differ, style,...\\n3185                 [creat, reddit, video, one, command]\\n3186                      [run, stabl, diffu, mac, nativ]\\n3187    [multi, use, bash, script, linux, system, audi...\\n3188    [repositari, combin, differ, resourc, lie, sca...\\n3189                  [altern, frontend, youtub, android]\\n3190    [一款创新跨平台摸鱼神器, 支持小说, 股票, 网页, 视频, 直播, pdf, 游戏等摸鱼...\\n3191    [simpl, maxim, exten, depend, minim, framework...\\n3192                [一个支持免代理直连及查看动图的第三方pixiv, flutter客户端]\\n3193                     [ad, free, new, featur, freedom]\\n3194    [app, os, x, sign, app, bundl, ipa, file, read...\\n3195                                                   []\\n3196                  [music, player, app, made, flutter]\\n3197                            [roundcub, webmail, suit]\\n3198    [go, 程序员面试笔试宝典, 从问题切入, 串连, go, 语言相关的所有知识, 融会贯通...\\n3199    [yolov6, singl, stage, object, detect, framewo...\\n3200    [collect, methodolog, test, case, variou, web,...\\n3201    [opensc2k, open, sourc, remak, sim, citi, 2000...\\n3202    [python, base, monitor, track, tool, plex, med...\\n3203    [vue3, 全家桶, vant, 搭建大型单页面商城项目, 新蜂商城, vue3, 2, ...\\n3204                            [podcast, manag, android]\\n3205                        [cli, tool, brow, play, anim]\\n3206    [power, modular, stabl, diffu, gui, graph, nod...\\n3207    [sioyek, pdf, viewer, focu, textbook, research...\\n3208                              [finest, window, optim]\\n3209    [krita, free, open, sourc, cross, platform, ap...\\n3210                               [autom, mass, exploit]\\n3211    [fast, playstat, 1, emul, x86, 64, aarch32, aa...\\n3212                        [static, analysi, c, c, code]\\n3213    [orb, slam3, accur, open, sourc, librari, visu...\\n3214    [阅读3服务器版, 桌面端, ios可用, 后端, kotlin, spring, boot...\\n3215    [audio, server, program, languag, ide, sound, ...\\n3216    [deprec, data, visual, project, convert, histo...\\n3217    [open, transpar, window, oper, system, design,...\\n3218                       [pot, one, honeypot, platform]\\n3219    [limit, compressor, convolv, equal, auto, volu...\\n3220         [moodl, world, open, sourc, learn, platform]\\n3221    [maintain, collect, use, free, uniti, script, ...\\n3222    [custom, selenium, chromedriv, zero, config, p...\\n3223                              [剑指offer, 名企面试官精讲典型编程题]\\n3224    [a32nx, project, commun, driven, open, sourc, ...\\n3225                  [run, window, softwar, game, linux]\\n3226    [openmw, open, sourc, open, world, rpg, game, ...\\n3227    [可解释的机器学习, 黑盒模型可解释性理解指南, 该书为, interpret, machi...\\n3228                                         [将任何窗口放大至全屏]\\n3229       [command, line, base, markdown, present, tool]\\n3230    [holeh, allow, check, mail, use, differ, site,...\\n3231                                                   []\\n3232                                  [rust, heart, emac]\\n3233         [util, send, notif, demand, command, finish]\\n3234                     [mobil, app, vault, io, android]\\n3235                   [instal, run, gnu, linux, android]\\n3236            [arch, linux, instal, guid, templat, etc]\\n3237    [termin, stock, ticker, live, updat, posit, tr...\\n3238    [cross, platform, file, chang, monitor, multip...\\n3239                                 [java, 笔试, 面试, 知识整理]\\n3240        [neovim, config, design, scratch, understand]\\n3241                         [trojan多用户管理部署程序, 支持web页面管理]\\n3242     [manag, homebrew, formula, style, use, cakebrew]\\n3243    [qtox, chat, voic, video, file, transfer, im, ...\\n3244    [real, time, multi, object, track, segment, us...\\n3245                             [stylu, userstyl, manag]\\n3246    [umatrix, point, click, matrix, filter, net, r...\\n3247                                       [ncm, 软件插件管理器]\\n3248    [simpl, onlin, realtim, track, deep, associ, m...\\n3249               [materi, design, file, manag, android]\\n3250    [xpay个人免签收款支付系统, 完全免费, 资金直接到达本人账号, 支持, 支付宝, 微信...\\n3251                 [bootstrap, post, collap, technolog]\\n3252    [realiz, 1, golang, task, runner, enhanc, work...\\n3253    [emac, client, librari, languag, server, proto...\\n3254          [self, host, game, stream, host, moonlight]\\n3255    [aimsicd, fight, imsi, catcher, stingray, sile...\\n3256                                 [doom, 3, bfg, edit]\\n3257    [use, linux, distribut, insid, termin, enabl, ...\\n3258                         [doom, 3, gpl, sourc, relea]\\n3259                                        [ne, emul, c]\\n3260                [linux, privileg, escal, audit, tool]\\n3261                                               [boxj]\\n3262                          [featur, pack, aur, helper]\\n3263    [allow, easili, scan, delet, scam, comment, us...\\n3264    [merlin, cross, platform, post, exploit, http,...\\n3265         [htpc, homelab, servic, organ, written, php]\\n3266            [deepin源移植, debian, ubuntu上最快的qq, 微信安装方式]\\n3267    [rtmp, 推流器, rtmp, hl, 秒开播放器, 直播点播, 跨平台, win, i...\\n3268    [clash, gui, base, tauri, support, window, mac...\\n3269    [naxsi, open, sourc, high, perform, low, rule,...\\n3270                              [commun, fork, playcov]\\n3271    [gnu, radio, free, open, softwar, radio, ecosy...\\n3272    [gp, bicycl, speedomet, support, offlin, map, ...\\n3273                [noob, proof, n, 3d, custom, firmwar]\\n3274                [use, packag, declar, simplifi, emac]\\n3275    [免费机场, 免费vpn, 自动获取免, clash, v2ray, trojan, sr,...\\n3276                                     [pop, _o, shell]\\n3277    [tool, partial, deblob, intel, txe, firmwar, i...\\n3278    [open, sourc, full, stack, web, develop, frame...\\n3279                                    [bilibili, 公开课目录]\\n3280           [high, speed, download, support, platform]\\n3281    [robust, versatil, monocular, visual, inerti, ...\\n3282        [optikey, full, comput, control, speech, eye]\\n3283    [eyewit, design, take, screenshot, websit, pro...\\n3284    [open, sourc, github, android, client, app, fa...\\n3285                       [python, librari, work, audio]\\n3286                 [video, stabil, use, gyroscop, data]\\n3287                               [one, chatbot, client]\\n3288                [discontinu, purpo, markdown, editor]\\n3289                       [beauti, sm, messeng, android]\\n3290    [shadowsock, manag, tool, multi, user, traffic...\\n3291                                         [ˈyːbɐˌzɪçt]\\n3292    [mpc, hc, main, repositori, support, use, trac...\\n3293                [simpl, modern, gtk, e, book, reader]\\n3294                             [pokemon, termin, theme]\\n3295           [open, sourc, interfac, uniswap, protocol]\\n3296      [android, applic, stream, music, youtub, music]\\n3297    [基于, vue3, x, typescript, 的在线演示文稿, 幻灯片, 应用, 还原...\\n3298    [softwar, develop, portfolio, templat, help, s...\\n3299    [free, open, sourc, stream, softwar, built, ob...\\n3300                                   [havoc, framework]\\n3301    [curat, list, resourc, dev, design, join, devc...\\n3302                          [yet, anoth, dotfil, manag]\\n3303    [respond, llmnr, nbt, ns, mdn, poison, built, ...\\n3304                                 [同步和更新大佬脚本库, 更新懒人配置]\\n3305    [free, monero, randomx, miner, unifi, cryptoni...\\n3306                        [materi, design, theme, hexo]\\n3307    [reconftw, tool, design, perform, autom, recon...\\n3308    [fluxion, remak, linset, vk496, enhanc, function]\\n3309    [autorecon, multi, thread, network, reconnaiss...\\n3310    [collect, tutori, exampl, solv, understand, ma...\\n3311      [key, cross, platform, password, secret, vault]\\n3312                         [free, client, onedr, linux]\\n3313    [minecraft, java, edit, launcher, android, io,...\\n3314    [snake, toolkit, test, tweak, crack, json, web...\\n3315    [replac, icon, popular, app, style, maco, big,...\\n3316       [grv, termin, interfac, view, git, repositori]\\n3317    [crmeb开源商城免费开源多语言商城系统, tp6框架商城, 系统可商用, 包含小程序商城...\\n3318          [aleth, ethereum, c, client, tool, librari]\\n3319    [simpl, wireless, ap, setup, manag, debian, ba...\\n3320                               [dotfil, deploy, larb]\\n3321    [dolibarr, erp, crm, modern, softwar, packag, ...\\n3322                    [unoffici, bilibili, client, mac]\\n3323                 [space, explor, trade, combat, game]\\n3324                             [text, editor, markdown]\\n3325               [simpl, c, geometri, process, librari]\\n3326         [automat, movi, download, via, nzb, torrent]\\n3327                    [sketch, take, handwritten, note]\\n3328                           [compo, one, mail, server]\\n3329    [script, made, aid, process, migrat, php, mysq...\\n3330               [open, sourc, vulner, manag, platform]\\n3331    [legendari, free, open, sourc, replac, epic, g...\\n3332    [nginx, 1, 9, 2源码通读分析注释, 带详尽函数中文分析注释以及相关函数流程调用...\\n3333              [javascript, librari, make, page, danc]\\n3334       [last, modern, termin, emul, longer, maintain]\\n3335                                  [mirror, gnu, emac]\\n3336                      [multi, function, discord, bot]\\n3337               [third, parti, telegram, android, app]\\n3338                       [arduino, command, line, tool]\\n3339    [simpl, tool, configur, window, filter, platfo...\\n3340        [text, support, code, think, stat, 2nd, edit]\\n3341                                [阅读, app, 精品书源, 网络小说]\\n3342                 [支持主题设计的, markdown, 编辑器, 让排版变, nice]\\n3343                   [project, interact, librari, emac]\\n3344    [written, c, use, sdl, powder, toy, desktop, v...\\n3345    [os, kernel, lab, base, rust, c, lang, risc, v...\\n3346                               [reddit, enhanc, suit]\\n3347                                    [鼠鬚管, rime, maco]\\n3348                      [password, manag, app, android]\\n3349    [singl, file, php, file, manag, browser, manag...\\n3350    [modern, meet, insan, exten, futur, organ, lif...\\n3351    [decentr, video, share, social, media, platfor...\\n3352    [develop, tool, project, fast, easi, power, li...\\n3353    [skull, mac, app, block, access, distract, web...\\n3354                    [mount, browser, tab, filesystem]\\n3355                   [御坂翻译器, galgam, 文字游戏, 漫画多语种实时机翻工具]\\n3356    [collect, advanc, css, style, creat, realist, ...\\n3357                        [jpex, free, flash, decompil]\\n3358        [bistoury是去哪儿网的java应用生产问题诊断工具, 提供了一站式的问题诊断方案]\\n3359                 [open, sourc, mesh, process, system]\\n3360                [monorepo, host, proton, web, client]\\n3361    [simpl, fast, web, crawler, design, easi, quic...\\n3362    [不用官方sdk, 利用社交软件移动客户端, 微信, qq, 微博, 人人, 支付宝, 分享...\\n3363    [p4wnp1, highli, customiz, usb, attack, platfo...\\n3364    [基于spring, boot, 2, x的一站式前后端分离快速开发平台xboot, 微信小...\\n3365                [emb, neovim, chrome, firefox, other]\\n3366                    [android, remot, administr, tool]\\n3367                [desktop, vault, window, maco, linux]\\n3368    [simpl, swiss, armi, knife, http, http, troubl...\\n3369    [foreign, linux, run, unmodifi, linux, applic,...\\n3370    [power, tool, manag, network, troubleshoot, ne...\\n3371    [ffmpeg, android, io, tvo, maintain, anymor, s...\\n3372    [monitor, linux, process, without, root, permiss]\\n3373     [lazi, script, make, life, easier, cour, faster]\\n3374    [fetch, system, theme, inform, termin, linux, ...\\n3375                      [creat, python, gui, qt, minut]\\n3376    [android, anilist, client, let, stream, downlo...\\n3377    [conteúdo, para, quem, trabalha, com, programa...\\n3378                  [seed, develop, databa, real, data]\\n3379                                 [find, duplic, file]\\n3380    [veil, 3, 1, x, check, version, info, veil, ru...\\n3381                              [autom, redpil, loader]\\n3382                [快速搭建各种漏洞环境, variou, vulner, environ]\\n3383    [tool, compar, target, patch, level, microsoft...\\n3384    [coven, collabor, net, c2, framework, red, tea...\\n3385    [docker, contain, run, transmiss, torrent, cli...\\n3386    [飞书, gpt, 3, 5, dall, e, whisper, 飞一般的工作体验, 语音...\\n3387    [将typora伪装成latex的中文样式主题, 本科生轻量级课程论文撰写的好帮手, the...\\n3388                         [protect, dn, poison, china]\\n3389    [android, nfc, app, read, write, analyz, etc, ...\\n3390    [transpar, compress, activ, game, program, use...\\n3391    [social, media, enum, correl, tool, jacob, wil...\\n3392               [立党老师的润学, 零基础转码, 移民, 留学, 海外创业, 永居, 笔记]\\n3393                                 [anomali, detect, r]\\n3394                                          [hunt, elk]\\n3395    [web, base, local, tool, tight, version, contr...\\n3396    [open, world, open, sourc, voxel, rpg, inspir,...\\n3397    [run, applic, full, speed, sync, code, develop...\\n3398    [azur, lane, bot, cn, en, jp, tw, 碧蓝航线脚本, 无缝委托...\\n3399    [农业知识图谱, agrikg, 农业领域的信息检索, 命名实体识别, 关系抽取, 智能问答...\\n3400     [bear, tool, gener, compil, databa, clang, tool]\\n3401              [activ, window, watermark, port, linux]\\n3402                            [softwar, modular, synth]\\n3403                      [framework, man, middl, attack]\\n3404                   [ocr, javascript, via, emscripten]\\n3405    [perfect, emul, setup, studi, develop, linux, ...\\n3406                    [rocket, graphql, api, wordpress]\\n3407           [noi, suppress, plugin, base, xiph, rnnoi]\\n3408          [mullvad, vpn, client, app, desktop, mobil]\\n3409     [clojur, interact, develop, environ, rock, emac]\\n3410                 [tangerin, clementin, music, player]\\n3411                                   [upstream, mirror]\\n3412                                   [sandboxi, applic]\\n3413                                    [upgrad, everyth]\\n3414                       [rf, transmitt, raspberri, pi]\\n3415               [common, user, password, profil, cupp]\\n3416    [codo是一款为用户提供企业多混合云, 一站式devop, 自动化运维, 完全开源的云管理...\\n3417    [raspberrypi, distro, display, full, page, bro...\\n3418                     [golang, command, tutori, chine]\\n3419    [video, audio, download, android, base, yt, dl...\\n3420                        [巡风是一款适用于企业内网的漏洞快速应急, 巡航扫描系统]\\n3421                    [argon, 一个轻盈, 简洁的, wordpress, 主题]\\n3422    [android, app, stream, download, movi, tv, ser...\\n3423                     [ethereum, wallet, live, pocket]\\n3424              [数据挖掘, 计算机视觉, 自然语言处理, 推荐系统竞赛知识, 代码, 思路]\\n3425                      [web, frontend, motion, daemon]\\n3426    [custom, wordpress, nav, walker, class, fulli,...\\n3427                         [lightweight, blog, cm, php]\\n3428         [rout, audio, program, differ, audio, devic]\\n3429    [scrape, media, onlyfan, account, updat, regul...\\n3430                                                   []\\n3431    [offici, black, hat, arsen, secur, tool, repos...\\n3432                          [rime, 配置, 雾凇拼音, 长期维护的简体词库]\\n3433                                                   []\\n3434       [author, book, technic, document, r, markdown]\\n3435    [thinkup, give, insight, social, network, acti...\\n3436        [text, editor, help, write, clearer, simpler]\\n3437    [greenshot, window, report, bug, featur, go, h...\\n3438                        [creat, chatgpt, app, second]\\n3439    [tri, robust, user, friendli, hackabl, music, ...\\n3440               [materi, design, file, manag, android]\\n3441        [git, payload, collect, web, attack, payload]\\n3442                                                   []\\n3443                [free, open, among, us, proxim, chat]\\n3444    [emac, increment, complet, select, narrow, fra...\\n3445    [server, side, templat, inject, code, inject, ...\\n3446                                 [算法导论, 第三版中算法的c, 实现]\\n3447                   [open, sourc, home, autom, system]\\n3448                 [trojan, client, android, construct]\\n3449    [tradit, roguelik, game, pixel, art, graphic, ...\\n3450                                        [一款现代化的脚手架项目]\\n3451    [simpl, onlin, realtim, track, multipl, object...\\n3452    [leafpic, fluid, materi, design, altern, galle...\\n3453    [remot, control, remot, script, solut, built, ...\\n3454                  [digit, logic, design, tool, simul]\\n3455    [custom, launcher, minecraft, allow, easili, m...\\n3456    [android, java, librari, ffmpeg, binari, compi...\\n3457    [yet, anoth, unoffici, ugli, cross, platform, ...\\n3458                  [automat, music, download, sabnzbd]\\n3459                                [dui, 配置, foobar2000]\\n3460               [collect, enhanc, unifio, base, devic]\\n3461    [render, high, resolut, map, minecraft, world,...\\n3462    [tampermonkey, popular, userscript, manag, 10,...\\n3463    [自动抓取tg频道, 订阅地址, 公开互联网上的ss, ssr, vmess, trojan...\\n3464    [chine, translat, stanford, cs229, note, 斯坦福机器...\\n3465                             [knock, subdomain, scan]\\n3466    [rememb, 𝘢𝘯𝘺𝘵𝘩𝘪𝘯𝘨, 𝘢𝘯𝘺𝘵𝘪𝘮𝘦, 𝘢𝘯𝘺𝘸𝘩𝘦𝘳𝘦, extern, ...\\n3467                   [shadowsock, libev, openwrt, lede]\\n3468    [system, design, process, defin, architectur, ...\\n3469          [card, style, hugo, theme, design, blogger]\\n3470              [termin, base, matrix, like, implement]\\n3471           [social, network, servic, scraper, python]\\n3472    [simpl, calendar, event, task, customiz, color...\\n3473               [browser, exten, faster, read, websit]\\n3474    [debug, adapt, protocol, client, implement, ne...\\n3475                              [wire, io, iphon, ipad]\\n3476                        [tile, window, manag, window]\\n3477             [product, maco, keyboard, driven, navig]\\n3478          [easi, use, openstreetmap, editor, android]\\n3479    [posix, script, find, watch, youtub, video, te...\\n3480    [next, gener, distribut, event, driven, parall...\\n3481                      [descomplicando, docker, livro]\\n3482    [list, free, open, sourc, softwar, foss, andro...\\n3483    [frida, tool, dump, dex, memori, support, secu...\\n3484          [cross, version, python, bytecod, decompil]\\n3485    [glpi, free, asset, manag, softwar, packag, da...\\n3486                [effect, java, 第3版, 各章节的中英文学习参考, 已完成]\\n3487    [project, real, time, applic, opencv, use, fir...\\n3488                [linux, multi, touch, gestur, recogn]\\n3489                    [bittorr, filesystem, base, fuse]\\n3490               [兰空图床, lski, pro, photo, album, cloud]\\n3491              [go, implement, ethereum, proof, stake]\\n3492    [v2ray, linux, gui客户端, 支持订阅, vemss, ss等协议, 自动更...\\n3493                            [gener, artist, qr, code]\\n3494      [cancer, 一个, chrome, 插件, 将, googl, cdn, 替换为国内的]\\n3495    [tensorflow, python, api, implement, neural, s...\\n3496    [dn, meta, queri, spider, enum, dn, record, su...\\n3497    [lightweight, password, manag, android, keepas...\\n3498    [ansibl, lint, check, playbook, practic, behav...\\n3499    [earlier, yolov7, offici, one, yolo, transform...\\n3500    [klip, javascript, plugin, emb, interact, code...\\n3501                              [bittorr, softwar, cat]\\n3502         [bash, power, command, line, edit, cmd, exe]\\n3503    [csploit, complet, advanc, secur, profess, too...\\n3504    [simpl, beauti, gui, applic, scrcpi, qq群, 7343...\\n3505    [plasma, interact, disassembl, x86, arm, mip, ...\\n3506               [digit, logic, design, circuit, simul]\\n3507    [boot, chromeo, x86_64, pc, support, intel, cp...\\n3508    [premium, app, manag, edit, photo, video, gif,...\\n3509            [beauti, customiz, wallpap, manag, linux]\\n3510    [mqtt, gateway, esp8266, esp32, sonoff, rf, br...\\n3511    [power, http, api, gateway, pure, golang, goku...\\n3512    [gui, packag, manag, packag, instal, window, s...\\n3513                [patch, gimp, 2, 10, photoshop, user]\\n3514       [best, materi, design, music, player, android]\\n3515    [window, driver, xinput, wrapper, soni, dualsh...\\n3516    [webcollector, open, sourc, web, crawler, fram...\\n3517              [voron, 2, corexi, 3d, printer, design]\\n3518    [fast, fuck, nvim, complet, sqlite, concurr, s...\\n3519    [minimalist, command, line, knowledg, base, ma...\\n3520    [underscor, bootstrap, understrap, renown, ope...\\n3521                            [rule, base, proxi, maco]\\n3522    [marketch, sketch, 3, plug, automat, gener, ht...\\n3523       [leanback, style, tv, launcher, minsdkver, 17]\\n3524                      [par, mysql, binlog, sql, want]\\n3525                     [librari, audio, music, analysi]\\n3526        [tensorflow, implement, east, text, detector]\\n3527        [golem, creat, global, market, comput, power]\\n3528                               [unlock, vmware, maco]\\n3529    [gener, respon, page, app, html, tailwind, flu...\\n3530     [tool, allow, add, game, ne, sne, classic, mini]\\n3531    [port, doubl, tap, back, devic, featur, androi...\\n3532       [pvr, episod, guid, download, manag, tv, show]\\n3533                             [unison, file, synchron]\\n3534    [vulmap, 是一款, web, 漏洞扫描和验证工具, 可对, webapp, 进行漏洞...\\n3535                                   [猫抓, chrome资源嗅探扩展]\\n3536    [simpl, foss, video, stream, client, aim, recr...\\n3537                                      [patch, revanc]\\n3538    [like, ls, imag, show, thumbnail, termin, use,...\\n3539    [ehview, overhaul, materi, design, 3, jetpack,...\\n3540    [network, recon, framework, build, self, host,...\\n3541             [node, js, mongodb, googl, drive, clone]\\n3542                [nse, script, base, vulner, com, api]\\n3543    [这是一款可以播放常见音频格式的音频播放器, 支持歌词显示, 歌词卡拉ok样式显示, 歌词在...\\n3544    [errbot, chatbot, daemon, connect, favorit, ch...\\n3545    [p4wnp1, l, mame82, framework, turn, rapsberri...\\n3546              [tomahawk, multi, sourc, music, player]\\n3547              [taho, commun, own, oper, web3, wallet]\\n3548    [open, event, organ, server, manag, event, htt...\\n3549                           [archiv, ancient, histori]\\n3550                     [用, diango, 开发的, shadowsock, 面板]\\n3551         [home, autom, firmwar, esp8266, base, devic]\\n3552                             [exten, vi, layer, emac]\\n3553                                                   []\\n3554            [tweet, metadata, scraper, activ, analyz]\\n3555    [want, learn, new, stuff, free, worri, power, ...\\n3556    [qttabbar, small, tool, allow, use, tab, multi...\\n3557    [versatil, javascript, typewrit, effect, libra...\\n3558    [plugin, android, studio, intellij, idea, gene...\\n3559    [alien, cuda, power, artifici, life, simul, pr...\\n3560                             [simpl, client, android]\\n3561    [fastest, complet, solut, domain, recognit, su...\\n3562                               [web, gui, youtub, dl]\\n3563                    [loki, simpl, ioc, yara, scanner]\\n3564    [cmb2, develop, toolkit, build, metabox, custo...\\n3565    [deprec, fast, pdf, reader, compon, android, d...\\n3566                                                   []\\n3567                                  [小狼毫, rime, window]\\n3568                                                   []\\n3569    [bibigpt, one, click, summari, video, audio, c...\\n3570                           [archlinux, ultim, instal]\\n3571    [夜, yoru, aesthet, beauti, awesom, environ, fi...\\n3572                  [easili, document, cabl, wire, har]\\n3573                                [advanc, phish, tool]\\n3574                       [stack, blockchain, implement]\\n3575    [advanc, usermod, anti, anti, debugg, fork, ht...\\n3576                              [vesta, control, panel]\\n3577    [autojs6, base, ant, forest, energi, auto, col...\\n3578                         [main, mister, binari, wiki]\\n3579                                 [weapon, web, shell]\\n3580                               [新闻网页正文通用抽取器, beta, 版]\\n3581    [fix, docker, ufw, secur, flaw, without, disab...\\n3582                       [动漫磁性链接加速方案, animetrackerlist]\\n3583            [collect, util, window, subsystem, linux]\\n3584                                   [telegram, window]\\n3585                                       [超迷你模块化卡片电脑计划]\\n3586               [wordpress, theme, focu, read, experi]\\n3587    [lightweight, real, time, memori, manag, appli...\\n3588                             [emac, x, window, manag]\\n3589             [look, smell, like, sonarr, made, music]\\n3590    [simpl, caldav, calendar, carddav, contact, se...\\n3591    [kscan是一款纯go开发的全方位扫描器, 具备端口扫描, 协议检测, 指纹识别, 暴力破...\\n3592              [visual, track, librari, base, pytorch]\\n3593    [power, use, hacker, dictionari, builder, brut...\\n3594                  [modern, minimalist, pixel, editor]\\n3595    [zkeacm, build, net, 7, net, cm, 可视化设计在线编辑内容管理系统]\\n3596    [instal, lamp, linux, apach, mysql, mariadb, p...\\n3597    [web, app, scrapyd, cluster, manag, scrapi, lo...\\n3598    [c, librari, consol, app, use, new, featur, co...\\n3599          [autokey, desktop, autom, util, linux, x11]\\n3600           [optim, base, multi, sensor, state, estim]\\n3601             [materi, design, music, player, android]\\n3602                             [network, analysi, tool]\\n3603      [linux, enum, tool, pentest, ctf, verbo, level]\\n3604                                                   []\\n3605    [lite, c, toolkit, awesom, ai, model, onnxrunt...\\n3606    [tool, techniqu, punch, hole, firew, nat, clie...\\n3607             [dopefolio, portfolio, templat, develop]\\n3608                 [inject, code, run, python, process]\\n3609                [shaved_, beauti, markdown, notebook]\\n3610    [shatter, pixel, dungeon, open, sourc, tradit,...\\n3611                                  [集合多家, api, 的新一代图床]\\n3612    [pafish, test, tool, use, differ, techniqu, de...\\n3613    [open, sourc, data, model, tool, design, postg...\\n3614    [small, util, modifi, dynam, linker, rpath, el...\\n3615    [one, music, sequenc, major, platform, desktop...\\n3616    [advanc, web, directori, file, scan, tool, pow...\\n3617    [golang, implement, redi, server, cluster, go,...\\n3618                                 [dynam, document, r]\\n3619                                [exten, chat, client]\\n3620                       [sina, weibo, android, client]\\n3621    [file, convert, simpl, tool, allow, convert, c...\\n3622    [high, perform, dn, stub, resolv, bulk, lookup...\\n3623    [open, sourc, arm, cortex, microcontrol, librari]\\n3624    [vue, 3, vite, 2, vue, router, 4, element, plu...\\n3625                                       [talk, codeba]\\n3626    [date, easi, appoint, self, host, appoint, sch...\\n3627    [chrome, 扩展, 批量下载, pixiv, 的插画和小说, 过滤作品, 下载时重命名...\\n3628    [翻墙, 从容穿越党国敏感日, shadowsocksr, ssrot, nativ, im...\\n3629                    [bring, astrid, task, back, dead]\\n3630                              [parametr, 2d, 3d, cad]\\n3631                  [termin, base, pokemon, like, game]\\n3632                           [duck, duckduckgo, termin]\\n3633                   [markdown, editor, inlin, preview]\\n3634    [free, use, onlin, tool, label, photo, http, m...\\n3635    [beauti, use, low, latenc, prompt, shell, writ...\\n3636    [automat, gener, go, golang, struct, definit, ...\\n3637             [self, host, audiobook, podcast, server]\\n3638    [signal, cli, provid, unoffici, commandlin, db...\\n3639                             [school, manag, softwar]\\n3640    [open, sourc, intellig, gather, tool, aim, red...\\n3641    [gdbfrontend, easi, flexibl, exten, gui, debug...\\n3642    [eaf, exten, framework, revolut, graphic, capa...\\n3643                  [cloud, secur, postur, manag, cspm]\\n3644             [open, sourc, notion, ui, built, vue, 3]\\n3645                               [phone, wire, android]\\n3646    [open, sourc, asp, net, mvc, enterpri, ecommer...\\n3647    [iceman, fork, proxmark3, rfid, nfc, reader, w...\\n3648    [resourcefriendli, featur, rich, replac, i3sta...\\n3649    [phimp, photo, imag, pictur, editor, http, pla...\\n3650    [deep, learn, porn, video, classifi, editor, c...\\n3651                       [patch, level, verif, bundler]\\n3652                  [self, host, youtub, media, server]\\n3653              [python, packag, evalu, odometri, slam]\\n3654           [open, sourc, note, take, applic, android]\\n3655    [one, hack, tool, remot, exploit, android, dev...\\n3656          [b站录播姬, bilibili, stream, record, 哔哩哔哩直播录制]\\n3657    [kavita, fast, featur, rich, cross, platform, ...\\n3658    [python, librari, consol, tool, control, xiaom...\\n3659    [一个支持window, linux, mac的文本编辑器, 目标是要替换notepad, ...\\n3660                      [inject, code, spi, wifi, user]\\n3661                 [dsi, menu, replac, ds, dsi, 3d, 2d]\\n3662               [free, trade, strategi, freqtrad, bot]\\n3663    [lspatch, non, root, xpose, framework, extend,...\\n3664      [statist, algorithm, invest, strategi, everyon]\\n3665                                   [android系统源码分析重构中]\\n3666    [neovim, lua, plugin, help, easili, manag, mul...\\n3667    [clean, code, version, baseflight, flight, con...\\n3668    [lightn, fast, open, sourc, 200kb, android, la...\\n3669       [file, upload, vulner, scanner, exploit, tool]\\n3670                [opengl, rt, game, engin, written, c]\\n3671    [polici, driven, snapshot, manag, replic, tool...\\n3672                      [cross, platform, sdr, softwar]\\n3673              [tool, help, us, buy, hard, find, item]\\n3674    [hardentool, simpli, reduc, attack, surfac, mi...\\n3675        [unoffici, galaxi, bud, manag, window, linux]\\n3676    [golang修养之路, 本书针对golang专题性热门技术深入理解, 修养在golang领...\\n3677    [webbench是radim, kolar在1997年写的一个在linux下使用的非常简单...\\n3678    [synth, plug, previou, relea, vember, audio, s...\\n3679                                         [sourc, iso]\\n3680    [simpl, script, anali, postgresql, databa, con...\\n3681                                              [已长久停更]\\n3682    [softwar, defin, radio, receiv, power, gnu, ra...\\n3683                    [environ, monitor, regul, system]\\n3684    [unoffici, userspac, driver, hid, logitech, de...\\n3685          [applic, debugg, arm, cortex, microcontrol]\\n3686                    [outlin, take, note, manag, list]\\n3687         [best, cli, client, slack, everyth, terribl]\\n3688    [resourc, ublock, origin, umatrix, static, fil...\\n3689                                          [lsd, slam]\\n3690        [goxel, free, open, sourc, 3d, voxel, editor]\\n3691                       [modern, design, theme, grub2]\\n3692                                    [基于golang的开源社区系统]\\n3693     [dx7, fm, multi, plaform, multi, format, plugin]\\n3694    [api, current, case, stuff, covid, 19, influenza]\\n3695                             [light, ldap, implement]\\n3696                                                   []\\n3697          [arch, linux, fast, instal, tutori, instal]\\n3698    [blockchain, explor, ethereum, base, network, ...\\n3699      [power, browser, crawler, web, vulner, scanner]\\n3700                 [core, smart, contract, uniswap, v2]\\n3701    [voron, commun, mod, slicer, profil, firmwar, ...\\n3702         [highli, customiz, maco, statu, bar, replac]\\n3703    [afwal, android, firew, iptabl, base, firew, a...\\n3704    [notifi, select, plane, taken, land, use, open...\\n3705    [homebridg, docker, homekit, support, impati, ...\\n3706    [mrdoc, onlin, document, system, develop, base...\\n3707                  [decentr, oper, system, zk, applic]\\n3708    [open, letter, support, richard, matthew, stal...\\n3709                                        [use, script]\\n3710    [autom, nosql, databa, enum, web, applic, expl...\\n3711       [inav, navig, enabl, flight, control, softwar]\\n3712    [visual, code, code, free, web, crawler, spide...\\n3713    [proxmox, tool, script, debian9, use, includ, ...\\n3714                                 [monitor, cron, job]\\n3715              [convert, html, markdown, format, text]\\n3716    [rathena, open, sourc, cross, platform, mmorpg...\\n3717    [robust, fast, intuit, plain, text, account, t...\\n3718    [cyberduck, libr, ftp, sftp, webdav, amazon, s...\\n3719                   [free, maco, app, io, view, debug]\\n3720    [log, everyth, comput, statist, futur, refer, ...\\n3721                                 [linter, yaml, file]\\n3722    [stm32, esp32, esp8285, base, high, perform, r...\\n3723             [small, fast, nativ, lisp, magic, power]\\n3724                    [applic, autom, lifecycl, server]\\n3725                        [simpl, obfusc, tool, deprec]\\n3726    [offici, repositori, telegram, bot, download, ...\\n3727    [free, system, monitor, osx, maco, see, system...\\n3728           [creativ, unusu, thing, done, window, api]\\n3729       [open, sourc, self, host, featur, flag, solut]\\n3730       [multipurpo, homebrew, tool, nintendo, switch]\\n3731                                  [less, rage, chill]\\n3732     [tool, find, metadata, hidden, inform, document]\\n3733    [firefox, exten, demonstr, http, session, hija...\\n3734       [android, rss, reader, present, materi, style]\\n3735     [fast, simpl, homebrew, save, manag, 3d, switch]\\n3736    [apk, sh, make, rever, engin, android, app, ea...\\n3737                      [fli, syntax, check, gnu, emac]\\n3738    [python, code, par, twitter, archiv, output, v...\\n3739       [wavy_dash, overview, open, sourc, code, wire]\\n3740                          [fast, robust, emac, setup]\\n3741    [frp, 一键安装脚本, 管理脚本, tool, auto, compil, instal...\\n3742                                [minecraft, mod, api]\\n3743         [magic, auto, bright, base, screen, content]\\n3744      [专注于非越狱环境下ios应用逆向研究, 从dylib注入, 应用重签名到app, hook]\\n3745    [easi, use, tool, chang, behaviour, input, devic]\\n3746    [一款适用于以hw行动, 红队, 渗透测试团队为场景的移动端, android, io, w...\\n3747           [open, sourc, digit, imag, foren, toolset]\\n3748    [blue_book, 电子书, real, time, render, 3rd, 提炼总结...\\n3749    [multipurpo, rss, reader, live, stream, mashup...\\n3750    [full, fledg, gui, integr, award, win, open, s...\\n3751      [lightweight, privaci, friendli, altern, disqu]\\n3752                         [现代化, 开源的, linux, 服务器运维管理面板]\\n3753          [simplescreenrecord, screen, record, linux]\\n3754    [bar_chart, statist, analysi, tool, git, repos...\\n3755    [android, applic, compat, zx2c4, pass, command...\\n3756    [用于在插上u盘后自动按需复制该u盘的文件, 备份, 偷u盘文件的神器, 写作usbcopi...\\n3757    [hestia, control, panel, lightweight, power, c...\\n3758                                                   []\\n3759                 [core, imag, filter, explor, showca]\\n3760    [organ, app, window, tab, like, abandon, windo...\\n3761    [qt, base, cross, platform, gui, proxi, config...\\n3762    [task, manag, todoist, support, design, gnu, l...\\n3763    [gener, host, overview, ansibl, fact, gather, ...\\n3764                           [disintegr, window, style]\\n3765    [script, build, octopi, raspberri, pi, distro,...\\n3766    [open, sourc, tool, enforc, privaci, secur, be...\\n3767                            [custom, launcher, ffxiv]\\n3768    [小白的python入门教程实战篇, 网站, io, app源码, http, cn, r2...\\n3769            [tool, refurbish, modern, python, codeba]\\n3770    [flutter_mall是一款flutter开源在线商城应用程序, 是基于litemall...\\n3771              [intel, bluetooth, kernel, exten, maco]\\n3772    [impostor, open, sourc, reimplement, among, us...\\n3773    [better, github, statist, imag, profil, stat, ...\\n3774    [glider, forward, proxi, multipl, protocol, su...\\n3775    [popular, open, sourc, electron, health, recor...\\n3776    [electron跨平台音乐播放器, 可搜网易云, qq音乐, 虾米音乐, 支持qq, 微博...\\n3777    [web, exten, redirect, popular, site, altern, ...\\n3778    [一键同步文章到多个内容平台, 支持今日头条, wordpress, 知乎, 简书, 掘金,...\\n3779            [helm, free, polyphon, synth, lot, modul]\\n3780       [add, margin, round, corner, segment, taskbar]\\n3781                   [dynam, tile, wayland, compositor]\\n3782    [fine, tune, llama, follow, instruct, within, ...\\n3783    [anaconda, turn, sublim, text, 3, full, featur...\\n3784    [invert, scroll, direct, physic, scroll, wheel...\\n3785    [censorship, circumv, tool, evad, detect, auth...\\n3786    [pancak, pancak, main, featur, farm, pool, ifo...\\n3787        [sleekest, look, webui, qbittorr, made, vuej]\\n3788                            [adguard, browser, exten]\\n3789    [malwoverview, first, respon, tool, use, threa...\\n3790    [tshock, provid, terraria, server, server, sid...\\n3791    [system, automat, configur, mutt, isync, simpl...\\n3792    [element, statist, learn, esl, 的中文翻译, 代码实现及其习题解答]\\n3793    [turn, websit, api, sever, click, serverless, ...\\n3794    [ansibl, base, solut, rapidli, deploy, docker,...\\n3795    [pagodo, passiv, googl, dork, autom, googl, ha...\\n3796    [repositori, collect, algorithm, data, structu...\\n3797    [real, intellig, threat, analyt, rita, framewo...\\n3798    [penetr, test, guid, base, owasp, includ, test...\\n3799    [github星聚弃疗榜, 让吃瓜群众也能享受github带来的乐趣, github, st...\\n3800    [texstudio, fulli, featur, latex, editor, goal...\\n3801                                         [天猫超市茅台抢票功能]\\n3802    [art, qr, code, qrcode, beautifi, 艺术二维码生成器, ht...\\n3803    [aircrack, airodump, aireplay, mdk3, reaver, g...\\n3804    [node, base, imag, process, ai, upscal, gui, m...\\n3805                 [kernel, base, root, solut, android]\\n3806    [模仿国内知名b2c网站, 实现的一个分布式b2c商城, 使用spring, boot, 自...\\n3807    [runtim, mobil, secur, rm, power, web, interfa...\\n3808        [modern, reimplement, diablo, 1, game, engin]\\n3809    [nodejsscan, static, secur, code, scanner, nod...\\n3810                  [tamper, proxi, server, appl, siri]\\n3811    [swift, obfusc, protect, io, app, rever, engin...\\n3812                         [magic, web, record, player]\\n3813    [power, cross, platform, raw, photo, process, ...\\n3814    [firmwar, pinetim, smartwatch, written, c, bas...\\n3815    [curat, list, pretrain, sentenc, word, emb, mo...\\n3816    [gowit, golang, web, screenshot, util, use, ch...\\n3817          [offici, go, implement, ethereum, protocol]\\n3818    [unix, like, rever, engin, framework, command,...\\n3819          [convert, html, pdf, use, webkit, qtwebkit]\\n3820                   [百度网盘不限速客户端, golang, qt5, 跨平台图形界面]\\n3821    [launch, 2018, 2023, pysimplegui, activ, devel...\\n3822                     [pleasant, note, take, platform]\\n3823    [open, sourc, web, applic, framework, asp, net...\\n3824    [qt, bind, go, golang, support, window, maco, ...\\n3825    [self, host, speedtest, html5, easi, setup, ex...\\n3826    [python, autom, machin, learn, tool, optim, ma...\\n3827       [script, download, coursera, org, video, name]\\n3828    [former, gui, client, grpc, servic, longer, ma...\\n3829         [yet, anoth, system, region, languag, simul]\\n3830                        [credenti, recoveri, project]\\n3831       [complet, open, sourc, web, conferenc, system]\\n3832           [cross, platform, shadowsock, gui, client]\\n3833                                   [continu, inspect]\\n3834    [plugin, framework, android, run, third, parti...\\n3835       [skip, youtub, video, sponsor, browser, exten]\\n3836                              [usual, toast, steroid]\\n3837    [real, time, non, inva, aop, framework, contai...\\n3838                    [type, interact, github, api, v3]\\n3839    [detect, script, help, identifi, pc, window, 1...\\n3840    [power, friendli, nginx, base, lua, nginx, mod...\\n3841                            [googl, map, block, game]\\n3842    [vim, python, mode, pylint, rope, pydoc, break...\\n3843                     [openpgp, implement, javascript]\\n3844    [flexibl, invoic, desktop, app, beauti, custom...\\n3845    [pytorch, implement, offici, efficientdet, sot...\\n3846         [distribut, evolutionari, algorithm, python]\\n3847    [use, known, method, attempt, minim, track, wi...\\n3848    [强国通, 科技强国, 学习强国, xuexiqiangguo, 全网最好用开源网页学习强国...\\n3849    [3d, printer, slice, gui, built, top, uranium,...\\n3850         [camera, git, base, selfi, softwar, develop]\\n3851    [system, restor, tool, linux, creat, filesyste...\\n3852    [permiss, implement, ethereum, support, data, ...\\n3853    [privaci, enhanc, bittorr, client, p2p, conten...\\n3854    [cloud, nativ, multi, cloud, applic, manag, pl...\\n3855    [fabric, mod, design, improv, frame, rate, red...\\n3856         [winbtrf, open, sourc, btrf, driver, window]\\n3857           [automat, cpu, speed, power, optim, linux]\\n3858    [jeepay是一套适合互联网企业使用的开源支付系统, 支持多渠道服务商和普通商户模式, 已...\\n3859    [offici, implement, deeplabcut, markerless, po...\\n3860                    [pa11i, autom, access, test, pal]\\n3861    [reviv, unavail, song, netea, cloud, music, re...\\n3862    [fast, reliabl, background, task, process, lib...\\n3863    [dkron, distribut, fault, toler, job, schedul,...\\n3864    [clearurl, add, base, new, webexten, technolog...\\n3865    [websockifi, websocket, tcp, proxi, bridg, all...\\n3866    [eleg, modern, asynchron, telegram, mtproto, a...\\n3867                 [ultim, winrm, shell, hack, pentest]\\n3868                          [免费, 安全, 稳定, 高效的发卡系统, 值得拥有]\\n3869                    [java, implement, tron, whitepap]\\n3870    [open, sourc, deep, packet, inspect, softwar, ...\\n3871                                         [经典的网页对话框组件]\\n3872                                   [简洁好用的数据库表结构文档生成器]\\n3873                                                   []\\n3874     [server, softwar, minecraft, bedrock, edit, php]\\n3875    [grain, compil, toolchain, cli, home, modern, ...\\n3876    [bytetcc, distribut, transact, manag, base, tc...\\n3877    [ref, cn, 原型设计元件库, 基于axur, rp, 10, 9, 8, 支持, a...\\n3878    [javascript, ui, compon, interact, audio, wave...\\n3879    [arduino, librari, control, singl, wire, led, ...\\n3880                [convert, profil, output, dot, graph]\\n3881    [free, zip, unzip, softwar, rar, file, extract...\\n3882                    [树洞, ocr, 文字识别, 一款跨平台的, ocr, 小工具]\\n3883    [wip, modern, shader, mod, minecraft, intend, ...\\n3884    [open, sourc, cross, platform, qt, base, ide, ...\\n3885    [中文自然语言处理工具包, toolkit, chine, natur, languag, ...\\n3886    [ffmpeg, kit, applic, support, android, flutte...\\n3887    [jpress, 一个使用, java, 开发的建站神器, 目前已经有, 10w, 网站使用...\\n3888    [power, server, network, librari, includ, coro...\\n3889                     [librari, gener, data, structur]\\n3890                  [python, svg, graph, plot, librari]\\n3891                      [databa, document, built, easi]\\n3892    [univ, devic, detect, librari, par, user, agen...\\n3893                                           [c, scada]\\n3894              [ethereum, implement, effici, frontier]\\n3895    [tool, redirect, news, search, widget, weather...\\n3896    [哔咔漫画, picacg, comic, pc, client, window, linu...\\n3897    [deprec, ansibl, contain, tool, build, docker,...\\n3898    [semant, diff, util, librari, tree, like, file...\\n3899    [deprec, java, implement, ethereum, yellowpap,...\\n3900    [gordon, arduino, wire, like, wiringpi, librar...\\n3901    [bnb, smart, chain, client, base, go, ethereum...\\n3902    [spotbug, plugin, secur, audit, java, web, app...\\n3903    [mpri, media, player, command, line, control, ...\\n3904              [java, librari, creat, text, base, gui]\\n3905                                             [已终止该项目]\\n3906                     [termin, graphic, 21st, centuri]\\n3907    [pdfparser, standalon, php, librari, provid, v...\\n3908                       [python, wrapper, gitlab, api]\\n3909    [modul, manag, magisk, offici, app, drop, supp...\\n3910    [import, json, googl, sheet, librari, add, var...\\n3911                  [php, compat, check, php_codesniff]\\n3912                                         [强一致分布式事务框架]\\n3913    [common, financ, technic, indic, implement, pa...\\n3914    [open, sourc, cross, platform, user, mode, tab...\\n3915    [simpl, tool, download, video, lectur, edx, or...\\n3916    [unix, like, rever, engin, framework, command,...\\n3917                    [materi, design, weather, applic]\\n3918    [frontend, search, loklak, server, http, lokla...\\n3919       [modern, respon, admin, framework, rubi, rail]\\n3920                     [cryptograph, filesystem, cloud]\\n3921    [beauti, linux, system, http, meilix, org, apt...\\n3922    [codemaid, open, sourc, visual, studio, exten,...\\n3923                 [rocket, fast, system, log, process]\\n3924    [arduino, librari, add, one, joystick, list, h...\\n3925    [ethermint, cosmo, sdk, librari, run, scalabl,...\\n3926    [文件快递柜, 匿名口令分享文本, 文件, 像拿快递一样取文件, file, express...\\n3927    [daptin, backend, servic, graphql, json, api, ...\\n3928    [高性能和高兼容性的1, 12, 2, 1, 16, 5, 1, 18, 2版本forg, ...\\n3929    [evolutionari, algorithm, toolbox, framework, ...\\n3930              [open, sourc, flash, player, implement]\\n3931    [fabric, mod, design, improv, gener, perform, ...\\n3932    [spring, cloud, 微服务开发核心工具集, 工具类, 验证码, http, re...\\n3933    [command, line, cloud, music, player, linux, s...\\n3934          [small, arduino, librari, gsm, modul, work]\\n3935    [open, sourc, softwar, volunt, comput, grid, c...\\n3936                   [quibbl, custom, window, bootload]\\n3937     [command, line, util, search, download, exploit]\\n3938    [discord4j, fast, power, unopinion, reactiv, l...\\n3939    [fossasia, googl, code, websit, 2017, 18, http...\\n3940                          [python, refactor, librari]\\n3941    [veril, open, sourc, systemverilog, simul, lin...\\n3942       [stickup, jqueri, plugin, sticki, navig, menu]\\n3943                     [python, librari, knit, pattern]\\n3944    [easili, build, backtest, deploy, algo, line, ...\\n3945                         [toolbox, zksnark, ethereum]\\n3946    [asynchron, server, side, framework, network, ...\\n3947                                    [brood, war, api]\\n3948    [webapp, gener, custom, iso, imag, base, meili...\\n3949               [knit, backend, librari, knit, machin]\\n3950    [unmaintain, open, sourc, javascript, render, ...\\n3951                                         [kniteditor]\\n3952         [standard, dao, framework, includ, whitepap]\\n3953                                          [图形化adb工具箱]\\n3954            [python, librari, interfac, ayab, shield]\\n3955         [3d, bodi, visual, compon, bodyapp, project]\\n3956    [domin, python, librari, creat, manipul, html,...\\n3957    [lightweight, ultra, fast, shadowsock, librari...\\n3958    [barcod, gener, php, easi, use, non, bloat, fr...\\n3959                            [flask, app, simpl, form]\\n3960    [springblad, 3, 0, 架构核心工具包, springblad, 是一个由商业...\\n3961        [locat, motion, activ, record, framework, io]\\n3962    [maven, plugin, includ, build, time, git, repo...\\n3963                            [core, protocol, harmoni]\\n3964                               [java, client, fastdf]\\n3965            [simpl, calcul, web, app, use, ember, js]\\n3966                        [cross, platform, ide, shell]\\n3967    [ssh, rdp, vnc, telnet, sftp, bastion, jump, w...\\n3968    [evmo, first, decentr, evm, chain, cosmo, netw...\\n3969                                                   []\\n3970                      [send, virtual, input, command]\\n3971       [safe, allow, secur, manag, blockchain, asset]\\n3972    [power, workflow, engin, implement, pure, python]\\n3973    [platform, independ, near, field, commun, nfc,...\\n3974                               [bodyapp, measur, app]\\n3975                 [detect, potenti, malici, php, file]\\n3976                       [open, sourc, altern, proxifi]\\n3977    [web, servic, web, applic, compon, bodyapp, pr...\\n3978                              [opentechsummit, india]\\n3979                            [project, homepag, forum]\\n3980    [opentechsummit, 2018, http, 2018, opentechsum...\\n3981          [视频边下边播播, 把播放器播放过的数据流缓存到本地, 支持拖动, 采用avplay]\\n3982    [opentechsummit, asia, http, opentechsummit, a...\\n3983    [maui, shell, converg, shell, desktop, tablet,...\\n3984    [sming, power, open, sourc, framework, simplif...\\n3985                     [luci, interfac, clash, openwrt]\\n3986    [wysiwyg, editor, base, ckeditor, complet, rew...\\n3987                  [四叶草拼音输入方案, 做最好用的基于rime开源的简体拼音输入方案]\\n3988                    [svg, file, par, render, librari]\\n3989    [nixop, tool, deploy, nixo, machin, network, c...\\n3990                               [annot, quickli, imag]\\n3991    [pluggabl, authent, modul, pam, allow, establi...\\n3992                          [deprec, web, framework, c]\\n3993    [semi, autom, feedback, driven, tool, rapidli,...\\n3994    [deploy, run, get, result, amazon, aw, lambda,...\\n3995      [open, sourc, tomb, raider, 1, 5, engin, remak]\\n3996                            [open, sourc, eye, track]\\n3997    [legaci, pocketmin, mp, repositori, head, http...\\n3998                          [地图搜租房, 微信公众号, 小程序, 人生删除指南]\\n3999    [ranger, like, termin, file, manag, written, r...\\n4000         [open, sourc, ifc, librari, geometri, engin]\\n4001        [python, modul, manag, digit, ocean, droplet]\\n4002                            [whale, sonarqub, docker]\\n4003                          [mod, api, stardew, valley]\\n4004    [web, data, extract, tool, implement, chrome, ...\\n4005    [cartopi, cartograph, python, librari, matplot...\\n4006    [casadi, symbol, framework, numer, optim, impl...\\n4007        [lgpl, pure, python, opc, ua, client, server]\\n4008    [hammer, modern, multipl, rever, shell, sessio...\\n4009    [transpar, dictionari, base, row, level, compr...\\n4010                                 [python, dsp, modul]\\n4011             [browsercm, human, content, manag, rail]\\n4012    [authent, servic, keep, control, without, forc...\\n4013               [toolbox, adversari, robust, research]\\n4014              [adjust, power, manag, set, ryzen, apu]\\n4015                      [jqueri, slider, plugin, anyth]\\n4016    [phing, gnu, make, php, project, build, system...\\n4017    [cyaron, yet, anoth, random, olymp, informat, ...\\n4018    [cross, platform, commun, assist, serial, netw...\\n4019          [human, pose, estim, tensorflow, framework]\\n4020                       [procgen, american, citi, map]\\n4021    [client, side, memori, mongodb, back, localsto...\\n4022                                        [loklak, net]\\n4023    [deep, learn, packag, mani, bodi, potenti, ene...\\n4024    [offici, repositori, fulli, manag, cross, plat...\\n4025                 [sm, gateway, android, power, phone]\\n4026    [arduino, neopixel, support, librari, support,...\\n4027                             [openwash, android, app]\\n4028                         [openwash, hardwar, schemat]\\n4029                                [firmwar, open, wash]\\n4030      [attent, pg_shard, supers, citu, power, replac]\\n4031                                 [openwash, web, app]\\n4032                                  [openwash, artwork]\\n4033                     [openwash, backend, api, server]\\n4034                                       [knit, format]\\n4035                 [prime, hvml, interpret, c, languag]\\n4036                               [firmwar, sew, machin]\\n4037                             [openwash, format, spec]\\n4038       [allow, multipl, parti, agr, transact, execut]\\n4039     [platform, independ, serial, port, access, java]\\n4040                                   [sew, machin, app]\\n4041            [static, type, function, typeset, system]\\n4042    [art, made, phimp, http, orgmanag, miguelpiedr...\\n4043    [javascript, base, busi, report, platform, roc...\\n4044    [phimp, lab, http, orgmanag, miguelpiedrafita,...\\n4045    [fabric, mod, design, dramat, improv, perform,...\\n4046    [c, librari, control, z, wave, network, via, u...\\n4047    [project, list, ffii, http, orgmanag, miguelpi...\\n4048    [vector, map, librari, writer, run, android, d...\\n4049                                          [ffii, org]\\n4050                                                   []\\n4051                  [open, platform, build, paa, cloud]\\n4052                                                   []\\n4053                                                   []\\n4054                                                   []\\n4055    [ffmpeg, auto, gener, unsaf, bind, c, net, cor...\\n4056                 [devic, os, firmwar, particl, devic]\\n4057                            [machin, learn, node, js]\\n4058              [add, custom, context, menu, windows11]\\n4059    [tini, power, io, appl, tv, os, av, player, fr...\\n4060             [opennn, open, neural, network, librari]\\n4061    [coff, sonarsourc, static, analyz, java, code,...\\n4062    [new, gener, postgresql, databa, adapt, python...\\n4063                           [collect, list, free, api]\\n4064                [librari, web, nativ, user, interfac]\\n4065    [repo, vue, 2, vue, 3, go, http, github, com, ...\\n4066    [algorithm, data, structur, implement, javascr...\\n4067    [popular, html, css, javascript, framework, de...\\n4068    [delight, commun, driven, 2, 100, contributor,...\\n4069                       [algorithm, implement, python]\\n4070                               [visual, studio, code]\\n4071    [mortar_board, path, free, self, taught, educ,...\\n4072                            [javascript, style, guid]\\n4073        [framework, build, nativ, applic, use, react]\\n4074    [electron, build, cross, platform, desktop, ap...\\n4075                                   [react, framework]\\n4076    [curat, list, awesom, go, framework, librari, ...\\n4077       [promi, base, http, client, browser, node, js]\\n4078           [set, modern, web, app, run, one, command]\\n4079                 [curat, list, project, base, tutori]\\n4080    [collect, inspir, list, manual, cheatsheet, bl...\\n4081                            [javascript, 3d, librari]\\n4082               [window, system, util, maxim, product]\\n4083    [curat, code, interview, prepar, materi, busi,...\\n4084             [modern, runtim, javascript, typescript]\\n4085    [new, window, termin, origin, window, consol, ...\\n4086                     [modern, web, develop, platform]\\n4087    [mui, core, readi, use, foundat, react, compon...\\n4088    [enterpri, class, ui, design, languag, react, ...\\n4089    [tada, magic, vue, admin, http, panjiachen, gi...\\n4090    [bathtub, clean, code, concept, adapt, javascr...\\n4091    [storybook, frontend, workshop, build, ui, com...\\n4092     [magnif, app, correct, previou, consol, command]\\n4093    [mother, demo, app, exemplari, fullstack, medi...\\n4094                 [bitcoin, core, integr, stage, tree]\\n4095     [24, lesson, 12, week, get, start, web, develop]\\n4096         [curat, list, awesom, thing, relat, vue, js]\\n4097    [gin, http, web, framework, written, go, golan...\\n4098    [util, first, css, framework, rapid, ui, develop]\\n4099                         [cybernet, enhanc, web, app]\\n4100    [get, full, fake, rest, api, zero, code, less,...\\n4101    [node, version, manag, posix, compliant, bash,...\\n4102    [collect, applic, idea, use, improv, code, skill]\\n4103                           [html, present, framework]\\n4104    [bundler, javascript, friend, pack, mani, modu...\\n4105    [fast, unopinion, minimalist, web, framework, ...\\n4106    [experi, open, sourc, attempt, make, gpt, 4, f...\\n4107    [godot, engin, multi, platform, 2d, 3d, game, ...\\n4108               [simpl, html5, chart, use, canva, tag]\\n4109                                  [vs, code, browser]\\n4110                      [everyth, need, know, get, job]\\n4111           [predict, state, contain, javascript, app]\\n4112                        [atom, hackabl, text, editor]\\n4113                   [angularj, html, enhanc, web, app]\\n4114    [googl, chrome, firefox, thunderbird, exten, l...\\n4115       [realtim, applic, framework, node, js, server]\\n4116                        [jqueri, javascript, librari]\\n4117    [list, help, front, end, relat, question, use,...\\n4118    [fastapi, framework, high, perform, easi, lear...\\n4119    [gener, diagram, like, flowchart, sequenc, dia...\\n4120    [progress, node, js, framework, build, effici,...\\n4121      [33, javascript, concept, everi, develop, know]\\n4122                  [next, gener, frontend, tool, fast]\\n4123    [fastest, frontend, headless, web, build, mode...\\n4124    [profess, front, end, templat, build, fast, ro...\\n4125             [zap, dynam, gener, stat, github, readm]\\n4126    [long, list, advanc, javascript, question, exp...\\n4127            [topic, centric, list, hq, open, dataset]\\n4128                    [vue, js, 2, 0, ui, toolkit, web]\\n4129                                         [rubi, rail]\\n4130       [cherry_blossom, command, line, fuzzi, finder]\\n4131                         [algorithm, implement, java]\\n4132                        [link, use, websit, programm]\\n4133    [open, sourc, api, develop, ecosystem, http, h...\\n4134    [curat, list, design, ui, resourc, stock, phot...\\n4135              [anim, engin, explanatori, math, video]\\n4136    [semant, ui, compon, framework, base, around, ...\\n4137                         [modern, altern, css, reset]\\n4138                                [declar, rout, react]\\n4139    [power, cross, platform, ui, toolkit, build, n...\\n4140    [world, simplest, facial, recognit, api, pytho...\\n4141    [12, week, 26, lesson, 52, quizz, classic, mac...\\n4142     [par, valid, manipul, display, date, javascript]\\n4143              [modern, css, framework, base, flexbox]\\n4144    [list, use, payload, bypass, web, applic, secu...\\n4145    [dear, imgui, bloat, free, graphic, user, inte...\\n4146    [globe_with_meridian, jekyl, blog, awar, stati...\\n4147    [virtual, whiteboard, sketch, hand, drawn, lik...\\n4148      [curat, list, awesom, android, ui, ux, librari]\\n4149    [seclist, secur, tester, companion, collect, m...\\n4150    [curat, list, awesom, c, c, framework, librari...\\n4151                   [prettier, opinion, code, formatt]\\n4152                            [javascript, anim, engin]\\n4153                                [termin, modern, age]\\n4154    [nuxt, intuit, extend, way, creat, type, safe,...\\n4155    [big, list, naughti, string, list, string, hig...\\n4156    [pattern, scalabl, reliabl, perform, larg, sca...\\n4157    [serverless, framework, build, web, mobil, iot...\\n4158                            [learn, regex, easi, way]\\n4159      [easi, maintain, open, sourc, document, websit]\\n4160     [fast, easi, reliabl, test, anyth, run, browser]\\n4161    [turn, audienc, busi, publish, membership, sub...\\n4162    [rich, python, librari, rich, text, beauti, fo...\\n4163    [day, js, 2kb, immut, date, time, librari, alt...\\n4164    [firework, interact, onlin, platform, visual, ...\\n4165                        [cloud, nativ, applic, proxi]\\n4166    [curat, list, awesom, io, ecosystem, includ, o...\\n4167    [adminlt, free, admin, dashboard, templat, bas...\\n4168                   [zero, configur, build, tool, web]\\n4169    [platform, build, proxi, bypass, network, rest...\\n4170      [babel, compil, write, next, gener, javascript]\\n4171                            [julia, program, languag]\\n4172             [gog, painless, self, host, git, servic]\\n4173                          [delight, javascript, test]\\n4174    [page_with_curl, list, practic, project, anyon...\\n4175                      [termin, built, web, technolog]\\n4176                                 [100, day, ml, code]\\n4177                    [list, cool, featur, git, github]\\n4178    [cheatsheet, experienc, react, develop, get, s...\\n4179    [hunt, social, media, account, usernam, across...\\n4180    [call, node, js, modul, directli, dom, webwork...\\n4181    [html5, creation, engin, creat, beauti, digit,...\\n4182    [simpl, eleg, markdown, editor, avail, linux, ...\\n4183    [comprehen, databa, chine, poetri, 最全中华古诗词数据库,...\\n4184                         [eleg, http, network, swift]\\n4185    [openpilot, open, sourc, driver, assist, syste...\\n4186       [materi, css, framework, base, materi, design]\\n4187    [visual, primit, compon, age, use, best, bit, ...\\n4188    [python, data, scienc, handbook, full, text, j...\\n4189    [creat, agent, monitor, act, behalf, agent, st...\\n4190    [rsync, cloud, storag, googl, drive, s3, dropb...\\n4191                           [powershel, everi, system]\\n4192                         [run, github, action, local]\\n4193    [present, framework, base, power, css3, transf...\\n4194    [front, end, interview, prepar, materi, busi, ...\\n4195    [crab, small, exerci, get, use, read, write, r...\\n4196                             [vue, compon, framework]\\n4197    [easiest, way, autom, build, relea, io, androi...\\n4198    [vue, js, progress, increment, adopt, javascri...\\n4199                      [full, featur, download, manag]\\n4200    [fast, simpl, power, blog, framework, power, n...\\n4201                  [tool, explor, layer, docker, imag]\\n4202                     [compani, broken, hire, process]\\n4203    [git, cup, tea, painless, self, host, one, sof...\\n4204    [lightn, fast, search, engin, fit, effortlessl...\\n4205                                         [zsh, theme]\\n4206                         [extrem, fast, bundler, web]\\n4207                                 [cheat, sheet, need]\\n4208    [modern, mobil, touch, slider, hardwar, accel,...\\n4209    [dragon, lerna, fast, modern, build, system, m...\\n4210                                    [json, modern, c]\\n4211    [react, hook, form, state, manag, valid, web, ...\\n4212    [fast, 3kb, react, altern, modern, api, compon...\\n4213                    [boilerpl, node, js, web, applic]\\n4214    [power, asynchron, state, manag, server, state...\\n4215                    [simpl, termin, ui, git, command]\\n4216                        [use, ant, design, like, pro]\\n4217    [phaser, fun, free, fast, 2d, game, framework,...\\n4218               [announc, learn, spring, secur, oauth]\\n4219    [express, middlewar, node, js, use, es2017, as...\\n4220    [tabler, free, open, sourc, html, dashboard, u...\\n4221                        [browser, base, code, editor]\\n4222    [open, sourc, code, editor, web, written, java...\\n4223                   [make, web, page, desktop, applic]\\n4224    [delight, network, framework, io, maco, watcho...\\n4225    [simpl, fast, safe, compil, languag, develop, ...\\n4226       [collect, pure, bash, altern, extern, process]\\n4227    [awesom, cheatsheet, popular, program, languag...\\n4228    [scissor, modern, copi, clipboard, flash, 3kb,...\\n4229      [help, beginn, contribut, open, sourc, project]\\n4230    [learn, respon, develop, deploy, maintain, pro...\\n4231    [robust, speech, recognit, via, larg, scale, w...\\n4232                   [toolkit, autom, enhanc, workflow]\\n4233    [immut, persist, data, collect, javascript, in...\\n4234    [collect, typescript, type, challeng, onlin, j...\\n4235    [simpl, modular, access, ui, compon, react, ap...\\n4236    [black_heart, creat, share, beauti, imag, sour...\\n4237                   [fanci, self, host, monitor, tool]\\n4238    [fantast, orm, librari, golang, aim, develop, ...\\n4239                [github, offici, command, line, tool]\\n4240                  [uncompromi, python, code, formatt]\\n4241                   [everyth, requir, run, base, node]\\n4242    [asp, net, core, cross, platform, net, framewo...\\n4243                      [simpl, python, version, manag]\\n4244            [modern, javascript, date, util, librari]\\n4245    [file, upload, widget, multipl, file, select, ...\\n4246    [offici, repo, paper, visual, chatgpt, talk, d...\\n4247            [hibiscu, minimalist, vim, plugin, manag]\\n4248              [chatgpt, 中文调教指南, 各种场景使用指南, 学习怎么让它听你的话]\\n4249    [orm, typescript, javascript, support, mysql, ...\\n4250                                      [12306智能刷票, 订票]\\n4251    [interact, tl, capabl, intercept, http, proxi,...\\n4252                                             [结巴中文分词]\\n4253    [gpt4all, ecosystem, open, sourc, chatbot, tra...\\n4254                            [one, hack, tool, hacker]\\n4255                  [bear, necess, state, manag, react]\\n4256              [webpack, base, tool, vue, js, develop]\\n4257    [solut, leetcod, go, 100, test, coverag, runti...\\n4258    [advanc, respon, front, end, framework, world,...\\n4259                                 [laravel, framework]\\n4260                        [git, hook, made, easi, woof]\\n4261                     [一个用来深入学习并实战, spring, boot, 的项目]\\n4262                    [overview, ecmascript, 6, featur]\\n4263    [fire, highli, scalabl, offlin, first, foundat...\\n4264    [art, diagram, code, prototyp, cloud, system, ...\\n4265    [wrench, file, includ, maco, sensibl, hacker, ...\\n4266                        [ultim, vim, configur, vimrc]\\n4267            [set, best, practic, javascript, project]\\n4268                                            [计算机自学指南]\\n4269    [render, effect, anim, nativ, web, android, io...\\n4270                            [symfoni, php, framework]\\n4271                     [exampl, guid, use, openai, api]\\n4272       [see_no_evil, 程序员找工作黑名单, 换工作和当技术合伙人需谨慎啊, 更新有赞]\\n4273                [best, design, tool, plugin, everyth]\\n4274    [javascript, style, guid, linter, automat, cod...\\n4275         [exten, open, sourc, guid, android, develop]\\n4276                             [screenshot, javascript]\\n4277    [give, js, app, backbon, model, view, collect,...\\n4278                     [central, state, manag, vue, js]\\n4279                         [last, carousel, ever, need]\\n4280    [javascript, python, php, cryptocurr, trade, a...\\n4281                         [async, util, node, browser]\\n4282         [50, mini, web, project, use, html, css, js]\\n4283                       [stream, torrent, client, web]\\n4284    [featur, rich, orm, modern, node, js, typescri...\\n4285           [algorithm, data, structur, swift, explan]\\n4286    [open, sourc, cross, platform, api, client, gr...\\n4287                       [网易云音乐, node, js, api, servic]\\n4288                                 [depend, manag, php]\\n4289                                     [python, exampl]\\n4290                       [transform, style, js, plugin]\\n4291    [node, js, version, manag, util, window, iron,...\\n4292    [interact, git, visual, tutori, aspir, student...\\n4293           [build, best, file, manag, experi, window]\\n4294    [declar, effici, flexibl, javascript, librari,...\\n4295    [lightweight, javascript, librari, creat, part...\\n4296    [一套遵循原生态开发模式的, web, ui, 组件库, 采用自身轻量级模块化规范, 易上手...\\n4297    [window, calcul, simpl, yet, power, calcul, sh...\\n4298      [java, core, sprout, basic, concurr, algorithm]\\n4299                          [javascript, util, _, belt]\\n4300    [complet, customiz, framework, build, rich, te...\\n4301    [next, open, sourc, file, upload, web, browser...\\n4302             [faker, php, librari, gener, fake, data]\\n4303    [reorder, drag, drop, list, modern, browser, t...\\n4304                           [react, hook, data, fetch]\\n4305                       [simpl, scalabl, state, manag]\\n4306      [client, side, javascript, pdf, gener, everyon]\\n4307                [lazier, way, manag, everyth, docker]\\n4308                            [present, slide, develop]\\n4309             [pytorch, tutori, deep, learn, research]\\n4310    [fast, flexibl, eleg, librari, par, manipul, h...\\n4311                          [build, applic, llm, compo]\\n4312                                 [cli, tool, angular]\\n4313             [imag, super, resolut, anim, style, art]\\n4314                          [select, compon, react, js]\\n4315                       [fish, like, autosuggest, zsh]\\n4316    [industri, strength, natur, languag, process, ...\\n4317          [browser, code, editor, version, 5, legaci]\\n4318       [express, inspir, web, framework, written, go]\\n4319                 [window, fetch, javascript, polyfil]\\n4320    [select2, jqueri, base, replac, select, box, s...\\n4321    [mongodb, object, model, design, work, asynchr...\\n4322                      [nginx, config, gener, steroid]\\n4323    [aka, bayesian, method, hacker, introduct, bay...\\n4324         [spring, physic, base, react, anim, librari]\\n4325    [modernizr, javascript, librari, detect, html5...\\n4326      [high, perform, minimalist, go, web, framework]\\n4327    [循序渐进, 学习spring, boot, spring, boot, shiro, sp...\\n4328    [scalabl, datastor, metric, event, real, time,...\\n4329     [slim, progress, bar, like, youtub, medium, etc]\\n4330    [monitor, chang, node, js, applic, automat, re...\\n4331    [guid, paper, lectur, notebook, resourc, promp...\\n4332    [vagrant, tool, build, distribut, develop, env...\\n4333    [faster, better, stabl, redi, desktop, manag, ...\\n4334    [low, level, toolkit, creat, float, element, t...\\n4335     [creat, next, immut, state, mutat, current, one]\\n4336    [roadmap, becom, artifici, intellig, expert, 2...\\n4337    [本文原文由知名, hacker, eric, raymond, 所撰寫, 教你如何正確的提...\\n4338    [react, compon, effici, render, larg, list, ta...\\n4339                       [standard, librari, microserv]\\n4340    [love_lett, exten, desktop, mail, app, built, ...\\n4341                 [love, consol, emul, packag, window]\\n4342          [python, packag, depend, manag, made, easi]\\n4343      [node, js, command, line, interfac, made, easi]\\n4344    [asynchron, imag, download, cach, support, uii...\\n4345    [docker, power, paa, help, build, manag, lifec...\\n4346    [cheatsheet, javascript, knowledg, frequent, e...\\n4347               [librari, fast, text, repres, classif]\\n4348    [customiz, admin, dashboard, templat, base, an...\\n4349    [move, fast, break, noth, end, end, typesaf, a...\\n4350                                   [new, type, shell]\\n4351    [paper, tech, blog, compani, share, work, data...\\n4352                                    [everyth, rssibl]\\n4353    [collect, variou, algorithm, mathemat, machin,...\\n4354    [angular, style, guid, start, point, angular, ...\\n4355    [cloud, nativ, go, microserv, framework, cli, ...\\n4356                   [python, develop, workflow, human]\\n4357    [complet, grace, api, wechat, 微信个人号接口, 微信机器人及命...\\n4358    [linux命令大全搜索工具, 内容包含linux命令手册, 详解, 学习, 搜集, htt...\\n4359         [cross, platform, react, nativ, ui, toolkit]\\n4360             [state, machin, statechart, modern, web]\\n4361    [browser, devtool, exten, debug, vue, js, applic]\\n4362                [simpl, html5, youtub, vimeo, player]\\n4363    [javascript, librari, multi, touch, gestur, to...\\n4364    [rug, minim, framework, compo, javascript, beh...\\n4365               [brvah, power, flexibl, recycleradapt]\\n4366                            [vundl, plug, manag, vim]\\n4367    [compon, infrastructur, materi, design, compon...\\n4368    [前端面试每日, 3, 1, 以面试题来驱动学习, 提倡每日学习与思考, 每天进步一点, 每...\\n4369               [realtim, distribut, messag, platform]\\n4370                  [simpli, beauti, open, sourc, icon]\\n4371    [collect, learn, resourc, curiou, softwar, engin]\\n4372    [quasar, framework, build, high, perform, vuej...\\n4373                            [reactiv, program, swift]\\n4374        [bootstrap, 5, materi, design, 2, 0, ui, kit]\\n4375                              [anim, scroll, librari]\\n4376                       [never, easi, document, thing]\\n4377                       [magic, document, site, gener]\\n4378    [unifi, develop, tool, javascript, typescript,...\\n4379           [fast, disk, space, effici, packag, manag]\\n4380              [flexibl, authent, solut, rail, warden]\\n4381                  [packag, node, js, project, execut]\\n4382    [build, better, websit, creat, modern, resili,...\\n4383         [openfaa, serverless, function, made, simpl]\\n4384    [cross, platform, net, sampl, microserv, conta...\\n4385                 [ram, practic, function, javascript]\\n4386    [高颜值的第三方网易云播放器, 支持, window, maco, linux, elect...\\n4387            [launcher, window, altern, alfr, launchi]\\n4388    [consolid, extend, host, file, sever, well, cu...\\n4389                         [offici, react, bind, redux]\\n4390    [javascript, imag, galleri, mobil, desktop, mo...\\n4391                 [port, facebook, llama, model, c, c]\\n4392          [server, side, swift, http, web, framework]\\n4393                                 [go, configur, fang]\\n4394                  [realtim, mvc, framework, node, js]\\n4395               [find, fix, problem, javascript, code]\\n4396                        [structur, pluggabl, log, go]\\n4397                    [guzzl, exten, php, http, client]\\n4398             [open, sourc, realtim, backend, 1, file]\\n4399    [ember, js, javascript, framework, creat, ambi...\\n4400            [altern, side, effect, model, redux, app]\\n4401    [minim, exampl, data, structur, algorithm, pyt...\\n4402    [empow, javascript, nativ, platform, api, best...\\n4403    [command, line, tool, make, git, easier, use, ...\\n4404              [react, framework, build, text, editor]\\n4405    [easili, secur, send, thing, one, comput, anot...\\n4406                  [beauti, replac, javascript, alert]\\n4407    [deezer, sourc, separ, librari, includ, pretra...\\n4408                                  [standard, librari]\\n4409                           [react, render, three, js]\\n4410    [machin, learn, scratch, bare, bone, numpi, im...\\n4411    [platform, build, proxi, bypass, network, rest...\\n4412                   [peer, peer, hypermedia, protocol]\\n4413    [add, static, type, javascript, improv, develo...\\n4414    [visual, neural, network, deep, learn, machin,...\\n4415    [simpl, flexibl, fun, javascript, test, framew...\\n4416    [openzeppelin, contract, librari, secur, smart...\\n4417    [frontend, framework, build, b2b, applic, run,...\\n4418               [better, way, deal, json, data, swift]\\n4419          [one, second, read, github, code, vs, code]\\n4420    [web, popular, jamstack, front, end, templat, ...\\n4421      [ide, style, autocomplet, exist, termin, shell]\\n4422    [facebook, ai, research, sequenc, sequenc, too...\\n4423                    [bootstrap, compon, built, react]\\n4424    [control, display, bright, volum, mac, nativ, ...\\n4425            [javascript, audio, librari, modern, web]\\n4426    [repositori, track, progress, natur, languag, ...\\n4427                   [ok_hand, drag, drop, simpl, hurt]\\n4428                        [spring, solv, anim, problem]\\n4429        [minimalist, vue, power, static, site, gener]\\n4430    [gener, purpo, program, languag, toolchain, ma...\\n4431         [modern, intuit, termin, base, text, editor]\\n4432                                 [modern, replac, ls]\\n4433                    [eleg, transit, librari, io, tvo]\\n4434                  [simpl, unobtru, authent, node, js]\\n4435    [sr, simpl, high, effici, realtim, video, serv...\\n4436                         [cross, platform, asynchron]\\n4437    [headless, ui, build, power, tabl, datagrid, t...\\n4438        [sampl, code, sever, design, pattern, php, 8]\\n4439    [comprehen, exhaust, javascript, node, js, tes...\\n4440    [lightweight, pure, swift, librari, download, ...\\n4441    [python, exampl, popular, machin, learn, algor...\\n4442             [foundat, scalabl, cross, platform, app]\\n4443    [lightweight, customiz, vue, ui, librari, mobi...\\n4444                                      [string, valid]\\n4445              [http, load, test, tool, librari, 9000]\\n4446          [write, scalabl, load, test, plain, python]\\n4447    [memo, awesom, data, scienc, repositori, learn...\\n4448    [typescript, first, schema, valid, static, typ...\\n4449                 [normal, nest, json, accord, schema]\\n4450    [59, implement, tutori, deep, learn, paper, si...\\n4451           [par, css, add, vendor, prefix, rule, use]\\n4452                               [one, theme, platform]\\n4453    [octocat, browser, exten, simplifi, github, in...\\n4454                     [commonli, use, git, tip, trick]\\n4455      [free, bootstrap, 4, admin, dashboard, templat]\\n4456    [librari, effici, similar, search, cluster, de...\\n4457    [checklist, import, secur, countermeasur, desi...\\n4458                 [cross, platform, react, ui, packag]\\n4459        [mac微信功能拓展, 微信插件, 微信小助手, plugin, mac, wechat]\\n4460                              [jenkin, autom, server]\\n4461                              [基于python的开源量化交易平台开发框架]\\n4462    [fast, simpl, video, download, librari, cli, t...\\n4463    [simpl, lightweight, javascript, api, handl, b...\\n4464    [modern, c, tutori, c, 11, 14, 17, 20, fli, ht...\\n4465    [tini, 130, byte, secur, url, friendli, uniqu,...\\n4466                   [invest, research, everyon, anywh]\\n4467                   [appl, tv, aerial, screensav, mac]\\n4468    [基于, vue, js, 的小程序开发框架, 从底层支持, vue, js, 语法和构建工...\\n4469                [react, interact, command, line, app]\\n4470                                    [logger, everyth]\\n4471    [ultim, go, microserv, framework, cloud, nativ...\\n4472                 [delv, debugg, go, program, languag]\\n4473                          [rest, api, postgr, databa]\\n4474       [node, js, test, runner, let, develop, confid]\\n4475    [send, log, file, socket, inbox, databa, vario...\\n4476    [exampl, queri, style, dom, ajax, event, etc, ...\\n4477    [bird, zap, bluebird, full, featur, promi, lib...\\n4478    [rocket, simpl, beauti, tool, pictur, upload, ...\\n4479    [python, program, usual, short, consid, diffic...\\n4480    [binari, relea, vs, code, without, ms, brand, ...\\n4481                 [dead, simpl, object, schema, valid]\\n4482    [runtim, write, reliabl, asynchron, applic, ru...\\n4483          [redefin, chart, librari, built, react, d3]\\n4484                 [guid, secur, improv, privaci, maco]\\n4485                 [termin, string, style, done, right]\\n4486    [open, sourc, notif, infrastructur, fulli, fun...\\n4487    [simpl, fast, fun, packag, build, command, lin...\\n4488    [complet, unstyl, fulli, access, ui, compon, d...\\n4489    [cocoa, framework, obj, c, dynam, bind, reacti...\\n4490    [open, sourc, platform, make, univ, nativ, app...\\n4491                      [javascript, test, util, react]\\n4492      [openapi, swagger, gener, api, refer, document]\\n4493                                    [hacker, browser]\\n4494            [window, packag, manag, cli, aka, winget]\\n4495    [step, step, tutori, build, modern, javascript...\\n4496    [popular, free, open, sourc, tailwind, css, co...\\n4497                              [100, day, ml, code中文版]\\n4498    [simpl, use, blaze, fast, thoroughli, test, we...\\n4499    [esm, power, frontend, build, tool, instant, l...\\n4500        [ne, style, css, framework, ファミコン風cssフレームワーク]\\n4501    [labelimg, part, label, studio, commun, popula...\\n4502       [vue, js, 3, ui, librari, made, element, team]\\n4503              [refer, implement, graphql, javascript]\\n4504                   [learn, go, test, driven, develop]\\n4505                      [peac, mind, prototyp, product]\\n4506    [toolkit, common, assert, mock, play, nice, st...\\n4507    [fast, http, packag, go, tune, high, perform, ...\\n4508                        [termin, emul, 21st, centuri]\\n4509    [simpl, use, local, json, databa, use, nativ, ...\\n4510                  [swift, autolayout, dsl, io, os, x]\\n4511        [latex, code, make, neural, network, diagram]\\n4512    [mobil, first, access, compon, react, nativ, w...\\n4513                    [collect, load, indic, anim, css]\\n4514                   [node, js, tool, optim, svg, file]\\n4515                                  [drag, drop, react]\\n4516                                               [爬虫集合]\\n4517                             [offici, router, vue, 2]\\n4518    [game, theoret, approach, explain, output, mac...\\n4519    [1kb, ish, javascript, framework, build, hyper...\\n4520    [implement, reinforc, learn, algorithm, python...\\n4521    [oh, tmux, self, contain, pretti, versatil, tm...\\n4522    [high, resolut, imag, synthesi, latent, diffu,...\\n4523                           [selector, librari, redux]\\n4524          [文言文編程語言, program, languag, ancient, chine]\\n4525    [skeleton, dead, simpl, respon, boilerpl, mobi...\\n4526              [fulli, featur, react, compon, librari]\\n4527                        [home, repositori, net, core]\\n4528    [net, maui, net, multi, platform, app, ui, fra...\\n4529          [headless, editor, framework, web, artisan]\\n4530    [polyfil, remov, click, delay, browser, touch,...\\n4531    [textual, rapid, applic, develop, framework, p...\\n4532    [cross, platform, gui, librari, rust, inspir, ...\\n4533                 [10, week, 20, lesson, data, scienc]\\n4534         [vue, drag, drop, compon, base, sortabl, js]\\n4535    [full, stack, framework, laravel, take, pain, ...\\n4536    [javascript, implement, variou, web, standard,...\\n4537    [browser, fingerprint, librari, compar, finger...\\n4538    [rocket, fulli, featur, product, readi, cach, ...\\n4539    [recoil, experi, state, manag, librari, react,...\\n4540    [stand, alon, parallax, scroll, librari, mobil...\\n4541    [open, sourc, kanban, built, meteor, keep, var...\\n4542              [blaze, fast, structur, level, log, go]\\n4543    [data, app, dashboard, python, javascript, req...\\n4544    [born, build, better, enterpri, framework, app...\\n4545             [c, librari, manag, window, linux, maco]\\n4546    [open, sourc, product, readi, anim, gestur, li...\\n4547    [set, free, mit, licen, high, qualiti, svg, ic...\\n4548         [torch, implement, neural, style, algorithm]\\n4549      [jargon, function, program, world, simpl, term]\\n4550                        [tom, obviou, minim, languag]\\n4551      [open, sourc, php, framework, origin, ellislab]\\n4552    [rocket, star, minimalist, power, extrem, cust...\\n4553                     [vue2, 0, minim, admin, templat]\\n4554       [creat, graphic, hand, drawn, sketchi, appear]\\n4555    [har, power, autolayout, nslayoutconstraint, s...\\n4556                     [motion, graphic, toolbelt, web]\\n4557    [又一个小商城, litem, spring, boot后端, vue管理员前端, 微信小程...\\n4558    [lightweight, modular, front, end, framework, ...\\n4559    [pure, node, js, javascript, client, implement...\\n4560    [command, line, system, inform, tool, written,...\\n4561                       [power, littl, tui, framework]\\n4562    [simpl, scalabl, power, architectur, build, pr...\\n4563                       [build, block, digit, commerc]\\n4564    [collect, common, interact, command, line, use...\\n4565    [relay, javascript, framework, build, data, dr...\\n4566    [simpl, complet, react, dom, test, util, encou...\\n4567                         [share, termin, web, applic]\\n4568    [magicmirror², open, sourc, modular, smart, mi...\\n4569                 [mobil, ui, compon, base, vue, weui]\\n4570            [用, express, 和, vue3, 搭建的, chatgpt, 演示网页]\\n4571                [cross, platform, ui, framework, net]\\n4572                            [thunk, middlewar, redux]\\n4573                [rich, text, editor, everyday, write]\\n4574                         [python爬虫代理ip池, proxi, pool]\\n4575    [ice, js, progress, app, framework, base, reac...\\n4576    [turn, almost, python, command, line, program,...\\n4577    [simplest, fastest, repositori, train, finetun...\\n4578                               [node, version, manag]\\n4579    [draggabl, resiz, grid, layout, respon, breakp...\\n4580    [queri, builder, postgresql, mysql, cockroachd...\\n4581           [graph, neural, network, librari, pytorch]\\n4582    [roslyn, net, compil, provid, c, visual, basic...\\n4583    [extend, version, manag, support, rubi, node, ...\\n4584         [experi, nintendo, switch, emul, written, c]\\n4585                [tool, enforc, swift, style, convent]\\n4586    [full, featur, html, framework, build, io, and...\\n4587                            [accel, javascript, anim]\\n4588                  [smart, fast, exten, build, system]\\n4589         [lean, mean, statu, tablin, vim, light, air]\\n4590    [modern, vue, admin, base, vue3, vite, typescr...\\n4591    [codeedit, app, maco, elev, code, edit, experi...\\n4592                            [minim, templat, steroid]\\n4593    [syntax, highlight, pager, git, diff, grep, ou...\\n4594                  [focu, matter, instead, fight, git]\\n4595                               [visx, visual, compon]\\n4596                  [daemon, easi, power, stat, aggreg]\\n4597    [accel, web, app, develop, build, fast, run, f...\\n4598    [autom, nginx, proxi, docker, contain, use, do...\\n4599                         [video, discuss, curriculum]\\n4600         [android, librari, manag, imag, memori, use]\\n4601          [reviv, unavail, song, netea, cloud, music]\\n4602    [openvpn, road, warrior, instal, ubuntu, debia...\\n4603                       [document, head, manag, react]\\n4604    [jarvi, system, connect, llm, ml, commun, pape...\\n4605    [high, perform, seo, friendli, lazi, loader, i...\\n4606    [premium, hand, craft, icon, built, ionic, ion...\\n4607                               [pushstat, ajax, pjax]\\n4608    [javascript, drag, drop, librari, grandpar, warn]\\n4609                  [基于vue3, element, plu, 的后台管理系统解决方案]\\n4610                                [轻量, 可靠的小程序, ui, 组件库]\\n4611    [modular, customiz, materi, design, ui, compon...\\n4612    [put, output, script, program, maco, menu, bar...\\n4613    [list, javascript, method, use, nativ, eslint,...\\n4614                           [materi, design, angularj]\\n4615    [jupyt, notebook, code, sampl, book, deep, lea...\\n4616    [simpl, javascript, util, condit, join, classn...\\n4617                        [mobil, ui, element, vue, js]\\n4618    [customiz, icon, react, nativ, support, imag, ...\\n4619    [hourglass_flowing_sand, higher, order, compon...\\n4620    [best, way, start, full, stack, typesaf, next,...\\n4621    [typeahead, js, fast, fulli, featur, autocompl...\\n4622    [基于spring, springmvc, mybatis分布式敏捷开发系统架构, 提供整套...\\n4623         [emac, framework, stubborn, martian, hacker]\\n4624                                       [java, 8, 中文版]\\n4625                           [fast, math, typeset, web]\\n4626           [instant, load, web, app, without, effort]\\n4627    [jsonwebtoken, implement, node, js, http, self...\\n4628               [dark, reader, chrome, firefox, exten]\\n4629    [deep, learn, base, project, color, restor, ol...\\n4630                 [git, base, cm, static, site, gener]\\n4631                      [customiz, life, embett, robot]\\n4632    [fast, multi, thread, hybrid, core, datafram, ...\\n4633    [good, lookin, diff, actual, nah, best, lookin...\\n4634                [script, remov, window, 10, bloatwar]\\n4635    [open, sourc, screen, record, built, web, tech...\\n4636                                 [unfanc, javascript]\\n4637    [vue, 2, 0, admin, manag, system, templat, bas...\\n4638    [satellit, simpl, readi, use, tutori, tensorflow]\\n4639    [ajax, node, js, browser, js, http, client, ma...\\n4640    [css, js, librari, design, high, perform, styl...\\n4641                        [modern, java, guid, java, 8]\\n4642    [full, size, drag, drop, event, calendar, java...\\n4643    [git, util, repo, summari, repl, changelog, po...\\n4644                               [termin, json, viewer]\\n4645     [high, qualiti, real, time, upscal, anim, video]\\n4646              [contract, sismo, badg, mint, protocol]\\n4647    [react, redux, base, lightweight, elm, style, ...\\n4648                    [simpl, php, api, exten, datetim]\\n4649    [free, resourc, learn, full, stack, web, develop]\\n4650              [high, perform, node, js, redi, client]\\n4651    [yoga, cross, platform, layout, engin, impleme...\\n4652    [boy, girl, technic, interview, guidelin, writ...\\n4653    [goaccess, real, time, web, log, analyz, inter...\\n4654    [codeless, drop, univ, librari, allow, prevent...\\n4655    [scroll, inspir, iscrol, support, featur, bett...\\n4656                                               [expo]\\n4657                              [mbprogresshud, custom]\\n4658    [cheatsheet, modern, c, languag, librari, featur]\\n4659    [neckti, briefca, build, fast, rocket, easi, m...\\n4660                            [app, framework, startup]\\n4661    [tile, window, manag, maco, base, binari, spac...\\n4662        [emoji, everyon, http, twemoji, twitter, com]\\n4663                [minim, templat, mustach, javascript]\\n4664    [markdown, wysiwyg, editor, gfm, standard, cha...\\n4665                                  [eleg, theme, hexo]\\n4666                           [never, use, print, debug]\\n4667                   [maco, system, monitor, menu, bar]\\n4668    [open, sourc, ui, framework, written, python, ...\\n4669    [fire, extrem, fast, react, like, javascript, ...\\n4670    [tool, produc, high, qualiti, forecast, time, ...\\n4671    [beauti, respon, highli, customiz, access, wai...\\n4672    [front, end, perform, checklist, run, faster, ...\\n4673    [collect, variou, deep, learn, architectur, mo...\\n4674               [get, thing, one, comput, anoth, safe]\\n4675         [effici, augment, realiti, web, 60fp, mobil]\\n4676           [faker, python, packag, gener, fake, data]\\n4677                 [port, openai, whisper, model, c, c]\\n4678    [open, sourc, javascript, chart, librari, behi...\\n4679                  [automat, add, progress, bar, site]\\n4680    [lightweight, power, javascript, datetimepick,...\\n4681    [open, sourc, self, host, web, archiv, take, u...\\n4682                   [best, practic, recommend, system]\\n4683    [preci, color, scheme, multipl, applic, termin...\\n4684                        [wangeditor, 开源, web, 富文本编辑器]\\n4685    [electron, vue, js, quick, start, boilerpl, vu...\\n4686    [umami, simpl, fast, privaci, focu, altern, go...\\n4687                     [creat, beauti, applic, use, go]\\n4688              [curat, list, resourc, colleg, student]\\n4689                         [algorithm, implement, rust]\\n4690    [web, framework, build, virtual, realiti, experi]\\n4691    [markdown, parser, done, right, 100, commonmar...\\n4692         [mjml, framework, make, respon, email, easi]\\n4693    [vip, cheatsheet, stanford, cs, 229, machin, l...\\n4694    [infinit, red, battl, test, react, nativ, proj...\\n4695    [build, termin, dashboard, use, ascii, ansi, a...\\n4696         [debugbar, laravel, integr, php, debug, bar]\\n4697    [commitizen, command, line, util, blacklivesmatt]\\n4698                                 [packag, manag, web]\\n4699                              [markdown, compon, era]\\n4700    [flat, ui, free, design, framework, html, css3...\\n4701    [highli, customiz, librari, build, interact, n...\\n4702                                           [中文独立博客列表]\\n4703                          [manag, app, rubi, environ]\\n4704                      [render, react, compon, sketch]\\n4705                         [promi, librari, javascript]\\n4706    [lead, webassembl, runtim, support, wasi, emsc...\\n4707            [elast, stack, elk, power, docker, compo]\\n4708    [javascript, api, face, detect, face, recognit...\\n4709    [studi, guid, introduct, modern, front, end, s...\\n4710    [set, 4100, free, mit, licen, high, qualiti, s...\\n4711    [fast, distribut, high, perform, gradient, boo...\\n4712    [graphiql, graphql, lsp, refer, ecosystem, bui...\\n4713    [advanc, twitter, scrape, osint, tool, written...\\n4714    [react, util, belt, function, compon, higher, ...\\n4715    [collect, essenti, vue, composit, util, vue, 2...\\n4716    [json, like, data, structur, crdt, modifi, con...\\n4717                                        [termin, web]\\n4718                   [python, interpret, written, rust]\\n4719    [chrome, exten, record, browser, interact, gen...\\n4720         [javascript, librari, make, draw, anim, svg]\\n4721                  [node, js, cm, web, app, framework]\\n4722                     [spotifi, termin, written, rust]\\n4723    [simpl, respon, modern, svg, chart, zero, depend]\\n4724                 [python, log, made, stupidli, simpl]\\n4725    [gite, 最有价值开源项目, 100, 小而全而美的第三方登录开源组件, 目前已支持gi...\\n4726     [lightweight, node, js, privat, proxi, registri]\\n4727                 [collect, algorithm, data, structur]\\n4728          [cheat, sheet, mathemat, notat, code, form]\\n4729                 [structur, diff, understand, syntax]\\n4730                [person, music, stream, server, work]\\n4731    [light, weight, depend, vanilla, javascript, e...\\n4732    [playground, cheatsheet, learn, python, collec...\\n4733                 [api, real, time, applic, framework]\\n4734    [essenti, cheat, sheet, deep, learn, machin, l...\\n4735    [build, mobil, app, simpl, html, css, javascri...\\n4736                             [gpu, accel, javascript]\\n4737                       [cut, past, surround, use, ar]\\n4738           [network, abstract, layer, written, swift]\\n4739                [2d, rigid, bodi, physic, engin, web]\\n4740                               [sass, make, css, fun]\\n4741       [cross, platform, rust, rewrit, gnu, coreutil]\\n4742    [mirror, http, gitlab, redox, os, org, redox, ...\\n4743    [minim, pytorch, implement, openai, gpt, gener...\\n4744    [plea, read, project, statu, nativ, angularj, ...\\n4745                      [better, markdown, parser, php]\\n4746               [browser, side, requir, node, js, way]\\n4747    [blaze, fast, simpl, complet, solut, micro, fr...\\n4748                                            [currenc]\\n4749    [bootstrapvu, provid, one, comprehen, implemen...\\n4750    [openai, baselin, high, qualiti, implement, re...\\n4751                            [web, develop, streamlin]\\n4752               [top, like, interfac, contain, metric]\\n4753    [simpler, static, site, gener, altern, jekyl, ...\\n4754    [io, osx, bridg, send, messag, obj, c, javascr...\\n4755    [chatgpt, retriev, plugin, let, easili, search...\\n4756                                   [theme, bootstrap]\\n4757                                 [promi, swift, objc]\\n4758                        [swiss, armi, knife, develop]\\n4759    [clip, contrast, languag, imag, pretrain, pred...\\n4760                 [librari, simplifi, io, anim, swift]\\n4761                    [算法模板, 最科学的刷题方式, 最快速的刷题路径, 你值得拥有]\\n4762    [vue, admin, vue3, admin, vue3, 0, admin, vue后...\\n4763    [curat, list, awesom, open, sourc, librari, de...\\n4764                            [commun, bash, framework]\\n4765                           [微信机器人, 可能是最优雅的微信个人号, api]\\n4766                              [redux, devtool, exten]\\n4767    [devtool, redux, hot, reload, action, replay, ...\\n4768    [powerlevel9k, tool, build, beauti, highli, fu...\\n4769                      [python, echart, plot, librari]\\n4770                             [document, simpli, work]\\n4771    [repositori, primarili, maintain, omar, santo,...\\n4772    [luckysheet, onlin, spreadsheet, like, excel, ...\\n4773                                   [最接近原生app体验的高性能框架]\\n4774       [googl, materi, design, xaml, wpf, c, vb, net]\\n4775    [lightweight, distribut, relat, databa, built,...\\n4776    [repo, offici, home, net, github, great, start...\\n4777    [turn, webpag, desktop, app, rust, 很简单的用, rust...\\n4778                           [configur, framework, zsh]\\n4779                                [record, replay, web]\\n4780            [gener, rfc, compliant, uuid, javascript]\\n4781    [stabl, secur, tunnel, base, kcp, n, multiplex...\\n4782    [spec, compliant, product, readi, javascript, ...\\n4783    [javascript, databa, node, js, nw, js, electro...\\n4784    [interact, graph, librari, python, sparkl, pro...\\n4785               [data, valid, use, python, type, hint]\\n4786      [quickli, brow, histori, file, git, repositori]\\n4787            [play, fluid, browser, work, even, mobil]\\n4788                                              [微信小助手]\\n4789    [chrome, autom, made, simpl, run, local, headl...\\n4790    [invokeai, lead, creativ, engin, stabl, diffu,...\\n4791                                 [php, imag, manipul]\\n4792                               [simpl, respon, chart]\\n4793    [awesom, list, open, sourc, startup, altern, w...\\n4794    [project, migrat, wolf, tabl, tabl, http, gith...\\n4795                    [javascript, type, anim, librari]\\n4796                                    [list, name, gan]\\n4797                        [seed, project, angular, app]\\n4798            [variou, dockerfil, use, desktop, server]\\n4799                           [python, html, par, human]\\n4800    [list, function, use, replac, moment, js, esli...\\n4801                               [ide, helper, laravel]\\n4802                             [tini, littl, draw, app]\\n4803                  [offici, semant, ui, react, integr]\\n4804       [improv, nginx, perform, secur, import, thing]\\n4805    [showca, problem, hard, imposs, solv, css, alo...\\n4806    [free, uptim, monitor, statu, page, power, git...\\n4807                              [php, error, cool, kid]\\n4808             [zap, kcp, fast, reliabl, arq, protocol]\\n4809                    [face, recognit, use, tensorflow]\\n4810    [automat, decrypt, encrypt, without, know, key...\\n4811               [primit, flexibl, state, manag, react]\\n4812    [100, go, struct, field, valid, includ, cross,...\\n4813    [super, agent, driven, librari, test, node, js...\\n4814    [technic, report, convolut, arithmet, context,...\\n4815    [open, sourc, embedd, onlin, markdown, editor,...\\n4816    [docker, contain, manag, nginx, proxi, host, s...\\n4817    [human, friendli, power, http, request, librar...\\n4818                        [tool, glamor, shell, script]\\n4819             [node, js, client, offici, chatgpt, api]\\n4820    [high, product, full, stack, web, framework, g...\\n4821                                [smooth, scroll, web]\\n4822                 [abstract, local, remot, filesystem]\\n4823                          [azur, quickstart, templat]\\n4824    [7, day, golang, program, scratch, web, framew...\\n4825    [world, 1, javascript, librari, rich, text, ed...\\n4826    [svg, power, compon, easili, creat, skeleton, ...\\n4827                                         [cheatsheet]\\n4828    [plugin, driven, server, agent, collect, repor...\\n4829        [blaze, fast, termin, ui, git, written, rust]\\n4830         [complet, nativ, navig, solut, react, nativ]\\n4831    [open, sourc, automl, toolkit, autom, machin, ...\\n4832                 [miss, fullstack, toolkit, next, js]\\n4833    [complet, solut, packag, build, readi, distrib...\\n4834                [人人影视, 机器人和网站, 包含人人影视全部资源以及众多网友的网盘分享]\\n4835                [offici, sass, port, bootstrap, 2, 3]\\n4836                               [python, 练习册, 每天一个小程序]\\n4837                               [swiper, compon, vuej]\\n4838    [see_no_evil, volkswagen, detect, test, run, c...\\n4839    [chine, copywrit, guidelin, better, written, c...\\n4840    [stetho, debug, bridg, android, applic, enabl,...\\n4841    [news, full, text, articl, metadata, extract, ...\\n4842                          [content, awar, imag, crop]\\n4843    [higher, order, compon, use, react, redux, kee...\\n4844    [data, driven, uicollectionview, framework, bu...\\n4845             [api, wrapper, discord, written, python]\\n4846    [imag, process, librari, written, entir, javas...\\n4847    [fulli, featur, open, sourc, mail, deliveri, p...\\n4848    [free, book, talk, design, pattern, techniqu, ...\\n4849           [desktop, debug, platform, mobil, develop]\\n4850                      [persist, rehydr, redux, store]\\n4851                           [dynam, es, modul, loader]\\n4852    [fast, customiz, vulner, scanner, base, simpl,...\\n4853    [llamaindex, gpt, index, project, provid, cent...\\n4854    [clean, architectur, solut, templat, start, po...\\n4855    [官方推荐, ruoyi, vue, 全新, pro, 版本, 优化重构所有功能, 基于, ...\\n4856    [collect, simpl, python, mini, project, enhanc...\\n4857            [interact, javascript, chart, built, svg]\\n4858                          [golang, termin, dashboard]\\n4859    [algorithm, data, structur, implement, go, beg...\\n4860    [natur, languag, process, tutori, deep, learn,...\\n4861    [web, audio, framework, make, interact, music,...\\n4862    [ef, core, modern, object, databa, mapper, net...\\n4863    [open, sourc, embedd, onlin, markdown, editor,...\\n4864    [docker, contain, manag, nginx, proxi, host, s...\\n4865    [human, friendli, power, http, request, librar...\\n4866                        [tool, glamor, shell, script]\\n4867             [node, js, client, offici, chatgpt, api]\\n4868    [high, product, full, stack, web, framework, g...\\n4869                                [smooth, scroll, web]\\n4870                 [abstract, local, remot, filesystem]\\n4871                          [azur, quickstart, templat]\\n4872    [proxi, base, redi, cluster, solut, support, p...\\n4873    [7, day, golang, program, scratch, web, framew...\\n4874    [world, 1, javascript, librari, rich, text, ed...\\n4875    [svg, power, compon, easili, creat, skeleton, ...\\n4876                                         [cheatsheet]\\n4877        [turbolink, make, navig, web, applic, faster]\\n4878    [plugin, driven, server, agent, collect, repor...\\n4879        [blaze, fast, termin, ui, git, written, rust]\\n4880         [complet, nativ, navig, solut, react, nativ]\\n4881    [open, sourc, automl, toolkit, autom, machin, ...\\n4882                 [miss, fullstack, toolkit, next, js]\\n4883    [complet, solut, packag, build, readi, distrib...\\n4884                [人人影视, 机器人和网站, 包含人人影视全部资源以及众多网友的网盘分享]\\n4885                [offici, sass, port, bootstrap, 2, 3]\\n4886                               [python, 练习册, 每天一个小程序]\\n4887    [automat, tile, window, manag, maco, à, la, xm...\\n4888                               [swiper, compon, vuej]\\n4889    [see_no_evil, volkswagen, detect, test, run, c...\\n4890    [chine, copywrit, guidelin, better, written, c...\\n4891    [stetho, debug, bridg, android, applic, enabl,...\\n4892    [news, full, text, articl, metadata, extract, ...\\n4893                          [content, awar, imag, crop]\\n4894    [higher, order, compon, use, react, redux, kee...\\n4895    [simpl, zero, configur, command, line, http, s...\\n4896    [data, driven, uicollectionview, framework, bu...\\n4897             [api, wrapper, discord, written, python]\\n4898    [imag, process, librari, written, entir, javas...\\n4899                        [跨平台桌面端视频资源播放器, 简洁无广告, 免费高颜值]\\n4900    [declar, html, base, languag, make, build, web...\\n4901    [fulli, featur, open, sourc, mail, deliveri, p...\\n4902    [free, book, talk, design, pattern, techniqu, ...\\n4903           [desktop, debug, platform, mobil, develop]\\n4904                      [persist, rehydr, redux, store]\\n4905                           [dynam, es, modul, loader]\\n4906    [fast, customiz, vulner, scanner, base, simpl,...\\n4907    [llamaindex, gpt, index, project, provid, cent...\\n4908    [clean, architectur, solut, templat, start, po...\\n4909    [官方推荐, ruoyi, vue, 全新, pro, 版本, 优化重构所有功能, 基于, ...\\n4910    [collect, simpl, python, mini, project, enhanc...\\n4911        [deploy, autom, tool, built, rubi, rake, ssh]\\n4912            [interact, javascript, chart, built, svg]\\n4913                          [golang, termin, dashboard]\\n4914    [algorithm, data, structur, implement, go, beg...\\n4915    [natur, languag, process, tutori, deep, learn,...\\n4916    [web, audio, framework, make, interact, music,...\\n4917    [ef, core, modern, object, databa, mapper, net...\\n4918    [fastest, json, schema, valid, support, json, ...\\n4919    [comprehen, languag, agnost, guidelin, variabl...\\n4920    [handi, collect, 500, nativ, swift, exten, boo...\\n4921                        [fast, easi, use, statu, bar]\\n4922    [clean, lightweight, progress, hud, io, tvo, app]\\n4923          [cross, browser, qrcode, gener, javascript]\\n4924    [vue, 3, compon, librari, fairli, complet, the...\\n4925                    [complet, chat, ui, react, nativ]\\n4926                  [leon, open, sourc, person, assist]\\n4927    [simpl, browser, markdown, driven, slideshow, ...\\n4928                               [power, swipe, layout]\\n4929         [http, http2, http, websocket, debug, proxi]\\n4930      [python, implement, reinforc, learn, introduct]\\n4931    [microserv, architectur, spring, boot, spring,...\\n4932                          [cute, view, anim, collect]\\n4933    [tweak, react, compon, real, time, deprec, use...\\n4934                          [12, week, 24, lesson, iot]\\n4935    [go, simpl, tunnel, simpl, tunnel, written, go...\\n4936    [webpack, plugin, cli, util, repr, bundl, cont...\\n4937              [protect, discov, secret, use, gitleak]\\n4938                    [i3, compat, wayland, compositor]\\n4939    [rubi, static, code, analyz, formatt, base, co...\\n4940                     [render, markdown, cli, pizzazz]\\n4941                       [creat, pdf, file, use, react]\\n4942    [github加速神器, 解决github打不开, 用户头像无法加载, releases无法...\\n4943                [creat, singl, execut, node, js, app]\\n4944           [javascript, regular, express, made, easi]\\n4945    [learn, oper, system, develop, use, linux, ker...\\n4946    [dataload, gener, util, use, part, applic, dat...\\n4947    [drop, uitableview, uicollectionview, supercla...\\n4948    [wordpress, starter, theme, laravel, blade, co...\\n4949                    [reproduc, imag, geometr, primit]\\n4950    [high, perform, 100, compat, drop, replac, enc...\\n4951    [lightweight, self, host, memo, hub, open, sou...\\n4952    [python爬虫教程系列, 从0到1学习python爬虫, 包括浏览器抓包, 手机app抓...\\n4953                                [rhythm, click, away]\\n4954           [evergreen, react, ui, framework, segment]\\n4955          [free, simpl, respon, html, email, templat]\\n4956                 [minim, portfolio, templat, develop]\\n4957                                    [eleg, dashboard]\\n4958      [http, server, mock, expect, librari, node, js]\\n4959    [pure, php, librari, read, write, spreadsheet,...\\n4960        [list, data, scienc, cheatsheet, rule, world]\\n4961                   [pretti, minim, fast, zsh, prompt]\\n4962    [easili, internationaliz, mobil, friendli, dat...\\n4963    [对开发人员有用的定律, 理论, 原则和模式, law, theori, principl,...\\n4964         [get, json, valu, quickli, json, parser, go]\\n4965    [snowflak, php, librari, gener, univ, uniqu, i...\\n4966    [starter, boilerpl, univ, webapp, use, express...\\n4967                           [brotli, compress, format]\\n4968    [bring, old, photo, back, life, cvpr, 2020, oral]\\n4969    [seamless, rest, graphql, api, mock, librari, ...\\n4970                                             [articl]\\n4971    [一些非常有趣的python爬虫例子, 对新手比较友好, 主要爬取淘宝, 天猫, 微信, 微...\\n4972                 [css, design, system, power, github]\\n4973                               [make, json, greppabl]\\n4974           [ui, ux, framework, creat, beauti, applic]\\n4975        [extrem, fast, python, linter, written, rust]\\n4976       [modest, javascript, framework, html, alreadi]\\n4977    [execut, one, command, mount, one, node, js, m...\\n4978                                 [serverless, python]\\n4979                [lightweight, onlin, game, framework]\\n4980    [share, target, browser, differ, front, end, t...\\n4981    [curat, list, awesom, big, data, framework, re...\\n4982      [tool, automat, fix, php, code, standard, issu]\\n4983    [collect, script, aggreg, imag, data, purpo, t...\\n4984    [classi, web, develop, dress, dsl, offici, can...\\n4985                               [nix, packag, collect]\\n4986              [manag, complex, tmux, session, easili]\\n4987    [fast, imag, augment, librari, easi, use, wrap...\\n4988    [robust, perform, focu, full, featur, redi, cl...\\n4989                         [web, api, base, smtp, test]\\n4990              [spectacular, test, runner, javascript]\\n4991    [python, machin, learn, 1st, edit, book, code,...\\n4992    [ultim, gener, base, flow, control, good, node...\\n4993    [curat, list, amazingli, awesom, elixir, erlan...\\n4994    [simplest, smallest, wysiwyg, text, editor, we...\\n4995    [php, static, analysi, tool, discov, bug, code...\\n4996    [一个可以观看国内主流视频平台所有视频的客户端, mac, window, linux, c...\\n4997    [eleg, way, show, user, someth, happen, also, ...\\n4998                    [star, vim, visual, studio, code]\\n4999    [larg, scale, self, supervi, pre, train, acros...\\n5000                [full, php, develop, environ, docker]\\n5001    [emb, graphic, librari, creat, beauti, ui, mcu...\\n5002    [aurelia, 1, framework, entri, point, bring, t...\\n5003                                   [light, tabl, ide]\\n5004    [fast, scalabl, distribut, game, server, frame...\\n5005                         [retro, game, engin, python]\\n5006                      [run, linter, git, stage, file]\\n5007    [net, cross, platform, runtim, cloud, mobil, d...\\n5008       [high, qualiti, reliabl, react, hook, librari]\\n5009                          [javascript, imag, cropper]\\n5010                              [鲜亮的高饱和色彩, 专注视觉的小程序组件库]\\n5011        [watch, file, record, trigger, action, chang]\\n5012                                      [mybatis通用分页插件]\\n5013                           [node, js, desktop, autom]\\n5014         [clean, architectur, solut, templat, net, 7]\\n5015    [public, list, open, sourc, challeng, compani,...\\n5016    [full, stack, modern, web, applic, gener, use,...\\n5017                 [typescript, execut, repl, node, js]\\n5018    [small, clone, 1024, http, web, archiv, org, w...\\n5019                                [http, librari, rust]\\n5020                     [eleg, io, form, builder, swift]\\n5021                   [conci, progress, visual, grammar]\\n5022                    [simpl, javascript, toast, notif]\\n5023                         [classi, web, framework, go]\\n5024         [music, librari, manag, musicbrainz, tagger]\\n5025    [power, http, packag, dart, flutter, support, ...\\n5026    [slim, php, micro, framework, help, quickli, w...\\n5027    [scalabl, overlay, network, tool, focu, perfor...\\n5028         [free, bootstrap, admin, dashboard, templat]\\n5029    [credit_card, make, credit, card, form, better...\\n5030                       [virtual, dom, dif, algorithm]\\n5031          [bathtub, clean, code, concept, adapt, php]\\n5032    [extend, tabl, integr, wide, use, css, framewo...\\n5033    [collect, servic, great, free, tier, develop, ...\\n5034           [deliv, go, binari, fast, easili, possibl]\\n5035              [increment, par, system, program, tool]\\n5036    [javascript, drag, drop, resiz, multi, touch, ...\\n5037    [workbox, javascript, librari, progress, web, ...\\n5038         [supercharg, excel, export, import, laravel]\\n5039    [grab, color, palett, imag, use, javascript, w...\\n5040            [oni, modern, modal, edit, power, neovim]\\n5041    [fast, lightweight, polyfil, min, max, width, ...\\n5042    [one, kind, resum, builder, keep, privaci, min...\\n5043                        [voyag, miss, laravel, admin]\\n5044             [nodesourc, node, js, binari, distribut]\\n5045                               [function, css, human]\\n5046                               [redi, python, client]\\n5047                  [termin, workspac, batteri, includ]\\n5048    [video_gam, pencil, list, game, develop, resou...\\n5049    [control, ws2812b, mani, type, digit, rgb, led...\\n5050    [end, end, test, framework, written, node, js,...\\n5051    [jspatch, bridg, object, c, javascript, use, o...\\n5052     [light, respon, lightbox, script, focu, perform]\\n5053             [open, sourc, smart, contract, platform]\\n5054    [platform, creat, document, wiki, content, bui...\\n5055    [art, color, picker, sketch, photoshop, chrome...\\n5056    [beauti, design, compon, built, radix, ui, tai...\\n5057    [net, m3u8, download, 开源的命令行m3u8, hl, dash下载器,...\\n5058    [microscop, espaço, para, divulgação, de, vaga...\\n5059    [deprec, favor, http, microsoft, github, io, r...\\n5060    [set, primit, build, simpl, flexibl, wai, aria...\\n5061    [nivo, provid, rich, set, dataviz, compon, bui...\\n5062    [download, spotifi, playlist, song, along, alb...\\n5063               [open, sourc, continu, file, synchron]\\n5064    [terraform, enabl, safe, predict, creat, chang...\\n5065                             [api, document, browser]\\n5066    [tool, secret, manag, encrypt, servic, privile...\\n5067    [consul, distribut, highli, avail, data, cente...\\n5068                              [servo, browser, engin]\\n5069    [deepspeech, open, sourc, emb, offlin, devic, ...\\n5070    [penpot, open, sourc, design, prototyp, platform]\\n5071                  [post, modern, modal, text, editor]\\n5072    [increment, bundler, build, system, optim, jav...\\n5073    [fast, lightweight, schema, less, search, back...\\n5074    [next, gener, brave, browser, android, linux, ...\\n5075    [notion, miro, affin, next, gen, knowledg, bas...\\n5076                  [person, inform, dashboard, termin]\\n5077    [packer, tool, creat, ident, machin, imag, mul...\\n5078    [nomad, easi, use, flexibl, perform, workload,...\\n5079    [xray, penetr, everyth, also, best, v2ray, cor...\\n5080               [high, perform, observ, data, pipelin]\\n5081         [simpl, privat, file, share, maker, firefox]\\n5082    [go, mysql, driver, mysql, driver, go, golang,...\\n5083    [creat, book, markdown, file, like, gitbook, i...\\n5084    [d2, modern, diagram, script, languag, turn, t...\\n5085                [simpl, flexibl, tool, manag, secret]\\n5086    [开发者边车, github打不开, github加速, git, clone加速, git...\\n5087    [run, nintendo, switch, homebrew, game, androi...\\n5088                                        [firefox, io]\\n5089    [deep, learn, toolkit, text, speech, battl, te...\\n5090    [pyodid, python, distribut, browser, node, js,...\\n5091    [laverna, javascript, note, take, applic, mark...\\n5092    [super, simpl, ci, cd, framework, repeat, buil...\\n5093    [ocrmypdf, add, ocr, text, layer, scan, pdf, f...\\n5094                  [applic, rs, school, educ, process]\\n5095                              [terraform, aw, provid]\\n5096    [best, free, open, sourc, autom, time, tracker...\\n5097        [enlighten, librari, convert, html, css, svg]\\n5098    [robot, speech_balloon, deep, learn, text, spe...\\n5099        [golang, implement, raft, consensu, protocol]\\n5100                        [hide, menu, bar, icon, maco]\\n5101    [servic, websit, make, surprisingli, easi, col...\\n5102    [catalogu, rust, design, pattern, anti, patter...\\n5103    [machineri, asynchron, task, queue, job, queue...\\n5104    [fenix, firefox, android, move, new, repositor...\\n5105                                   [webdriv, firefox]\\n5106    [cloud, scale, load, test, fulli, serverless, ...\\n5107             [dark, room, minimalist, text, adventur]\\n5108    [repo, deprec, plea, check, http, github, com,...\\n5109                      [servic, orchestr, manag, tool]\\n5110    [data, lake, deep, learn, multi, modal, vector...\\n5111                            [desktop, gui, framework]\\n5112       [open, sourc, android, desktop, remak, civ, v]\\n5113             [tile, termin, emul, linux, use, gtk, 3]\\n5114                [access, engin, autom, web, ui, test]\\n5115    [open, multipl, view, geometri, librari, basi,...\\n5116        [full, featur, bittorr, client, packag, util]\\n5117       [tool, build, deploy, relea, applic, platform]\\n5118                  [hcl, hashicorp, configur, languag]\\n5119                                 [cemu, wii, u, emul]\\n5120    [templat, render, notifi, supervisor, hashicor...\\n5121    [modern, python, applic, packag, distribut, tool]\\n5122             [acm, base, certif, author, written, go]\\n5123        [dead, simpl, frill, go, cross, compil, tool]\\n5124    [octosql, queri, tool, allow, join, anali, tra...\\n5125                      [mgba, game, boy, advanc, emul]\\n5126                   [correct, bash, syntax, highlight]\\n5127    [watch, youtub, video, tv, set, top, box, comf...\\n5128                   [respect, proton, ui, aim, improv]\\n5129    [open, sourc, high, perform, data, integr, pla...\\n5130    [defin, infrastructur, resourc, use, program, ...\\n5131                        [golang, plugin, system, rpc]\\n5132                        [develop, deploy, made, easi]\\n5133                            [ultim, lyric, app, maco]\\n5134    [creat, build, modern, javascript, project, ze...\\n5135            [terraform, provid, azur, resourc, manag]\\n5136    [cloud, sync, bookmark, privat, across, browse...\\n5137    [proven, svg, base, javascript, diagram, libra...\\n5138                        [pluggabl, terraform, linter]\\n5139    [哔哩哔哩, bilibili, com, 辅助工具, 可以替换播放器, 推送通知并进行一些...\\n5140    [talo, linux, modern, linux, distribut, built,...\\n5141       [free, libr, open, sourc, mobil, os, ethereum]\\n5142    [encor, end, end, backend, develop, platform, ...\\n5143    [port, maco, mojav, dynam, desktop, featur, wi...\\n5144    [exampl, firefox, add, on, creat, use, webexte...\\n5145    [boundari, enabl, ident, base, access, manag, ...\\n5146    [extrem, fast, css, parser, transform, bundler...\\n5147                                  [golang, lru, cach]\\n5148                   [time, seri, visual, tool, deserv]\\n5149         [r, data, tabl, packag, extend, data, frame]\\n5150    [golang, packag, gossip, base, membership, fai...\\n5151    [common, voic, part, mozilla, initi, help, tea...\\n5152    [chain, api, gener, simplifi, modif, webpack, ...\\n5153                         [rubiniu, languag, platform]\\n5154    [fast, beauti, note, take, app, written, c, wr...\\n5155    [web, base, xmpp, jabber, chat, client, writte...\\n5156                             [gpu, base, render, web]\\n5157    [autom, kubernet, develop, test, spin, product...\\n5158    [golang, memori, databa, built, immut, radix, ...\\n5159    [html5, secur, cheatsheet, collect, html5, rel...\\n5160    [timelinej, v3, storytel, timelin, built, java...\\n5161    [libr, hardwar, monitor, home, fork, open, har...\\n5162    [white_check_mark, brief, introduct, test, dri...\\n5163                         [vector, illustr, app, ipad]\\n5164                                     [webth, gateway]\\n5165                          [secur, reliabl, transport]\\n5166                [tencent, qq, bot, librari, node, js]\\n5167    [given, web, api, gener, client, librari, node...\\n5168                         [librari, load, dll, memori]\\n5169                           [wrapper, syncth, android]\\n5170                                         [css, diner]\\n5171                  [10x, faster, matrix, vector, oper]\\n5172     [translat, page, real, time, use, googl, yandex]\\n5173    [firefox, multi, account, contain, let, keep, ...\\n5174    [command, line, tool, help, build, run, test, ...\\n5175    [repositório, para, juntar, informaçõ, sobr, m...\\n5176    [lightweight, memori, protect, messag, pass, k...\\n5177    [smenu, start, lightweight, flexibl, termin, m...\\n5178                              [pocket, cast, android]\\n5179                                 [pure, java, zeromq]\\n5180    [kubernet, oper, autom, helm, daemonset, state...\\n5181    [deprec, mozdef, mozilla, enterpri, defen, pla...\\n5182    [hashicorp, vault, ui, written, vuej, vault, n...\\n5183    [transact, relat, databa, use, datalog, focu, ...\\n5184    [lightweight, polyfil, librari, promi, base, w...\\n5185               [get, inform, countri, via, rest, api]\\n5186    [firefox, focu, android, move, new, repositori...\\n5187         [start, project, remedi, technic, debt, css]\\n5188    [open, sourc, implement, opc, ua, opc, unifi, ...\\n5189         [miss, desktop, client, gmail, googl, inbox]\\n5190                 [collect, userstyl, affect, browser]\\n5191         [openvdb, spar, volum, data, structur, tool]\\n5192    [interact, go, interpret, debugg, repl, eval, ...\\n5193    [project, move, new, repositori, develop, main...\\n5194    [ledg, devop, knowledg, learn, platform, devop...\\n5195    [core, engin, brave, browser, android, linux, ...\\n5196    [standalon, specif, compliant, oauth2, server,...\\n5197    [duck, theme, multi, user, virtual, space, web...\\n5198          [terraform, googl, cloud, platform, provid]\\n5199    [power, react, nativ, starter, templat, bootst...\\n5200                [framework, extract, mean, web, page]\\n5201       [lightweight, android, browser, modern, navig]\\n5202    [best, hacker, gadget, red, team, pentest, sec...\\n5203                               [svg, render, librari]\\n5204                                [project, power, mdn]\\n5205    [bring, structur, famo, us, app, power, angula...\\n5206    [launch, subprocess, environ, variabl, use, da...\\n5207                [golang, connect, multiplex, librari]\\n5208    [go, golang, packag, repr, list, error, singl,...\\n5209                         [rewrit, tachiyomi, desktop]\\n5210    [geziyor, blaze, fast, web, crawl, scrape, fra...\\n5211    [simpl, way, find, ssl, ciphersuit, support, t...\\n5212                    [actordb, distribut, sql, databa]\\n5213    [real, time, motion, captur, system, 3d, virtu...\\n5214    [load, mdx, content, anywh, getstaticprop, nex...\\n5215                     [handi, video, process, softwar]\\n5216                             [type, check, jsx, rust]\\n5217    [stt, deep, learn, toolkit, speech, text, trai...\\n5218    [high, perform, gpgpu, infer, openai, whisper,...\\n5219                       [graph, databa, written, rust]\\n5220    [brand, new, web, visual, novel, engin, 全新的网页端...\\n5221    [爬虫框架, golang, awesom, go, concurr, crawler, s...\\n5222                [project, gener, c, bind, rust, code]\\n5223                         [mozilla, http, observatori]\\n5224                         [run, firefox, sync, server]\\n5225    [notion, style, block, base, exten, text, edit...\\n5226                            [paint, app, iphon, ipad]\\n5227    [command, line, c, repl, syntax, highlight, ex...\\n5228    [droplet, vagrant, provid, plugin, manag, digi...\\n5229     [python, librari, read, write, pdf, power, qpdf]\\n5230                   [rust, bind, wgpu, nativ, librari]\\n5231    [python, packag, manipul, 2, dimens, tabular, ...\\n5232                 [librefox, firefox, privaci, enhanc]\\n5233    [go, librari, implement, command, line, interfac]\\n5234            [web, browser, engin, space, age, rocket]\\n5235                                      [cat, markdown]\\n5236                               [public, suffix, list]\\n5237                                        [next, futur]\\n5238     [cross, platform, text, editor, written, lazaru]\\n5239    [open, sourc, webhook, gateway, incom, outgo, ...\\n5240                                    [job, server, go]\\n5241                         [retryabl, http, client, go]\\n5242                            [document, manag, system]\\n5243                              [lux, program, languag]\\n5244        [onenot, add, simpl, yet, power, use, featur]\\n5245                     [sync, outlook, googl, calendar]\\n5246                                        [simd, human]\\n5247    [pure, rust, multimedia, format, demux, tag, r...\\n5248                                                   []\\n5249                      [pyon, 一款给力的onedrive文件管理, 分享程序]\\n5250      [blaze, fast, languag, blaze, fast, world, wip]\\n5251               [liter, scientif, comput, commun, web]\\n5252                      [使用github, api, 搭建一个可动态发布文章的博客]\\n5253    [packag, download, thing, string, url, use, va...\\n5254             [offlin, text, speech, synthesi, python]\\n5255                   [gener, purpo, time, compil, rust]\\n5256    [adblock, live, radio, stream, podcast, machin...\\n5257    [pencil, vagrant, plugin, manag, host, file, w...\\n5258    [repositori, new, home, http, git, synz, io, s...\\n5259                              [pocket, cast, io, app]\\n5260                              [zoom, present, editor]\\n5261         [webexten, restor, save, window, tab, state]\\n5262                  [multi, languag, bind, gener, rust]\\n5263                                 [brave, io, browser]\\n5264            [free, open, sourc, enterpri, grade, rpa]\\n5265    [updat, project, longer, maintain, plea, check...\\n5266    [microserv, statu, page, monitor, distribut, i...\\n5267                   [nativ, jellyfin, client, io, tvo]\\n5268    [kanidm, simpl, secur, fast, ident, manag, pla...\\n5269                  [high, level, emul, iphon, os, app]\\n5270                        [terraform, kubernet, provid]\\n5271    [go, golang, librari, par, verifi, version, ve...\\n5272              [assort, immut, collect, datatyp, rust]\\n5273    [ddo, ripper, distribut, deni, servic, ddo, at...\\n5274      [boilerpl, free, librari, load, configur, file]\\n5275             [lightweight, android, contain, android]\\n5276                      [leapp, devtool, access, cloud]\\n5277             [immut, order, key, valu, databa, engin]\\n5278    [free, live, chat, widget, link, telegram, mes...\\n5279                 [exampl, usag, hashicorp, terraform]\\n5280    [tool, instal, manag, use, progress, web, app,...\\n5281    [rethinkdn, resolv, deploy, cloudflar, worker,...\\n5282    [virtual, featur, store, turn, exist, data, in...\\n5283          [rust, color, termin, simpl, alreadi, know]\\n5284    [webtool, collect, tool, plex, media, server, ...\\n5285                     [bidirect, map, librari, python]\\n5286    [triton, datac, cloud, manag, platform, first,...\\n5287    [fast, bump, alloc, virtual, dom, librari, rus...\\n5288    [mobil, first, 3d, map, engin, emphasi, user, ...\\n5289                               [robot, visual, debug]\\n5290                                  [firefox, focu, io]\\n5291      [procedur, node, base, model, tool, made, rust]\\n5292    [blocksuit, open, sourc, collabor, editor, pro...\\n5293    [distribut, real, time, digit, foren, speed, c...\\n5294    [ghosteri, browser, exten, firefox, chrome, op...\\n5295    [add, web, app, view, sourc, code, chrome, fir...\\n5296    [modular, color, picker, widget, javascript, s...\\n5297              [oga, xml, html, parser, written, rubi]\\n5298                              [rust, design, pattern]\\n5299    [topic, model, latent, dirichlet, alloc, use, ...\\n5300                                [blockstack, browser]\\n5301    [python, librari, accur, queri, usernam, email...\\n5302    [servic, autodiscoveri, configur, applic, run,...\\n5303    [sport, app, elev, train, experi, goal, track,...\\n5304    [tool, bring, exist, azur, resourc, terraform,...\\n5305    [c, c, webrtc, network, librari, featur, data,...\\n5306                             [server, side, tl, tool]\\n5307       [make, mozilla, org, awesom, one, pebbl, time]\\n5308    [fast, portabl, reliabl, depend, analysi, code...\\n5309    [high, level, cryptographi, interfac, power, l...\\n5310                               [rust, bind, godot, 4]\\n5311                          [high, level, c, bind, ømq]\\n5312                                    [幼女code, 反和谐超级武器]\\n5313            [kubernet, yaml, terraform, hcl, convert]\\n5314                        [sourc, code, premid, applic]\\n5315                  [brave, rust, base, adblock, engin]\\n5316    [clojur, dialect, llvm, gradual, type, nativ, ...\\n5317            [wsdl2go, code, gener, well, soap, proxi]\\n5318                            [browser, fight, privaci]\\n5319                           [polici, templat, firefox]\\n5320      [set, terraform, cli, github, action, workflow]\\n5321                                       [从零开始研究外挂设计原理]\\n5322    [sqle, sql, audit, platform, sqle, 是一个支持多场景, 原...\\n5323                           [browser, liter, notebook]\\n5324                   [autom, api, test, qualiti, assur]'"
            ],
            "application/vnd.google.colaboratory.intrinsic+json": {
              "type": "string"
            }
          },
          "metadata": {},
          "execution_count": 63
        }
      ]
    },
    {
      "cell_type": "code",
      "source": [
        "#Unique topic set\n",
        "import ast\n",
        "tokens = repo_data[\"description_tokens\"]\n",
        "tokens_list = list()\n",
        "tokens_set = set()\n",
        "for token in tokens:\n",
        "  tokens_list.append(token)\n",
        "  tokens_set = tokens_set.union(set(token))\n",
        "\n",
        "display(len(tokens_list))\n",
        "display(len(tokens_set))"
      ],
      "metadata": {
        "colab": {
          "base_uri": "https://localhost:8080/",
          "height": 53
        },
        "id": "05lOI7_2mXXs",
        "outputId": "3e38fc3a-2ed7-4240-9ec3-33444959be24"
      },
      "execution_count": 41,
      "outputs": [
        {
          "output_type": "display_data",
          "data": {
            "text/plain": [
              "5325"
            ]
          },
          "metadata": {}
        },
        {
          "output_type": "display_data",
          "data": {
            "text/plain": [
              "7464"
            ]
          },
          "metadata": {}
        }
      ]
    },
    {
      "cell_type": "code",
      "source": [
        "# Joining all data in list by space and converting lower case\n",
        "repo_data['topics'] = repo_data['topics'].apply(lambda x: ' '.join(x))\n",
        "repo_data['topics'] = repo_data['topics'].apply(lambda x: x.lower())\n",
        "\n",
        "repo_data['lang_name'] = repo_data['lang_name'].apply(lambda x: ' '.join(x))\n",
        "repo_data['lang_name'] = repo_data['lang_name'].apply(lambda x: x.lower())\n",
        "\n",
        "repo_data['description_tokens'] = repo_data['description_tokens'].apply(lambda x: ' '.join(x))\n",
        "repo_data['description_tokens'] = repo_data['description_tokens'].apply(lambda x: x.lower())\n",
        "\n",
        "repo_data['language'] = repo_data['language'].astype(str).apply(lambda x: x.lower())\n",
        "repo_data['name'] = repo_data['name'].astype(str).apply(lambda x: x.lower())\n",
        "repo_data['license_name'] = repo_data['license_name'].astype(str).apply(lambda x: x.lower())"
      ],
      "metadata": {
        "id": "NsMFEvsJc7XR"
      },
      "execution_count": 43,
      "outputs": []
    },
    {
      "cell_type": "code",
      "source": [
        "display(repo_data.head())"
      ],
      "metadata": {
        "colab": {
          "base_uri": "https://localhost:8080/",
          "height": 337
        },
        "id": "Ee48jKvq73Bd",
        "outputId": "037081cc-e9c0-4b36-aa72-543d37bfaaa1"
      },
      "execution_count": 44,
      "outputs": [
        {
          "output_type": "display_data",
          "data": {
            "text/plain": [
              "                  full_name          name  \\\n",
              "0     tensorflow/tensorflow    tensorflow   \n",
              "1     kubernetes/kubernetes    kubernetes   \n",
              "2  huggingface/transformers  transformers   \n",
              "3      microsoft/TypeScript    typescript   \n",
              "4       puppeteer/puppeteer     puppeteer   \n",
              "\n",
              "                                         description  \\\n",
              "0  An Open Source Machine Learning Framework for ...   \n",
              "1  Production-Grade Container Scheduling and Mana...   \n",
              "2  🤗 Transformers: State-of-the-art Machine Learn...   \n",
              "3  TypeScript is a superset of JavaScript that co...   \n",
              "4                        Headless Chrome Node.js API   \n",
              "\n",
              "                                              topics    language  \\\n",
              "0  deep-learning deep-neural-networks distributed...         c++   \n",
              "1                      cncf containers go kubernetes          go   \n",
              "2  bert deep-learning flax hacktoberfest jax lang...      python   \n",
              "3         javascript language typechecker typescript  typescript   \n",
              "4  automation chrome chromium developer-tools hea...  typescript   \n",
              "\n",
              "                                           lang_name license_name  \\\n",
              "0  c++ python mlir starlark html go c java jupyte...   apache-2.0   \n",
              "1  go shell powershell makefile dockerfile python...   apache-2.0   \n",
              "2  python cuda shell dockerfile c++ c cython make...   apache-2.0   \n",
              "3             typescript javascript dockerfile shell   apache-2.0   \n",
              "4    typescript javascript html css dockerfile shell   apache-2.0   \n",
              "\n",
              "                                  description_tokens  \n",
              "0    open source machine learning framework everyone  \n",
              "1   production grade container scheduling management  \n",
              "2  transformers state art machine learning pytorc...  \n",
              "3  typescript superset javascript compiles clean ...  \n",
              "4                        headless chrome node js api  "
            ],
            "text/html": [
              "\n",
              "  <div id=\"df-bfb147ed-1ca0-479d-af53-29a2a4784e03\">\n",
              "    <div class=\"colab-df-container\">\n",
              "      <div>\n",
              "<style scoped>\n",
              "    .dataframe tbody tr th:only-of-type {\n",
              "        vertical-align: middle;\n",
              "    }\n",
              "\n",
              "    .dataframe tbody tr th {\n",
              "        vertical-align: top;\n",
              "    }\n",
              "\n",
              "    .dataframe thead th {\n",
              "        text-align: right;\n",
              "    }\n",
              "</style>\n",
              "<table border=\"1\" class=\"dataframe\">\n",
              "  <thead>\n",
              "    <tr style=\"text-align: right;\">\n",
              "      <th></th>\n",
              "      <th>full_name</th>\n",
              "      <th>name</th>\n",
              "      <th>description</th>\n",
              "      <th>topics</th>\n",
              "      <th>language</th>\n",
              "      <th>lang_name</th>\n",
              "      <th>license_name</th>\n",
              "      <th>description_tokens</th>\n",
              "    </tr>\n",
              "  </thead>\n",
              "  <tbody>\n",
              "    <tr>\n",
              "      <th>0</th>\n",
              "      <td>tensorflow/tensorflow</td>\n",
              "      <td>tensorflow</td>\n",
              "      <td>An Open Source Machine Learning Framework for ...</td>\n",
              "      <td>deep-learning deep-neural-networks distributed...</td>\n",
              "      <td>c++</td>\n",
              "      <td>c++ python mlir starlark html go c java jupyte...</td>\n",
              "      <td>apache-2.0</td>\n",
              "      <td>open source machine learning framework everyone</td>\n",
              "    </tr>\n",
              "    <tr>\n",
              "      <th>1</th>\n",
              "      <td>kubernetes/kubernetes</td>\n",
              "      <td>kubernetes</td>\n",
              "      <td>Production-Grade Container Scheduling and Mana...</td>\n",
              "      <td>cncf containers go kubernetes</td>\n",
              "      <td>go</td>\n",
              "      <td>go shell powershell makefile dockerfile python...</td>\n",
              "      <td>apache-2.0</td>\n",
              "      <td>production grade container scheduling management</td>\n",
              "    </tr>\n",
              "    <tr>\n",
              "      <th>2</th>\n",
              "      <td>huggingface/transformers</td>\n",
              "      <td>transformers</td>\n",
              "      <td>🤗 Transformers: State-of-the-art Machine Learn...</td>\n",
              "      <td>bert deep-learning flax hacktoberfest jax lang...</td>\n",
              "      <td>python</td>\n",
              "      <td>python cuda shell dockerfile c++ c cython make...</td>\n",
              "      <td>apache-2.0</td>\n",
              "      <td>transformers state art machine learning pytorc...</td>\n",
              "    </tr>\n",
              "    <tr>\n",
              "      <th>3</th>\n",
              "      <td>microsoft/TypeScript</td>\n",
              "      <td>typescript</td>\n",
              "      <td>TypeScript is a superset of JavaScript that co...</td>\n",
              "      <td>javascript language typechecker typescript</td>\n",
              "      <td>typescript</td>\n",
              "      <td>typescript javascript dockerfile shell</td>\n",
              "      <td>apache-2.0</td>\n",
              "      <td>typescript superset javascript compiles clean ...</td>\n",
              "    </tr>\n",
              "    <tr>\n",
              "      <th>4</th>\n",
              "      <td>puppeteer/puppeteer</td>\n",
              "      <td>puppeteer</td>\n",
              "      <td>Headless Chrome Node.js API</td>\n",
              "      <td>automation chrome chromium developer-tools hea...</td>\n",
              "      <td>typescript</td>\n",
              "      <td>typescript javascript html css dockerfile shell</td>\n",
              "      <td>apache-2.0</td>\n",
              "      <td>headless chrome node js api</td>\n",
              "    </tr>\n",
              "  </tbody>\n",
              "</table>\n",
              "</div>\n",
              "      <button class=\"colab-df-convert\" onclick=\"convertToInteractive('df-bfb147ed-1ca0-479d-af53-29a2a4784e03')\"\n",
              "              title=\"Convert this dataframe to an interactive table.\"\n",
              "              style=\"display:none;\">\n",
              "        \n",
              "  <svg xmlns=\"http://www.w3.org/2000/svg\" height=\"24px\"viewBox=\"0 0 24 24\"\n",
              "       width=\"24px\">\n",
              "    <path d=\"M0 0h24v24H0V0z\" fill=\"none\"/>\n",
              "    <path d=\"M18.56 5.44l.94 2.06.94-2.06 2.06-.94-2.06-.94-.94-2.06-.94 2.06-2.06.94zm-11 1L8.5 8.5l.94-2.06 2.06-.94-2.06-.94L8.5 2.5l-.94 2.06-2.06.94zm10 10l.94 2.06.94-2.06 2.06-.94-2.06-.94-.94-2.06-.94 2.06-2.06.94z\"/><path d=\"M17.41 7.96l-1.37-1.37c-.4-.4-.92-.59-1.43-.59-.52 0-1.04.2-1.43.59L10.3 9.45l-7.72 7.72c-.78.78-.78 2.05 0 2.83L4 21.41c.39.39.9.59 1.41.59.51 0 1.02-.2 1.41-.59l7.78-7.78 2.81-2.81c.8-.78.8-2.07 0-2.86zM5.41 20L4 18.59l7.72-7.72 1.47 1.35L5.41 20z\"/>\n",
              "  </svg>\n",
              "      </button>\n",
              "      \n",
              "  <style>\n",
              "    .colab-df-container {\n",
              "      display:flex;\n",
              "      flex-wrap:wrap;\n",
              "      gap: 12px;\n",
              "    }\n",
              "\n",
              "    .colab-df-convert {\n",
              "      background-color: #E8F0FE;\n",
              "      border: none;\n",
              "      border-radius: 50%;\n",
              "      cursor: pointer;\n",
              "      display: none;\n",
              "      fill: #1967D2;\n",
              "      height: 32px;\n",
              "      padding: 0 0 0 0;\n",
              "      width: 32px;\n",
              "    }\n",
              "\n",
              "    .colab-df-convert:hover {\n",
              "      background-color: #E2EBFA;\n",
              "      box-shadow: 0px 1px 2px rgba(60, 64, 67, 0.3), 0px 1px 3px 1px rgba(60, 64, 67, 0.15);\n",
              "      fill: #174EA6;\n",
              "    }\n",
              "\n",
              "    [theme=dark] .colab-df-convert {\n",
              "      background-color: #3B4455;\n",
              "      fill: #D2E3FC;\n",
              "    }\n",
              "\n",
              "    [theme=dark] .colab-df-convert:hover {\n",
              "      background-color: #434B5C;\n",
              "      box-shadow: 0px 1px 3px 1px rgba(0, 0, 0, 0.15);\n",
              "      filter: drop-shadow(0px 1px 2px rgba(0, 0, 0, 0.3));\n",
              "      fill: #FFFFFF;\n",
              "    }\n",
              "  </style>\n",
              "\n",
              "      <script>\n",
              "        const buttonEl =\n",
              "          document.querySelector('#df-bfb147ed-1ca0-479d-af53-29a2a4784e03 button.colab-df-convert');\n",
              "        buttonEl.style.display =\n",
              "          google.colab.kernel.accessAllowed ? 'block' : 'none';\n",
              "\n",
              "        async function convertToInteractive(key) {\n",
              "          const element = document.querySelector('#df-bfb147ed-1ca0-479d-af53-29a2a4784e03');\n",
              "          const dataTable =\n",
              "            await google.colab.kernel.invokeFunction('convertToInteractive',\n",
              "                                                     [key], {});\n",
              "          if (!dataTable) return;\n",
              "\n",
              "          const docLinkHtml = 'Like what you see? Visit the ' +\n",
              "            '<a target=\"_blank\" href=https://colab.research.google.com/notebooks/data_table.ipynb>data table notebook</a>'\n",
              "            + ' to learn more about interactive tables.';\n",
              "          element.innerHTML = '';\n",
              "          dataTable['output_type'] = 'display_data';\n",
              "          await google.colab.output.renderOutput(dataTable, element);\n",
              "          const docLink = document.createElement('div');\n",
              "          docLink.innerHTML = docLinkHtml;\n",
              "          element.appendChild(docLink);\n",
              "        }\n",
              "      </script>\n",
              "    </div>\n",
              "  </div>\n",
              "  "
            ]
          },
          "metadata": {}
        }
      ]
    },
    {
      "cell_type": "code",
      "source": [
        "# creating a feature vector\n",
        "repo_data['feature_vector'] =  repo_data[['topics','lang_name','description_tokens']].apply(\n",
        "    lambda x: ' '.join(x.dropna().astype(str)),\n",
        "    axis=1\n",
        ")\n",
        "display(repo_data[\"feature_vector\"])"
      ],
      "metadata": {
        "id": "hkX1-_tMlxkb",
        "colab": {
          "base_uri": "https://localhost:8080/",
          "height": 236
        },
        "outputId": "36583021-0f36-4737-c893-4e78a59ae130"
      },
      "execution_count": 45,
      "outputs": [
        {
          "output_type": "display_data",
          "data": {
            "text/plain": [
              "0       deep-learning deep-neural-networks distributed...\n",
              "1       cncf containers go kubernetes go shell powersh...\n",
              "2       bert deep-learning flax hacktoberfest jax lang...\n",
              "3       javascript language typechecker typescript typ...\n",
              "4       automation chrome chromium developer-tools hea...\n",
              "                              ...                        \n",
              "5320     javascript shell sets terraform cli github ac...\n",
              "5321                                      c++ c makefile \n",
              "5322    advisor audit jetbrains mssql mybatis mysql op...\n",
              "5323    literate-programming notebook starboard starbo...\n",
              "5324    actions api api-rest api-testing ci continuous...\n",
              "Name: feature_vector, Length: 5325, dtype: object"
            ]
          },
          "metadata": {}
        }
      ]
    },
    {
      "cell_type": "code",
      "source": [],
      "metadata": {
        "id": "ZopHqD8cTc1H"
      },
      "execution_count": null,
      "outputs": []
    },
    {
      "cell_type": "markdown",
      "source": [
        "# Extract features"
      ],
      "metadata": {
        "id": "iqUZBXIs8noc"
      }
    },
    {
      "cell_type": "code",
      "source": [],
      "metadata": {
        "id": "EpKgMzDUHFPM"
      },
      "execution_count": null,
      "outputs": []
    },
    {
      "cell_type": "code",
      "source": [
        "# Import necessary libraries\n",
        "from sklearn.feature_extraction.text import CountVectorizer\n",
        "from sklearn.metrics.pairwise import cosine_similarity\n",
        "\n",
        "vectorizer = CountVectorizer()\n",
        "feature_matrix = vectorizer.fit_transform(repo_data['feature_vector'])\n",
        "display(feature_matrix.get_shape())"
      ],
      "metadata": {
        "colab": {
          "base_uri": "https://localhost:8080/",
          "height": 35
        },
        "id": "3cAN1iJm8lJv",
        "outputId": "768f62d8-72f0-4622-cddf-ebee1223623c"
      },
      "execution_count": 56,
      "outputs": [
        {
          "output_type": "display_data",
          "data": {
            "text/plain": [
              "(5325, 11722)"
            ]
          },
          "metadata": {}
        }
      ]
    },
    {
      "cell_type": "code",
      "source": [
        "# # Import necessary libraries\n",
        "# from sklearn.feature_extraction.text import TfidfVectorizer\n",
        "# from sklearn.metrics.pairwise import cosine_similarity\n",
        "\n",
        "# # Create a TfidfVectorizer to tokenize the features string and create a sparse matrix\n",
        "# feature_matrix = TfidfVectorizer()\n",
        "# feature_matrix = feature_matrix.fit_transform(repo_data['feature_vector'])\n",
        "# display(feature_matrix.get_shape())"
      ],
      "metadata": {
        "id": "sRTCUzuKh8s4",
        "colab": {
          "base_uri": "https://localhost:8080/",
          "height": 35
        },
        "outputId": "17ba6a1f-38ce-432b-f88a-a7e2791ac6ef"
      },
      "execution_count": 46,
      "outputs": [
        {
          "output_type": "display_data",
          "data": {
            "text/plain": [
              "(5325, 11722)"
            ]
          },
          "metadata": {}
        }
      ]
    },
    {
      "cell_type": "markdown",
      "source": [
        "# Compute similarity"
      ],
      "metadata": {
        "id": "IUuyQqKQ9BrR"
      }
    },
    {
      "cell_type": "code",
      "source": [
        "feature_similarity = cosine_similarity(feature_matrix)"
      ],
      "metadata": {
        "id": "QYKvfFRT9AiD"
      },
      "execution_count": 57,
      "outputs": []
    },
    {
      "cell_type": "code",
      "source": [
        "display(feature_similarity)"
      ],
      "metadata": {
        "colab": {
          "base_uri": "https://localhost:8080/",
          "height": 254
        },
        "id": "VykBkLXD9Z-e",
        "outputId": "73c8b0f2-b5ab-40e1-a8c5-e49a639d6995"
      },
      "execution_count": 58,
      "outputs": [
        {
          "output_type": "display_data",
          "data": {
            "text/plain": [
              "array([[1.        , 0.25766925, 0.35787396, ..., 0.11088319, 0.05725983,\n",
              "        0.02810775],\n",
              "       [0.25766925, 1.        , 0.125     , ..., 0.19364917, 0.        ,\n",
              "        0.04908807],\n",
              "       [0.35787396, 0.125     , 1.        , ..., 0.08068715, 0.        ,\n",
              "        0.02454403],\n",
              "       ...,\n",
              "       [0.11088319, 0.19364917, 0.08068715, ..., 1.        , 0.        ,\n",
              "        0.03168621],\n",
              "       [0.05725983, 0.        , 0.        , ..., 0.        , 1.        ,\n",
              "        0.02454403],\n",
              "       [0.02810775, 0.04908807, 0.02454403, ..., 0.03168621, 0.02454403,\n",
              "        1.        ]])"
            ]
          },
          "metadata": {}
        }
      ]
    },
    {
      "cell_type": "code",
      "source": [
        "feature_similarity.shape"
      ],
      "metadata": {
        "colab": {
          "base_uri": "https://localhost:8080/"
        },
        "id": "aMsiu2Vq9sBO",
        "outputId": "7f019605-7769-443e-c77a-d7d5fc6f4a1b"
      },
      "execution_count": 71,
      "outputs": [
        {
          "output_type": "execute_result",
          "data": {
            "text/plain": [
              "(5325, 5325)"
            ]
          },
          "metadata": {},
          "execution_count": 71
        }
      ]
    },
    {
      "cell_type": "markdown",
      "source": [
        "# Recommendation Engine"
      ],
      "metadata": {
        "id": "vefzd_3n9R9F"
      }
    },
    {
      "cell_type": "code",
      "source": [
        "def recommend_repo(features, n=10):\n",
        "    # Find repos with similar features\n",
        "    features_list = features.split(',')\n",
        "    \n",
        "    # Find repos with similar features\n",
        "    feature_indices = set()\n",
        "    for feature in features_list:\n",
        "        feature_indices.update(repo_data[repo_data['feature_vector'].str.contains(feature)].index)\n",
        "    \n",
        "    # Compute repo similarity scores\n",
        "    similarity_scores = []\n",
        "    for repo in feature_indices:\n",
        "        feature_similarities = feature_similarity[repo, list(feature_indices)]\n",
        "        # print(repo_data.iloc[[repo][\"full_name\"]])\n",
        "        similarity_scores.append((repo, feature_similarities.mean()))\n",
        "    \n",
        "    # Sort by similarity scores and recommend top N repos\n",
        "    similarity_scores = sorted(similarity_scores, key=lambda x: x[1], reverse=True)[:n]\n",
        "    recommended_repo = [repo_data.iloc[score[0]]['full_name'] for score in similarity_scores]\n",
        "    \n",
        "    return recommended_repo\n"
      ],
      "metadata": {
        "id": "cIzItlqP9UrD"
      },
      "execution_count": 59,
      "outputs": []
    },
    {
      "cell_type": "code",
      "source": [
        "recommend_repo('javascript,language,typechecker,compile,output,typescript',n=5)"
      ],
      "metadata": {
        "colab": {
          "base_uri": "https://localhost:8080/"
        },
        "id": "ha0p-84Y-kK9",
        "outputId": "4b91cd78-384b-475d-861d-7f8a102dae1c"
      },
      "execution_count": 66,
      "outputs": [
        {
          "output_type": "execute_result",
          "data": {
            "text/plain": [
              "['alibaba/otter',\n",
              " 'fex-team/kityminder-core',\n",
              " 'pythonstock/stock',\n",
              " 'ReactiveX/rxjs',\n",
              " 'niklasvh/html2canvas']"
            ]
          },
          "metadata": {},
          "execution_count": 66
        }
      ]
    },
    {
      "cell_type": "code",
      "source": [
        "recommend_repo('testing,chrome,automation,web,chromium,developer-tools,node-module,headless-chrome,typescript,javascript')"
      ],
      "metadata": {
        "colab": {
          "base_uri": "https://localhost:8080/"
        },
        "id": "LgZB-jkI_QDl",
        "outputId": "37a2b4e7-e2e9-4de1-892a-5e882cdc6955"
      },
      "execution_count": 67,
      "outputs": [
        {
          "output_type": "execute_result",
          "data": {
            "text/plain": [
              "['alibaba/otter',\n",
              " 'pythonstock/stock',\n",
              " 'fex-team/kityminder-core',\n",
              " 'w37fhy/QuantumultX',\n",
              " 'ReactiveX/rxjs',\n",
              " 'facebook/relay',\n",
              " 'niklasvh/html2canvas',\n",
              " 'mozilla/pdf.js',\n",
              " 'openpgpjs/openpgpjs',\n",
              " 'julianshapiro/velocity']"
            ]
          },
          "metadata": {},
          "execution_count": 67
        }
      ]
    },
    {
      "cell_type": "code",
      "source": [
        "recommend_repo('kubernetes,go,containers,dockerfile,sed,batchfile,cncf')"
      ],
      "metadata": {
        "colab": {
          "base_uri": "https://localhost:8080/"
        },
        "id": "ph1BvkvU_pgM",
        "outputId": "2004f783-a5b9-430a-b378-d148ddb17d5b"
      },
      "execution_count": 68,
      "outputs": [
        {
          "output_type": "execute_result",
          "data": {
            "text/plain": [
              "['alibaba/otter',\n",
              " 'pythonstock/stock',\n",
              " 'scrapinghub/portia',\n",
              " 'studygolang/studygolang',\n",
              " 'pytorch/tutorials',\n",
              " 'salesforce/sloop',\n",
              " 'golang/tools',\n",
              " 'testerSunshine/12306',\n",
              " 'talebook/talebook',\n",
              " 'Go-zh/tour']"
            ]
          },
          "metadata": {},
          "execution_count": 68
        }
      ]
    },
    {
      "cell_type": "code",
      "source": [
        "recommend_repo('spring,java,spring-boot',n=5)"
      ],
      "metadata": {
        "colab": {
          "base_uri": "https://localhost:8080/"
        },
        "id": "IOBflQQE_y7B",
        "outputId": "225104e0-afce-4a5b-8eac-7f3d84c04c86"
      },
      "execution_count": 63,
      "outputs": [
        {
          "output_type": "execute_result",
          "data": {
            "text/plain": [
              "['alibaba/otter',\n",
              " 'fex-team/kityminder-core',\n",
              " 'pythonstock/stock',\n",
              " 'ReactiveX/rxjs',\n",
              " 'openpgpjs/openpgpjs']"
            ]
          },
          "metadata": {},
          "execution_count": 63
        }
      ]
    },
    {
      "cell_type": "code",
      "source": [
        "recommend_repo('adblock-filter-list',n=5)"
      ],
      "metadata": {
        "colab": {
          "base_uri": "https://localhost:8080/"
        },
        "id": "-cgRQQn3lAmV",
        "outputId": "2782c008-12c1-4970-a481-db43aae6ceb0"
      },
      "execution_count": 64,
      "outputs": [
        {
          "output_type": "execute_result",
          "data": {
            "text/plain": [
              "['cjx82630/cjxlist', 'uBlockOrigin/uAssets']"
            ]
          },
          "metadata": {},
          "execution_count": 64
        }
      ]
    },
    {
      "cell_type": "code",
      "source": [
        "recommend_repo('laravel,php',n=5)"
      ],
      "metadata": {
        "colab": {
          "base_uri": "https://localhost:8080/"
        },
        "id": "2bEwnjcgiZKQ",
        "outputId": "f6e2ea43-6b09-4438-f215-31470b5189e1"
      },
      "execution_count": 65,
      "outputs": [
        {
          "output_type": "execute_result",
          "data": {
            "text/plain": [
              "['bcit-ci/CodeIgniter',\n",
              " 'zendframework/zend-code',\n",
              " 'yiisoft/yii',\n",
              " 'fossasia/timeline.api.fossasia.net',\n",
              " 'yiisoft/yii2']"
            ]
          },
          "metadata": {},
          "execution_count": 65
        }
      ]
    }
  ]
}