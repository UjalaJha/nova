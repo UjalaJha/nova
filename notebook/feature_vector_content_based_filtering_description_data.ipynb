{
  "nbformat": 4,
  "nbformat_minor": 0,
  "metadata": {
    "colab": {
      "provenance": [],
      "authorship_tag": "ABX9TyNFFzcc/DWoMwHthrni3e0a",
      "include_colab_link": true
    },
    "kernelspec": {
      "name": "python3",
      "display_name": "Python 3"
    },
    "language_info": {
      "name": "python"
    }
  },
  "cells": [
    {
      "cell_type": "markdown",
      "metadata": {
        "id": "view-in-github",
        "colab_type": "text"
      },
      "source": [
        "<a href=\"https://colab.research.google.com/github/UjalaJha/nova/blob/develop/notebook/feature_vector_content_based_filtering_description_data.ipynb\" target=\"_parent\"><img src=\"https://colab.research.google.com/assets/colab-badge.svg\" alt=\"Open In Colab\"/></a>"
      ]
    },
    {
      "cell_type": "code",
      "execution_count": 3,
      "metadata": {
        "id": "kCxdvn6aFPjl"
      },
      "outputs": [],
      "source": [
        "#import libraries\n",
        "import pandas as pd\n",
        "import numpy as np\n",
        "import random as rd\n",
        "import matplotlib.pyplot as plt\n",
        "from sklearn.cluster import KMeans\n",
        "from google.colab import drive\n",
        "from sklearn.preprocessing import LabelEncoder\n",
        "import ast"
      ]
    },
    {
      "cell_type": "code",
      "source": [
        "# !pip install langdetect\n",
        "# !pip install ntlk"
      ],
      "metadata": {
        "colab": {
          "base_uri": "https://localhost:8080/"
        },
        "id": "wFEWucLTrVTG",
        "outputId": "87384275-7786-4827-f757-2310478aed12"
      },
      "execution_count": 103,
      "outputs": [
        {
          "output_type": "stream",
          "name": "stdout",
          "text": [
            "Looking in indexes: https://pypi.org/simple, https://us-python.pkg.dev/colab-wheels/public/simple/\n",
            "Requirement already satisfied: langdetect in /usr/local/lib/python3.9/dist-packages (1.0.9)\n",
            "Requirement already satisfied: six in /usr/local/lib/python3.9/dist-packages (from langdetect) (1.16.0)\n",
            "Looking in indexes: https://pypi.org/simple, https://us-python.pkg.dev/colab-wheels/public/simple/\n",
            "\u001b[31mERROR: Could not find a version that satisfies the requirement ntlk (from versions: none)\u001b[0m\u001b[31m\n",
            "\u001b[0m\u001b[31mERROR: No matching distribution found for ntlk\u001b[0m\u001b[31m\n",
            "\u001b[0m"
          ]
        }
      ]
    },
    {
      "cell_type": "code",
      "source": [
        "# Mount Google Drive folder\n",
        "drive.mount('/content/drive')"
      ],
      "metadata": {
        "colab": {
          "base_uri": "https://localhost:8080/"
        },
        "id": "5KG6romsFpTo",
        "outputId": "b911a521-d4b7-4dad-8696-60a9176ebe75"
      },
      "execution_count": 4,
      "outputs": [
        {
          "output_type": "stream",
          "name": "stdout",
          "text": [
            "Drive already mounted at /content/drive; to attempt to forcibly remount, call drive.mount(\"/content/drive\", force_remount=True).\n"
          ]
        }
      ]
    },
    {
      "cell_type": "code",
      "source": [
        "# Path to file in mounted Google Drive folder\n",
        "file_path = '/content/drive/MyDrive/Grace Hopper/combined-1kAbove-stars.csv'\n",
        "\n",
        "# Read CSV file using pandas\n",
        "data = pd.read_csv(file_path)\n",
        "data.head()"
      ],
      "metadata": {
        "colab": {
          "base_uri": "https://localhost:8080/",
          "height": 716
        },
        "id": "Ya8lVlgiFY9w",
        "outputId": "356e227c-5fcc-4a9c-fde7-66e3e21608ad"
      },
      "execution_count": 5,
      "outputs": [
        {
          "output_type": "execute_result",
          "data": {
            "text/plain": [
              "   Unnamed: 0.1  Unnamed: 0         id                           node_id  \\\n",
              "0             0           0   45717250  MDEwOlJlcG9zaXRvcnk0NTcxNzI1MA==   \n",
              "1             1           1   20580498  MDEwOlJlcG9zaXRvcnkyMDU4MDQ5OA==   \n",
              "2             2           2  155220641  MDEwOlJlcG9zaXRvcnkxNTUyMjA2NDE=   \n",
              "3             3           3   20929025  MDEwOlJlcG9zaXRvcnkyMDkyOTAyNQ==   \n",
              "4             4           4   90796663  MDEwOlJlcG9zaXRvcnk5MDc5NjY2Mw==   \n",
              "\n",
              "           name                 full_name  private  \\\n",
              "0    tensorflow     tensorflow/tensorflow    False   \n",
              "1    kubernetes     kubernetes/kubernetes    False   \n",
              "2  transformers  huggingface/transformers    False   \n",
              "3    TypeScript      microsoft/TypeScript    False   \n",
              "4     puppeteer       puppeteer/puppeteer    False   \n",
              "\n",
              "                                               owner  \\\n",
              "0  {'login': 'tensorflow', 'id': 15658638, 'node_...   \n",
              "1  {'login': 'kubernetes', 'id': 13629408, 'node_...   \n",
              "2  {'login': 'huggingface', 'id': 25720743, 'node...   \n",
              "3  {'login': 'microsoft', 'id': 6154722, 'node_id...   \n",
              "4  {'login': 'puppeteer', 'id': 6906516, 'node_id...   \n",
              "\n",
              "                                      html_url  \\\n",
              "0     https://github.com/tensorflow/tensorflow   \n",
              "1     https://github.com/kubernetes/kubernetes   \n",
              "2  https://github.com/huggingface/transformers   \n",
              "3      https://github.com/microsoft/TypeScript   \n",
              "4       https://github.com/puppeteer/puppeteer   \n",
              "\n",
              "                                         description  ...  visibility  forks  \\\n",
              "0  An Open Source Machine Learning Framework for ...  ...      public  88115   \n",
              "1  Production-Grade Container Scheduling and Mana...  ...      public  35807   \n",
              "2  🤗 Transformers: State-of-the-art Machine Learn...  ...      public  19596   \n",
              "3  TypeScript is a superset of JavaScript that co...  ...      public  11681   \n",
              "4                        Headless Chrome Node.js API  ...      public   8877   \n",
              "\n",
              "  open_issues watchers default_branch  \\\n",
              "0        2216   173348         master   \n",
              "1        2486    97468         master   \n",
              "2         672    93079           main   \n",
              "3        6108    90382           main   \n",
              "4         268    82712           main   \n",
              "\n",
              "                                         permissions score  \\\n",
              "0  {'admin': False, 'maintain': False, 'push': Fa...   1.0   \n",
              "1  {'admin': False, 'maintain': False, 'push': Fa...   1.0   \n",
              "2  {'admin': False, 'maintain': False, 'push': Fa...   1.0   \n",
              "3  {'admin': False, 'maintain': False, 'push': Fa...   1.0   \n",
              "4  {'admin': False, 'maintain': False, 'push': Fa...   1.0   \n",
              "\n",
              "                                           lang_name  \\\n",
              "0  ['C++', 'Python', 'MLIR', 'Starlark', 'HTML', ...   \n",
              "1  ['Go', 'Shell', 'PowerShell', 'Makefile', 'Doc...   \n",
              "2  ['Python', 'Cuda', 'Shell', 'Dockerfile', 'C++...   \n",
              "3  ['TypeScript', 'JavaScript', 'Dockerfile', 'Sh...   \n",
              "4  ['TypeScript', 'JavaScript', 'HTML', 'CSS', 'D...   \n",
              "\n",
              "                                           lang_perc license_name  \n",
              "0  [132095537, 43756548, 13084966, 8623743, 46864...   Apache-2.0  \n",
              "1  [66222388, 1836554, 144474, 63695, 49417, 2373...   Apache-2.0  \n",
              "2  [42853265, 175419, 30374, 20516, 12959, 6021, ...   Apache-2.0  \n",
              "3                        [87866426, 198563, 330, 53]   Apache-2.0  \n",
              "4          [1859434, 112872, 25585, 6581, 1574, 600]   Apache-2.0  \n",
              "\n",
              "[5 rows x 86 columns]"
            ],
            "text/html": [
              "\n",
              "  <div id=\"df-2696fcc8-77d9-4648-8a97-dca3f948ace9\">\n",
              "    <div class=\"colab-df-container\">\n",
              "      <div>\n",
              "<style scoped>\n",
              "    .dataframe tbody tr th:only-of-type {\n",
              "        vertical-align: middle;\n",
              "    }\n",
              "\n",
              "    .dataframe tbody tr th {\n",
              "        vertical-align: top;\n",
              "    }\n",
              "\n",
              "    .dataframe thead th {\n",
              "        text-align: right;\n",
              "    }\n",
              "</style>\n",
              "<table border=\"1\" class=\"dataframe\">\n",
              "  <thead>\n",
              "    <tr style=\"text-align: right;\">\n",
              "      <th></th>\n",
              "      <th>Unnamed: 0.1</th>\n",
              "      <th>Unnamed: 0</th>\n",
              "      <th>id</th>\n",
              "      <th>node_id</th>\n",
              "      <th>name</th>\n",
              "      <th>full_name</th>\n",
              "      <th>private</th>\n",
              "      <th>owner</th>\n",
              "      <th>html_url</th>\n",
              "      <th>description</th>\n",
              "      <th>...</th>\n",
              "      <th>visibility</th>\n",
              "      <th>forks</th>\n",
              "      <th>open_issues</th>\n",
              "      <th>watchers</th>\n",
              "      <th>default_branch</th>\n",
              "      <th>permissions</th>\n",
              "      <th>score</th>\n",
              "      <th>lang_name</th>\n",
              "      <th>lang_perc</th>\n",
              "      <th>license_name</th>\n",
              "    </tr>\n",
              "  </thead>\n",
              "  <tbody>\n",
              "    <tr>\n",
              "      <th>0</th>\n",
              "      <td>0</td>\n",
              "      <td>0</td>\n",
              "      <td>45717250</td>\n",
              "      <td>MDEwOlJlcG9zaXRvcnk0NTcxNzI1MA==</td>\n",
              "      <td>tensorflow</td>\n",
              "      <td>tensorflow/tensorflow</td>\n",
              "      <td>False</td>\n",
              "      <td>{'login': 'tensorflow', 'id': 15658638, 'node_...</td>\n",
              "      <td>https://github.com/tensorflow/tensorflow</td>\n",
              "      <td>An Open Source Machine Learning Framework for ...</td>\n",
              "      <td>...</td>\n",
              "      <td>public</td>\n",
              "      <td>88115</td>\n",
              "      <td>2216</td>\n",
              "      <td>173348</td>\n",
              "      <td>master</td>\n",
              "      <td>{'admin': False, 'maintain': False, 'push': Fa...</td>\n",
              "      <td>1.0</td>\n",
              "      <td>['C++', 'Python', 'MLIR', 'Starlark', 'HTML', ...</td>\n",
              "      <td>[132095537, 43756548, 13084966, 8623743, 46864...</td>\n",
              "      <td>Apache-2.0</td>\n",
              "    </tr>\n",
              "    <tr>\n",
              "      <th>1</th>\n",
              "      <td>1</td>\n",
              "      <td>1</td>\n",
              "      <td>20580498</td>\n",
              "      <td>MDEwOlJlcG9zaXRvcnkyMDU4MDQ5OA==</td>\n",
              "      <td>kubernetes</td>\n",
              "      <td>kubernetes/kubernetes</td>\n",
              "      <td>False</td>\n",
              "      <td>{'login': 'kubernetes', 'id': 13629408, 'node_...</td>\n",
              "      <td>https://github.com/kubernetes/kubernetes</td>\n",
              "      <td>Production-Grade Container Scheduling and Mana...</td>\n",
              "      <td>...</td>\n",
              "      <td>public</td>\n",
              "      <td>35807</td>\n",
              "      <td>2486</td>\n",
              "      <td>97468</td>\n",
              "      <td>master</td>\n",
              "      <td>{'admin': False, 'maintain': False, 'push': Fa...</td>\n",
              "      <td>1.0</td>\n",
              "      <td>['Go', 'Shell', 'PowerShell', 'Makefile', 'Doc...</td>\n",
              "      <td>[66222388, 1836554, 144474, 63695, 49417, 2373...</td>\n",
              "      <td>Apache-2.0</td>\n",
              "    </tr>\n",
              "    <tr>\n",
              "      <th>2</th>\n",
              "      <td>2</td>\n",
              "      <td>2</td>\n",
              "      <td>155220641</td>\n",
              "      <td>MDEwOlJlcG9zaXRvcnkxNTUyMjA2NDE=</td>\n",
              "      <td>transformers</td>\n",
              "      <td>huggingface/transformers</td>\n",
              "      <td>False</td>\n",
              "      <td>{'login': 'huggingface', 'id': 25720743, 'node...</td>\n",
              "      <td>https://github.com/huggingface/transformers</td>\n",
              "      <td>🤗 Transformers: State-of-the-art Machine Learn...</td>\n",
              "      <td>...</td>\n",
              "      <td>public</td>\n",
              "      <td>19596</td>\n",
              "      <td>672</td>\n",
              "      <td>93079</td>\n",
              "      <td>main</td>\n",
              "      <td>{'admin': False, 'maintain': False, 'push': Fa...</td>\n",
              "      <td>1.0</td>\n",
              "      <td>['Python', 'Cuda', 'Shell', 'Dockerfile', 'C++...</td>\n",
              "      <td>[42853265, 175419, 30374, 20516, 12959, 6021, ...</td>\n",
              "      <td>Apache-2.0</td>\n",
              "    </tr>\n",
              "    <tr>\n",
              "      <th>3</th>\n",
              "      <td>3</td>\n",
              "      <td>3</td>\n",
              "      <td>20929025</td>\n",
              "      <td>MDEwOlJlcG9zaXRvcnkyMDkyOTAyNQ==</td>\n",
              "      <td>TypeScript</td>\n",
              "      <td>microsoft/TypeScript</td>\n",
              "      <td>False</td>\n",
              "      <td>{'login': 'microsoft', 'id': 6154722, 'node_id...</td>\n",
              "      <td>https://github.com/microsoft/TypeScript</td>\n",
              "      <td>TypeScript is a superset of JavaScript that co...</td>\n",
              "      <td>...</td>\n",
              "      <td>public</td>\n",
              "      <td>11681</td>\n",
              "      <td>6108</td>\n",
              "      <td>90382</td>\n",
              "      <td>main</td>\n",
              "      <td>{'admin': False, 'maintain': False, 'push': Fa...</td>\n",
              "      <td>1.0</td>\n",
              "      <td>['TypeScript', 'JavaScript', 'Dockerfile', 'Sh...</td>\n",
              "      <td>[87866426, 198563, 330, 53]</td>\n",
              "      <td>Apache-2.0</td>\n",
              "    </tr>\n",
              "    <tr>\n",
              "      <th>4</th>\n",
              "      <td>4</td>\n",
              "      <td>4</td>\n",
              "      <td>90796663</td>\n",
              "      <td>MDEwOlJlcG9zaXRvcnk5MDc5NjY2Mw==</td>\n",
              "      <td>puppeteer</td>\n",
              "      <td>puppeteer/puppeteer</td>\n",
              "      <td>False</td>\n",
              "      <td>{'login': 'puppeteer', 'id': 6906516, 'node_id...</td>\n",
              "      <td>https://github.com/puppeteer/puppeteer</td>\n",
              "      <td>Headless Chrome Node.js API</td>\n",
              "      <td>...</td>\n",
              "      <td>public</td>\n",
              "      <td>8877</td>\n",
              "      <td>268</td>\n",
              "      <td>82712</td>\n",
              "      <td>main</td>\n",
              "      <td>{'admin': False, 'maintain': False, 'push': Fa...</td>\n",
              "      <td>1.0</td>\n",
              "      <td>['TypeScript', 'JavaScript', 'HTML', 'CSS', 'D...</td>\n",
              "      <td>[1859434, 112872, 25585, 6581, 1574, 600]</td>\n",
              "      <td>Apache-2.0</td>\n",
              "    </tr>\n",
              "  </tbody>\n",
              "</table>\n",
              "<p>5 rows × 86 columns</p>\n",
              "</div>\n",
              "      <button class=\"colab-df-convert\" onclick=\"convertToInteractive('df-2696fcc8-77d9-4648-8a97-dca3f948ace9')\"\n",
              "              title=\"Convert this dataframe to an interactive table.\"\n",
              "              style=\"display:none;\">\n",
              "        \n",
              "  <svg xmlns=\"http://www.w3.org/2000/svg\" height=\"24px\"viewBox=\"0 0 24 24\"\n",
              "       width=\"24px\">\n",
              "    <path d=\"M0 0h24v24H0V0z\" fill=\"none\"/>\n",
              "    <path d=\"M18.56 5.44l.94 2.06.94-2.06 2.06-.94-2.06-.94-.94-2.06-.94 2.06-2.06.94zm-11 1L8.5 8.5l.94-2.06 2.06-.94-2.06-.94L8.5 2.5l-.94 2.06-2.06.94zm10 10l.94 2.06.94-2.06 2.06-.94-2.06-.94-.94-2.06-.94 2.06-2.06.94z\"/><path d=\"M17.41 7.96l-1.37-1.37c-.4-.4-.92-.59-1.43-.59-.52 0-1.04.2-1.43.59L10.3 9.45l-7.72 7.72c-.78.78-.78 2.05 0 2.83L4 21.41c.39.39.9.59 1.41.59.51 0 1.02-.2 1.41-.59l7.78-7.78 2.81-2.81c.8-.78.8-2.07 0-2.86zM5.41 20L4 18.59l7.72-7.72 1.47 1.35L5.41 20z\"/>\n",
              "  </svg>\n",
              "      </button>\n",
              "      \n",
              "  <style>\n",
              "    .colab-df-container {\n",
              "      display:flex;\n",
              "      flex-wrap:wrap;\n",
              "      gap: 12px;\n",
              "    }\n",
              "\n",
              "    .colab-df-convert {\n",
              "      background-color: #E8F0FE;\n",
              "      border: none;\n",
              "      border-radius: 50%;\n",
              "      cursor: pointer;\n",
              "      display: none;\n",
              "      fill: #1967D2;\n",
              "      height: 32px;\n",
              "      padding: 0 0 0 0;\n",
              "      width: 32px;\n",
              "    }\n",
              "\n",
              "    .colab-df-convert:hover {\n",
              "      background-color: #E2EBFA;\n",
              "      box-shadow: 0px 1px 2px rgba(60, 64, 67, 0.3), 0px 1px 3px 1px rgba(60, 64, 67, 0.15);\n",
              "      fill: #174EA6;\n",
              "    }\n",
              "\n",
              "    [theme=dark] .colab-df-convert {\n",
              "      background-color: #3B4455;\n",
              "      fill: #D2E3FC;\n",
              "    }\n",
              "\n",
              "    [theme=dark] .colab-df-convert:hover {\n",
              "      background-color: #434B5C;\n",
              "      box-shadow: 0px 1px 3px 1px rgba(0, 0, 0, 0.15);\n",
              "      filter: drop-shadow(0px 1px 2px rgba(0, 0, 0, 0.3));\n",
              "      fill: #FFFFFF;\n",
              "    }\n",
              "  </style>\n",
              "\n",
              "      <script>\n",
              "        const buttonEl =\n",
              "          document.querySelector('#df-2696fcc8-77d9-4648-8a97-dca3f948ace9 button.colab-df-convert');\n",
              "        buttonEl.style.display =\n",
              "          google.colab.kernel.accessAllowed ? 'block' : 'none';\n",
              "\n",
              "        async function convertToInteractive(key) {\n",
              "          const element = document.querySelector('#df-2696fcc8-77d9-4648-8a97-dca3f948ace9');\n",
              "          const dataTable =\n",
              "            await google.colab.kernel.invokeFunction('convertToInteractive',\n",
              "                                                     [key], {});\n",
              "          if (!dataTable) return;\n",
              "\n",
              "          const docLinkHtml = 'Like what you see? Visit the ' +\n",
              "            '<a target=\"_blank\" href=https://colab.research.google.com/notebooks/data_table.ipynb>data table notebook</a>'\n",
              "            + ' to learn more about interactive tables.';\n",
              "          element.innerHTML = '';\n",
              "          dataTable['output_type'] = 'display_data';\n",
              "          await google.colab.output.renderOutput(dataTable, element);\n",
              "          const docLink = document.createElement('div');\n",
              "          docLink.innerHTML = docLinkHtml;\n",
              "          element.appendChild(docLink);\n",
              "        }\n",
              "      </script>\n",
              "    </div>\n",
              "  </div>\n",
              "  "
            ]
          },
          "metadata": {},
          "execution_count": 5
        }
      ]
    },
    {
      "cell_type": "code",
      "source": [
        "data.columns"
      ],
      "metadata": {
        "colab": {
          "base_uri": "https://localhost:8080/"
        },
        "id": "C2KofemkGHzQ",
        "outputId": "82ba18bc-3046-49c8-ce12-58da1b3e1233"
      },
      "execution_count": null,
      "outputs": [
        {
          "output_type": "execute_result",
          "data": {
            "text/plain": [
              "Index(['Unnamed: 0.1', 'Unnamed: 0', 'id', 'node_id', 'name', 'full_name',\n",
              "       'private', 'owner', 'html_url', 'description', 'fork', 'url',\n",
              "       'forks_url', 'keys_url', 'collaborators_url', 'teams_url', 'hooks_url',\n",
              "       'issue_events_url', 'events_url', 'assignees_url', 'branches_url',\n",
              "       'tags_url', 'blobs_url', 'git_tags_url', 'git_refs_url', 'trees_url',\n",
              "       'statuses_url', 'languages_url', 'stargazers_url', 'contributors_url',\n",
              "       'subscribers_url', 'subscription_url', 'commits_url', 'git_commits_url',\n",
              "       'comments_url', 'issue_comment_url', 'contents_url', 'compare_url',\n",
              "       'merges_url', 'archive_url', 'downloads_url', 'issues_url', 'pulls_url',\n",
              "       'milestones_url', 'notifications_url', 'labels_url', 'releases_url',\n",
              "       'deployments_url', 'created_at', 'updated_at', 'pushed_at', 'git_url',\n",
              "       'ssh_url', 'clone_url', 'svn_url', 'homepage', 'size',\n",
              "       'stargazers_count', 'watchers_count', 'language', 'has_issues',\n",
              "       'has_projects', 'has_downloads', 'has_wiki', 'has_pages',\n",
              "       'has_discussions', 'forks_count', 'mirror_url', 'archived', 'disabled',\n",
              "       'open_issues_count', 'license', 'allow_forking', 'is_template',\n",
              "       'web_commit_signoff_required', 'topics', 'visibility', 'forks',\n",
              "       'open_issues', 'watchers', 'default_branch', 'permissions', 'score',\n",
              "       'lang_name', 'lang_perc', 'license_name'],\n",
              "      dtype='object')"
            ]
          },
          "metadata": {},
          "execution_count": 5
        }
      ]
    },
    {
      "cell_type": "markdown",
      "source": [
        "# Preprocess Data"
      ],
      "metadata": {
        "id": "yh_rP3bV8xxX"
      }
    },
    {
      "cell_type": "code",
      "source": [
        "# Data Picking and Analysis\n",
        "from IPython.display import display\n",
        "data_selected = data[[\"full_name\",\"name\",\"description\",\"topics\",\"language\",\"lang_name\",\"license_name\"]]\n",
        "print('\\n\\nAll Data -------------------------------------------------------------\\n\\n')\n",
        "display(data_selected)\n",
        "print('\\n\\nAll Data HEAD -------------------------------------------------------------\\n\\n')\n",
        "display(data_selected.head())\n",
        "print('\\n\\nAll Data Describe -------------------------------------------------------------\\n\\n')\n",
        "display(data_selected.describe())\n",
        "print('\\n\\nAll Data COUNT -------------------------------------------------------------\\n\\n')\n",
        "display(data_selected.count())"
      ],
      "metadata": {
        "colab": {
          "base_uri": "https://localhost:8080/",
          "height": 1000
        },
        "id": "NkN5H3e-GDie",
        "outputId": "b2190a06-0d41-426d-d8dd-166462665e96"
      },
      "execution_count": 6,
      "outputs": [
        {
          "output_type": "stream",
          "name": "stdout",
          "text": [
            "\n",
            "\n",
            "All Data -------------------------------------------------------------\n",
            "\n",
            "\n"
          ]
        },
        {
          "output_type": "display_data",
          "data": {
            "text/plain": [
              "                               full_name                     name  \\\n",
              "0                  tensorflow/tensorflow               tensorflow   \n",
              "1                  kubernetes/kubernetes               kubernetes   \n",
              "2               huggingface/transformers             transformers   \n",
              "3                   microsoft/TypeScript               TypeScript   \n",
              "4                    puppeteer/puppeteer                puppeteer   \n",
              "...                                  ...                      ...   \n",
              "5320           hashicorp/setup-terraform          setup-terraform   \n",
              "5321  luguanxing/Cheating-Plugin-Program  Cheating-Plugin-Program   \n",
              "5322                     actiontech/sqle                     sqle   \n",
              "5323         gzuidhof/starboard-notebook       starboard-notebook   \n",
              "5324                       stepci/stepci                   stepci   \n",
              "\n",
              "                                            description  \\\n",
              "0     An Open Source Machine Learning Framework for ...   \n",
              "1     Production-Grade Container Scheduling and Mana...   \n",
              "2     🤗 Transformers: State-of-the-art Machine Learn...   \n",
              "3     TypeScript is a superset of JavaScript that co...   \n",
              "4                           Headless Chrome Node.js API   \n",
              "...                                                 ...   \n",
              "5320  Sets up Terraform CLI in your GitHub Actions w...   \n",
              "5321                                       从零开始研究外挂设计原理   \n",
              "5322  SQLE is a SQL audit platform | SQLE 是一个支持多场景，原...   \n",
              "5323                      In-browser literate notebooks   \n",
              "5324        Automated API Testing and Quality Assurance   \n",
              "\n",
              "                                                 topics    language  \\\n",
              "0     ['deep-learning', 'deep-neural-networks', 'dis...         C++   \n",
              "1            ['cncf', 'containers', 'go', 'kubernetes']          Go   \n",
              "2     ['bert', 'deep-learning', 'flax', 'hacktoberfe...      Python   \n",
              "3     ['javascript', 'language', 'typechecker', 'typ...  TypeScript   \n",
              "4     ['automation', 'chrome', 'chromium', 'develope...  TypeScript   \n",
              "...                                                 ...         ...   \n",
              "5320                                                 []  JavaScript   \n",
              "5321                                                 []         C++   \n",
              "5322  ['advisor', 'audit', 'jetbrains', 'mssql', 'my...          Go   \n",
              "5323  ['literate-programming', 'notebook', 'starboar...  TypeScript   \n",
              "5324  ['actions', 'api', 'api-rest', 'api-testing', ...  TypeScript   \n",
              "\n",
              "                                              lang_name license_name  \n",
              "0     ['C++', 'Python', 'MLIR', 'Starlark', 'HTML', ...   Apache-2.0  \n",
              "1     ['Go', 'Shell', 'PowerShell', 'Makefile', 'Doc...   Apache-2.0  \n",
              "2     ['Python', 'Cuda', 'Shell', 'Dockerfile', 'C++...   Apache-2.0  \n",
              "3     ['TypeScript', 'JavaScript', 'Dockerfile', 'Sh...   Apache-2.0  \n",
              "4     ['TypeScript', 'JavaScript', 'HTML', 'CSS', 'D...   Apache-2.0  \n",
              "...                                                 ...          ...  \n",
              "5320                            ['JavaScript', 'Shell']      MPL-2.0  \n",
              "5321                           ['C++', 'C', 'Makefile']      MPL-2.0  \n",
              "5322  ['Go', 'Makefile', 'Shell', 'Dockerfile', 'Pyt...      MPL-2.0  \n",
              "5323  ['TypeScript', 'SCSS', 'JavaScript', 'CSS', 'M...      MPL-2.0  \n",
              "5324              ['TypeScript', 'Shell', 'Dockerfile']      MPL-2.0  \n",
              "\n",
              "[5325 rows x 7 columns]"
            ],
            "text/html": [
              "\n",
              "  <div id=\"df-dc5f3205-63d7-4576-a452-f9617e46fc2c\">\n",
              "    <div class=\"colab-df-container\">\n",
              "      <div>\n",
              "<style scoped>\n",
              "    .dataframe tbody tr th:only-of-type {\n",
              "        vertical-align: middle;\n",
              "    }\n",
              "\n",
              "    .dataframe tbody tr th {\n",
              "        vertical-align: top;\n",
              "    }\n",
              "\n",
              "    .dataframe thead th {\n",
              "        text-align: right;\n",
              "    }\n",
              "</style>\n",
              "<table border=\"1\" class=\"dataframe\">\n",
              "  <thead>\n",
              "    <tr style=\"text-align: right;\">\n",
              "      <th></th>\n",
              "      <th>full_name</th>\n",
              "      <th>name</th>\n",
              "      <th>description</th>\n",
              "      <th>topics</th>\n",
              "      <th>language</th>\n",
              "      <th>lang_name</th>\n",
              "      <th>license_name</th>\n",
              "    </tr>\n",
              "  </thead>\n",
              "  <tbody>\n",
              "    <tr>\n",
              "      <th>0</th>\n",
              "      <td>tensorflow/tensorflow</td>\n",
              "      <td>tensorflow</td>\n",
              "      <td>An Open Source Machine Learning Framework for ...</td>\n",
              "      <td>['deep-learning', 'deep-neural-networks', 'dis...</td>\n",
              "      <td>C++</td>\n",
              "      <td>['C++', 'Python', 'MLIR', 'Starlark', 'HTML', ...</td>\n",
              "      <td>Apache-2.0</td>\n",
              "    </tr>\n",
              "    <tr>\n",
              "      <th>1</th>\n",
              "      <td>kubernetes/kubernetes</td>\n",
              "      <td>kubernetes</td>\n",
              "      <td>Production-Grade Container Scheduling and Mana...</td>\n",
              "      <td>['cncf', 'containers', 'go', 'kubernetes']</td>\n",
              "      <td>Go</td>\n",
              "      <td>['Go', 'Shell', 'PowerShell', 'Makefile', 'Doc...</td>\n",
              "      <td>Apache-2.0</td>\n",
              "    </tr>\n",
              "    <tr>\n",
              "      <th>2</th>\n",
              "      <td>huggingface/transformers</td>\n",
              "      <td>transformers</td>\n",
              "      <td>🤗 Transformers: State-of-the-art Machine Learn...</td>\n",
              "      <td>['bert', 'deep-learning', 'flax', 'hacktoberfe...</td>\n",
              "      <td>Python</td>\n",
              "      <td>['Python', 'Cuda', 'Shell', 'Dockerfile', 'C++...</td>\n",
              "      <td>Apache-2.0</td>\n",
              "    </tr>\n",
              "    <tr>\n",
              "      <th>3</th>\n",
              "      <td>microsoft/TypeScript</td>\n",
              "      <td>TypeScript</td>\n",
              "      <td>TypeScript is a superset of JavaScript that co...</td>\n",
              "      <td>['javascript', 'language', 'typechecker', 'typ...</td>\n",
              "      <td>TypeScript</td>\n",
              "      <td>['TypeScript', 'JavaScript', 'Dockerfile', 'Sh...</td>\n",
              "      <td>Apache-2.0</td>\n",
              "    </tr>\n",
              "    <tr>\n",
              "      <th>4</th>\n",
              "      <td>puppeteer/puppeteer</td>\n",
              "      <td>puppeteer</td>\n",
              "      <td>Headless Chrome Node.js API</td>\n",
              "      <td>['automation', 'chrome', 'chromium', 'develope...</td>\n",
              "      <td>TypeScript</td>\n",
              "      <td>['TypeScript', 'JavaScript', 'HTML', 'CSS', 'D...</td>\n",
              "      <td>Apache-2.0</td>\n",
              "    </tr>\n",
              "    <tr>\n",
              "      <th>...</th>\n",
              "      <td>...</td>\n",
              "      <td>...</td>\n",
              "      <td>...</td>\n",
              "      <td>...</td>\n",
              "      <td>...</td>\n",
              "      <td>...</td>\n",
              "      <td>...</td>\n",
              "    </tr>\n",
              "    <tr>\n",
              "      <th>5320</th>\n",
              "      <td>hashicorp/setup-terraform</td>\n",
              "      <td>setup-terraform</td>\n",
              "      <td>Sets up Terraform CLI in your GitHub Actions w...</td>\n",
              "      <td>[]</td>\n",
              "      <td>JavaScript</td>\n",
              "      <td>['JavaScript', 'Shell']</td>\n",
              "      <td>MPL-2.0</td>\n",
              "    </tr>\n",
              "    <tr>\n",
              "      <th>5321</th>\n",
              "      <td>luguanxing/Cheating-Plugin-Program</td>\n",
              "      <td>Cheating-Plugin-Program</td>\n",
              "      <td>从零开始研究外挂设计原理</td>\n",
              "      <td>[]</td>\n",
              "      <td>C++</td>\n",
              "      <td>['C++', 'C', 'Makefile']</td>\n",
              "      <td>MPL-2.0</td>\n",
              "    </tr>\n",
              "    <tr>\n",
              "      <th>5322</th>\n",
              "      <td>actiontech/sqle</td>\n",
              "      <td>sqle</td>\n",
              "      <td>SQLE is a SQL audit platform | SQLE 是一个支持多场景，原...</td>\n",
              "      <td>['advisor', 'audit', 'jetbrains', 'mssql', 'my...</td>\n",
              "      <td>Go</td>\n",
              "      <td>['Go', 'Makefile', 'Shell', 'Dockerfile', 'Pyt...</td>\n",
              "      <td>MPL-2.0</td>\n",
              "    </tr>\n",
              "    <tr>\n",
              "      <th>5323</th>\n",
              "      <td>gzuidhof/starboard-notebook</td>\n",
              "      <td>starboard-notebook</td>\n",
              "      <td>In-browser literate notebooks</td>\n",
              "      <td>['literate-programming', 'notebook', 'starboar...</td>\n",
              "      <td>TypeScript</td>\n",
              "      <td>['TypeScript', 'SCSS', 'JavaScript', 'CSS', 'M...</td>\n",
              "      <td>MPL-2.0</td>\n",
              "    </tr>\n",
              "    <tr>\n",
              "      <th>5324</th>\n",
              "      <td>stepci/stepci</td>\n",
              "      <td>stepci</td>\n",
              "      <td>Automated API Testing and Quality Assurance</td>\n",
              "      <td>['actions', 'api', 'api-rest', 'api-testing', ...</td>\n",
              "      <td>TypeScript</td>\n",
              "      <td>['TypeScript', 'Shell', 'Dockerfile']</td>\n",
              "      <td>MPL-2.0</td>\n",
              "    </tr>\n",
              "  </tbody>\n",
              "</table>\n",
              "<p>5325 rows × 7 columns</p>\n",
              "</div>\n",
              "      <button class=\"colab-df-convert\" onclick=\"convertToInteractive('df-dc5f3205-63d7-4576-a452-f9617e46fc2c')\"\n",
              "              title=\"Convert this dataframe to an interactive table.\"\n",
              "              style=\"display:none;\">\n",
              "        \n",
              "  <svg xmlns=\"http://www.w3.org/2000/svg\" height=\"24px\"viewBox=\"0 0 24 24\"\n",
              "       width=\"24px\">\n",
              "    <path d=\"M0 0h24v24H0V0z\" fill=\"none\"/>\n",
              "    <path d=\"M18.56 5.44l.94 2.06.94-2.06 2.06-.94-2.06-.94-.94-2.06-.94 2.06-2.06.94zm-11 1L8.5 8.5l.94-2.06 2.06-.94-2.06-.94L8.5 2.5l-.94 2.06-2.06.94zm10 10l.94 2.06.94-2.06 2.06-.94-2.06-.94-.94-2.06-.94 2.06-2.06.94z\"/><path d=\"M17.41 7.96l-1.37-1.37c-.4-.4-.92-.59-1.43-.59-.52 0-1.04.2-1.43.59L10.3 9.45l-7.72 7.72c-.78.78-.78 2.05 0 2.83L4 21.41c.39.39.9.59 1.41.59.51 0 1.02-.2 1.41-.59l7.78-7.78 2.81-2.81c.8-.78.8-2.07 0-2.86zM5.41 20L4 18.59l7.72-7.72 1.47 1.35L5.41 20z\"/>\n",
              "  </svg>\n",
              "      </button>\n",
              "      \n",
              "  <style>\n",
              "    .colab-df-container {\n",
              "      display:flex;\n",
              "      flex-wrap:wrap;\n",
              "      gap: 12px;\n",
              "    }\n",
              "\n",
              "    .colab-df-convert {\n",
              "      background-color: #E8F0FE;\n",
              "      border: none;\n",
              "      border-radius: 50%;\n",
              "      cursor: pointer;\n",
              "      display: none;\n",
              "      fill: #1967D2;\n",
              "      height: 32px;\n",
              "      padding: 0 0 0 0;\n",
              "      width: 32px;\n",
              "    }\n",
              "\n",
              "    .colab-df-convert:hover {\n",
              "      background-color: #E2EBFA;\n",
              "      box-shadow: 0px 1px 2px rgba(60, 64, 67, 0.3), 0px 1px 3px 1px rgba(60, 64, 67, 0.15);\n",
              "      fill: #174EA6;\n",
              "    }\n",
              "\n",
              "    [theme=dark] .colab-df-convert {\n",
              "      background-color: #3B4455;\n",
              "      fill: #D2E3FC;\n",
              "    }\n",
              "\n",
              "    [theme=dark] .colab-df-convert:hover {\n",
              "      background-color: #434B5C;\n",
              "      box-shadow: 0px 1px 3px 1px rgba(0, 0, 0, 0.15);\n",
              "      filter: drop-shadow(0px 1px 2px rgba(0, 0, 0, 0.3));\n",
              "      fill: #FFFFFF;\n",
              "    }\n",
              "  </style>\n",
              "\n",
              "      <script>\n",
              "        const buttonEl =\n",
              "          document.querySelector('#df-dc5f3205-63d7-4576-a452-f9617e46fc2c button.colab-df-convert');\n",
              "        buttonEl.style.display =\n",
              "          google.colab.kernel.accessAllowed ? 'block' : 'none';\n",
              "\n",
              "        async function convertToInteractive(key) {\n",
              "          const element = document.querySelector('#df-dc5f3205-63d7-4576-a452-f9617e46fc2c');\n",
              "          const dataTable =\n",
              "            await google.colab.kernel.invokeFunction('convertToInteractive',\n",
              "                                                     [key], {});\n",
              "          if (!dataTable) return;\n",
              "\n",
              "          const docLinkHtml = 'Like what you see? Visit the ' +\n",
              "            '<a target=\"_blank\" href=https://colab.research.google.com/notebooks/data_table.ipynb>data table notebook</a>'\n",
              "            + ' to learn more about interactive tables.';\n",
              "          element.innerHTML = '';\n",
              "          dataTable['output_type'] = 'display_data';\n",
              "          await google.colab.output.renderOutput(dataTable, element);\n",
              "          const docLink = document.createElement('div');\n",
              "          docLink.innerHTML = docLinkHtml;\n",
              "          element.appendChild(docLink);\n",
              "        }\n",
              "      </script>\n",
              "    </div>\n",
              "  </div>\n",
              "  "
            ]
          },
          "metadata": {}
        },
        {
          "output_type": "stream",
          "name": "stdout",
          "text": [
            "\n",
            "\n",
            "All Data HEAD -------------------------------------------------------------\n",
            "\n",
            "\n"
          ]
        },
        {
          "output_type": "display_data",
          "data": {
            "text/plain": [
              "                  full_name          name  \\\n",
              "0     tensorflow/tensorflow    tensorflow   \n",
              "1     kubernetes/kubernetes    kubernetes   \n",
              "2  huggingface/transformers  transformers   \n",
              "3      microsoft/TypeScript    TypeScript   \n",
              "4       puppeteer/puppeteer     puppeteer   \n",
              "\n",
              "                                         description  \\\n",
              "0  An Open Source Machine Learning Framework for ...   \n",
              "1  Production-Grade Container Scheduling and Mana...   \n",
              "2  🤗 Transformers: State-of-the-art Machine Learn...   \n",
              "3  TypeScript is a superset of JavaScript that co...   \n",
              "4                        Headless Chrome Node.js API   \n",
              "\n",
              "                                              topics    language  \\\n",
              "0  ['deep-learning', 'deep-neural-networks', 'dis...         C++   \n",
              "1         ['cncf', 'containers', 'go', 'kubernetes']          Go   \n",
              "2  ['bert', 'deep-learning', 'flax', 'hacktoberfe...      Python   \n",
              "3  ['javascript', 'language', 'typechecker', 'typ...  TypeScript   \n",
              "4  ['automation', 'chrome', 'chromium', 'develope...  TypeScript   \n",
              "\n",
              "                                           lang_name license_name  \n",
              "0  ['C++', 'Python', 'MLIR', 'Starlark', 'HTML', ...   Apache-2.0  \n",
              "1  ['Go', 'Shell', 'PowerShell', 'Makefile', 'Doc...   Apache-2.0  \n",
              "2  ['Python', 'Cuda', 'Shell', 'Dockerfile', 'C++...   Apache-2.0  \n",
              "3  ['TypeScript', 'JavaScript', 'Dockerfile', 'Sh...   Apache-2.0  \n",
              "4  ['TypeScript', 'JavaScript', 'HTML', 'CSS', 'D...   Apache-2.0  "
            ],
            "text/html": [
              "\n",
              "  <div id=\"df-69c442ba-b87a-4430-af0d-6bfc133dbc29\">\n",
              "    <div class=\"colab-df-container\">\n",
              "      <div>\n",
              "<style scoped>\n",
              "    .dataframe tbody tr th:only-of-type {\n",
              "        vertical-align: middle;\n",
              "    }\n",
              "\n",
              "    .dataframe tbody tr th {\n",
              "        vertical-align: top;\n",
              "    }\n",
              "\n",
              "    .dataframe thead th {\n",
              "        text-align: right;\n",
              "    }\n",
              "</style>\n",
              "<table border=\"1\" class=\"dataframe\">\n",
              "  <thead>\n",
              "    <tr style=\"text-align: right;\">\n",
              "      <th></th>\n",
              "      <th>full_name</th>\n",
              "      <th>name</th>\n",
              "      <th>description</th>\n",
              "      <th>topics</th>\n",
              "      <th>language</th>\n",
              "      <th>lang_name</th>\n",
              "      <th>license_name</th>\n",
              "    </tr>\n",
              "  </thead>\n",
              "  <tbody>\n",
              "    <tr>\n",
              "      <th>0</th>\n",
              "      <td>tensorflow/tensorflow</td>\n",
              "      <td>tensorflow</td>\n",
              "      <td>An Open Source Machine Learning Framework for ...</td>\n",
              "      <td>['deep-learning', 'deep-neural-networks', 'dis...</td>\n",
              "      <td>C++</td>\n",
              "      <td>['C++', 'Python', 'MLIR', 'Starlark', 'HTML', ...</td>\n",
              "      <td>Apache-2.0</td>\n",
              "    </tr>\n",
              "    <tr>\n",
              "      <th>1</th>\n",
              "      <td>kubernetes/kubernetes</td>\n",
              "      <td>kubernetes</td>\n",
              "      <td>Production-Grade Container Scheduling and Mana...</td>\n",
              "      <td>['cncf', 'containers', 'go', 'kubernetes']</td>\n",
              "      <td>Go</td>\n",
              "      <td>['Go', 'Shell', 'PowerShell', 'Makefile', 'Doc...</td>\n",
              "      <td>Apache-2.0</td>\n",
              "    </tr>\n",
              "    <tr>\n",
              "      <th>2</th>\n",
              "      <td>huggingface/transformers</td>\n",
              "      <td>transformers</td>\n",
              "      <td>🤗 Transformers: State-of-the-art Machine Learn...</td>\n",
              "      <td>['bert', 'deep-learning', 'flax', 'hacktoberfe...</td>\n",
              "      <td>Python</td>\n",
              "      <td>['Python', 'Cuda', 'Shell', 'Dockerfile', 'C++...</td>\n",
              "      <td>Apache-2.0</td>\n",
              "    </tr>\n",
              "    <tr>\n",
              "      <th>3</th>\n",
              "      <td>microsoft/TypeScript</td>\n",
              "      <td>TypeScript</td>\n",
              "      <td>TypeScript is a superset of JavaScript that co...</td>\n",
              "      <td>['javascript', 'language', 'typechecker', 'typ...</td>\n",
              "      <td>TypeScript</td>\n",
              "      <td>['TypeScript', 'JavaScript', 'Dockerfile', 'Sh...</td>\n",
              "      <td>Apache-2.0</td>\n",
              "    </tr>\n",
              "    <tr>\n",
              "      <th>4</th>\n",
              "      <td>puppeteer/puppeteer</td>\n",
              "      <td>puppeteer</td>\n",
              "      <td>Headless Chrome Node.js API</td>\n",
              "      <td>['automation', 'chrome', 'chromium', 'develope...</td>\n",
              "      <td>TypeScript</td>\n",
              "      <td>['TypeScript', 'JavaScript', 'HTML', 'CSS', 'D...</td>\n",
              "      <td>Apache-2.0</td>\n",
              "    </tr>\n",
              "  </tbody>\n",
              "</table>\n",
              "</div>\n",
              "      <button class=\"colab-df-convert\" onclick=\"convertToInteractive('df-69c442ba-b87a-4430-af0d-6bfc133dbc29')\"\n",
              "              title=\"Convert this dataframe to an interactive table.\"\n",
              "              style=\"display:none;\">\n",
              "        \n",
              "  <svg xmlns=\"http://www.w3.org/2000/svg\" height=\"24px\"viewBox=\"0 0 24 24\"\n",
              "       width=\"24px\">\n",
              "    <path d=\"M0 0h24v24H0V0z\" fill=\"none\"/>\n",
              "    <path d=\"M18.56 5.44l.94 2.06.94-2.06 2.06-.94-2.06-.94-.94-2.06-.94 2.06-2.06.94zm-11 1L8.5 8.5l.94-2.06 2.06-.94-2.06-.94L8.5 2.5l-.94 2.06-2.06.94zm10 10l.94 2.06.94-2.06 2.06-.94-2.06-.94-.94-2.06-.94 2.06-2.06.94z\"/><path d=\"M17.41 7.96l-1.37-1.37c-.4-.4-.92-.59-1.43-.59-.52 0-1.04.2-1.43.59L10.3 9.45l-7.72 7.72c-.78.78-.78 2.05 0 2.83L4 21.41c.39.39.9.59 1.41.59.51 0 1.02-.2 1.41-.59l7.78-7.78 2.81-2.81c.8-.78.8-2.07 0-2.86zM5.41 20L4 18.59l7.72-7.72 1.47 1.35L5.41 20z\"/>\n",
              "  </svg>\n",
              "      </button>\n",
              "      \n",
              "  <style>\n",
              "    .colab-df-container {\n",
              "      display:flex;\n",
              "      flex-wrap:wrap;\n",
              "      gap: 12px;\n",
              "    }\n",
              "\n",
              "    .colab-df-convert {\n",
              "      background-color: #E8F0FE;\n",
              "      border: none;\n",
              "      border-radius: 50%;\n",
              "      cursor: pointer;\n",
              "      display: none;\n",
              "      fill: #1967D2;\n",
              "      height: 32px;\n",
              "      padding: 0 0 0 0;\n",
              "      width: 32px;\n",
              "    }\n",
              "\n",
              "    .colab-df-convert:hover {\n",
              "      background-color: #E2EBFA;\n",
              "      box-shadow: 0px 1px 2px rgba(60, 64, 67, 0.3), 0px 1px 3px 1px rgba(60, 64, 67, 0.15);\n",
              "      fill: #174EA6;\n",
              "    }\n",
              "\n",
              "    [theme=dark] .colab-df-convert {\n",
              "      background-color: #3B4455;\n",
              "      fill: #D2E3FC;\n",
              "    }\n",
              "\n",
              "    [theme=dark] .colab-df-convert:hover {\n",
              "      background-color: #434B5C;\n",
              "      box-shadow: 0px 1px 3px 1px rgba(0, 0, 0, 0.15);\n",
              "      filter: drop-shadow(0px 1px 2px rgba(0, 0, 0, 0.3));\n",
              "      fill: #FFFFFF;\n",
              "    }\n",
              "  </style>\n",
              "\n",
              "      <script>\n",
              "        const buttonEl =\n",
              "          document.querySelector('#df-69c442ba-b87a-4430-af0d-6bfc133dbc29 button.colab-df-convert');\n",
              "        buttonEl.style.display =\n",
              "          google.colab.kernel.accessAllowed ? 'block' : 'none';\n",
              "\n",
              "        async function convertToInteractive(key) {\n",
              "          const element = document.querySelector('#df-69c442ba-b87a-4430-af0d-6bfc133dbc29');\n",
              "          const dataTable =\n",
              "            await google.colab.kernel.invokeFunction('convertToInteractive',\n",
              "                                                     [key], {});\n",
              "          if (!dataTable) return;\n",
              "\n",
              "          const docLinkHtml = 'Like what you see? Visit the ' +\n",
              "            '<a target=\"_blank\" href=https://colab.research.google.com/notebooks/data_table.ipynb>data table notebook</a>'\n",
              "            + ' to learn more about interactive tables.';\n",
              "          element.innerHTML = '';\n",
              "          dataTable['output_type'] = 'display_data';\n",
              "          await google.colab.output.renderOutput(dataTable, element);\n",
              "          const docLink = document.createElement('div');\n",
              "          docLink.innerHTML = docLinkHtml;\n",
              "          element.appendChild(docLink);\n",
              "        }\n",
              "      </script>\n",
              "    </div>\n",
              "  </div>\n",
              "  "
            ]
          },
          "metadata": {}
        },
        {
          "output_type": "stream",
          "name": "stdout",
          "text": [
            "\n",
            "\n",
            "All Data Describe -------------------------------------------------------------\n",
            "\n",
            "\n"
          ]
        },
        {
          "output_type": "display_data",
          "data": {
            "text/plain": [
              "                    full_name  name  \\\n",
              "count                    5325  5324   \n",
              "unique                   5277  5175   \n",
              "top     redux-form/redux-form  core   \n",
              "freq                        2     5   \n",
              "\n",
              "                                              description topics language  \\\n",
              "count                                                5280   5325     4945   \n",
              "unique                                               5229   3839      100   \n",
              "top     A data-driven UICollectionView framework for b...     []   Python   \n",
              "freq                                                    2   1424      902   \n",
              "\n",
              "       lang_name license_name  \n",
              "count       5325         5325  \n",
              "unique      3129            9  \n",
              "top           []   Apache-2.0  \n",
              "freq         366         1000  "
            ],
            "text/html": [
              "\n",
              "  <div id=\"df-f76eab43-6d3f-48e0-9ea5-7d50ffe544ab\">\n",
              "    <div class=\"colab-df-container\">\n",
              "      <div>\n",
              "<style scoped>\n",
              "    .dataframe tbody tr th:only-of-type {\n",
              "        vertical-align: middle;\n",
              "    }\n",
              "\n",
              "    .dataframe tbody tr th {\n",
              "        vertical-align: top;\n",
              "    }\n",
              "\n",
              "    .dataframe thead th {\n",
              "        text-align: right;\n",
              "    }\n",
              "</style>\n",
              "<table border=\"1\" class=\"dataframe\">\n",
              "  <thead>\n",
              "    <tr style=\"text-align: right;\">\n",
              "      <th></th>\n",
              "      <th>full_name</th>\n",
              "      <th>name</th>\n",
              "      <th>description</th>\n",
              "      <th>topics</th>\n",
              "      <th>language</th>\n",
              "      <th>lang_name</th>\n",
              "      <th>license_name</th>\n",
              "    </tr>\n",
              "  </thead>\n",
              "  <tbody>\n",
              "    <tr>\n",
              "      <th>count</th>\n",
              "      <td>5325</td>\n",
              "      <td>5324</td>\n",
              "      <td>5280</td>\n",
              "      <td>5325</td>\n",
              "      <td>4945</td>\n",
              "      <td>5325</td>\n",
              "      <td>5325</td>\n",
              "    </tr>\n",
              "    <tr>\n",
              "      <th>unique</th>\n",
              "      <td>5277</td>\n",
              "      <td>5175</td>\n",
              "      <td>5229</td>\n",
              "      <td>3839</td>\n",
              "      <td>100</td>\n",
              "      <td>3129</td>\n",
              "      <td>9</td>\n",
              "    </tr>\n",
              "    <tr>\n",
              "      <th>top</th>\n",
              "      <td>redux-form/redux-form</td>\n",
              "      <td>core</td>\n",
              "      <td>A data-driven UICollectionView framework for b...</td>\n",
              "      <td>[]</td>\n",
              "      <td>Python</td>\n",
              "      <td>[]</td>\n",
              "      <td>Apache-2.0</td>\n",
              "    </tr>\n",
              "    <tr>\n",
              "      <th>freq</th>\n",
              "      <td>2</td>\n",
              "      <td>5</td>\n",
              "      <td>2</td>\n",
              "      <td>1424</td>\n",
              "      <td>902</td>\n",
              "      <td>366</td>\n",
              "      <td>1000</td>\n",
              "    </tr>\n",
              "  </tbody>\n",
              "</table>\n",
              "</div>\n",
              "      <button class=\"colab-df-convert\" onclick=\"convertToInteractive('df-f76eab43-6d3f-48e0-9ea5-7d50ffe544ab')\"\n",
              "              title=\"Convert this dataframe to an interactive table.\"\n",
              "              style=\"display:none;\">\n",
              "        \n",
              "  <svg xmlns=\"http://www.w3.org/2000/svg\" height=\"24px\"viewBox=\"0 0 24 24\"\n",
              "       width=\"24px\">\n",
              "    <path d=\"M0 0h24v24H0V0z\" fill=\"none\"/>\n",
              "    <path d=\"M18.56 5.44l.94 2.06.94-2.06 2.06-.94-2.06-.94-.94-2.06-.94 2.06-2.06.94zm-11 1L8.5 8.5l.94-2.06 2.06-.94-2.06-.94L8.5 2.5l-.94 2.06-2.06.94zm10 10l.94 2.06.94-2.06 2.06-.94-2.06-.94-.94-2.06-.94 2.06-2.06.94z\"/><path d=\"M17.41 7.96l-1.37-1.37c-.4-.4-.92-.59-1.43-.59-.52 0-1.04.2-1.43.59L10.3 9.45l-7.72 7.72c-.78.78-.78 2.05 0 2.83L4 21.41c.39.39.9.59 1.41.59.51 0 1.02-.2 1.41-.59l7.78-7.78 2.81-2.81c.8-.78.8-2.07 0-2.86zM5.41 20L4 18.59l7.72-7.72 1.47 1.35L5.41 20z\"/>\n",
              "  </svg>\n",
              "      </button>\n",
              "      \n",
              "  <style>\n",
              "    .colab-df-container {\n",
              "      display:flex;\n",
              "      flex-wrap:wrap;\n",
              "      gap: 12px;\n",
              "    }\n",
              "\n",
              "    .colab-df-convert {\n",
              "      background-color: #E8F0FE;\n",
              "      border: none;\n",
              "      border-radius: 50%;\n",
              "      cursor: pointer;\n",
              "      display: none;\n",
              "      fill: #1967D2;\n",
              "      height: 32px;\n",
              "      padding: 0 0 0 0;\n",
              "      width: 32px;\n",
              "    }\n",
              "\n",
              "    .colab-df-convert:hover {\n",
              "      background-color: #E2EBFA;\n",
              "      box-shadow: 0px 1px 2px rgba(60, 64, 67, 0.3), 0px 1px 3px 1px rgba(60, 64, 67, 0.15);\n",
              "      fill: #174EA6;\n",
              "    }\n",
              "\n",
              "    [theme=dark] .colab-df-convert {\n",
              "      background-color: #3B4455;\n",
              "      fill: #D2E3FC;\n",
              "    }\n",
              "\n",
              "    [theme=dark] .colab-df-convert:hover {\n",
              "      background-color: #434B5C;\n",
              "      box-shadow: 0px 1px 3px 1px rgba(0, 0, 0, 0.15);\n",
              "      filter: drop-shadow(0px 1px 2px rgba(0, 0, 0, 0.3));\n",
              "      fill: #FFFFFF;\n",
              "    }\n",
              "  </style>\n",
              "\n",
              "      <script>\n",
              "        const buttonEl =\n",
              "          document.querySelector('#df-f76eab43-6d3f-48e0-9ea5-7d50ffe544ab button.colab-df-convert');\n",
              "        buttonEl.style.display =\n",
              "          google.colab.kernel.accessAllowed ? 'block' : 'none';\n",
              "\n",
              "        async function convertToInteractive(key) {\n",
              "          const element = document.querySelector('#df-f76eab43-6d3f-48e0-9ea5-7d50ffe544ab');\n",
              "          const dataTable =\n",
              "            await google.colab.kernel.invokeFunction('convertToInteractive',\n",
              "                                                     [key], {});\n",
              "          if (!dataTable) return;\n",
              "\n",
              "          const docLinkHtml = 'Like what you see? Visit the ' +\n",
              "            '<a target=\"_blank\" href=https://colab.research.google.com/notebooks/data_table.ipynb>data table notebook</a>'\n",
              "            + ' to learn more about interactive tables.';\n",
              "          element.innerHTML = '';\n",
              "          dataTable['output_type'] = 'display_data';\n",
              "          await google.colab.output.renderOutput(dataTable, element);\n",
              "          const docLink = document.createElement('div');\n",
              "          docLink.innerHTML = docLinkHtml;\n",
              "          element.appendChild(docLink);\n",
              "        }\n",
              "      </script>\n",
              "    </div>\n",
              "  </div>\n",
              "  "
            ]
          },
          "metadata": {}
        },
        {
          "output_type": "stream",
          "name": "stdout",
          "text": [
            "\n",
            "\n",
            "All Data COUNT -------------------------------------------------------------\n",
            "\n",
            "\n"
          ]
        },
        {
          "output_type": "display_data",
          "data": {
            "text/plain": [
              "full_name       5325\n",
              "name            5324\n",
              "description     5280\n",
              "topics          5325\n",
              "language        4945\n",
              "lang_name       5325\n",
              "license_name    5325\n",
              "dtype: int64"
            ]
          },
          "metadata": {}
        }
      ]
    },
    {
      "cell_type": "code",
      "source": [
        "print('\\n\\nUnique Counts -------------------------------------------------------------\\n\\n')\n",
        "display(data_selected[\"language\"].unique())\n",
        "display(len(data_selected[\"language\"].unique()))\n",
        "\n",
        "display(data_selected[\"license_name\"].unique())\n",
        "display(len(data_selected[\"license_name\"].unique()))\n"
      ],
      "metadata": {
        "colab": {
          "base_uri": "https://localhost:8080/",
          "height": 491
        },
        "id": "3xiZtEzwJp6u",
        "outputId": "0f9cee52-d48c-435a-e11a-7e0876657df6"
      },
      "execution_count": null,
      "outputs": [
        {
          "output_type": "stream",
          "name": "stdout",
          "text": [
            "\n",
            "\n",
            "Unique Counts -------------------------------------------------------------\n",
            "\n",
            "\n"
          ]
        },
        {
          "output_type": "display_data",
          "data": {
            "text/plain": [
              "array(['C++', 'Go', 'Python', 'TypeScript', 'C', 'Java', 'Rust',\n",
              "       'Dockerfile', nan, 'Kotlin', 'JavaScript', 'Shell', 'Scala',\n",
              "       'SCSS', 'Lua', 'HTML', 'Jupyter Notebook', 'Swift', 'Elixir',\n",
              "       'Vue', 'Crystal', 'Makefile', 'Objective-C', 'Mustache', 'VimL',\n",
              "       'WebAssembly', 'Starlark', 'Groovy', 'Markdown', 'Dart', 'Jinja',\n",
              "       'PHP', 'Pascal', 'Ruby', 'Erlang', 'C#', 'PowerShell', 'Cython',\n",
              "       'CSS', 'Assembly', 'Svelte', 'Prolog', 'Scheme', 'Jsonnet',\n",
              "       'PLpgSQL', 'Handlebars', 'Vim Script', 'Emacs Lisp', 'Perl',\n",
              "       'Matlab', 'Nim', 'TeX', 'ASL', 'CMake', 'Factor', 'Haskell',\n",
              "       'YARA', 'MATLAB', 'CoffeeScript', 'Elm', 'Dhall', 'Odin',\n",
              "       'AppleScript', 'Batchfile', 'Vim script', 'PostScript', 'Pawn',\n",
              "       'Verilog', 'Cuda', 'Solidity', 'SVG', 'DIGITAL Command Language',\n",
              "       'JSON', 'R', 'Clojure', 'Objective-C++', 'Vala', 'D', 'XSLT',\n",
              "       'Mercury', 'HLSL', 'Smali', 'Visual Basic .NET', 'AutoHotkey',\n",
              "       'Blade', 'OCaml', 'Haxe', 'Adblock Filter List', 'GAP', 'Zig',\n",
              "       'AutoIt', 'Reason', 'Inno Setup', 'Nunjucks', 'Julia', 'V', 'Roff',\n",
              "       'Bicep', 'Nix', 'FreeMarker', 'HCL'], dtype=object)"
            ]
          },
          "metadata": {}
        },
        {
          "output_type": "display_data",
          "data": {
            "text/plain": [
              "101"
            ]
          },
          "metadata": {}
        },
        {
          "output_type": "display_data",
          "data": {
            "text/plain": [
              "array(['Apache-2.0', 'BSD-2-Clause', 'BSD-3-Clause', 'CC0-1.0', 'EPL-2.0',\n",
              "       'GPL-3.0', 'LGPL-3.0', 'MIT', 'MPL-2.0'], dtype=object)"
            ]
          },
          "metadata": {}
        },
        {
          "output_type": "display_data",
          "data": {
            "text/plain": [
              "9"
            ]
          },
          "metadata": {}
        }
      ]
    },
    {
      "cell_type": "code",
      "source": [
        "#This is funny the Repo is named NULL and hence its name is detected in NA LOL\n",
        "df_name_na=data_selected[data_selected[\"name\"].isna()]\n",
        "display(df_name_na)"
      ],
      "metadata": {
        "colab": {
          "base_uri": "https://localhost:8080/",
          "height": 81
        },
        "id": "YjcfTlHGG3aJ",
        "outputId": "f7502eed-dc8d-4a89-8622-73f59abe99e7"
      },
      "execution_count": null,
      "outputs": [
        {
          "output_type": "display_data",
          "data": {
            "text/plain": [
              "        full_name name                             description  \\\n",
              "1270  guregu/null  NaN  reasonable handling of nullable values   \n",
              "\n",
              "      stargazers_count  forks_count                 topics language lang_name  \\\n",
              "1270              1546          224  ['go', 'json', 'sql']       Go    ['Go']   \n",
              "\n",
              "      license_name  \n",
              "1270  BSD-2-Clause  "
            ],
            "text/html": [
              "\n",
              "  <div id=\"df-be464f99-b3e9-4224-936d-31929cd5d18d\">\n",
              "    <div class=\"colab-df-container\">\n",
              "      <div>\n",
              "<style scoped>\n",
              "    .dataframe tbody tr th:only-of-type {\n",
              "        vertical-align: middle;\n",
              "    }\n",
              "\n",
              "    .dataframe tbody tr th {\n",
              "        vertical-align: top;\n",
              "    }\n",
              "\n",
              "    .dataframe thead th {\n",
              "        text-align: right;\n",
              "    }\n",
              "</style>\n",
              "<table border=\"1\" class=\"dataframe\">\n",
              "  <thead>\n",
              "    <tr style=\"text-align: right;\">\n",
              "      <th></th>\n",
              "      <th>full_name</th>\n",
              "      <th>name</th>\n",
              "      <th>description</th>\n",
              "      <th>stargazers_count</th>\n",
              "      <th>forks_count</th>\n",
              "      <th>topics</th>\n",
              "      <th>language</th>\n",
              "      <th>lang_name</th>\n",
              "      <th>license_name</th>\n",
              "    </tr>\n",
              "  </thead>\n",
              "  <tbody>\n",
              "    <tr>\n",
              "      <th>1270</th>\n",
              "      <td>guregu/null</td>\n",
              "      <td>NaN</td>\n",
              "      <td>reasonable handling of nullable values</td>\n",
              "      <td>1546</td>\n",
              "      <td>224</td>\n",
              "      <td>['go', 'json', 'sql']</td>\n",
              "      <td>Go</td>\n",
              "      <td>['Go']</td>\n",
              "      <td>BSD-2-Clause</td>\n",
              "    </tr>\n",
              "  </tbody>\n",
              "</table>\n",
              "</div>\n",
              "      <button class=\"colab-df-convert\" onclick=\"convertToInteractive('df-be464f99-b3e9-4224-936d-31929cd5d18d')\"\n",
              "              title=\"Convert this dataframe to an interactive table.\"\n",
              "              style=\"display:none;\">\n",
              "        \n",
              "  <svg xmlns=\"http://www.w3.org/2000/svg\" height=\"24px\"viewBox=\"0 0 24 24\"\n",
              "       width=\"24px\">\n",
              "    <path d=\"M0 0h24v24H0V0z\" fill=\"none\"/>\n",
              "    <path d=\"M18.56 5.44l.94 2.06.94-2.06 2.06-.94-2.06-.94-.94-2.06-.94 2.06-2.06.94zm-11 1L8.5 8.5l.94-2.06 2.06-.94-2.06-.94L8.5 2.5l-.94 2.06-2.06.94zm10 10l.94 2.06.94-2.06 2.06-.94-2.06-.94-.94-2.06-.94 2.06-2.06.94z\"/><path d=\"M17.41 7.96l-1.37-1.37c-.4-.4-.92-.59-1.43-.59-.52 0-1.04.2-1.43.59L10.3 9.45l-7.72 7.72c-.78.78-.78 2.05 0 2.83L4 21.41c.39.39.9.59 1.41.59.51 0 1.02-.2 1.41-.59l7.78-7.78 2.81-2.81c.8-.78.8-2.07 0-2.86zM5.41 20L4 18.59l7.72-7.72 1.47 1.35L5.41 20z\"/>\n",
              "  </svg>\n",
              "      </button>\n",
              "      \n",
              "  <style>\n",
              "    .colab-df-container {\n",
              "      display:flex;\n",
              "      flex-wrap:wrap;\n",
              "      gap: 12px;\n",
              "    }\n",
              "\n",
              "    .colab-df-convert {\n",
              "      background-color: #E8F0FE;\n",
              "      border: none;\n",
              "      border-radius: 50%;\n",
              "      cursor: pointer;\n",
              "      display: none;\n",
              "      fill: #1967D2;\n",
              "      height: 32px;\n",
              "      padding: 0 0 0 0;\n",
              "      width: 32px;\n",
              "    }\n",
              "\n",
              "    .colab-df-convert:hover {\n",
              "      background-color: #E2EBFA;\n",
              "      box-shadow: 0px 1px 2px rgba(60, 64, 67, 0.3), 0px 1px 3px 1px rgba(60, 64, 67, 0.15);\n",
              "      fill: #174EA6;\n",
              "    }\n",
              "\n",
              "    [theme=dark] .colab-df-convert {\n",
              "      background-color: #3B4455;\n",
              "      fill: #D2E3FC;\n",
              "    }\n",
              "\n",
              "    [theme=dark] .colab-df-convert:hover {\n",
              "      background-color: #434B5C;\n",
              "      box-shadow: 0px 1px 3px 1px rgba(0, 0, 0, 0.15);\n",
              "      filter: drop-shadow(0px 1px 2px rgba(0, 0, 0, 0.3));\n",
              "      fill: #FFFFFF;\n",
              "    }\n",
              "  </style>\n",
              "\n",
              "      <script>\n",
              "        const buttonEl =\n",
              "          document.querySelector('#df-be464f99-b3e9-4224-936d-31929cd5d18d button.colab-df-convert');\n",
              "        buttonEl.style.display =\n",
              "          google.colab.kernel.accessAllowed ? 'block' : 'none';\n",
              "\n",
              "        async function convertToInteractive(key) {\n",
              "          const element = document.querySelector('#df-be464f99-b3e9-4224-936d-31929cd5d18d');\n",
              "          const dataTable =\n",
              "            await google.colab.kernel.invokeFunction('convertToInteractive',\n",
              "                                                     [key], {});\n",
              "          if (!dataTable) return;\n",
              "\n",
              "          const docLinkHtml = 'Like what you see? Visit the ' +\n",
              "            '<a target=\"_blank\" href=https://colab.research.google.com/notebooks/data_table.ipynb>data table notebook</a>'\n",
              "            + ' to learn more about interactive tables.';\n",
              "          element.innerHTML = '';\n",
              "          dataTable['output_type'] = 'display_data';\n",
              "          await google.colab.output.renderOutput(dataTable, element);\n",
              "          const docLink = document.createElement('div');\n",
              "          docLink.innerHTML = docLinkHtml;\n",
              "          element.appendChild(docLink);\n",
              "        }\n",
              "      </script>\n",
              "    </div>\n",
              "  </div>\n",
              "  "
            ]
          },
          "metadata": {}
        }
      ]
    },
    {
      "cell_type": "code",
      "source": [
        "# Case where topic is empty\n",
        "result = data_selected[data_selected['lang_name'].str.contains('Adblock')]\n",
        "display(result)"
      ],
      "metadata": {
        "colab": {
          "base_uri": "https://localhost:8080/",
          "height": 112
        },
        "id": "TY1eNDnGG9GT",
        "outputId": "3259a94d-048a-4930-eb59-d4858cb6cc5a"
      },
      "execution_count": null,
      "outputs": [
        {
          "output_type": "display_data",
          "data": {
            "text/plain": [
              "                 full_name     name  \\\n",
              "3688  uBlockOrigin/uAssets  uAssets   \n",
              "3969      cjx82630/cjxlist  cjxlist   \n",
              "\n",
              "                                            description  stargazers_count  \\\n",
              "3688  Resources for uBlock Origin, uMatrix: static f...              2427   \n",
              "3969                                                NaN              1425   \n",
              "\n",
              "      forks_count topics             language  \\\n",
              "3688          561     []  Adblock Filter List   \n",
              "3969          129     []  Adblock Filter List   \n",
              "\n",
              "                                              lang_name license_name  \n",
              "3688  ['Adblock Filter List', 'JavaScript', 'Makefil...      GPL-3.0  \n",
              "3969                            ['Adblock Filter List']     LGPL-3.0  "
            ],
            "text/html": [
              "\n",
              "  <div id=\"df-3b134667-ffca-400c-8d21-92219089a4e1\">\n",
              "    <div class=\"colab-df-container\">\n",
              "      <div>\n",
              "<style scoped>\n",
              "    .dataframe tbody tr th:only-of-type {\n",
              "        vertical-align: middle;\n",
              "    }\n",
              "\n",
              "    .dataframe tbody tr th {\n",
              "        vertical-align: top;\n",
              "    }\n",
              "\n",
              "    .dataframe thead th {\n",
              "        text-align: right;\n",
              "    }\n",
              "</style>\n",
              "<table border=\"1\" class=\"dataframe\">\n",
              "  <thead>\n",
              "    <tr style=\"text-align: right;\">\n",
              "      <th></th>\n",
              "      <th>full_name</th>\n",
              "      <th>name</th>\n",
              "      <th>description</th>\n",
              "      <th>stargazers_count</th>\n",
              "      <th>forks_count</th>\n",
              "      <th>topics</th>\n",
              "      <th>language</th>\n",
              "      <th>lang_name</th>\n",
              "      <th>license_name</th>\n",
              "    </tr>\n",
              "  </thead>\n",
              "  <tbody>\n",
              "    <tr>\n",
              "      <th>3688</th>\n",
              "      <td>uBlockOrigin/uAssets</td>\n",
              "      <td>uAssets</td>\n",
              "      <td>Resources for uBlock Origin, uMatrix: static f...</td>\n",
              "      <td>2427</td>\n",
              "      <td>561</td>\n",
              "      <td>[]</td>\n",
              "      <td>Adblock Filter List</td>\n",
              "      <td>['Adblock Filter List', 'JavaScript', 'Makefil...</td>\n",
              "      <td>GPL-3.0</td>\n",
              "    </tr>\n",
              "    <tr>\n",
              "      <th>3969</th>\n",
              "      <td>cjx82630/cjxlist</td>\n",
              "      <td>cjxlist</td>\n",
              "      <td>NaN</td>\n",
              "      <td>1425</td>\n",
              "      <td>129</td>\n",
              "      <td>[]</td>\n",
              "      <td>Adblock Filter List</td>\n",
              "      <td>['Adblock Filter List']</td>\n",
              "      <td>LGPL-3.0</td>\n",
              "    </tr>\n",
              "  </tbody>\n",
              "</table>\n",
              "</div>\n",
              "      <button class=\"colab-df-convert\" onclick=\"convertToInteractive('df-3b134667-ffca-400c-8d21-92219089a4e1')\"\n",
              "              title=\"Convert this dataframe to an interactive table.\"\n",
              "              style=\"display:none;\">\n",
              "        \n",
              "  <svg xmlns=\"http://www.w3.org/2000/svg\" height=\"24px\"viewBox=\"0 0 24 24\"\n",
              "       width=\"24px\">\n",
              "    <path d=\"M0 0h24v24H0V0z\" fill=\"none\"/>\n",
              "    <path d=\"M18.56 5.44l.94 2.06.94-2.06 2.06-.94-2.06-.94-.94-2.06-.94 2.06-2.06.94zm-11 1L8.5 8.5l.94-2.06 2.06-.94-2.06-.94L8.5 2.5l-.94 2.06-2.06.94zm10 10l.94 2.06.94-2.06 2.06-.94-2.06-.94-.94-2.06-.94 2.06-2.06.94z\"/><path d=\"M17.41 7.96l-1.37-1.37c-.4-.4-.92-.59-1.43-.59-.52 0-1.04.2-1.43.59L10.3 9.45l-7.72 7.72c-.78.78-.78 2.05 0 2.83L4 21.41c.39.39.9.59 1.41.59.51 0 1.02-.2 1.41-.59l7.78-7.78 2.81-2.81c.8-.78.8-2.07 0-2.86zM5.41 20L4 18.59l7.72-7.72 1.47 1.35L5.41 20z\"/>\n",
              "  </svg>\n",
              "      </button>\n",
              "      \n",
              "  <style>\n",
              "    .colab-df-container {\n",
              "      display:flex;\n",
              "      flex-wrap:wrap;\n",
              "      gap: 12px;\n",
              "    }\n",
              "\n",
              "    .colab-df-convert {\n",
              "      background-color: #E8F0FE;\n",
              "      border: none;\n",
              "      border-radius: 50%;\n",
              "      cursor: pointer;\n",
              "      display: none;\n",
              "      fill: #1967D2;\n",
              "      height: 32px;\n",
              "      padding: 0 0 0 0;\n",
              "      width: 32px;\n",
              "    }\n",
              "\n",
              "    .colab-df-convert:hover {\n",
              "      background-color: #E2EBFA;\n",
              "      box-shadow: 0px 1px 2px rgba(60, 64, 67, 0.3), 0px 1px 3px 1px rgba(60, 64, 67, 0.15);\n",
              "      fill: #174EA6;\n",
              "    }\n",
              "\n",
              "    [theme=dark] .colab-df-convert {\n",
              "      background-color: #3B4455;\n",
              "      fill: #D2E3FC;\n",
              "    }\n",
              "\n",
              "    [theme=dark] .colab-df-convert:hover {\n",
              "      background-color: #434B5C;\n",
              "      box-shadow: 0px 1px 3px 1px rgba(0, 0, 0, 0.15);\n",
              "      filter: drop-shadow(0px 1px 2px rgba(0, 0, 0, 0.3));\n",
              "      fill: #FFFFFF;\n",
              "    }\n",
              "  </style>\n",
              "\n",
              "      <script>\n",
              "        const buttonEl =\n",
              "          document.querySelector('#df-3b134667-ffca-400c-8d21-92219089a4e1 button.colab-df-convert');\n",
              "        buttonEl.style.display =\n",
              "          google.colab.kernel.accessAllowed ? 'block' : 'none';\n",
              "\n",
              "        async function convertToInteractive(key) {\n",
              "          const element = document.querySelector('#df-3b134667-ffca-400c-8d21-92219089a4e1');\n",
              "          const dataTable =\n",
              "            await google.colab.kernel.invokeFunction('convertToInteractive',\n",
              "                                                     [key], {});\n",
              "          if (!dataTable) return;\n",
              "\n",
              "          const docLinkHtml = 'Like what you see? Visit the ' +\n",
              "            '<a target=\"_blank\" href=https://colab.research.google.com/notebooks/data_table.ipynb>data table notebook</a>'\n",
              "            + ' to learn more about interactive tables.';\n",
              "          element.innerHTML = '';\n",
              "          dataTable['output_type'] = 'display_data';\n",
              "          await google.colab.output.renderOutput(dataTable, element);\n",
              "          const docLink = document.createElement('div');\n",
              "          docLink.innerHTML = docLinkHtml;\n",
              "          element.appendChild(docLink);\n",
              "        }\n",
              "      </script>\n",
              "    </div>\n",
              "  </div>\n",
              "  "
            ]
          },
          "metadata": {}
        }
      ]
    },
    {
      "cell_type": "code",
      "source": [
        "repo_data = data_selected.copy()\n",
        "display(repo_data.head())"
      ],
      "metadata": {
        "colab": {
          "base_uri": "https://localhost:8080/",
          "height": 441
        },
        "id": "10f5rUMTwI1z",
        "outputId": "dd459e24-ff3c-4af4-d9e0-515e2cdbfae5"
      },
      "execution_count": 212,
      "outputs": [
        {
          "output_type": "display_data",
          "data": {
            "text/plain": [
              "                  full_name          name  \\\n",
              "0     tensorflow/tensorflow    tensorflow   \n",
              "1     kubernetes/kubernetes    kubernetes   \n",
              "2  huggingface/transformers  transformers   \n",
              "3      microsoft/TypeScript    TypeScript   \n",
              "4       puppeteer/puppeteer     puppeteer   \n",
              "\n",
              "                                                                           description  \\\n",
              "0                               An Open Source Machine Learning Framework for Everyone   \n",
              "1                                 Production-Grade Container Scheduling and Management   \n",
              "2  🤗 Transformers: State-of-the-art Machine Learning for Pytorch, TensorFlow, and JAX.   \n",
              "3     TypeScript is a superset of JavaScript that compiles to clean JavaScript output.   \n",
              "4                                                          Headless Chrome Node.js API   \n",
              "\n",
              "                                                                                                                                                                                                                                                                                                                 topics  \\\n",
              "0                                                                                                                                                                                          ['deep-learning', 'deep-neural-networks', 'distributed', 'machine-learning', 'ml', 'neural-network', 'python', 'tensorflow']   \n",
              "1                                                                                                                                                                                                                                                                            ['cncf', 'containers', 'go', 'kubernetes']   \n",
              "2  ['bert', 'deep-learning', 'flax', 'hacktoberfest', 'jax', 'language-model', 'language-models', 'machine-learning', 'model-hub', 'natural-language-processing', 'nlp', 'nlp-library', 'pretrained-models', 'python', 'pytorch', 'pytorch-transformers', 'seq2seq', 'speech-recognition', 'tensorflow', 'transformer']   \n",
              "3                                                                                                                                                                                                                                                               ['javascript', 'language', 'typechecker', 'typescript']   \n",
              "4                                                                                                                                                                                                           ['automation', 'chrome', 'chromium', 'developer-tools', 'headless-chrome', 'node-module', 'testing', 'web']   \n",
              "\n",
              "     language  \\\n",
              "0         C++   \n",
              "1          Go   \n",
              "2      Python   \n",
              "3  TypeScript   \n",
              "4  TypeScript   \n",
              "\n",
              "                                                                                                                                                                                                                                                                               lang_name  \\\n",
              "0  ['C++', 'Python', 'MLIR', 'Starlark', 'HTML', 'Go', 'C', 'Java', 'Jupyter Notebook', 'Shell', 'Objective-C++', 'CMake', 'Objective-C', 'Smarty', 'Swift', 'Batchfile', 'SourcePawn', 'C#', 'Ruby', 'Perl', 'LLVM', 'Pawn', 'Dockerfile', 'Cython', 'Roff', 'Makefile', 'Vim Snippet']   \n",
              "1                                                                                                                                                                                     ['Go', 'Shell', 'PowerShell', 'Makefile', 'Dockerfile', 'Python', 'C', 'sed', 'Batchfile', 'HTML']   \n",
              "2                                                                                                                                                                                                 ['Python', 'Cuda', 'Shell', 'Dockerfile', 'C++', 'C', 'Cython', 'Makefile', 'Jsonnet']   \n",
              "3                                                                                                                                                                                                                                    ['TypeScript', 'JavaScript', 'Dockerfile', 'Shell']   \n",
              "4                                                                                                                                                                                                                     ['TypeScript', 'JavaScript', 'HTML', 'CSS', 'Dockerfile', 'Shell']   \n",
              "\n",
              "  license_name  \n",
              "0   Apache-2.0  \n",
              "1   Apache-2.0  \n",
              "2   Apache-2.0  \n",
              "3   Apache-2.0  \n",
              "4   Apache-2.0  "
            ],
            "text/html": [
              "\n",
              "  <div id=\"df-a7beb21d-9f12-4334-9e85-33ac295d209c\">\n",
              "    <div class=\"colab-df-container\">\n",
              "      <div>\n",
              "<style scoped>\n",
              "    .dataframe tbody tr th:only-of-type {\n",
              "        vertical-align: middle;\n",
              "    }\n",
              "\n",
              "    .dataframe tbody tr th {\n",
              "        vertical-align: top;\n",
              "    }\n",
              "\n",
              "    .dataframe thead th {\n",
              "        text-align: right;\n",
              "    }\n",
              "</style>\n",
              "<table border=\"1\" class=\"dataframe\">\n",
              "  <thead>\n",
              "    <tr style=\"text-align: right;\">\n",
              "      <th></th>\n",
              "      <th>full_name</th>\n",
              "      <th>name</th>\n",
              "      <th>description</th>\n",
              "      <th>topics</th>\n",
              "      <th>language</th>\n",
              "      <th>lang_name</th>\n",
              "      <th>license_name</th>\n",
              "    </tr>\n",
              "  </thead>\n",
              "  <tbody>\n",
              "    <tr>\n",
              "      <th>0</th>\n",
              "      <td>tensorflow/tensorflow</td>\n",
              "      <td>tensorflow</td>\n",
              "      <td>An Open Source Machine Learning Framework for Everyone</td>\n",
              "      <td>['deep-learning', 'deep-neural-networks', 'distributed', 'machine-learning', 'ml', 'neural-network', 'python', 'tensorflow']</td>\n",
              "      <td>C++</td>\n",
              "      <td>['C++', 'Python', 'MLIR', 'Starlark', 'HTML', 'Go', 'C', 'Java', 'Jupyter Notebook', 'Shell', 'Objective-C++', 'CMake', 'Objective-C', 'Smarty', 'Swift', 'Batchfile', 'SourcePawn', 'C#', 'Ruby', 'Perl', 'LLVM', 'Pawn', 'Dockerfile', 'Cython', 'Roff', 'Makefile', 'Vim Snippet']</td>\n",
              "      <td>Apache-2.0</td>\n",
              "    </tr>\n",
              "    <tr>\n",
              "      <th>1</th>\n",
              "      <td>kubernetes/kubernetes</td>\n",
              "      <td>kubernetes</td>\n",
              "      <td>Production-Grade Container Scheduling and Management</td>\n",
              "      <td>['cncf', 'containers', 'go', 'kubernetes']</td>\n",
              "      <td>Go</td>\n",
              "      <td>['Go', 'Shell', 'PowerShell', 'Makefile', 'Dockerfile', 'Python', 'C', 'sed', 'Batchfile', 'HTML']</td>\n",
              "      <td>Apache-2.0</td>\n",
              "    </tr>\n",
              "    <tr>\n",
              "      <th>2</th>\n",
              "      <td>huggingface/transformers</td>\n",
              "      <td>transformers</td>\n",
              "      <td>🤗 Transformers: State-of-the-art Machine Learning for Pytorch, TensorFlow, and JAX.</td>\n",
              "      <td>['bert', 'deep-learning', 'flax', 'hacktoberfest', 'jax', 'language-model', 'language-models', 'machine-learning', 'model-hub', 'natural-language-processing', 'nlp', 'nlp-library', 'pretrained-models', 'python', 'pytorch', 'pytorch-transformers', 'seq2seq', 'speech-recognition', 'tensorflow', 'transformer']</td>\n",
              "      <td>Python</td>\n",
              "      <td>['Python', 'Cuda', 'Shell', 'Dockerfile', 'C++', 'C', 'Cython', 'Makefile', 'Jsonnet']</td>\n",
              "      <td>Apache-2.0</td>\n",
              "    </tr>\n",
              "    <tr>\n",
              "      <th>3</th>\n",
              "      <td>microsoft/TypeScript</td>\n",
              "      <td>TypeScript</td>\n",
              "      <td>TypeScript is a superset of JavaScript that compiles to clean JavaScript output.</td>\n",
              "      <td>['javascript', 'language', 'typechecker', 'typescript']</td>\n",
              "      <td>TypeScript</td>\n",
              "      <td>['TypeScript', 'JavaScript', 'Dockerfile', 'Shell']</td>\n",
              "      <td>Apache-2.0</td>\n",
              "    </tr>\n",
              "    <tr>\n",
              "      <th>4</th>\n",
              "      <td>puppeteer/puppeteer</td>\n",
              "      <td>puppeteer</td>\n",
              "      <td>Headless Chrome Node.js API</td>\n",
              "      <td>['automation', 'chrome', 'chromium', 'developer-tools', 'headless-chrome', 'node-module', 'testing', 'web']</td>\n",
              "      <td>TypeScript</td>\n",
              "      <td>['TypeScript', 'JavaScript', 'HTML', 'CSS', 'Dockerfile', 'Shell']</td>\n",
              "      <td>Apache-2.0</td>\n",
              "    </tr>\n",
              "  </tbody>\n",
              "</table>\n",
              "</div>\n",
              "      <button class=\"colab-df-convert\" onclick=\"convertToInteractive('df-a7beb21d-9f12-4334-9e85-33ac295d209c')\"\n",
              "              title=\"Convert this dataframe to an interactive table.\"\n",
              "              style=\"display:none;\">\n",
              "        \n",
              "  <svg xmlns=\"http://www.w3.org/2000/svg\" height=\"24px\"viewBox=\"0 0 24 24\"\n",
              "       width=\"24px\">\n",
              "    <path d=\"M0 0h24v24H0V0z\" fill=\"none\"/>\n",
              "    <path d=\"M18.56 5.44l.94 2.06.94-2.06 2.06-.94-2.06-.94-.94-2.06-.94 2.06-2.06.94zm-11 1L8.5 8.5l.94-2.06 2.06-.94-2.06-.94L8.5 2.5l-.94 2.06-2.06.94zm10 10l.94 2.06.94-2.06 2.06-.94-2.06-.94-.94-2.06-.94 2.06-2.06.94z\"/><path d=\"M17.41 7.96l-1.37-1.37c-.4-.4-.92-.59-1.43-.59-.52 0-1.04.2-1.43.59L10.3 9.45l-7.72 7.72c-.78.78-.78 2.05 0 2.83L4 21.41c.39.39.9.59 1.41.59.51 0 1.02-.2 1.41-.59l7.78-7.78 2.81-2.81c.8-.78.8-2.07 0-2.86zM5.41 20L4 18.59l7.72-7.72 1.47 1.35L5.41 20z\"/>\n",
              "  </svg>\n",
              "      </button>\n",
              "      \n",
              "  <style>\n",
              "    .colab-df-container {\n",
              "      display:flex;\n",
              "      flex-wrap:wrap;\n",
              "      gap: 12px;\n",
              "    }\n",
              "\n",
              "    .colab-df-convert {\n",
              "      background-color: #E8F0FE;\n",
              "      border: none;\n",
              "      border-radius: 50%;\n",
              "      cursor: pointer;\n",
              "      display: none;\n",
              "      fill: #1967D2;\n",
              "      height: 32px;\n",
              "      padding: 0 0 0 0;\n",
              "      width: 32px;\n",
              "    }\n",
              "\n",
              "    .colab-df-convert:hover {\n",
              "      background-color: #E2EBFA;\n",
              "      box-shadow: 0px 1px 2px rgba(60, 64, 67, 0.3), 0px 1px 3px 1px rgba(60, 64, 67, 0.15);\n",
              "      fill: #174EA6;\n",
              "    }\n",
              "\n",
              "    [theme=dark] .colab-df-convert {\n",
              "      background-color: #3B4455;\n",
              "      fill: #D2E3FC;\n",
              "    }\n",
              "\n",
              "    [theme=dark] .colab-df-convert:hover {\n",
              "      background-color: #434B5C;\n",
              "      box-shadow: 0px 1px 3px 1px rgba(0, 0, 0, 0.15);\n",
              "      filter: drop-shadow(0px 1px 2px rgba(0, 0, 0, 0.3));\n",
              "      fill: #FFFFFF;\n",
              "    }\n",
              "  </style>\n",
              "\n",
              "      <script>\n",
              "        const buttonEl =\n",
              "          document.querySelector('#df-a7beb21d-9f12-4334-9e85-33ac295d209c button.colab-df-convert');\n",
              "        buttonEl.style.display =\n",
              "          google.colab.kernel.accessAllowed ? 'block' : 'none';\n",
              "\n",
              "        async function convertToInteractive(key) {\n",
              "          const element = document.querySelector('#df-a7beb21d-9f12-4334-9e85-33ac295d209c');\n",
              "          const dataTable =\n",
              "            await google.colab.kernel.invokeFunction('convertToInteractive',\n",
              "                                                     [key], {});\n",
              "          if (!dataTable) return;\n",
              "\n",
              "          const docLinkHtml = 'Like what you see? Visit the ' +\n",
              "            '<a target=\"_blank\" href=https://colab.research.google.com/notebooks/data_table.ipynb>data table notebook</a>'\n",
              "            + ' to learn more about interactive tables.';\n",
              "          element.innerHTML = '';\n",
              "          dataTable['output_type'] = 'display_data';\n",
              "          await google.colab.output.renderOutput(dataTable, element);\n",
              "          const docLink = document.createElement('div');\n",
              "          docLink.innerHTML = docLinkHtml;\n",
              "          element.appendChild(docLink);\n",
              "        }\n",
              "      </script>\n",
              "    </div>\n",
              "  </div>\n",
              "  "
            ]
          },
          "metadata": {}
        }
      ]
    },
    {
      "cell_type": "code",
      "source": [
        "#converting into list and replacing space by hyphen for each data\n",
        "repo_data['topics'] = repo_data['topics'].apply(lambda x: ast.literal_eval(x))\n",
        "repo_data['topics'] = repo_data['topics'].apply(lambda x: [i.replace(' ', '-') for i in x])\n",
        "\n",
        "\n",
        "repo_data['lang_name'] = repo_data['lang_name'].apply(lambda x: ast.literal_eval(x))\n",
        "repo_data['lang_name'] = repo_data['lang_name'].apply(lambda x: [i.replace(' ', '-') for i in x])\n",
        "\n",
        "repo_data['language'] = repo_data['language'].astype(str)\n",
        "repo_data['language'] = repo_data['language'].apply(lambda x: x.replace(' ', '-'))\n"
      ],
      "metadata": {
        "id": "QA-EiOt7zpAT"
      },
      "execution_count": 213,
      "outputs": []
    },
    {
      "cell_type": "code",
      "source": [
        "#Unique language set\n",
        "langs_tokens = repo_data[\"lang_name\"]\n",
        "lang_tokens_list = list()\n",
        "lang_tokens_set = set()\n",
        "for token in langs_tokens:\n",
        "  lang_tokens_list.append(token)\n",
        "  lang_tokens_set = lang_tokens_set.union(set(token))\n",
        "\n",
        "display(len(lang_tokens_list))\n",
        "display(len(lang_tokens_set))\n",
        "display(repo_data['language'].unique())"
      ],
      "metadata": {
        "colab": {
          "base_uri": "https://localhost:8080/",
          "height": 363
        },
        "id": "D8K0tX2Pljzk",
        "outputId": "a75d848e-73b6-4673-a35c-3fd2627aa349"
      },
      "execution_count": 214,
      "outputs": [
        {
          "output_type": "display_data",
          "data": {
            "text/plain": [
              "5325"
            ]
          },
          "metadata": {}
        },
        {
          "output_type": "display_data",
          "data": {
            "text/plain": [
              "372"
            ]
          },
          "metadata": {}
        },
        {
          "output_type": "display_data",
          "data": {
            "text/plain": [
              "array(['C++', 'Go', 'Python', 'TypeScript', 'C', 'Java', 'Rust',\n",
              "       'Dockerfile', 'nan', 'Kotlin', 'JavaScript', 'Shell', 'Scala',\n",
              "       'SCSS', 'Lua', 'HTML', 'Jupyter-Notebook', 'Swift', 'Elixir',\n",
              "       'Vue', 'Crystal', 'Makefile', 'Objective-C', 'Mustache', 'VimL',\n",
              "       'WebAssembly', 'Starlark', 'Groovy', 'Markdown', 'Dart', 'Jinja',\n",
              "       'PHP', 'Pascal', 'Ruby', 'Erlang', 'C#', 'PowerShell', 'Cython',\n",
              "       'CSS', 'Assembly', 'Svelte', 'Prolog', 'Scheme', 'Jsonnet',\n",
              "       'PLpgSQL', 'Handlebars', 'Vim-Script', 'Emacs-Lisp', 'Perl',\n",
              "       'Matlab', 'Nim', 'TeX', 'ASL', 'CMake', 'Factor', 'Haskell',\n",
              "       'YARA', 'MATLAB', 'CoffeeScript', 'Elm', 'Dhall', 'Odin',\n",
              "       'AppleScript', 'Batchfile', 'Vim-script', 'PostScript', 'Pawn',\n",
              "       'Verilog', 'Cuda', 'Solidity', 'SVG', 'DIGITAL-Command-Language',\n",
              "       'JSON', 'R', 'Clojure', 'Objective-C++', 'Vala', 'D', 'XSLT',\n",
              "       'Mercury', 'HLSL', 'Smali', 'Visual-Basic-.NET', 'AutoHotkey',\n",
              "       'Blade', 'OCaml', 'Haxe', 'Adblock-Filter-List', 'GAP', 'Zig',\n",
              "       'AutoIt', 'Reason', 'Inno-Setup', 'Nunjucks', 'Julia', 'V', 'Roff',\n",
              "       'Bicep', 'Nix', 'FreeMarker', 'HCL'], dtype=object)"
            ]
          },
          "metadata": {}
        }
      ]
    },
    {
      "cell_type": "code",
      "source": [
        "#Unique topic set\n",
        "topics_tokens = repo_data[\"topics\"]\n",
        "topics_tokens_list = list()\n",
        "topics_tokens_set = set()\n",
        "for token in topics_tokens:\n",
        "  topics_tokens_list.append(token)\n",
        "  topics_tokens_set = topics_tokens_set.union(set(token))\n",
        "\n",
        "display(len(topics_tokens_list))\n",
        "display(len(topics_tokens_set))"
      ],
      "metadata": {
        "colab": {
          "base_uri": "https://localhost:8080/",
          "height": 53
        },
        "id": "xjbUtUeLm8dd",
        "outputId": "1c957d80-1977-4f03-a060-e2f09b0efc5a"
      },
      "execution_count": 215,
      "outputs": [
        {
          "output_type": "display_data",
          "data": {
            "text/plain": [
              "5325"
            ]
          },
          "metadata": {}
        },
        {
          "output_type": "display_data",
          "data": {
            "text/plain": [
              "11567"
            ]
          },
          "metadata": {}
        }
      ]
    },
    {
      "cell_type": "code",
      "source": [
        "# Step 1: Tokenize the description field into individual words or tokens\n",
        "import re\n",
        "\n",
        "def tokenize_text(text):\n",
        "    # Return None if text is empty\n",
        "    if not text:\n",
        "        return []\n",
        "    if isinstance(text, float):\n",
        "      return []\n",
        "    if isinstance(text, int):\n",
        "      return []\n",
        "    # Use regex to tokenize the text\n",
        "    tokens = re.findall('\\w+', text.lower())\n",
        "    return tokens\n",
        "\n",
        "repo_data['description_tokens'] = repo_data['description'].apply(tokenize_text)\n",
        "repo_data['description_tokens'] "
      ],
      "metadata": {
        "colab": {
          "base_uri": "https://localhost:8080/"
        },
        "id": "Pp9ZvYUIjjM5",
        "outputId": "6937fba5-5ecb-4ed8-fa43-81959ca349f0"
      },
      "execution_count": 216,
      "outputs": [
        {
          "output_type": "execute_result",
          "data": {
            "text/plain": [
              "0                                    [an, open, source, machine, learning, framework, for, everyone]\n",
              "1                                        [production, grade, container, scheduling, and, management]\n",
              "2         [transformers, state, of, the, art, machine, learning, for, pytorch, tensorflow, and, jax]\n",
              "3       [typescript, is, a, superset, of, javascript, that, compiles, to, clean, javascript, output]\n",
              "4                                                                  [headless, chrome, node, js, api]\n",
              "                                                    ...                                             \n",
              "5320                                 [sets, up, terraform, cli, in, your, github, actions, workflow]\n",
              "5321                                                                                  [从零开始研究外挂设计原理]\n",
              "5322       [sqle, is, a, sql, audit, platform, sqle, 是一个支持多场景, 原生支持, mysql, 审核且数据库类型可扩展的, sql, 审核工具]\n",
              "5323                                                              [in, browser, literate, notebooks]\n",
              "5324                                              [automated, api, testing, and, quality, assurance]\n",
              "Name: description_tokens, Length: 5325, dtype: object"
            ]
          },
          "metadata": {},
          "execution_count": 216
        }
      ]
    },
    {
      "cell_type": "code",
      "source": [
        "# Step 2: Remove punctions and number from this\n",
        "import nltk\n",
        "nltk.download('stopwords')\n",
        "from langdetect import detect\n",
        "from nltk.corpus import stopwords\n",
        "import string\n",
        "punctuations = set(string.punctuation)\n",
        "stop_words = set(stopwords.words('english'))\n",
        "\n",
        "def remove_stopwords(tokens):\n",
        "    # Remove stop words from the token list\n",
        "    filtered_tokens = []\n",
        "    for token in tokens:\n",
        "        # Check if token is alphabetic, not a stop word, not a number or float, not a punctuation, and is ASCII\n",
        "        if token.isalpha() and token.lower() not in stop_words and not token.isdigit() and not token.replace('.','',1).isdigit() and token not in punctuations and token.isascii():\n",
        "            filtered_tokens.append(token)\n",
        "    return filtered_tokens\n",
        "\n",
        "\n",
        "repo_data['description_tokens'] = repo_data['description_tokens'].apply(remove_stopwords)\n",
        "repo_data['description_tokens']"
      ],
      "metadata": {
        "colab": {
          "base_uri": "https://localhost:8080/"
        },
        "id": "QG98CkIdkZ2V",
        "outputId": "2a09736a-eabe-4b9d-986a-9dedb9bdc086"
      },
      "execution_count": 217,
      "outputs": [
        {
          "output_type": "stream",
          "name": "stderr",
          "text": [
            "[nltk_data] Downloading package stopwords to /root/nltk_data...\n",
            "[nltk_data]   Package stopwords is already up-to-date!\n"
          ]
        },
        {
          "output_type": "execute_result",
          "data": {
            "text/plain": [
              "0                        [open, source, machine, learning, framework, everyone]\n",
              "1                        [production, grade, container, scheduling, management]\n",
              "2       [transformers, state, art, machine, learning, pytorch, tensorflow, jax]\n",
              "3       [typescript, superset, javascript, compiles, clean, javascript, output]\n",
              "4                                             [headless, chrome, node, js, api]\n",
              "                                         ...                                   \n",
              "5320                          [sets, terraform, cli, github, actions, workflow]\n",
              "5321                                                                         []\n",
              "5322                             [sqle, sql, audit, platform, sqle, mysql, sql]\n",
              "5323                                             [browser, literate, notebooks]\n",
              "5324                              [automated, api, testing, quality, assurance]\n",
              "Name: description_tokens, Length: 5325, dtype: object"
            ]
          },
          "metadata": {},
          "execution_count": 217
        }
      ]
    },
    {
      "cell_type": "code",
      "source": [
        "# Step 3: Retaining only language and topic tokens\n",
        "\n",
        "def remove_tokens_irrelevant(tokens):\n",
        "    filtered_tokens = []\n",
        "    for token in tokens:\n",
        "        if token in lang_tokens_set or token in topics_tokens_set:\n",
        "            filtered_tokens.append(token)\n",
        "    return filtered_tokens\n",
        "\n",
        "repo_data['description_tokens'] = repo_data['description_tokens'].apply(remove_tokens_irrelevant)\n",
        "repo_data['description_tokens']"
      ],
      "metadata": {
        "colab": {
          "base_uri": "https://localhost:8080/"
        },
        "id": "8DITKcnsCCHo",
        "outputId": "a7381b7d-8f37-468b-fb8d-f03c4cabbcb3"
      },
      "execution_count": 218,
      "outputs": [
        {
          "output_type": "execute_result",
          "data": {
            "text/plain": [
              "0                                  [open, source, machine, learning, framework]\n",
              "1                               [production, container, scheduling, management]\n",
              "2       [transformers, state, art, machine, learning, pytorch, tensorflow, jax]\n",
              "3                                [typescript, superset, javascript, javascript]\n",
              "4                                             [headless, chrome, node, js, api]\n",
              "                                         ...                                   \n",
              "5320                                [terraform, cli, github, actions, workflow]\n",
              "5321                                                                         []\n",
              "5322                                         [sql, audit, platform, mysql, sql]\n",
              "5323                                                       [browser, notebooks]\n",
              "5324                                                    [api, testing, quality]\n",
              "Name: description_tokens, Length: 5325, dtype: object"
            ]
          },
          "metadata": {},
          "execution_count": 218
        }
      ]
    },
    {
      "cell_type": "code",
      "source": [
        "# TESTING\n",
        "result = 'art' in lang_tokens_set\n",
        "result2 = 'art' in topics_tokens_set\n",
        "display(result)\n",
        "display(result2)\n",
        "print(topics_tokens_set)"
      ],
      "metadata": {
        "colab": {
          "base_uri": "https://localhost:8080/",
          "height": 92
        },
        "id": "mT7kbSE6Ey0R",
        "outputId": "450280b9-8f20-4fca-9f56-01b3fba45414"
      },
      "execution_count": 219,
      "outputs": [
        {
          "output_type": "display_data",
          "data": {
            "text/plain": [
              "False"
            ]
          },
          "metadata": {}
        },
        {
          "output_type": "display_data",
          "data": {
            "text/plain": [
              "True"
            ]
          },
          "metadata": {}
        },
        {
          "output_type": "stream",
          "name": "stdout",
          "text": [
            "{'envoy', 'embedded-kv', 'event-streaming', 'binding', 'butterknife', 'online-statistics', 'doujinshi', 'whatsapp-api', 'vmess', 'distributed-configuration', 'computational-science', 'learning-resources', 'logansquare', 'infection', 'prompt-engineering', 'bittorrent', 'webdataset-format', 'remote-management', 'raspberry-pi-4', 'zoom', 'monte-carlo', 'gcode', 'syntax-checker', 'vulnerability-scanner', 'opentype', 'confirmation-dialog', 'imports', 'game-engine-3d', 'minimalist', 'netdata', 'face-swap', 'cli-lovers', 'websocket-server', 'kotlin-utilities', 'cpplint', 'suse', 'android-interviews', 'rofi', 'pki', 'onlyfans', 'file-infector', 'performance-counters', 'leetcode-java', 'jackson', 'dataapp', 'compatibility', 'voice-support', 'blog-theme', 'alibaba', 'r2frida', 'swarm-mode', 'hd-map', 'task', 'ethereum-wallet', 'walkthrough', 'messenger', 'uml', 'free', 'assertions', '3d-models', 'social-networks', 'platform-samples', 'debugger-gdb', 'sanitize', 'fb2', 'clean-architecture', 'html5', 'tbox', 'json', 'buf-cli', 'yarn', 'pci-dss', 'warez', 'urlsession', 'atlas', 'nobyda', 'quality-svg-icons', 'writer', 'profile-management', 'spmd', 'ansible-devtools', 'data-transfer', 'squawk', 'reverseproxy', 'applied-data-science', 'altcoin', 'distributed-file-system', 'graph-framework', 'beeps', 'leaf', 'autocomplete', 'amr', 'bastion-host', 'gmp', 'asf', 'automatic', 'scala-programming-language', 'datetime', 'empire', 'menubar', 'rich-text', 'dictionary', 'recurrent-networks', 'skywalking', 'elk', 'lit-html', 'onedrive-personal', 'dataflow-programming', 'starcraft-ii-replays', 'web', 'xxh', 'email-checker', 'freedom', 'element-ui', 'credit-scoring', 'macbook-security', 'sse42', 'mocap', 'monitoring', 'jedec', 'visual-studio', 'graphviz', 'google-flutter', 'formik', 'hope', 'speech-separation', 'citizen-science', 'fecmall', 'zwave', 'prototype', 'model', 'shazam', 'notebooks', 'scalene', 'cmdb', 'triplet-network', 'backlog', 'datamatrix', 'troposphere', 'card-game', 'ple', 'iso-files', 'socks5-proxy', 'bbs-go', 'netflow', 'disease', 'clojurescript', 'anilist', 'spigot', 'bromite', 'toolkit', 'projects', 'gifs', 'wechat-tweak', 'pe-sieve', 'markdown-editor', 'presentation', 'aws-sdk', 'backend-framework', 'install', 'ilqr', 'libre', 'swagger-editor', 'postgresql-client', 'generators', 'x509', 'easylist', 'challenge', 'sensors', 'gsm', 'lts', 'executive-management', 'apktool', 'vcpkg', 'daterangepicker', 'django', 'obsidian', 'auditing', 'mac-osx', 'kubernetes-secrets', 'cmsis', 'ubuntu-touch', 'opengl-es', 'tiny', 'load', 'gitignore', 'imbalanced-data', 'geostatistics', 'vectorization', 'laminas-api-tools', 'calendar-view', 'forestdb', 'lede', 'sensor', 'db2', 'vmware', 'crm', 'design-assets', 'overlay-network', 'ombi', 'risk-contribution', 'ssh-tunnel', 'osquery', 'player', 'reordering', 'strings', 'edvr', 'document-management-system', 'small', 'rar', 'matlab2tikz', 'watcher', 'blazor-sample', 'ws2811', 'redox', 'svd', 'apng', 'bls', 'pikepdf', 'html', 'bottles', 'datatable', 'asset-discovery', 'testlink-alternative', 'buds-live', 'sha-224', 'work-from-home', 'radiuss', 'webhooks-server', 'athena', 'experiments', 'front-end-developer-tool', 'esp32-arduino', 'budget', 'algolia-api', 'lyft-envoy', 'v8-javascript-engine', 'vuejs2', 'vive', 'agent-based-simulation', 'stroke-parameters', 'diffing', 'sub', 'trading-strategy', 'saml2', 'bluetooth-le', 'cutter', 'web-attack', 'job-board', 'ade20k', 'wiring-diagram', 'druid', 'vio', 'computing', 'element-plus', 'metamask', 'distributed-storage', 'roles', 'icejs', 'gyroscope', 'text-search', 'maxflow', 'autojs', 'battery', 'fontawesome', 'uav', 'visual-tracking', 'iclass', 'match', 'haskell-ide', 'jupyter-notebook-kernel', 'frp', 'crates', 'epic', 'host-metrics', 'alpine', 'qiangguo', 'generative-adversarial-network', 'user-profile', 'contributions-welcome', 'invoice-template', 'jss', 'eosio', 'xss-attacks', 'awsome-profile', 'rolling-shutter-undistortion', 'proton', 'softethervpn', 'cortex-a', 'certificate', 'investment', 'ios-development', 'wifi-password', 'openidconnect', 'page-builder', 'saltstack', 'dragging', 'yeoman', 'codepath', 'better-performance', 'mod', 'lerna', 'xamarin', 'product-design', 'debotnet', 'dart-build-system', 'rshiny', 'substrate', 'typora-theme', 'self-driving', 'code-free', 'dokku', 'virtualdom', 'complex-numbers', 'uvicorn', 'containers', 'argo', 'tutanota', 'toggles', 'attack-defense', 'mangareader', 'knowledge-sharing', 'nat', 'secure', 'acrylic', 'aarch64', 'awesome-ssh', 'handlebars-js', 'android-image-picker', 'activity-stream', 'casbin', 'scrapyd-cluster-management', 'vue3-composition-api', 'pcap-files', 'gowitness', 'hit', 'whatsapp-web-api', 'angular2-toaster', 'intel', 'excelize', 'tui', 'cshake', 'windows-terminal', 'service-workers', 'weather-app', 'rfc-6901', 'red-teaming', 'libretro', 'react-native-template', 'navigation', 'vertex-shaders', 'xai', 'rxjs', 'javascript-modules', 'accelerator', 'mesh-generation', 'faas', 'cartoon', 'openseeface', 'geospatial-analysis', 'gbdt', 'esl', 'novels', 'assertion-library', 'indexeddb', 'kubernetes-resources', 'denial-of-service', 'shelljs', 'fnlp', 'distributed-locks', 'pulseaudio', 'calendaring', 'mushroom', 'vuetify', 'mobilenet-v2', 'ecs', 'container-management', 'attack-prevention', 'ufw', 'makefile', 'cookiecutter-template', 'live-wallpaper', 'photo-restoration', 'motion-retargeting', 'debug-adapter-protocol', 'word-embeddings', 'latency', '3d-scanning', 'baidu-image', 'verifiable-computation', 'headless-ecommerce', 'terminals', 'netspeed', 'vecty', 'import-export', 'luci-app-clash', 'javascript-algorithms', 'ebpf-go', 'useful', 'disabilty', 'hledger', 'mindustry', 'visio', 'topological-data-analysis', 'abroad', 'voice', 'hacking-series', 'comics-reader', 'internet-gateway', 'aws-sqs', 'mdn-docs', 'study-guide', 'subprotocol', 'vuls', 'requirements', 'tasmota', 'razor-components', 'threatfox', 'instagram-api', 'rts', 'devise', 'key-value-store', 'vala', 'markdown-to-html', 'jpa', 'web3', 'billion-parameters', 'no-dependencies', 'tor', 'keyboard-manager', 'privacy-policy', 'libresoftware', 'textasdata', 'caf', 'loading-bar', 'ci', 'tuya', 'wordpress-plugin', 'speaker-encoder', 'works-with-reason', 'socket', 'theos', 'graph-representation-learning', 'type-system', 'gamedev', 'ebitengine', 'spinnaker', 'language-server', 'livereload', 'touchpad', 'naive-bayes', 'matter', 'reachability', 'ast', 'pretrained', 'lean-lede-openwrt', 'disk-usage', 'gdb-extension', 'clipboard', 'exploratory-data-analysis', 'androidstudio-plugin', 'attention-mechanism', 'conferences', 'dag', 'cleanup', 'xbox360-controller', 'confidentiality', 'finance', 'dialog', 'pytorch-nlp', 'webtorrent', 'reinforcement-learning', 'excel', 'fairmot', 'bart', 'emulation', 'zeek', 'idioms', 'boot-raspberry-pi', 'wlroots', 'zsh', 'android-tutorial', 'burst', 'time-tracker', 'mediaplayer', 'hex-editor', 'selenium-webdriver', 'scripting', '0day', 'av1', 'decision-tree-learning', 'pygad-documentation', 'country-codes', 'mpvue', 'remote-sensing', 'ng2', 'computer-science', 'analyzer', 'passwords', 'multimodal', 'flutter-widget', 'bootstrap5', 'admin-ui', 'win32', 'kong', 'maxim-xyz', 'ddos-protection', 'training', 'ipfix', 'database-administration', 'jpeg', 'nestjs', 'rxdart', 'gitleaks', 'strongsort', 'hybrid-search', 'plugin-system', 'saml-sso-url', 'snackbar', 'esl-cn', 'prefetcher', 'inline-css', 'readme-bolierplate', 'memcached-clients', 'public-key-pinning', 'deep-learning-library', 'premake', 'terms-of-service', 'indie', 'building-tool', 'ultisnips', 'symbol', 'executor', 'plants', 'resumable', 'tech-interviews', 'tooling', 'typescript-library', 'onedrive', 'cryptography', 'content', 'tailscale-server', 'deep-graph-kernels', 'expectation', 'multiple-machines', 'stl-containers', 'akaunting', 'swiftnio', 'retail', 'excelwriter', 'timezones', 'marketing-analytics', 'genomics', 'minimalist-frameworks', 'multi-tenancy', 'svg', 'oom', 'file-search', 'keyboard-shortcuts', 'polyglot', 'enterprise', 'trigger-happy', 'pinboard', 'deepinterestevolutionnetwork', 'circuits', 'conbee', 'yubikey', 'wrk', 'unconstrained-situation', 'pitr', 'cozo', 'visualstudio', 'openra', 'tensorboard', 'openoffice', 'realtime-database', 'wsl', 'cpp-primer', 'files', 'timelord', 'automatic-api', 'keepachangelog', 'modern-browsers', 'mega', 'docker-environment', 'wavenet', 'keeloq', 'iconset', 'energy-data', 'go-library', 'editing', 'system-verilog', 'buildpack', 'workspace', 'freerdp', 'wasapi', 'open-science', 'pipeline-parallelism', 'anaconda', 'fydeos', 'h5', 'wire', 'dronekit', 'nuclei-engine', 'json-rpc', 'kryo', 'io-visor', 'svg-icon', 'laravel-5-package', 'vben', 'testcase', 'redacted', 'stock-market', 'oracle-db', 'gson', 'animated-gifs', 'srt', 'google-cloud-storage', 'ladspa', 'access-point', 'recursively-search', 'graphic-packs', 'web-analytics', 'character-animation', 'ipfs-gateway', 'ods', 'cqrs', 'commit', 'matrix-org', 'docker-engine-api', 'es7', 'event-sourcing', 'intranet', 'usb-drives', 'dapp', 'online-machine-learning', 'merge-request', 'fakeapp', 'webm', 'keyboard-shortcut', 'python37', 'economics', 'firefox-tweaks', 'elasticsearch', 'web-file-storage', 'wxapp', 'gists', 'mips', 'mezzio', 'acl', 'flashcards', 'ios-ui', 'mkv', 'client-side-rendering', 'geforce-experience', 'notification-service', 'coremltools', 'xaml', 'oop', 'msfvenom', 'docker-registry', 'engineering', 'skeleton-screen', 'cereal', 'estree', 'human-activity-recognition', 'proof-of-waste', 'vue-composition-api', 'apache-kafka', 'deepinterestnetwork', 'botsapp', 'mesh-editing', 'npm', 'qt6', 'information-retrieval', 'scp', 'page-factory', 'adversary-simulation', 'fcp', 'ftrl', 'linkerd', 'perceptual-similarity', 'json-parser', 'universum', 'compressing-folders', 'hg', 'machine-learning-from-scratch', 'extension', 'pick-files', 'stm32', 'spaceship', 'red-alert', 'pitch', 'corvus', 'ticketing', 'gdb-frontend', 'transmogrify', 'mobile-deep-learning', 'd2l', 'zoomable', 'its-mine', 'pmmp', 'xmpp-client', 'symbolication', 'cs229', 'turbopack', 'libsodium', 'energy', 'winobj', 'etree', 'bastion', 'id3v1', 'prisma1', 'offline-capable', 'cli-game', 'wxapi', 'threading', 'yadm', 'flat-icons', 'session-replay', 'rich-presence', 'pe2shellcode', 'chrome-devtools', 'portableapps', 'remote-work', 'live-reload', 'vectors-trained', 'reducer', 'bootstrap3', 'dataloader', 'flutter-package', 'gdb-gui', 'engine', 'goquery', 'nvimrc', 'rts-engine', 'multicloud', 'heroic-games-launcher', 'web-application', 'pict', 'bcc', 'pnpm', 'annotation', 'ironmq-backend', 'powerful-data-pipelines', 'vulnerabilities-scan', 'developers', 'blesh', 'standwithukraine', 'remark', 'lambda-expressions', 'creditcard', 'visual-studio-code', 'sha-2', 'shadowsocks-rust', 'frps-onekey', 'pocket', 'zab', 'mpris', 'receipt', 'icc', 'data-ops', 'mini', 'parameter-estimation', 'game-jam', 'commitizen-adapter', 'boundingbox', 'parsing', 'netlsd', 'macos-big-sur', 'nginx-chinese', 'l2tp', 'infosec', 'custom-metaboxes', 'onepage', 'rest-api', 'app-builder', 'methodology', 'tiff', 'search-in-text', 'pixiv-downloader', 'psappdeploytoolkit', 'display', 'nerd-fonts', 'dns64', 'policy', 'activitywatch', 'testlink', 'lwjgl', 'code', 'tkinter-python', 'cisa', 'sass', 'database-documentation', 'uploader', 'generative-search', 'phalcon', 'learn', 'samsung', 'bounty', 'limesdr', 'jrnl', 'rofi-theme', 'rslidar', 'website-monitoring', 'gqrx', 'virtual', 'zettlr', 'docker-image', 'album-downloader', 'debloater', 'ddos-attacks', 'frontend-framework', 'opencv', 'code-editor', 'config-management', 'convolutional-layers', 'tensorflow', 'rpi4', 'serial', 'hacktoberfest-2022', 'pynq', 'tls-proxy', 'ash', 'python2', 'network-library', 'gbm', 'chatbots-framework', 'grab', 'tty', 'commonmark-parsing', 'webkit', 'evasion', 'action', 'rfid', 'import', 'programmer', 'fraud', 'mocks', 'gradio-interface', 'merchandising', 'fuse', 'fastlane', 'soldering', 'reactive-programming', 'eisvogel', 'prometheus', 'electrocorticography', 'attention', 'mobile-database', 'wire-protocol-rgb', 'dimensionality-reduction', 'classification-trees', 'web-crawler', 'flutter-favorite', 'userchrome-styles', 'azure-cli', 'nginx-module', 'financial-analysis', 'tesseract', 'android-pie', 'map', 'subdomains-enumeration', 'puppet', 'mapper', 'assistant', 'sunshine', 'uie', 'production', 'parallax-effect', 'dual-path-networks', 'jetcache', 'customization', 'jax', 'subdomain-crawler', 'cart', 'maintainability', 'q', 'tsapi', 'testing-antivirus', 'hotp', 'yolox', 'database-versioning', 'zero-knowledge', 'elvish', 'open-shading-language', 'auv3-plugin', 'text-based', 'blake2b', 'runtime-permission', 'dotnet7', 'ui', 'climate-data', 'tinycore', 'structs', 'autofac', 'librespeed', 'progress-bar-python', 'network-server', 'opendevops', 'goka', 'illust', 'encrypt-secrets', 'spring-boot-admin', 'archinstall', 'dropwizard', 'json-pointer', 'discord-rich-presence', 'material-components', 'glpi', 'identity', 'android-tests', 'documentation-generator', 'knx', 'nightwatchjs', 'asmjs', 'bytecode-viewer', 'database-management', 'usb', 'tuning', 'sk6812', 'upyun', 'postgrest', 'zsh-prompt', 'productivity-tools', 'wsdl-to-go', 't3-stack', 'ocr', 'postman', 'dkim', 'checklist', 'packet-processing', 'autoencoder', 'pickerview', 'explorer', 'giant-robots', 'addresses', 'anti-virus', 'bluetooth-low-energy', 'polybar-scripts', 'gfwlist', 'interview-test', 'tips-and-tricks', 'data', 'awesomewm', 'rv32i', 'deobfuscation', 'pyone', 'yosys', 'wsdl', 'network-capture', 'hadoop', 'lnmp', 'nginx-proxy', 'model-converter', 'dns-over-quic', 'grep-search', 'bookreader', 'libvpx', 'video-inference-loop', 'apache-airflow', 'zeromq', 'sphinx-doc', 'json-merge-patch', 'tview', 'postcss-plugins', 'gis', 'cross-platform-gui', 'bspwm', 'control-panel', 'consul', 'massdns', 'jetpack-android', 'rfc-8259', 'notebook-jupyter', 'efficient-implementations', 'piano', 'dotfiles', 'pp-yolo', 'php-environment', 'apple-weather-app', 'qqlogin', 'htmlparser', 'python-gui', 'riot', 'cms-framework', 'title', 'angular2-library', 'decision-trees', 'branding', 'cc0', 'printer', 'basket', 'microsoft-blazor', 'macbook-configuration', 'keyframes', 'gantt', 'node-framework', 'coroutine', 'knn-classification', 'dapper', 'project', 'xmpp', 'geometry', 'jakt', 'monero', 'reverse-engineering', 'awesome-intelligence', 'nylas-mail', 'prefect', 'simd-intrinsics', 'bifpn', 'windowing', 'chaos', 'git-ftp', 'ipkvm', 'bypass-av', 'prose', 'docker-osx', 'de', 'ramda', 'wsdl-to-golang', 'connectors', 'censorship-circumvention', 'image-viewer', 'wifi-adapter', 'product-management', 'block', 'code-push', 'cables', 'pacman', 'coreutils', 'chinese-translation', 'ant-design', 'opinionated', 'wps', 'audio-player', 'screen-keyboard', 'c-plus-plus', 'itam', 'nintendo-nes', 'embedded-rust', 'docker-devops', 'aws-apigateway', 'lemon', 'make', 'uninstall', 'tcp-proxy', 'pushplus', 'neurips-2020', 'maptalks', 'certificate-pinning', 'visual-studio-extension', 'dba', 'ascii-chart', 'ssd-model', 'crowdin', 'nat-pmp', 'https-server', 'hydroponic', 'infrastructure-management', 'etl', 'footprinting', 'wpa2', 'seattle', 'fprime', 'technical-analysis', 'dex2jar', 'best-practice', 'deep-links', 'stringify', 'npm-package', 'geotools', 'android-app', 'leech', 'tour', 'memory-leak-detection', 'programsynthesis', 'ts80', 'starboard', 'deep', 'nvim-treesitter', 'free-software', 'kvm-hypervisor', 'tensorflow2', 'basic-java', 'fullcone', 'gplv3', 'msgpack', 'publicsuffixlist', 'pyttsx', 'oauth2-provider', 'video-editing', 'launcher', 'agile-architecture', 'coercion', 'file-browser', 'twe', 'casting', 'glslviewer', 'c-plus-plus-20', 'fast-fourier-transform', 'md5', 'companies', 'http', 'esmodules', 'icns', 'cyclomatic-complexity', 'text-effects', 'cpython-extensions', 'ai-art', 'machinelearning-python', 'aspnet', 'aws-lambda', 'panel', 'assembly-language-programming', 'image-manipulation', 'alerting', 'data-quality', 'xss-exploit', 'location-services', 'openshift', 'aqours', 'winlogon', 'python-web', 'zstandard', 'platypus', 'vault-ui', 'bootstrap', 'iot-analytics', 'tsv', 'ota', 'bnb', 'schema-validation', 'coffeescript', 'autocompletion', 'cjdns', 'ane', 'performance-cpu', 'harmony-protocol', 'data-version-control', 'flutter-app', 'windows10', 'pptx', 'presentations', 'wget', 'edge-extension', 'android-studio', 'fileless', 'controls', 'react-applications', 'smtp-server', 'homeserver', 'faiss', 'live', 'verilog', 'incremental', 'visual-studio-code-extension', 'gr-gsm', 'totp', 'aiohttp', 'stem-education', 'time', 'ip-location', 'class-based', 'kv-cache', 'hyperscript', 'human-resource-managment', 'raspberry-pi-3b', 'face-recognition', 'datamapper', 'pornography', 'compilation-database', 'automated-feature-engineering', 'amiibo', 'statecharts', 'speed', 'ultrasonic', 'database-version-control', 'cdk', 'wechat-pay', 'file-upload', 'simd-vector', 'document-database', 'gtk3', 'opaque', 'thinking-in-java', 'docs', 'solidjs', 'gofmt', 'solidity', 'offensive-countermeasures', 'cryptocurrency-ticker', 'svg-files', 'todo-list', 'vt100', 'wtfutil', 'qtile', 'apache-spark', 'restock', 'oversubscription', 'classdump', 'speedtest', 'boron', 'pcm', 'socks', 'theme-switch', 'mersenne-twister', 'soldering-irons', 'csv-viewer', 'code-search', 'json-xml', 'bark', 'google-cloud-functions', 'sponsor', 'loon', 'virtualenv', 'playground', 'kext', 'linux-bpf-superpowers', 'alpine-linux', 'browser-bookmarks', 'keyword', 'tracking', 'porn-filter', 'eigenvectors', 'e-commerce', 'anonymity', 'generative', 'mst', 'provisioning', 'addons-mozilla-org', 'html5-canvas', 'spacevim', 'redis-cli', 'dlang', 'subnet-calculator', 'dateutil', 'oatpp', 'date', 'school-grading-system', 'pass-the-hash', 'render', 'pjax', 'agile', 'bert-as-service', 'javascript-compiler', 'text2image', 'testing-tools', 'offline-data', 'explainability', 'owasp-tests', 'ankidroid', 'messagepack', 'quotations', 'posix-compliant-flags', 'on-device', 'regular-expressions', 'led-controlling', 'opensubsonic', 'cve-2020-2883', 'potential-energy', 'eye-candy', 'magic', 'form-validation', 'lowcode', 'system-metrics', 'tweetdeck', 'dns-library', 'forex', 'visual-question-anwsering', 'calendar-component', 'contributions', 'icon-theme', 'xcode', 'subsonic', 'dashbord', 'mirror-bot', 'ethicalhacking', 'javascript-applications', 'build-with-matter', 'gradle', 'hmr', 'ndis', 'memory-leak-finder', 'distributed-systems', 'v2rayng', 'synthesis', 'sherlock', 'loam-velodyne', 'gradient-boosting', 'pe-analyzer', 'network-visualization', 'browser-ide', 'fp', 'hiddify', 'line-editor', 'vim-distribution', 'generative-music', 'powder', 'directwrite', 'jersey-framework', 'bulk-actions', 'onedrive-client', 'fast-augmentations', 'stock-price-prediction', 'dirscanner', 'microblaze', 'coreaudio', 'rtl-sdr', 'nix', 'explanatory-math-videos', 'convolutional-neural-network', 'buck', 'wayland-compositor', 'douban', 'environment-variables', 'digialocean', 'goroutine', 'webextensions-apis', 'inbox', 'zeppelin', 'pid', 'macosx', 'scheme', 'rigid-bodies', 'dart-package', 'simcity-2000', 'objc-runtime', 'bilibili', 'harmony', 'eval', 'carrousel', 'file', 'graphql-relay', 'openid-connect', 'polygon', 'sql-editor', 'application-bundle', 'segmentfault', 'starter-kit', 'osint', 'html-questions', 'imbalanced-classification', 'graphql-schema', 'literal', 'gaana-downloader', 'snowflakedb', 'upscaling', 'u01ag066833', 'net6', 'ls', 'gocui', 'visual-programming', 'astrophysics', 'wiredtiger', 'amd', 'spring-boot', 'adaptive-streaming', 'github-profile', 'position', 'xenon', 'components-library', 'trading-bot', 'parse-server', 'teachers', 'template-language', 'ros2', 'bayesian-statistics', 'wizard', 'gradients', 'libarchive', 'dry-python', 'guido-van-robot', 'math-physics', 'recyclerview-adapter', 'public-api', 'oni', 'anomaly', 'perfect', 'pixiv', 'tradytics', 'css-framework', 'web-scraping', 'pytorch-tutorial', 'wss', 'babel', 'ionicons', 'ingress-controller', 'live-programming', 'xbar', 'machine-learning-algorithms', 'less', 'spacex-api', 'rust-crate', 'axure', 'single-page-applications', 'machine-learning-operations', 'mp3-decoder', 'clean-energy', 'roam', 'agi', 'detext-framework', 'raspberry-pi-camera', 'single-header-lib', 'pytorch', 'redgate', 'lab', 'gfm', 'android-interview', 'sentence-encoder', 'db', 'multi-selector', 'lookup', 'magnet-link', 'reduceright', 'blas', 'coredata', 'pyav', 'libzmq', 'presets', 'naive-bayes-classifier', 'hosts', 'distributed-representations', 'update-checker', 'sequencer', 'jupyter-notebook', 'leetcode-solutions', 'laravel', 'rdkit', 'webassembly', 'collaborative-editing', 'weapp', 'code-generation', 'angularjs', 'personal-assistant', 'requests', 'minio', 'turborepo', 'erpnext', 'libnfc', 'wordpress-laravel', 'embedded', 'session', 'sublime-text', 'input', 'playlist-downloader', 'tracebacks-rich', 'helm-charts', 'lapack', 'invoicing', 'secfigo', 'shell-script', 'learning-agents', 'objective-c', 'nano-33-ble', 'high-availability', 'lstm-sequence', 'class-imbalance', 'ipmi', 'bilibili-live', 'asciigraph', 'l2tpv3', 'animated', 'real-time', 'masscan', 'technical-computing', 'travis', 'file-explorer', 'cryptocurrency-icons', 'videocall', 'sms', 'reminder', 'google-play-music', 'viewing-photos', 'mgba', 'bugtracker', 'git-porcelain', 'swift', 'docset', 'cnn', 'spiders-management', 'remote-desktop', 'json-serialization', 'entity-framework', 'pyqt', 'awesome-wasm', 'tkinter-graphic-interface', 'packet-loss', 'rules', 'slack-api', 'graphics-3d', 'tim', 'matplotlib', 'maven', 'quality', 'adversarial-attacks', 'replacements-icons', 'powder-toy', 'webfonts', 'speex', 'curve25519', 'mobile-game', 'antiforensics', 'thrift', 'beginner-friendly', 'uri-parser', 'penetration-testing-tools', 'linux-enumeration', 'graph', 'language-models', 'training-materials', 'hackrf', 'real-time-rendering', 'uid', 'alluxio', 'fraud-checker', 'ec2', 'password-store', 'network-security', 'litehtml', 'sci-fi-gui', 'awesome-go', 'generative-design', 'hypothesis', 'readme-profile', 'software-architecture', 'inject', 'permission', 'bugbounty-tools', 'deepnet', 'unifi', 'tcc-transaction', 'administrator', 'electron', 'fan', 'es6', 'metrics-library', 'appbar', 'gumbo-parser', 'pretrained-language-model', 'covid19', 'vue-ui', 'dat-node', 'yyets', 'download-music', 'bpmn-engine', 'fhir', 'evolutionary-algorithms', 'deep-learning-algorithms', 'laravel-telegram', 'scrolling', 'architectural-styles', 'conformer', 'painless-javascript-testing', 'streaming-services', 'cmd', 'background', 'chalk', 'grammar', 'ase', 'twitchtv', 'yolov8', 'aouth2', 'mongodb-database', 'ux-design', 'powerlevel9k', 'ledger', 'maki', 'scalable-video-conferences', 'decentralized-application', 'portfolio-management', 'steam-link', 'technology-analysis', 'log-parsing', 'expenses', 'merlin', 'web-framework', 'image-picker', 'reader', 'systems', 'distributed-tracing', 'gpt-3', 'organisation', 'timestamp', 'extensions', 'website-builder', 'cdktf', 'unity-editor', 'dependency-manager', 'chart', 'impact-analysis', 'vue-template', 'enterprise-ethereum', 'leak-canary', 'tiling', 'data-catalog', 'netstandard', 'job-challenge', 'subword-models', 'satellite-data', 'wep', 'reverberation', 'vulkan-api', 'systemc', 'vue2', 'detection-library', 'datajournalism', 'digital-image-forensics', 'openvdb-development', 'arduino-library', 'cpp-tutorial', 'magit', 'gophers', 'umi-hooks', 'dotnetcore', 'change-data-capture', 'umap', 'delta-lake', 'web-components', 'state-tree', 'popupmenu', 'remote-execution', 'arxiv', 'spring-webflow', 'keypoint-detection', 'backups', 'pyqt5-desktop-application', 'serializer', 'feature', 'opt', 'nativebase', 'policies', 'orm', 'nodejs-framework', 'edgedb', 'qtwebengine', 'recommendations', 'open-source', 'terminal-graphics', 'rolling-codes', 'apple-watch', 'foreman', 'learning-embeddings', 'av1-encoder', 'appintro', 'cryptocurrencies', 'terminal-game', 'gssoc22', 'pixhawk', 'community-driven', 'funcube-dongle', 'ml-cheatsheet', 'moonlight', 'infrasructure', 'no-jquery', 'couchpotato', 'bus-driver', 'binance', 'expressjs', 'flexible-body', 'xlsxreader', 'visual-center', 'csseky', 'luban', 'detection', 'lwm2m', 'anonymous', 'threadlocal', 'shodan', 'crossdomainxml', 'wechat', 'large-images', 'injector', 'acme-client', 'read-articles', 'smarthome', 'acid', 'oauth-client', 'win32api', 'oauth', 'music-player', 'parser-generator', 'graphiql', 't-pot', 'collaboration', 'timepicker', 'processor', 'live-streaming', 'pattern', 'neovim-guis', 'spring-cloud-alibaba', 'relocation', 'swissarmyknife', 'jailbreak', 'penetrationtesting', 'oss-fuzz', 'cluster-management', 'state', 'u2f-server', 'key-generator', 'phishing-pages', 'medical-records', 'retrofit', 'kafka-client', 'alipay', 'als', 'chrome-browser', 'peer-to-peer', 'distributed-lock', 'url-shortener', 'database', 'factorization-machines', 'lv2-plugin', 'berkeley', 'cwe', 'dialogue', 'activejob', 'fingerprint', 'datetime-picker', 'bicycle', 'libnice', 'better-chat-gpt', 'voice-conversion', 'php-backdoor', 'mongo', 'ramen', 'kgdb', 'macros', 'arq', 'unity2d', 'pwa', 'image-gallery', 'laradock', 'phishing-servers', 'sni', 'phaser', 'cas', 'neoway', 'statistics-images', 'firefox-addon', 'kubernetes-ingress', 'colorization', 'openid-connect-provider', 'fragment', 'kubeflow', 'vue-plugin', 'smartqq', 'full-node', 'reactioncommerce', 'ceph', 'image-capture', 'bandcamp', 'rest-framework', 'json-parsing-swift', 'sve', 'sqlite3', 'mitmproxy', 'tigergraph', 'groundwater', 'hyperparameter-optimization', 'iros', 'selfoss', 'ddos-ripper', 'proxy', 'graphistry', 'emby', 'dsym', 'arch-linux-installation', 'pantheon', 'dao', 'headless-commerce', 'difference', 'forum', 'image-restoration', 'microsoft-powertoys', 'zulip', 'root-ca', 'serviceworkers', 'datascienceproject', 'relation-extraction', 'sponsored-segments', 'multithreading', 'discord-py', 'aperture', 'configuration-files', 'ctfs', 'javascript-libraries', 'gazebo-simulator', 'erasure-coding', 'natural-language-understanding', 'evergreen', 'stuff', 'msdos', 'unidirectional', 'abandoned', 'redux-middleware', 'dioutil', 'prosemirror', 'zap-development', 'evnsq', 'admin-on-rest', 'vulnerability-assessment', 'picacomic', 'hdfs', 'fontconfig', 'adversarial-learning', 'msedge', 'markup', 'holo', 'buttercup', 'chinese-simplified', 'lavfilters', 'configuration-language', 'linear-regression', 'signal-processing', 'pi-kvm', 'ehviewer', 'knowledge', 'terraform-cost-estimation', 'heap-profile', 'pkm', 'workflow-orchestration', 'upsampling', 'persistor', 'xem', 'conventional-commits', 'swaywm', 'psadt', 'computer-systems', 'slim', 'getstream', 'visual-studio-code-theme', 'conference-videos', 'infrastructure-as-a-code', 'cve-2021-26855', 'selector', 'kotlin-coroutines', 'anime-upscaling', 'load-test', 'ponyc', 'dream-machine', 'fulltext-search', 'intellij-plugin', 'hacktoberfest2020', 'encoder', 'point-of-sale', 'waveform', 'linux-gaming', 'adminlte', 'clashmeta', 'expressive', 'dotfiles-linux', 'onenote-addin', 'django-braces', 'headlessui', 'electronjs', 'mybatis', 'bookmarks', 'asciicast', 'ensemble-learning', 'fatml', 'cura', 'kubernetes-access', 'node-metrics', 'chromecast', 'antlr', 'csdn', 'cognito', 'azure-resource-manager', 'time-series-clustering', 'zero-copy', 'chromium-os', 'cub', 'dotfiles-automation', 'unicode-characters', 'php-container', 'python3-only', 'spoken-language-understanding', 'hap', 'buf-schema-registry', 'nessus', 'interview-prep', 'book', 'docker-setup', 'slide', 'multiplexer', 'configuration-loader', 'code-style', 'equality', 'rarbg', 'automation-test', 'sentry-client', 'monitoring-service', 'yolo', 'iscroll', 'simcity', 'dpi', 'tornado', 'geometric-deep-learning', 'tvos', 'vax', 'smali', 'image-forensics', 'fastgit', 'stackedit', 'material-theme', 'web-development', 'rtl', 'rfid-tags', 'semantic-segmentation', 'feign-client', 'siamese-network', 'flight-controller', 'batch', 'program-analysis', 'swipeback', 'tinyfilemanager', 'wpa-wpa2-wpa3', 'adventure-game', 'messenger-platform', 'daisyui', 'material-design-lite', 'prettier', 'face-landmarks', 'rich-text-html-editor', 'shop', 'rspamd', 'emscripten', 'build-automation', 'wallpaper-changer', 'openfaceswap', 'techniques', 'colour-space', 'dislikes', 'cli', 'iiif', 'microcontroller', 'arms', 'minecraft', 'ux-experience', 'physics-simulation', 'multiple-shooting', 'kotlin-multiplatform', 'button', 'tv-launcher', 'initialization', 'video-recording', 'renewable-energy', 'angular9', 'typingspeedtest', 'wavpack', 'hackathon', 'openupm', 'text-embeddings', 'cyberchef-magic', 'pine64', 'sql-server', 'turtle', 'serving', 'datasets', 'spatial-analysis', '8-bit', 'efficientnet-pytorch', 'codec', 'privilege-escalation-exploits', 'cheat', 'svprogresshud', 'keybase', 'css3', 'chain-methods', 'circuit-breaker', 'rov', 'collaborative-filtering', 'lammps', 'computational-chemistry', 'copter', 'xuexiqiangguo', 'nightmode', 'react-images', 'pdp-1', 'secret-distribution', 'bioinformatics', 'civilization-v', 'windows', 'sgd', 'tomcat', 'gnu-coreutils', 'time-series-classification', 'textual', 'recovery', 'location', 'vulnerability', 'constraints', 'minikube', 'supercollider', 'wiiu', 'jwt-claims', 'tasks', 'openmvg', 'ruby-advisory-db', 'osrm', 'neofetch', 'trading-strategies', 'android-webview', 'z-wave', 'article', 'design-pattern', 'keda', 'sloth', 'blink', 'robots-txt', 'testing-practices', 'xss', 'openlayers', 'mail', 'vim-keybindings', 'mesh-simplification', 'weixin-plugin', 'stocks-app', 'pentesting-windows', 'shell-scripts', 'rpi', 'sharing', 'block-storage', 'xml', 'mxnet', 'bugbounty', 'news-aggregator', 'wordpress-starter-theme', 'jmonkeyengine3', 'lame', 'advanced-effects', 'web-vulnerability-scanners', 'spotdl', 'note-managment', 'drawerlayout', 'webview-agentweb-web', 'non', 'julia-language', 'named-data-networking', 'openminclub', 'word2vec', 'ui-kit', 'bash-configuration', 'page-editor', 'freertos', 'aviation', 'solana', 'emacs-application-framework', 'screenshot', 'proof-of-time', 'deep-io', 'jike', 'qqbot', 'webhook-gateway', 'console-application', 'eea', 'pouchdb', 'active-directory', 'network-analysis', 'easy-to-use', 'nat-traversal', 'jose', 'multi-cluster', 'text-editor', 'nginx-modules', 'artificial-neural-networks', 'platform-independent', 'i960', 'siamese', 'lpd8806', 'multiple-robots', 'rotation-transition', 'swin-transformer', 'webgl', 'linuxbrew', 'chaos-engineering', 'spring-session', 'txt', 'progress', 'dom', 'ebooks', 'edxposed-framework', 'ml-ops', 'video-tracking', 'support', 'landmark-model', 'views', 'labeling-tool', 'db2-ibm-i', 'dsl', 'face-alignment', 'python-3', 'dognzb', 'video-understanding', 'authenticator', 'pengwin', 'inferno-js', 'fx', 'mp2', 'bootstrap-theme', 'scientific-visualization', 'blankly', 'angularjs-material', 'plaintext-accounting', 'viper', 'sequential-recommendation', 'font-loading', 'vhost', 'async-await', 'windows-hacks', 'software-development', 'gpt-4', 'ca', 'status', 'cpps', 'customizable-templates', 'x86-64', 'discordjs', 'boilerplate-template', 'static-website', 'fse', 'data-center', 'parse-platform', 'scrcpy-engine', 'users', 'nginx-http-flv', 'qt-widgets', 'javascript', 'graphics', 'recursive', 'orbit', 'lightning-web-components', 'megengine', 'generative-adversarial-networks', 'wake-on-lan', 'ngs', 'iso14443b', 'browser-extension', 'bottomsheets', 'wanandroid', 'vite-template', 'pixijs', 'protondrive', 'apple-music', 'micro', 'lists', 'web-editor', 'visualprogramming', 'compression', 'homekit-accessory-protocol', 'ofm', 'form-create', 'wp-plugin', 'ssllabs', 'steamvr', 'inspector', 'swift5', 'howler', 'vins', 'multitask-learning', 'database-migrations', 'company-brands', 'hardware-renderers', 'tableau', 'evil-winrm', 'virtual-audio-cable', 'afwall', 'crawlers', 'wordembedding', 'easy-mock', 'tsne-algorithm', 'variables', 'link-layer-discovery-protocol', 'vue-components', 'cxx20', 'distributed-id-generator', 'functions-as-a-service', 'aspnet-product', 'nebulagraph', 'dingding', 'vnc', 'serverless-application-model', 'aws-cdk', 'phpcs', 'es2018', 'trace', 'bundler', 'request-routing', 'autonomy', 'bots', 'security-hardening', 'coin', 'space-vim', 'vueuse', 'best-practices', 'rxjava2', 'streaming', 'terminal-based', 'mobile-development', 'terminal-themes', 'gitlist', 'stanford-nlp', 'frida-gadget', 'ecmascript', 'doom-emacs', 'investment-analysis', 'api-mocking', 'region-capture', 'streamlabs', 'tun', 'offline-app', 'tensorflowjs', 'neovim-lua', 'vagas-frontend', 'argo-cd', 'transpiler', 'typingtest', 'ffmpeg-android', 'addon', 'rllib', 'opera', 'u2f', 'multi-model', 'decentralized-applications', 're-identification', 'pyxel', 'documentation-tool', 'swarm', 'hcl', 'punctuation-restoration', 'signature', 'picking-locks', 'rat', 'route53', 'tabler-icons', 'bi', 'okhttp3', 'whisper-cpp', 'structured-logging', 'webdav', 'threathunting', 'global-illumination', 'paddlepaddle', 'sentry', 'quantum-simulators', 'dmarc', 'logitech-mouse', 'gaussian-processes', 'brave-extension', 'zone-transfers', 'wallets', 'document-ai', 'voxelizer', 'simulate', 'spring-boot-learning', 'web-audio', 'compile-to-js', 'upm', 'desktop-wallpaper', 'jupyter', 'algernon', 'heterogeneous-data', 'uniswap', 'typewriter', 'inheritance', 'randaugment', 'tachiyomi', 'chat-gpt', 'quectel', 'd3js', 'outofmemory', 'screensharing-tool', 'colours', 'tooltip', 'orchestration-framework', 'duosecurity', 'high-concurrency', 'responsive-email', 'v2ray-plugin', 'unleash', 'structural-attention', 'image-search', 'cargo-command', 'cases', 'iso15693', 'rebase', 'wai-aria', 'botkit', 'storport', 'low-level-programming', 'matrices', 'warc', 'epic-games-store', 'cabling', 'epic-store', 'tidb', 'utilities', 'proposal', 'zimuxia', 'rss-reader', 'sagemaker', 'time-series-analysis', 'react-dom', 'websocket-framework', 'magnet', 'component', 'ui-automation', 'utorrent', 'issue-tracker', 'console-game', 'ping-monitor', 'imbalanced-learning', 'node-red', 'clashforwindows', 'picodet', 'graphql', 'libre-hardware-monitor', 'applications', 'application-firewall', 'elementary', 'node-security', 'game-streaming', 'headless', 'identity-provider', 'eye-tracking', 'transfer', 'taskqueue', 'gameboy', 'internal-tool', 'crash-reports', 'gradient-boosting-machine', 'etcd', 'asp-net-core', 'factory', 'google-spreadsheet', 'game', 'humane', 'spring-mvc', 'ogg', 'wry', 'libtorrent', 'mapbox', 'dreamworks', 'peer', 'android-game', 'wiiu-emulator', 'kali-scripts', 'telegram-api', 'glsl-editors', 'pake', 'renderer', 'desktop', 'parallax', 'gorm', 'lighttpd', 'phabricator', 'clashr', 'statistical-profiling', 'templates', 'quantified-self', 'skia', 'text-normalization', 'rendering-engine', 'ssl-vpn', 'generative-text', 'creative-ai', 'game-launcher', 'exploratorydataanalysis', 's3', 'ipam', 'pixie-dust', 'hardware-monitoring', 'mircroservice', 'zero-configuration', 'belarus', 'decision-tree-classifier', 'hashtable', 'quicklook-plugin', 'ansible', 'objectutil', 'specification', 'capture', 'microsoft-teams', 'dns-record', 'gnumeric', 'seat', 'reactor-java', 'dnssec', 'wsgi', 'udmp', 'phpcompatibility', 'email-notifications', 'compliance', 'android-cropper', 'gop-cache', 'infrastructure-as-code', 'apparmor', 'bare-metal', 'unblocker', 'uber', 'convnext', 'headless-browser', 'zephyr', 'android-github', 'oh-my-zsh-plugin', 'nock', 'fluttermusicapp', 'codeforces', 'usrp', 'keybase-filesystem', 'altair', 'poshc2', 'layoutlm', 'export', 'factorization', 'trivia', 'interpretable-deep-learning', 'ardusub', 'probability-distribution', 'pretrained-embedding', 'github-api-v4', 'path', 'riru', 'registry-proxy', 'webapp', 'vant', 'personal-website', 'waf-detection', 'xsstrike', 'userstyles', 'datasette-io', 'detection-model', 'cycript', 'oidc', 'ui-system', 'reading-list', 'loam', 'weather', 'play-store', 'pam', 'sidebar', 'graphical-user-interface', 'laminas', 'private-npm', 'scans', 'skype', 'page-dancing', 'docker-swarm', 'nlp-library', 'appsec', 'upnp-renderer', 'siraj-raval', 'arm-assembly', 'echarts', 'kmac', 'logon', 'dynamodb', 'night-mode', 'profiles-memory', 'geosciences', 'incident-reports', 'js-ipfs', 'alttab', 'zigbee', 'model-predictive-control', 'microbin', 'avfoundation', 'password-strength', 'ip-address-database', 'linux-kernel-hacking', 'adjacency-matrix', 'bicep', 'hpc', 'hacktoberfest2022', 'service', 'standalone', 'photoshop', 'video-streaming', 'corgis', 'jib', 'webdataset', 'vozlt-nginx-modules', 'monitoring-automation', 'zephyros', 'demo', 'wechathook', 'sandbox-game', 'rendering-2d-graphics', 'zeit', 'docker-images', 'webpack4', 'toolbar', 'fluxion', 'imgur-uploader', 'webframework', 'test-engineering', 'osnet', 'bot-api', 'hdl-graph-slam', 'vue-awesome-swiper', 'icon-components', 'embedding', 'automatic-https', 'terraform', 'coronavirus-tracking', 'gamestream', 'java8-tutorial', 'usaco', 'objection', 'hotjar', 'naming-pattern', 'dropwizard-metrics', 'terminal-pager', 'tls', 'ghcjs', 'bimap', 'hexadecimal', 'landscape', 'collectd', 'mux', 'powertoys', 'web-weixin-pipeline', 'dynamic-instrumentation', 'realtime', 'big-data', 'kprobes', 'pyo', 'developer-kits', 'actionscript', 'pmkid', 'pyrogram', 'tmux-plugins', '3d-engine', 'forgegradle', 'espurna', 'tap', 'tcpdump', 'hunting', 'trocr', 'vue-material', 'java8-learning', 'kubectl', 'symbolic-execution', 'catboost', 'discord-bot-api', 'normalization', 'nftables', 'snapcraft', 'snippet', 'cookiecutter-django', 'webrtc-datachannel', 'thephpleague', 'statistical-learning', 'dragablz', 'reflection-api', 'changelog', 'machine', 'rathena', 'fetlang', 'newpipe', 'adversarial-perturbations', 'advice', 'patch', 'instrumentation', 'bazel', 'roslyn', 'vue-example', 'students', 'unicorns', 'classroom', 'crop-image', 'mmorpg-server', 'gh-pages', 'verdaccio', 'medusa', 'vlc', 'forge', 'android-https-capture', 'cra', 'non-root', 'virustotal', 'aws-cli', 'zsh-frameworks', 'chromeos', 'mvp', 'netstandard15', 'lens-protocol', 'lottie', 'development', 'awesome-swift', 'bigdata', 'vega', 'quantum-programming-language', 'lambda', 'pocketmine', 'scientific-formats', 'sharepoint', 'opensuse', 'mathml', 'moment-js', 'promise-patterns', 'stickers', 'tron', 'nacos', 'windows-forms', 'batch-processing', 's3-storage', 'nomad', 'sampler', 'alas', 'rigid-body-dynamics', 'data-parallel', 'clamav', 'databinding', 'dns-bruteforcer', 'augmentation', 'industrial-automation', 'progress-bar', 'mobilnet-v2', 'ios-security', 'single-executable', 'ddj', 'squad', 'huginn', 'swift-library', 'scrapy', 'charts', 'gaming', 'xcode-plugin', 'es2015', 'hlsl', 'packets', 'phalcon-extension', 'crowdsourcing', 'spark', 'tilix', 'voyager', 'instant-preview', 'transformation', 'jobqueue', 'rockylinux', 'vector', 'argon', 'scanpy', 'fish', 'plc', 'vscode-extension', 'dotnet-standard', 'intervention', 'availability', 'coding', 'tiberian-dawn', 'recharts', 'raytracing', 'tcp-server', 'pkgbuild', 'collaborative-research', 'sinon', 'greasemonkey', 'encryption', 'link-prediction', 'nsec', 'network-monitoring', 'school-management', 'minifier', 'test-runners', 'kratos', 'roadmap', 'xtensa', 'mypy-plugins', 'chromedp', 'open', 'juejin', 'litemall', 'dev-ops', 'gmail', 'control', 'devtools', 'traffic', 'stock-positions', 'minilm', 'temperature', 'torrent', 'searching-algorithms', 'graph-library', 'arguments', 'video-downloader', 'bootstrap5-template', 'rime-squirrel', 'bulma-css', 'probability', 'todolist', 'reporting', 'container-networking', 'home', 'multiplayer', 'deeplearning', 'stlinkv2', 'privacy', 'acm-icpc', 'unilm', 'jira', 'gantts', 'graph-clustering', 'resnext', 'questdb', 'reddit-api', 'docker-nginx-php', 'filesize', 'request', 'jwt-bearer-tokens', 'structured-data', 'sound', 'queuing', 'accessible', 'aesthetic', 'git-for-data', 'video-segmentation', 'javascript-functions', 'tone', 'bottles-versioning', 'flogo', 'probability-distributions', 'alibaba-oss', 'baas', 'mikepenz', 'youtube-music-player', 'ffmpeg-wrapper', 'crash-reporting', 'shopping-cart', 'addin', 'restful', 'time-series-database', 'explainable-ml', 'public', 'data-scientists', 'responsive-images', 'home-assistant', 'uppy', 'webpacker', 'tuntap', 'queueing', 'chatgpt-plugins', 'charting', 'build-tool', 'redis-server', 'okio', 'spi', 'coding-interviews', 'distributed-cache', 'polymer', 'playstation3', 'jmeter', 'micro-frontend', 'pandoc-template', 'piv', 'google-search', 'dotjs', 'incidents', 'old-photo-restoration', 'restify', 'moshi', 'programmer-boards', 'change-monitor', 'design-resource', 'gateway', 'dijkstra', 'qtextasdata', 'android-image-selector', 'connectedhomeip', 'top-down', 'server-side-swift', 'replicator-release-notifications', 'deepface', 'ws2812', 'multi-cloud', 'study-plan', 'mian-shi', 'mybatis-plus', 'template', 'scale', 'openproject', 'iterm', 'fund', 'u-2-net', 'data-visualisation', 'fastdfs', 'fcitx', 'macos-security', 'adguardhome', 'python311', 'javascript-tips', 'serverless-applications', 'ipfs-protocol', 'oas', 'tic-80', 'regulation', 'pmd', 'research-tool', 'windows-firewall', 'quantization', 'mutant', 'nexe', 'efficiency', 'websql', 'x86', 'geography', 'phone-numbers', 'onboarding', 'r2rml', 'webgl-articles', 'mitx', 'email-templates', 'react-native-generator', 'notes-management-system', 'qrcode-generator', 'android-library', 'avoidance', 'pagination', 'subsurface', 'api-management', 'flutter-dynamic', 'deno', 'page-maker', 'science-books', 'tgcalls', 'webaudio-api', 'sqladvisor', 'filtering', 'excalibur', 'algos', 'beautiful', 'dataviz', 'web-assembly', 'androidx', 'kaldi', 'tfjs', 'txt2img', 'tiptap', 'snapdrop', 'echo', 'serverless', 'text-processing', 'set', 'gitub-ip', 'appcache', 'chakra-ui', 'webflow', 'jupyterlab-extension', 'js', 'kap', 'asynchronous', 'flipt', 'stanford-online', 'large-data', 'stardew-valley', 'code-edit', 'memex', 'instructor-materials', 'esm', 'unity-asset', 'localhost', 'bookmark-manager', 'uptime-monitoring', 'ray-tracing', 'full-stack', 'data-pipelines', 'contactless', 'network-traffic', 'photo-album', 'minapp', 'oauth-provider', 'trackerslist-trackers', 'email-template', 'react-redux', 'database-cluster', 'cyberpunk', 'rlhf', 'image-processing', 'prolog-interpreter', 'pluginframework', 'buffer', 'sbt-docker', 'labs', 'scheduling', 'rime-weasel', 'iqkeyboardmanager', 'jasmine', 'prisma', 'mpv', 'cbvs', 'byebug', 'brute-force', 'animated-gif', 'sublist3r', 'speech-alignment', 'cipher', 'reaction-action', 'server-side', 'nginx-lua', 'readme-template', 'traduzir', 'tinygo', 'edge-computing', 'india', 'medium', 'machine-translation', 'eye-strain', 'angr', 'object-storage', 'rift', 'sixel-graphics', 'tengine', 'algorithm-interview', 'i3-gaps', 'document', 'cloudbox', 'libreoffice', 'redux', 'incredibly-spicy', 'rxswift', 'box2d', 'presences', 'pcre', 'full-text-search', 'cve-2021-21972', 'directsound', 'webar', 'notes-app', 'daterange', 'atcoder', 'identity-management', 'analysis-environments', 'patch-management', 'brands', 'context', 'matting', 'ics-scada', 'gpu-programming', 'cicd', 'rad', 'internet-archiving', 'pokemon', 'sspanel', 'city', 'app', 'webperf', 'bootstrap-datepicker', 'springboot-vue', 'video-course', 'after-effects', 'appium', 'opencv3', 'verifier', 'language', 'c-plus-plus-14', 'cleaner', 'exploit-development', 'pymc', 'bootstrapvue', 'scipy', 'vst2', 'deepvariant', 'rdf', 'html-ppt', 'selfie', 'trade', 'ios-forms', 'activation-strategies', 'file-storage', 'mp3', 'cpp-library', 'watchos', 'maintenance', 'utility', 'servicemesh', 'wallpaper-engine', 'str8c', 'pe-dumper', 'ps', 'multi-threading', 'siphash', 'regular-expression', 'nsp', 'tkinter', 'chromedriver', 'media-source-extension', 'cms', 'screen-recorder', 'reprap', 'eslint-plugin', 'typechecker', 'yaourt', 'learning-python', 'nlp', 'keychain', 'jest', 'httpclient', 'cspm', 'video-playback', 'edge', 'sha-256', 'kodi', 'zero-trust', 'wooey', 'recompiler', 'animal-pose-estimation', 'adversarial-machine-learning', 'ime', 'hacking-tool', 'xxqg', 'control-panels', 'trello', 'semantic', 'dracos', 'works-with-svelte', 'microcontrollers', 'remi', 'https-troubleshoting', 'jinja', 'toolbox', 'riccati-solver', 'essentials', 'agentweb-android-webview', 'unittest', 'autoware', 'materials-science', 'sketch', 'mat', 'languagemodel', 'bible', 'blog-engine', 'wpa-cracker', 'digital-forensics', 'gog', 'language-model', 'toc', 'ftp-client', 'zero-dependency', 'memo', 'neovim-config', 'cypress', 'lando', 'hmm-model', 'golang-library', 'quantum', 'matrix-multiplication', 'mathematical-analysis', 'prompt', 'sfml', 'tacotron', 'koa-middleware', 'stateless', 'material-colors', 'weex', 'ulog', 'swag', 'sequelize', 'jvm', 'client-library', 'file-management-system', 'ansi', 'jhipster', 'covid', 'open-telemetry', 'k8s-sig-network', 'pyramid', 'elasticdump', 'lighttable', 'vscode-theme', 'ssh-key', 'ddos', 'transcriptomics', 'web-application-security', 'linux-distribution', 'staggered-animation', 'rpc-framework', 'webhook-events', 'drm', 'cost-management', 'plotting', 'containerpilot', 'jaeger', 'end-to-end-encryption', 'wifi-hotspot', 'setwineventhook', 'augmented-reality-applications', 'useful-scripts', 'invoice-generator', 'package', 'jenkins', 'video-editor', 'django-graphql', 'trouble-shooting', 'ann', 'smartcontracts', 'android-client', 'drawer-support', 'domotics', 'numerical', 'acorn', 'icon-pack', 'kotlin-extensions', 'flint-os', 'geoprocessing', 'unix', 'javascript-interview-question', 'marktext', 'http3', 'multi-speaker-tts', 'ffmpeg-android-java', 'rust-design-patterns', 'internet-speed-checker', 'wp-bootstrap-navwalker', 'tables', 'radius', 'yaml-configuration', 'xcode10', 'stream', 'firefox-send', 'polkadot', 'browser-fingerprint', 'modloader', 'analytics', 'technical-debt', 'remote', 'mockgps', 'sim7000', 'stream-processing', 'caching', 'android-apps', 'csr', 'webflux', 'news-feed', 'discord-server', 'flutterplayground', 'privacy-preserving', 'coap', 'topic-vector', 'port-scanner', 'openzwave', 'kotlin-library', 'fedora', 'filemanager', 'fgcnn', 'design-systems', 'svg-animations', 'blueprint', 'bulkhead', 'wenyan-lang', 'weather-api', 'mifare-classic', 'unattended', 'sops', 'external-monitor', 'gocd', 'high-performance-computing', 'leakcanary', 'malware', 'count-model', 'custom-slides', 'bit', 'keyboard', 'visualisation', 'shortcut', 'sha-512', 'moo', 'presenter', 'ffmpeg-libraries', 'flutter-web', 'flask-restful', 'rapids', 'runtime-validation', 'deepfake', 'blob-store', 'web-app', 'monetdb-client', 'luogu', 'peregrine-lang', 'push-notifications', 'barnes-hut-tsne', 'mmorpg', 'portable', 'vm', 'decentralization', 'aws-creds', 'monorepo', 'one-liners', 'webspider', 'navigator', 'configuration', 'customview', 'logstash', 'pentest-tool', 'international', 'progressbar', 'diagnosis', 'catalyst', 'server-monitor', 'video-capture-device', 'instagram', 'ipset', 'cookies', 'homebridge-docker', 'firewall', 'financial-engineering', 'recyclerview', 'integrations', 'git-scraping', 'network-namespace', 'baby-agi', 'pouch', 'object-oriented', 'ethereum', 'game-boy-color', 'high-order', 'etw', 'erc20', 'mailserver', 'neumorphic-design', 'libpointmatcher', 'openhab', 'hydra', 'drivers', 'fuzzing-framework', 'at', 'translate', 'wifi-testing', 'scala-compiler', 'rrdtool', 'xa', 'mac-app', 'mobi', 'artificial-intelligence', 'camera', 'userstyle', 'musicbrainz', 'code-switch', 'fzf', 'smartwiki', 'game-streaming-server', 'capturing-packets', 'ispc', 'starlette', 'jjwt', 'bistoury', 'pupil', 'bigquery', 'spring-security', 'angular-cli', 'pocketmine-mp', 'webhook-service', 'spider', 'axure-widgets', 'processor-design', 'snippets', 'typechecking', 'embedding-database', 'haskell-application', 'sctp', 'yahoo-finance', 'visual-question-answering', 'mvvm-android', 'awsome-rust', 'k8s-sig-testing', 'permissions', 'node-embedding', 'querystrings', 'continuous-testing', 'gambling-filter', 'news', 'jersey2', 'ouster', 'scrape-followers', 'gnu-debugger', 'dogs-over-cats', 'hifigan', 'icons-pack', 'solr', '3d-rendering-engine', 'rich', 'asp-net', 'scraper', 'epub-publications', 'lazy-evaluation', 'vector-graphics', 'diffusion', 'fuzzy', 'free-ebook', 'd3d12', 'music-composition', 'sync-solution', 'transparent-proxy', 'github-pages', 'stock-prediction-models', 'micro-framework', 'deep-linking', 'id3v2', 'algorithm-interview-questions', 'workers', 'lightning-browser', 'aggregator', 'deepwalk', 'h5-dooring', 'automatic-speech-recognition', 'onedrive-storage', 'dagger', 'copywriting', 'django-cookiecutter', 'spectral-data', 'mintty', 'prolog', 'sharp', 'faster-rcnn', 'trojan-web', 'charles', 'sabnzbd', 'hints', 'legged-robotics', 'golang-plugin', 'devarchy', 'dictionary-attack', 'cosmos-sdk', 'accountability', 'quantum-assembly', 'renderer-agnostic', 'aliases', 'vue3-components', 'access-control', 'papirus-theme', 'pentesting', 'web-archiving', 'runtime-security', 'eta', 'aws-s3', 'game-stream', 'zphisher', 'nanocurrency', 'dependency-injection-framework', 'offline-first', 'image-server', 'minimalist-framework', 'jsconf', 'lqr-controller', 'captions', 'annotations', 'miso', 'flexible', 'project-management', 'nextjs', 'stock-indicators', 'cbz', 'test-automation', 'datagrid', 'swift-package-manager', 'risk-parity', 'search-server', 'password-cracker', 'irods', 'tellonym', 'waifu2x', 'markdown-conversion', 'encrypted', 'gke', 'dracoon', 'windows-11', 'tmall', 'qutebrowser', 'android-security', 'facenet', 'soft-ui', 'client-server', 'engineering-management', 'webbrowser', 'tesseract-ocr', 'gentoo', 'stock-data', 'pcap', 'wagtail', 'pcl', 'powerpc', 'newman', 're-id', 'arp', 'ethers', 'platform', 'bloom', 'safety-critical', 'geatpy', 'snowplow', 'capacity-planning', 'ubuntu', 'optimize', 'wpa', 'audio-units', 'hotfix', 'spf', 'volume-rendering', 'metrics', 'scrapyd-log-analysis', 'scene-text', 'dark-mode', 'binary-data', 'video-codec', 'browsers', 'delaunay-triangulation', 'colorer', 'privacy-preserving-machine-learning', 'compilers', 'landing', 'agera', 'v2ray', 'tensorrt', 'gnutls', 'invoices', 'heap', 'high-throughput', 'ctf-tools', 'openaddresses', 'dtx', 'file-launcher', 'qutip', 'robotics-libraries', 'leveldb', 'flask-sqlalchemy', 'quantum-programs', 'pose-estimation', 'cmb2-fields', 'exhentai', 'parcel-bundler', 'standard', 'electron-react', 'sniffing', 'jsdom', 'yolox-nano', 'note', 'modern-cpp', 'statistical-analysis', 'ppt', 'nebula-graph', 'json-statistics', 'ultimaterecyclerview', 'image-text-retrieval', 'cgo', 'database-deployment', 'antigen', 'roller-coaster', 'timetracker', 'handlebars', 'tabline', 'qpdf', 'generativemodel', 'vision-language-transformer', 'kqueue', 'ublock-origin', 'anti-debugging', 'tshock', 'dyld', 'strava', 'email-boilerplate', 'powerpoint', 'motion-design', 'jobs', 'kws', 'curated-lists', 'vector-similarity', 'directx-12', 'android-pickerview', 'cocoalumberjack', 'itchat', 'readability', 'swiper', 'bandwidth', 'armbian', 'mono', 'openwhisk', 'sort', 'credit-card-fraud-detection', 'audio-decoder', 'switch', 'windows-desktop', 'tiered-file-system', 'ipfs-companion', 'react-admin', 'parents', 'mod-api', 'curses', 'databases', 'datree', 'governor', 'ghc', 'modal', 'hover', 'eth', 'css3-features', 'face-detector', 'rgbw-leds', 'noise-cancellation', 'pointer-events', 'social-engineering-attacks', 'h5-ppt', 'soar', 'ike', 'docz', 'keel', 'moss', 'local', 'pydantic', 'evil', 'grpc-proxy', 'patching', 'web-application-firewall', 'redis-ssh-ssl', 'web-attack-payloads', 'coordination', 'm3u8-parser', 'phalcon-framework', 'openbox', 'statping', 'cross-platform-ide', 'database-values', 'preact', 'podcasting20', 'console', '4x-strategy-game', 'telegram-bot', 'reedsolomon', 'piracy', 'deployment', 'deep-neural-network', 'development-environment', 'electronic-music', 'infinite-scroll', 'color-theme', 'aero', 'design-tools', 'notion', 'initramfs', 'automatic-translation', 'tachidesk-server', 'image-generator', 'refs', 'golang', 'stylegan2', 'hdl', 'papirus', 'ebook-reader', 'recon', 'algorithm-challenges', 'deterministic', 'angular2-modal', 'userspace-driver', 'datasette', 'gbrt', 'zoom-gestures', 'apk-parser', 'outlook', 'aerospace', 'qr-code', 'recording', 'state-machine', 'cycling', 'mac-desktop', 'keycloak', 'bug-bounty', 'democracy', 'internship', 'ahmyth-rat', 'configs', 'forge-bukkit', 'apa106', 'webgl-references', 'starter-theme', 'protoc', 'phing', 'collaborative', 'quantum-optics', 'alzheimers', 'coco', 'deferred-loading', 'more-cats', 'grading', 'rgb-led', 'penetration-testing', 'android', 'cmake-scripts', 'filesystem', 'privesc', 'habit-tracker', 'hardening', 'osrs', 'novelty-detection', 'sogo', 'atmel-sam', 'docker', 'lightweight-fuzzy-search', 'jquery', 'psgan', 'naming', 'competitive-programming', 'promql', 'container-registry', 'gradio', 'deepfakes', 'graph-visualization', 'quadruped-simulation', 'payload-generator', 'tkinter-designer', 'low-context', 'collection', 'final-fantasy-xiv', 'python-script', 'spring-cloud', 'aio', 'angular4', 'terminfo', 'evpp', 'wordpress', 'statechart', 'platform-engineering', 'linux-server', 'ide', 'nucleo', 'drag-and-drop', 'drift', 'java-agent', 'dance', 'ts80p', 'cellphones', 'weather-icons', 'firefox-extension', 'blockstack', 'ipi', 'vod', 'memcached', 'open-source-intelligence', 'httpurlresponse', 'bootstrap-4', 'autonomous-vehicles', 'sam', 'ksonnet', 'resolvers', 'julia', 'google-site-search', 'ddl-commands', 'data-mining', 'thingsboard', 'tree', 'plaintext', 'ebook-manager', 'wheelview', 'netbsd', 'chrome-extension', 'living-off-the-land', 'datawrangling', 'cancellable', 'recon-engine', 'humor', 'ssl-support', 'openhab2', 'save-the-internet', 'webbased', 'lapacke', 'dataframe', 'bugbountytips', 'proprietary-counterparts', 'radix-ui', 'material', 'outbox', 'cto', 'feature-detection', 'python-spider', 'alfred', 'dast', 'nakama', 'self-supervised-learning', 'model-view', 'connected-devices', 'json-patch', 'document-intelligence', 'shader', 'circuitbreaker', 'xiami', 'depth-maps', 'velodyne', 'global-tool', 'hcaptcha', 'closember', 'windicss', 'tars-foundation', 'mobile-detection', 'named-object-networking', 'css-components', 'templating-language', 'moment', 'nodemon', 'documents', 'converter', 'ajv', 'paste', 'docker-security', 'nsfw-classifier', 'sonos', 'integration-testing', 'blazor-crud', 'on-call', 'cpputest', 'angular2-component', 'steam-account', 'c', 'anr', 'udm-utilities', 'zsh-theme', 'internet-traffic', 'primitives', 'mini-mp3', 'shape', 'gozero', 'logging', 'itunes', 'kernel', 'programming', 'vulnerability-identification', 'promise-modules', 'laws', 'packages', 'pydata', 'protonmail', 'promise-library', 'motion-graphics', 'performance-analysis', 'phpci', 'ssllabs-scan', 'raspberrypi', 'javaweb', 'hardware-security-module', 'component-driven', 'spring-boot-demo', 'command-line-interface', 'storage-container', 'templating', 'wiring-harness', 'betterdiscord', 'optimal-control', 'rtos', 'raspberry', 'naming-cheatsheet', 'incident-response-tooling', 'trajectory-optimization', 'feature-importance', 'admin-template', 'operating-system', 'ecma-376', 'jpeg-encoder', 'gltf', 'image-classification', 'modbus', 'k8s-sig-api-machinery', 'attack-detection', 'up', 'performance-visualization', 'fullstory', 'videogames', 'npcap', 'primitive-types', 'find', 'vscode', 'telegraf', 'perception', 'asset-catalog', 'inpainting', 'geoscience', 'docs-as-code', 'devdocs', 'simd', 'poseidon', 'static-site-generator', 'aws-amplify', 'todo', 'high-performance', 'toggl', 'talks', 'ntriples', 'dnsmasq', 'redis-cluster', 'music-programming', 'podman', 'purpleteam', 'publishing', 'v2fly', 'vyper', 'webaudio', 'not-the-game', 'filewatcher', 'styleguide', 'pokeapi', 'snapshot', 'utility-library', 'redirector', 'multiple-view-geometry', 'twirp', 'template-engine', 'layman', 'ant-design-vue', 'aws', 'kombu', 'monaco-editor', 'pygad', 'forwarder', 'cider', 'glsl', 'data-analysis', 'webserver', 'password-manager', 'rpm', 'comics', 'jsbox', 'vim-airline', 'awesome-readme', 'rubocop', 'k8s-cluster', 'slack-notifications', 'kubernetes-clusters', 'vulnerability-databases', 'quantum-information', 'sse', 'launchpad', 'data-visualization', 'blynk', 'radare2', 'cheerio', 'labeling-photos', 'transmit-data', 'sfu', 'freedom-of-information', 'python-compiler', 'jwtauth', 'front-end-system-design', 'postgraphql', 'apk-studio', 'swiftpm', 'excitement', 'arcade-game', 't-rex-runner', 'cpu', 'flipperzero', 'conformal-prediction', 'dlna', 'gba', 'object-relational', 'xdb-engine', 'react-native-starter', 'objective-c-plus-plus', 'sbt', 'webrtc-adapter', 'dvwa', 'dotfile-manager', 'realsr', 'containerization', 'roberta', 'wordlist', 'sales', 'ccf', 'crnn', 'multitasking', 'unityframework', 'minify', 'scalajs', 'windows-8', 'ios-framework', 'video-player-library', 'github-gist', 'firewalls', 'flipper-zero', 'feature-attribution', 'v', 'mllm', 'asteroidos', 'data-warehouse', 'tes', 'ndpi', 'json-logging', 'vue-powerpoint', 'alac', 'particle', 'apple-maps', 'linux-tools', 'msp432', 'multiple', 'wechat-mini-program', 'mp3player', 'agile-manifesto', 'zero-trust-network-access', 'mica', 'iro-js', 'pathfinding', 'event-stream', 'weakmap', 'server-side-rendering', 'nintendo', 'android-reverse-engineering', 'mssql', 'netease', 'netstandard13', 'pascal-language', 'staging-server', 'personal', 'version-controlled-database', 'product', 'pure', 'kanban', 'syslinux', 'papirus-icon-theme', 'password-wordlist', 'navigation-drawer', 'youtube-videos', 'cryfs', 'fake-data', 'task-scheduler', 'chameleon', 'psutil', 'awesome-repos', 'netch', 'pygithub', 'crowler', 'text-to-speech-python3', 'php-features', 'synthesizer', 'pico-8', 'iphone-x', 'portfolio-site', '125khz', 'semantic-ui', 'upptime', 'velero', 'pc', 'madsonic', 'auto-update', 'distribution', 'interpretable-ml', 'tmux-theme', 'dns-providers', 'deploy', 'file-sharing', 'scalatra', 'point-cloud', 'firefox-customization', 'color-themes', 'datalog', 'devops', 'graph-relational', 'microservice-orchestration', 'filesystem-library', 'swiftsocket', 'grub4dos', 'startpage', 'driver', 'popup-window', 'environment-manager', 'alternative', 'facebook-messenger', 'aur-helper', 'zsh-syntax-highlighting', 'parallel', 'errors', 'computerscience', 'rop', 'java-jwt', 'search-algorithms', 'https-proxy', 'fast-rcnn', 'components', 'gnome-shell', 'sslstrip', 'figma-plugins', 'fullscreen', 'tvos-simulator', 'car-hacking', 'webxr', 'smartcrop', 'vulnerability-detection', 'slide-policy', 'emulator', 'logisim-evolution', 'transmittable', 'nodejsscan', 'ohmybash', 'gender-recognition', 'ferretdb', 'dns-proxy', 'testautomation', 'datastore', 'stale-while-revalidate', 'texteditor', 'build', 'resiliency-patterns', 'network-client', 'font-awesome', 'website-change-detection', 'dynamic', 'genetic-algorithm', 'socket-io', 'vapor', 'github-page', '3ds', 'mysql-client', 'olympic', 'eureka', 'decentralized', 'cpu-profiling', 'windows11', 'cobra', 'gtsam', 'drag', 'color-picker', 'distro', 'raw', 'modern', 'ftp', 'playwright', 'sdn', 'distributed-ledger', 'weixinlogin', 'panoptic-segmentation', 'spaceflight', 'oci-image', 'emacs', 'jvm-languages', 'servicecontrol', 'event-calendar', 'more-features', 'kafka-producer', 'clustering', 'kosmos-1', 'eye-tracker', 'itil', 'quantum-computer-simulator', 'quotes', 'nodemcu', 'daemon', 'fantasy-console', 'scalacheck', 'electron-builder', 'release-automation', 'computer-music', 'evr', 'robustvideomatting', 'builder', 'libktx', 'opensc2k', 'geojson', 'lsky', 'scada', 'epub3', 'bashonwindows', 'react-native-components', 'music-application', 'opcua', 'privacy-first', 'anti-censorship', 'vue-router4', 'hadoop-ecosystem', 'registry-hacks', 'text-detection', 'countries', 'tailwind-css', 'azure-functions', 'couchdb', 'blog-posts', 'multiformats', 'proxmark3', 'torrent-tracker', 'vault', 'parameter-encoding', 'yew-framework', 'lumberjack', 'sinatra', 'web-mining', 'society', 'csharp-sourcegenerator', 'sap-hana', 'goimports', 'auto-complete', 'nativescript', 'mathematics', 'algorithm', 'translator', 'trojan-go', 'readme-stats', 'instant-messaging', 'msoffice', 'algorithm-competitions', 'pattern-classification', 'pg', 'logic', 'alienvault', 'terraform-configurations', 'freelancing', 'geneva', 'darwin', 'text-semantic-similarity', 'neovim-setup', 'bpmn', 'open-falcon', 'zkp', 'psql', 'inno-setup', 'database-document', 'malshare', 'model-hub', 'bert-wwm-ext', 'twitter-streaming', 'space-program', 'objective-c-extensions', 'hyperterm', 'image-zoom', 'networkx', 'website-change-tracker', 'selenium', 'kotlin-multiplatform-library', 'audio-processing', 'deep-neural-networks', 'itch', 'cron', 'weibo-image', 'cri', 'rplib', 'rocket-ships', 'generics', 'vulnerability-scanners', 'oh-my-zsh-theme', 'recommendation-system', 'select2', 'phonesploit-pro', 'nft', 'nfnets', 'zap', 'geoip', 'discord-js', 'gamma', 'color', 'osxfuse', 'chrome-embedded-framework', 'spirv', 'commerce', 'maps', 'opendata', 'google-news', 'gist-search', 'voip', 'online-editor', 'rails', 'r', 'rnn', 'nonblocking', 'streamlit', 'examples', 'type-safety', 'composer-packages', 'x64dbg-plugin', 'wav2vec2', 'certbot', 'popup-windows', 'flowchart', 'swift-wrapper', 'climate-change', 'rust', 'k9s', 'hunting-platforms', 'categorical-features', 'internal-development', 'ag066833', 'touchbar', 'giveupgithub', 'solaris', 'kubesphere', 'uncertainty-quantification', 'dhcp', 'spring-cloud-gateway', 'launchd', 'angular2-components', 'edex-ui', 'gtk4-rs', 'plugin-manager', 'adblocker', 'music-library', 'jerryscript', 'jekyll', 'bayesian-data-analysis', 'language-recognition', 'cytoscape', 'sparse-computation', 'iris', 'web-extensions', 'spotdl-cli', 'webview', 'wiiu-emulation', 'webrtc-video', 'otp', 'html-template', 'download-videos', 'arsc', 'elementui', 'colourspace', 'wireshark', 'geolocation', 'works-with-construct', 'awt', 'bios', 'manjaro', 'abp', 'naughty-strings', 'dovecot', 'k8s-sig-cli', 'slate', 'reputation', 'tkinter-gui', 'bookdown', 'professional', 'goplus', 'reddit', 'balance', 'goaccess', 'graphics-programming', 'podcasts', 'wfp', 'react-typescript', 'speech-recognizer', 'random-forest', 'datagrids', 'frappe', 'digital-circuit', 'fault-tolerance', 'politics', 'nodebb', 'qunit', 'encryption-proxy', 'tekton', 'productivity', 'cloud-service', 'nlu', 'pure-python', 'footprint', 'vscode-remote', 'ott', 'topic-models', 'singlestore', 'mstg', 'i2p-client', 'eggjs', 'scanner-web', 'prototype-android-application', 'memoized-selectors', 'fling', 'ssh', 'ssldump', 'rasa', 'object-oriented-programming', 'markdeep', 'fintech', 'frida', 'kettle', 'marathon', 'mediapipe', 'virtualbox', 'swift-3', 'cats', 'appwrite', 'blocker', 'technical-coding-interview', 'shaders', 'neumorphic-ui', 'bukkit', 'polybar', 'pix2pix', 'funding', 'wordpress-framework', 'cdc', 'recaptcha', 'casdoor', 'baileys-bot', 'similarity-search', 'picture-selector', 'kubectl-plugins', 'minimalistic', 'leon', 'internet-of-things', 'page-generator', 'cloud-drive', 'bytetrack', 'zip', 'dataunittest', 'posenet-model', 'shadowsocks-libev', 'bilibili-helper', 'qq', 'vue-ppt', 'emails', 'ios-animation', 'receive-notifications', 'math', 'postal', 'wechat-plugin-macos', 'internships', 'logistic-regression', 'hyper-v', 'chatterbot', 'windbg', 'computational-geometry', 'loading', 'friendly', 'video-conferencing', 'tsne-cuda', 'sre', 'cve-2020-2555', 'ssh-keys', 'css-grid', 'routing', 'deface-website', 'reproducible-builds', 'blazor-port', 'enso', 'react-native-web', 'jupyter-widgets', 'efm32', 'large-scale', 'model-parallelism', 'cdnjs', 'spa', 'uefi', 'uri', 'vimeo', 'kavita', 'light', 'b2c', 'zits', 'wxml', 'mswjs', 'letsencrypt', 'refreshlayout', 'imagick', 'cffi', 'upc', 'snell', 'riscv-boom', 'mifare', 'kotlin-android', 'scientific', 'dapps', 'strapi', 'tencent-cos', 'window', 'activiti', 'servercow', 'numpy', 'uniform', 'cost-optimization', 'measurements', 'interaction', 'malpedia', 'french', 'website-change-detector', 'fission', 'mail-server', 'webterminal', 'novel', 'optimizing-compilers', 'nftables-sets', 'inherited-properties', 'webdev', 'instant', 'odin', 'suppliers', 'outofmemoryerror', 'json-schema', 'tslint', 'entity-relationship-diagram', 'sparkml', 'static-site', 'dns-servers', 'js-library', 'mojo', 'ascii-art', 'search-engine', 'ipld', 'on-java-8', 'conversational-agents', 'vim', 'form', 'openmw', 'blog', 'jwt-middleware', 'ctf', 'strategy-game-engine', 'zsh-plugin-manager', 'webclient', 'smac', 'salesforce', 'imu', 'phaserjs', 'alzheimer', 'sniffer', 'word-segmentation', 'trackerslist', 'formal-methods', 'youtube-music', 'anchor-cms', 'web-developer', 'ironmq', 'lightweight', 'offline-maps', 'swift-server', 'alignment', 'hetzner', 'pkg', 'crouton', 'beautifygithubprofile', 'elementor', 'normalize-css', 'qml', 'merchant', 'bass', 'cve-2020-13942', 'message-broker', 'uac-bypass', 'size-calculation', 'serverless-architectures', 'completion', 'hasura', 'feathersjs', 'security-headers', 'cml', 'source-gen', 'prompt-toolkit', 'azw', 'pyside', 'assistant-chat-bots', 'cxx11', 'calendar', 'a6', 'mlops', 'distributed-messaging', 'openjs-foundation', 'room', 'xpopup', 'blockchain-network', 'scrum-master', 'conky', 'lucene', 'custom-variables', 'teaching', 'laravel-package', 'ransomware', 'crawl', 'framework-detector', 'computer-language', 'rendering-3d-graphics', 'ui-pattern', 'cpython', 'chrome-os', 'litepal', 'gif-recorder', 'pocket-casts', 'cat', 'mapreduce', 'amap', 'opentsdb', 'android-rat', 'webvr', 'glide', 'enterprise-ethereum-client', 'resource', 'android-tv', 'android-application', 'kcp', 'hypothesis-testing', 'web-hacking', 'multimodal-datasets', 'django-cms', 'functional-css', 'federation', 'chinese', 'mlr', 'build-tools', 'classloader', 'events', 'fudannlp', 'stock-videos', 'userscripts', 'dpdk-driver', 'blockchain', 'exploratory-analysis', 'yapf', 'hybrid-cloud', 'tigervnc', 'rover', 'mlt', 'search-as-you-type', 'kibana', 'rust-wasm', 'pod', 'vblog', 'works-with-gatsby', 'mfa', 'netboot', 'php8', 'tooltip-position', 'probabilistic-programming', 'swirl', 'xonsh', 'tx', 'baksmali', 'rate-limiter', 'appimage', 'nvidia-hpc-sdk', 'bar', 'data-augmentation', 'kaoyancs', 'o2o', 'reaver', 'opensky-api', 'social-network', 'teleport', 'cubeworld', 'developer-tools', 'guide', 'typescript', 'mess-detector', 'property-testing', 'url-parsing', 'media-renderer', 'leaflet', 'freecodecamp', 'mysql', 'composer', 'brightness', 'dcloud', 'offer', 'tex', 'embedding-similarity', 'cpuminer', 'voxels', 'medical-informatics', 'algotrading', 'code-standards', 'ml-operations', 'spark-sql', 'internet-freedom', 'fecshop', 'apigateway', 'mission-control', 'feature-store', 'tensorflow-examples', 'template-repository', 'cpp23', 'devsecops', 'rdtsc', 'ios-uiview', 'carousel', 'css-tricks', 'webextension', 'rofi-scripts', 'linux', 'd3d11', 'pipewire', 'presto', 'coursera-dl', 'loop', 'raspap', 'raspberry-pi-3', 'redteaming', 'gitter', 'works-with-phaser', 'esprima', 'kmeans', 'virtual-machines', 'prometheus-exporter', 'notebooks-templates', 'applied-machine-learning', 'create-react-app', 'cdn', 'mpeg-dash', 'parameters', 'mem-buffer', 'hdmi', 'password-generator', 'tombraider', 'php-sdk', 'rv32e', 'redis', 'udacity', 'project-planning', 'l10n', 'sles', 'service-registry', 'auto-install', 'ifc', 'avr', 'dark', 'adsbexchange', 'canvas', 'phpoffice', 'vr', 'arduino', 'neopixels', 'threat', 'dot-files', 'flutter-material', 'tiedot', 'swiftyjson', 'mvp-android', 'memcm', 'geology', 'diff', 'single-header', 'quantitative-trading', 'alert', 'mdui', 'rkt', 'mathematical-functions', 'cross-toolchains', 'netstandard20', 'astar-algorithm', 'informatics', 'embeddings', 'nginx-configs', 'abricotine', 'zsh-configuration', 'caffe2', 'angular-dashboard-template', 'netease-music', 'procedures', 'wxpay', 'scikit-learn-python', 'russia', 'webshell', 'playlists', 'crontab', 'supervised-learning', 'pty', 'functional', 'epoll', 'prometheus-setup', 'bindings', 'zha', 'educational', 'ripgrep', 'interpretable-ai', 'eigenvalues', 'mitm', 'file-preview', 'matrix', 'scaffolding', 'land', 'notes', 'spam-filtering', 'texstudio', 'kedro', 'recognition', 'streaming-asr', 'wasmtime', 'local-development', 'bodymovin', 'flax', 'plots', 'armhf', 'pdp-11', 'media-center', 'self-care', 'office-365', 'toast', 'kubernetes-networking', 'adsecurity', 'betaflight', 'ui-design', 'load-testing', 'cloning', 'hacktools', 'out-of-the-box', 'auto-xxqg', 'side-effect', 'workflow-schedule', 'map-reduce', 'fuchsia', 'cve-2021-27065', 'java-decompiler', 'ebay', 'tv', 'apa102', 'openrisc', 'curated-list', 'naxsi', '3d-printing', 'luigi', 'es6-javascript', 'index', 'academic', 'shotcut', 'mksh', 'iphone', 'sim900', 'shadowsocksx-ng', 'windows-api', '100daysofcode', 'maven-plugin', 'animation', 'rainmeter', 'homeautomation', 'javascipt', 'ncurses', 'crdt', 'geckodriver', 'doh', 'maui', 'boulder', 'dagster', 'prestodb', 'anomaly-detection', 'tab-rehab', 'gcn', 'sparkline', 'docker-machine', 'desktop-gui-framework', 'symbolic-manipulation', 'chinalist', 'fe-interview', 'haskell', 'godis', 'vpn-server', 'firefox-css', 'outpainting', 'qubits', 'plain-text', 'shodan-dorks', 'logs', 'latex-editor', 'painless', 'application-framework', 'iec-62541', 'pip-tools', 'sample-application', 'extended-kalman-filter', 'writeup', 're-frame', 'hyperledger', 'hyperkit', 'blender-addon', 'tars', 'journal', 'feedgenerator', 'datepicker', 'forward-proxy', 'vim-go', 'disk-encryption', 'floss', 'developer-workstations', 'backup', 'immutables', 'generalized-linear-models', 'k8s-sig-cluster-lifecycle', 'nasa', 'wdf', 'font', 'hybrid', 'computer-network', 'osint-tools', 'props', 'switchhosts', 'memory', 'mapping', 'multi-v2ray', 'centos', 'koa2', 'zsh-plugin', 'python-scripts', 'decompiler', 'hbuilder', 'tagging', 'sha3-224', 'recyclerview-item-animation', 'plugin-framewoek', 'algorithms-datastructures', 'videos', 'v2ray-tls', 'cssconf', 'market-data', 'evil-twin', 'configmgr', 'yolop', 'teacher-student', 'synchronous', 'promise-queue', 'xbin-store', 'music-player-client', 'hooks', 'cheet-sheet', 'enum', 'homebrew-launcher', 'knex', 'eastl', 'decoder', 'vector-store', 'actions-list', 'react-dates', 'cyber-threat-intelligence', 'php-fpm', 'melpa', 'state-management', 'flyway', 'blender', 'system-information', 'visual-analysis', 'language-server-protocol', 'verilog-simulator', 'gazebo', 'unity-engine', 'iqiyi', 'audiobooks', 'academic-project', 'stocks', 'video-capture', 'office365', 'rfc-8831', 'webapps', 'architectural', 'command-and-control', 'rtcpeerconnection', 'wfh', 'openvpn', 'gameboy-advance', 'finops', 'web-spider', 'hmac', 'jinja2', 'burpsuite', 'ieee-802154', 'extractor', 'persistent-storage', 'pinia', 'digital-video', 'plex', 'feishu-bot', 'elf', 'rofi-config', 'office-powerpoint', 'reactjs-template', 'windows-subsystem-for-linux', 'docsify', 'window-manager', 'stanford', 'nightingale', 'redis-monitor', 'dns-ip', 'intersystems', 'gtk-rs', 'web-scraping-python', 'fuzzing', 'flv', 'education', 'music-app', 'ethereum-client', 'scene-recognition', 'timeseries-analysis', 'hdf5', 'aws-credentials', 'hashicorp-vault', 'vorbis', 'mongo-db', 'ip-lookup', 'compat', 'ip-kvm', 'cppcheck', 'application-uninstaller', 'docker-compose-template', 'secret-chats', 'picom', 'chef', 'grafana', 'typesetting-system', 'ghdb', 'sorts', 'literate-programming', 'carddav', 'bypass-uac', 'faceswap', 'serverchan', 'sap', 'anonymization', 'derivatives', 'language-server-client', 'cobaltstrike', 'capstone', 'diagram', 'dependency-parser', 'nymphcast-server', 'snnapy', 'perceptual', 'e-hoarding', 'ios-swift', 'ernie', 'expo', 'release', 'hippy', 'pbm', 'updates', 'tpm', 'paddlenlp', 'model-conversion', 'humane-tech', 'datacleaning', 'opensource', 'transport', 'jit', 'design-tokens', 'notifier', 'stoprussionagression', 'zfs-filesystem', 'plexpy', 'lolcat', 'spotlight', 'understrap', 'docker-laravel', 'code-evaluation', 'd', 'binder', 'basicvsrplusplus', 'discord-music-bot', 'speaker-recognition', 'audio', 'ddos-tool', 'gui-application', 'file-uploads', 'tikv', 'energy-consumption', 'codegenerator', 'directus', 'distributed-computing', 'mvp-pattern', 'webarchiving', 'typing-game', 'cockroachdb', 'mjml', 'asynchronous-io', 'microservice-architecture', 'client', 'locality-sensitive-hashing', 'text-animation', 'rdv40', 'ruby-installation', 'spacy', 'github-mvp', 'npm-registry', 'unity3d', 'semantic-release', 'chitchat', 'awesome-ipfs', 'spacex', 'conemu', 'web-terminal', 'nvm', 'sharppcap', 'verbalexpressions', 'inertia', 'grpc-client', 'css-modules', 'projections', 'bro-ids', 'implementation', 'facebook-workplace', 'medical', 'custom-elements', 'notify', 'logger', 'logutil', 'chatserver', 'tinywebserver', 'arweave', 'task-manager', 'dns-resolver', 'features', 'halo', 'mybatis-generator', 'linters', 'twint', 'undocumented', 'replication', 'workflow-editor', 'webdevelopment', 'kairosdb', 'statistics', 'degoogle', 'owasp', 'e-hentai', 'wereader', 'simian-army', 'springboot-mybatis', 'http-streaming', 'google-hacking-database', 'json-ld', 'reverse-shell', 'cocoa-touch', 'semantics', 'python-fabric', 'threadsafe', 'expose', 'sprites', 'ble', 'updater', 'policy-management', 'swagger2', 'public-apis', 'forth', 'headless-cms', 'schedule', 'proxypool', 'discord', 'homekit', 'kubeadm', 'dcim', 'hipchat', 'vfsstream', 'turbo', 'debugger', 'jamstack', 'armv7m', 'reactnative', 'music-sequencer', 'graphql-php-library', 'scrape-likes', 'ponyfill', 'command-line', 'libgdx-api', 'archiver', 'magnetoencephalography', 'eslint', 'pallets', 'coolq', 'tab', 'hstore', 'progressive-web-app', 'spir-v', 'vulnerability-correlation', 'draggable', 'scrapyd', 'fluid-solid-interaction', 'visual', 'gafam', 'rethinkdb', 'cube', 'compositor', 'wdm', 'hashmap', 'logrocket', 'wpa2-handshake', 'spam', 'imageio', 'lint', 'gnuradio', 'rocketmq', 'yagooglesearch', 'augmented-reality', 'webbench', 'golem', 'ghost', 'retrogaming', 'anti-bot', 'reflection', 'config', 'feature-selection', 'docker-container', 'webcomponents', 'command-line-parser', 'file-handling', 'graph-kernel', 'code-quality', 'pandas', 'greatfire-analyzer', 'graph-database', 'security-audit', 'font-rendering', 'wysiwyg-editor', 'findomain', 'openvino', 'bibliogram', 'xgboost', 'tvos-cmake', '3dgis', 'pokemon-terminal', 'organizer', 'epub', 'httpie', 'web-based', 'udp-proxy', 'swift-language', 'university', 'nginx-http2', 'promise', 'rboot', 'starlink', 'cbor', 'barcode-generator', 'ilqg', 'photon', 'username-checker', 'digital-signature', 'web-browser', 'takeoff', 'ruby-versions', 'embedded-systems', 'iptables', 'lkm-rootkit', 'ansible-lint', 'agnostic', 'latent-diffusion', 'python-types', 'data-stream', 'exploitation', 'bson', 'actors', 'clouddns', 'summarization', 'redux-saga', 'paddle', 'card', 'apis', 'image', 'wdk', 'pipelines', 'html-element', 'boot', 'leetcode-patterns', 'gecko', 'ranking', 'miot', 'yahoo-finance-api', 'modnet', 'buffer-overflow', 'ubooquity', 'spring-webflux', 'tinymce', 'comment', 'smartstore', 'neural-engine', 'vue-use', 'recommendation-engine', 'aws-sam', 'gradient', 'diagram-as-code', 'quality-engineering', 'gamma-ramps', 'msproject', 'tweep', 'face-detection', 'blockcanary', 'd3', 'powershell', 'helm', 'abac', 'libnx', 'osl', 'percona', 'deezer', 'interview-questions', 'community-detection', 'css', 'human-pose-estimation', 'bee', 'jobsearch', 'everything-as-code', 'eeg', 'function-as-a-service', 'tflint', 'production-machine-learning', 'web-automation', 'screen-capture', 'vue-cli', 'midi', 'fabtools', 'mobile-app', 'android-lib', 'u2net', 'telnet-client', 'gnome-shell-extension', 'flac', 'parity', 'parse', 'stage-files', 'lemonbar', 'exoplayer', 'particle-filter', 'winrm', 'probe', 'openssl', 'nextcloud-bookmarks', 'memoization', 'tox', 'twitch', 'existing-pdfs', 'seastar', 'dht', 'kcptun', 'awesome-guidelines', 'mypy', 'edk2-platforms', 'trackers', 'unitaryhack', 'js-questions', 'snapchat', 'quorum', 'epub-reader', 'onenote', 'hacktoberfest-accepted', 'toolbelt', 'lsp-server', 'spring-framework', 'interpretable-machine-learning', 'immutable-database', 'api-design', 'resources', 'tools', 'docker-gen', 'go', 'mp4', 'habits', 'shell', 'uri-solutions', 'java', 'photo', 'workflow-specification', 'goku', 'clarifai', 'sqli', 'napari', 'upstream-proxies', 'grub', 'scene-text-recognition', 'foxmmm', 'msi', 'fish-plugin', 'secret-management', 'openai-api', 'cugraph', 'code-obfuscator', 'goquorum', 'ipados', 'aac', 'api-directory', 'periscope', 'configuration-management', 'c-programming', 'transformer-architecture', 'revel', 'miniapp', 'ngx-admin', 'token-based-authentication', 'kali-linux', 'inference', 'clean-code', 'ugv', 'calculator', 'shannon', 'jupyter-notebooks', 'finite-elements', 'dribbble', 'visualization', 'geospatial', 'optimizer', 'quantum-circuit-simulator', 'socks5', 'kvazaar', 'langchain', 'principles', 'slideshow', 'process-analyzer', 'truffle', 'android-debug-bridge', 'dnscrypt', 'online-ide', 'corelocation', 'quiltmc', 'terrorism', 'law', 'apache-superset', 'neuroscience', 'bypass', 'ray', 'efi', 'database-plus', 'frontend-interview', 'onebot', 'ruby', 'phantomjs', 'augmix', 'picture', 'delta', 'zipline', 'java-library', 'captive-portal', 'learn-regex', 'combobox', 'penetration-test', 'caldav', 'text-editing', 'input-mask', 'reactiveswift', 'qr', 'productivity-booster', 'sway', 'graph-theory', 'tabris-js', 'm3u8', 'stats', 'kalman-filter', 'podcast-manager', 'winograd-transform', 'monkeytype', 'ant-task', 'uiautomation', 'low-code-development-platform', 'o365', 'dashboards', 'reil', 'py-bh-tsne', 'axe', 'primer', 'monitor-performance', 'httprouter', 'runc', 'dash', 'logitech-keyboards', 'landmark-detection', 'feathers', 'async-javascript', 'natural-language', 'geodata', 'deployer', 'coreml', 'installation', 'bionic', 'fluentd', 'activemq', 'distributed-ledger-technology', 'mysql-database', 'sha1', 'servlet', 'manga', 'jbpm', 'osx-security', 'sidecar', 'material-you', 'brew', 'virtio-win', 'authentication-backend', 'reverse-shells', 'learning', '4k', 'mesh-processing', 'lazysizes', 'visual-design', 'django-rest-framework', 'eagle', 'nlp-parsing', 'airbyte', 'restock-monitor', 'webqq', 'novnc', 'unicode', 'blur', 'chainer', 'unified', 'device-detector', 'accounting', 'graphql-python', 'markdown-processor', 'package-manager', 'rocksdb', 'karma', 'stt', 'visual-odometry', 'async', 'sdl2', 'opencolorio', 'motion-planning', 'module-search', 'hooking', 'symbolic-execution-engine', 'softether-vpn', 'vega-lite', 'cloudreve', 'materialdrawer', 'hacking', 'duckduckgo-bang', 'xhr', 'deepmd', 'attack-server', 'groups', 'okgo', 'pgmodeler', 'inventory', 'diff-highlight', 'pull-request', 'merkle-tree', 'rust-cli', 'github-app', 'zksnarks', 'redis-desktop-manager', 'pywinauto', 'sveltejs', 'formatters', 'stacer', 'ollydbg', 'image-editing', 'voxel-editors', 'objective-c-library', 'fancyzones', 'xboot', 'stats-images', 'conferencing', 'datacleaner', 'assembly-arm', 'proxmox', 'nixpkgs', 'flite', 'mse', 'unity-scripts', 'tkinter-widgets', 'verify', 'king-phisher', 'rule-based', 'drone', 'navier-stokes', 'secret', 'wox', 'cross-platform', 'performance-dashboard', 'yarnpkg', 'hashicorp', 'microservice', 'image-seg-tool', 'deepcross', 'digitalocean', 'json-report', 'aurora', 'flutter-music-player', 'diy', 'robustness', 'led-strips', 'gcc', 'datatables', 'alioss', 'animeganv2', 'pace', 'cpp17', 'hackthebox', 'end-to-end-testing', 'war', 'kingfisher', 'database-diagrams', 'optical-character-recognition', 'i2p', 'nushell', 'python', 'disk', 'embedded-c', 'video-conference', 'investigation', 'simulation', 'chinese-nlp', 'simd-instructions', 'pypy', 'event-driven', 'pyquery', 'yaml', 'flink', 'ui-library', 'real-time-processing', 'time-travel', 'scala-library', 'pinterest', 'attd', 'interpretability', 'subsonic-server', 'coding-interview', 'spaced-repetition', 'gantt-chart', 'placeholder', 'gateways', 'ohmyzsh', 'fluent', 'egg', 'bootswatch', 'firebase', 'ioc', 'message-queue', 'twitchdev', 'auth', 'traefik', 'vision', 'ios-app', 'practice', 'mybatis-plugin', 'procedural-generation', 'strategy-game', 'charting-library', 'sample', 'introspection', 'v8', 'visionprocessing', 'foundation', 'mnist', 'dll', 'date-formatting', 'compatibility-testing', 'windowmanager', 'rfc-6902', 'variants', 'satellite-images', 'downloader', 'h265', 'develop-tool', 'bruteforce-password-cracker', 'ui-testing', 'view', 'phisher', 'remote-control', 'wekan', 'crawlergo', 'http-server', 'rpa-robots', 'rime-config', 'registerhotkeys', 'htpc', 'no-more-404', 'nmap', 'gitlab-api', 'linux-exploits', 'rclone', 'samples', 'outliers', 'wangeditor', 'antv', 'reactive-streams', 'tree-algorithms', 'netbird', 'oldschool-runescape', 'hackers', 'swagger-codegen', 'jwt-authentication', 'scroll', 'style-transfer', 'art-hooking-framework', 'lav-filters', 'concurrency', 'ci-server', 'ipc', 'desktop-automation', 'chatgpt3', 'data-discovery', 'ecmascript-proposals', 'visual-applications', 'board-games', 'apache-doris', 'iso14443a', 'ssh-agent', 'scala', 'bdd', 'taxes', 'readme-generator', 'network-infrastructure', 'netbox', 'rocket', 'memory-consumption', 'management', 'libressl', 'proxy-protocol', 'estimators', 'poshc2-installation', 'dropdown', 'wind-turbine', 'argument-parsing', 'cobalt-strike', 'scifi', 'clustering-evaluation', 'awesome-public-datasets', 'digital-logic-design', 'aria2c', 'xbee', 'rdbms', 'twemproxy', 'parser', 'lstm', 'depth-estimation', 'privacy-aware', 'm590', 'computer-forensics', 'btfs', 'dawn', 'vercel', 'bytes', 'motion-capture', 'fiddler', 'dns-client', 'ionic', 'tensor-database', 'lit-element', 'oidc-provider', 'tmux-config', 'delphi', 'timeline', 'decision-making', 'launchy', 'dicom', 'declarative-language', 'networks', 'shows', 'excaliburjs', 'wav', 'siraj-raval-challenge', 'stlink', 'cpu-profiler', 'blizzard-api', 'animated-icons', 'subdomain', 'reality', 'infographics', 'lakehouse', 'hrms', 'shadowsocks-v2ray-plugin', 'teensy', 'pull-to-refresh', 'certificates', 'content-addressable-storage', 'distributed-training', 'acme-protocol', 'golang-application', 'diagram-editor', 'glue', 'tags', 'zookeeper', 'mvvm-architecture', 'orgzly', 'blob-storage', 'jwt-token', 'fraud-detection', 'transition', 'falcon', 'email-campaigns', 'movies', 'dhall', 'zinx', 'chatgpt-bot', 'reactivecocoa', 'bottomsheet', 'database-modeling', 'selection', 'chaos-monkey', 'works-with-react', 'live-profiling', 'critical-path-styles', 'owncloud', 'script', 'lunarvim', 'pascal-voc', 'how-to', 'outlier-ensembles', 'medical-image-segmentation', 'blueteam', 'jetpack-compose', 'song-downloader', 'vue-carousel', 'android-studio-plugin', 'astar-pathfinding', 'sentence-transformers', 'recommender', 'montage', 'ef6', 'molecular-dynamics', 'myfakeapp', 'pony-language', 'typewriter-effect', 'crack', 'dms', 'flexbox', 'sentinel', 'pe-file', 'xcb', 'mocha', 'chia-blockchain', 'directories', 'commitizen', 'knowledge-base', 'fair-ml', 'geosearch', 'procurement', '8bit', 'dockerfile', 'neural-rendering', 'locksmithing', 'web-crawling', 'takephoto', 'zabbix', 'transcode-video', 'power-user', 'postmortem-templates', 'weixin', '9patch', 'sharedpreferences', 'javascript-methods', 'data-consistency', 'jython', 'watchos-cmake', 'shiny', 'zy-player', 'usenet', 'text-to-diagram', 'effective-java', 'coverage', 'semantic-engine', 'grid-computing', 'course', 'incident-reporting', 'legacy', 'native-apps', 'brand-assets', 'xmake', 'text-to-speech', 'i18n', 'ant', 'help-wanted', 'streaming-audio', 'babylon', 'felgo', 'mochajs', 'terminal-app', 'twilight-menu', 'flutter-plugin', 'screensharing', 'pretrained-weights', 'neovim-plugin', 'blackhat', 'immer', 'jupyterlab', 'bottom-navigation', 'chinese-characters', 'phpstan-l9', 'instruction-following', 'task-runner', 'chatgpt-api', 'awesome-lists', 'angular-2', 'codegen', 'nsga', 'hsts', 'gestures', 'ohmyfish', 'ctr', 'pip', 'software-analysis', 'argocd', 'naiveproxy', 'otx', 'type', 'openapi-generator', 'profit', 'x64', 'forkjoinpool', 'data-generator', 'minify-images', 'question-answering', 'regex', 'microservices-application', 'vehicle-dynamics', 'axios', 'singing-voice-synthesis', 'linked-list', 'bevy', 'mem-reduct', 'flutter-apps', 'dotfile-management', 'opengl', 'curated-sources', 'astropy', 'shell-utilities', 'iot-edge', 'visualize-data', 'stfw', 'dockerfiles', 'phaser-development', 'two-factor-authentication', 'gui-framework', 'grow', 'cppwinrt', 'git-database', 'zipkin-sleuth', 'shadowrocket', 'winapi', 'docker-drupal', 'safety-standards', 'materialize', 'ecmascript-parser', 'exploit', 'm3u8dl-cli', 'hive', 'css-variables', 'vue-component', 'security-automation', 'exfiltration', 'windows-universal', 'autoselect', 'plug-ins', 'arrow', 'm68k', 'cask', 'transaction', 'pyqt6', 'hotmail', 'archival', 'bittorrent-trackers', 'prezto', 'colorspace', 'coreboot', 'odin-lang', 'dbms', 'imsi-numbers', 'spring-cloud-core', 'phodal', 'diffs', 'apollographql', 'visualization-grammar', 'siri', 'svg-images', 'amongus', 'osint-reconnaissance', 'google-dorks', 'multicore', 'stepwise-regression', 'arm6', 'ag', 'openai', 'lda', 'publicsuffix', 'continuous-integration', 'spring-cloud-proxy', 'nmap-results-analyse', 'dubbo', '2000', 'wandb', 'edx-dl', 'topic-modelling', 'bootstrap4-theme', 'mocking', 'toolchain', 'wechat-sdk', 'accounts', 'imageview', 'data-analytics', 'pe-to-shellcode', 'variational-inference', 'site-reliability', 'chunked-transmission', 'kubernetes', 'soundcloud', 'cncf-project', 'mindoc', 'html-parser', 'polybar-config', 'octant', 'repositories', 'findindex', 'xlsx', 'websockify', 'm1', 'aot', 'bargraph', 'custom-transitions', 'jax-rs', 'color-science', 'typo-tolerance', 'wechattweak', 'procyon', 'marshalling', 'patterns', 'vst', 'web-builder', 'powershell-script', 'profiler', 'telegram-bot-sdk', 'cbv', 'speech', 'dom-manipulation', 'jquery-tips', 'georeferencing', 'conventions', 'google-storage', 'windows-driver', 'fit-tsne', 'mdl', 'bloc', 'neuroimaging', 'spritesheet', 'differential-equations', 'cloud-management', 'works-with-clojurescript', 'wireguard', 'esolang', 'binlog', 'bt', 'allinonehackingtool', 'yolov4', 'popover', 'apple-swift', 'coremotion', 'transformer', 'nfc', 'privacy-tools', 'data-structure', 'openrct2', 'kv', 'kotlin-language', 'omni-notes', 'kotlin', 'ios-library', 'cheatsheet', 'native', 'din', 'steamtools', 'open-vocabulary-detection', 'entity-linking', 'crunchbase', 'nickname', 'best-trackers', 'linuxkit', 'hiring-without-whiteboards', 'modular', 'mpd', 'publish-subscribe', 'exchange', 'php-micro-framework', 'awesome-repositories', 'bootstrap4', 'pip-compile', 'hid', 'event', 'quicklook', 'shap', 'cve-2021-3129', 'ocean', 'vendor', 'samba', 'cairo', 'cosmicmind', 'graphics-library', 'photos', 'opencore-amr', 'icon-packs', '3d-globe', 'doge', 'big-model', 'admin-dashboard', 'tsn', 'deep-face-swap', 'nvidia-docker', 'p1', 'debugging', 'bitwarden', 'data-manipulation', 'asynchronous-context', 'hiring', 'motion-detection', 'ack', 'javascript-engines', 'web-design', 'laravel-docker-compose', 'kubernetes-distribution', 'backblaze-b2', 'tensorflow-tutorial', 'fribidi', 'xray', 'commonmark', 'mobilenet', 'attendance-system', 'ip-address', 'm3u8-downloader', 'portfolio-template', 'performance', 'ssdb', 'developers-everyday-life', 'audio-library', 'network-automation', 'logitech', 'roberta-wwm', 'telegram', 'casaos', 'katex', 'react-rails', 'sprintf', 'torrents', 'wiki-documentation', 'enhancements', 'units', 'zfaka', 'loading-animation', 'operator', 'task-switcher', 'phishing', 'avalonia', 'nvim-configs', 'crawlab', 'node-based-ui', 'rabbitmq', 'multiplatform', 'dva', 'network-programming', 'k-nearest-neighbours', 'retrocomputing', 'android-architecture', 'torch', 'dotnet-framework', 'slot-filling', 'entertainment', 'arm', 'swig', 'ssh-keyscan', 'libuv', 'grpc-gateway', 'twitter', 'softcore', 'pikachu', 'content-security-policy', 'api', 'tcp-client', 'cve-scanner', 'yandex-extension', 'functional-languages', 'cloudos', 'scsynth', 'compose', 'notifications', 'rfc8555', 'nuclei', 'fluentnhibernate', 'opc-ua', 'tnn', 'no-electron', 'ent', 'history', 'shell-theme', 'serialization-library', 'image-processor', 'data-viz', '100-days-of-ml-code', 'redis-interfaces', 'dem', '3d-map', 'preparation', 'hack', 'trpc', 'ios-calendar', 'photogrammetry', 'quill', 'sysprep', 'paypal', 'flight', 'ctypes', 'webp', 'pdf-manipulation', 'laravel-application', 'disaster-recovery', 'notification-hub', 'nbgrader', 'githubprofile', 'completions', 'music-streaming-client', 'tests', 'suspense', 'robotframework', 'deception', 'mobilenetv2', 'tamperproof', 'musl', 'text-mining', 'http-tunnel', 'redis-py', 'frontend-jobs', 'mush', 'jwt-server', 'rhythm', 'dbus', 'vite', 'h5-editor', 'contenteditable', 'rogue', 'dislikes-count', 'ariadne', 'almalinux', 'opera-extension', 'clair', 'gpt', 'editorjs', 'aiops', 'scrapyd-monitor', 'gong-wpf-dragdrop', 'download-manager', 'jeecg', 'robocode', 'trac', 'school-management-software', 'identityserver4', 'sensitive-data-exposure', 'rawon', 'hexdump', 'experiment-tracking', 'changedetection', 'archlinux-installer', 'etl-framework', 'alt-tab', 'klipse-plugin', 'wiretrustee', 'infection-monkey', 'libass', 'libvorbis', 'react-boilerplate', 'digital-logic', 'reactive', 'codemirror-editor', 'dayjs', 'video-search', 'ips', 'amazing', 'behavior-analysis', 'beef', 'scrapyd-api', 'runescape', 'yolov7', 'auto-volume', 'pre-commit-hook', 'audiobook-manager', 'invoice', 'osdev', 'steam-network', 'buildroot', 'vtuber', 'es2017', 'userscript', 'd3d9', 'winget', 'likeview', 'caddyfile', 'objc', 'nocode', 'carbon-emissions', 'draw', 'justauth', 'login', 'oauth-server', 'labstack-echo', 'feature-rich', 'offline-mode', 'intelbluetoothfirmware', 'timer', 'mojs', 'room-database', 'non-blocking', 'monitor-mode', 'libre-software', 'dom-apis', 'windows-mobile-security', 'carbon', 'revanced', 'interactive-snippets', 'home-server', 'zsh-plugins', 'android-interview-questions', 'todoapp', 'banner', 'score-based-generative-modeling', 'ncnn', 'classification-model', 'sast', 'harvardx', 'entropy', 'orm-framework', 'pdp-8', 'painting-translation', 'superagent', 'osu', 'reproducible-research', 'angular-library', 'knative', 'gles', 'segment', 'antivirus', 'messaging', 'homekit-bridge', 'backdoor', 'fault-handler', 'hacks', 'clappr', 'content-management-system', 'rhythmbox', 'hessians', 'admin-panel', 'html5-game-development', 'nginx-annotate', 'gopro', 'iridium', 'vision-language', 'appicon', 'sd-cards', 'taskbar', 'images', 'turtle-rdf', 'collapse', 'suggestion', 'electron-updater', 'query-builder', 'jwt-auth', 'selector-strings', 'jws', 'avx512', 'twemoji', 'rest', 'machine-learning', 'metallica', 'goctl', 'wineprefix', 'tickets', 'velociraptors', 'computer-vision', 'argo-workflows', 'portfolio-website', 'branch-transactions', 'microkernel', 'yahfa', 'guava', '3d-reconstruction', 'supabase', 'navidrome', 'declarative-ui', 'parcel', 'gnu', 'human-segmentation', 'docker-monitoring', 'udp', 'superset', 'rust-lang', 'receiver', 'popup-menu', 'design-patterns-for-humans', 'godotengine', 'openapi3', 'batch-script', 'perl', 'user-profiles', 'python-requests', 'alpaca', 'queue', 'multiprocessing', 'openlara', 'fswatch', 'headless-browsers', 'elixir', 'screensaver', 'suffix', 'matrix-factorization', 'servers', 'pybind11', 'reactjs', 'rop-chains', 'ntopng', 'typescript-definitions', 'anndata', 'non-blocking-io', 'encryptions', 'reconnaissance', 'retinanet', 'tmux-configuration', 'changepoint', 'image-compression', 'lightgbm', 'swift-programming', 'static-types', 'sozi', 'inception', 'menus', 'shoppingview', 'assets-management', 'dds', 'rpi3', 'decentralized-database', 'flatlist-based', 'arpg', 'terrain', 'lua', 'gltf-viewer', 'audio-research', 'kosmos', 'xmrig', 'bootstrap-table', 'sixel', 'optimizers', 'beautify', 'organizr', 'wallpaperengine', 'image-segmentation', 'mitre-attack', 'huaban', 'react-architecture-patterns', 'rbt', 'protection', 'subdomain-enumeration', 'profiling', 'quadcopter', 'sound-classification', 'yara', 'referenceerror', 'github-flavored-markdown', 'subdomains-monitoring', 'barcode', 'vulnerability-management', 'developer-portal', 'twisted', 'exoplayer2', 'thinkphp', 'ss-panel', 'triplet-loss', 'subbrute', 'native-packages', 'droid-plugin', 'ip-sockets', 'gif', 'interceptor', 'board', 'ecog', 'symlink-alternative', 'post-mortem', 'gfx-rs', 'positioning-engine', 'utm', 'openshift-origin', 'lora', 'security-researchers', 'no-std', 'nwjs', 'pipeline-debt', 'fingerprinting', 'psr-3', 'privacy-protection', 'uas', 'critical-path-css', 'mock', 'bitcoin', 'messaging-api', 'cloudflare-workers', 'business-analytics', 'citypicker', 'sonarr', 'sponsorblock', 'userchromecss', 'knn', 'opensky-network', 'tray', 'scalable', 'rss-feed', 'crd', 'headless-ui', 'twelvemonkeys-imageio', 'opensky', 'spotify-api', 'software-management', 'gui-programming', 'test-suite', 'fancy', 'sonarqube', 'quantum-circuits', 'lidar-inertial', 'c-sharp', 'dork', 'krakatau', 'tracking-algorithm', 'docker-toolbox', 'bloggers', 'loaders', 'chinese-traditional', 'developer-experience', 'safety', 'service-mesh', 'leak-trace', 'takeover', 'flutter-fair', 'argument-parser', 'adult-video', 'rust-library', 'handbook', 'admin-theme', 'financial-markets', 'quadruped-robot-gaits', 'steam', 'dweb', 'test-drive', 'syntax-highlighting', 'zaproxy', 'alda', 'conventional-changelog', 'ddc', 'edge-cases', 'art-qr', 'http-flv', 'fireeye-flare', 'gpx', 'multi-language', 'blend-modes', 'async-programming', 'gitbucket', 'tester', 'data-validation', 'ncm', 'metrics-gathering-daemon', 'system-monitor', 'ga', 'scrape', 'unifi-dream-machine', 'windows-subsystem-linux', 'compiler', 'www', 'ethics', 'easy', 'p2p', 'diagnostics', 'wii-u-emulation', 'ai-assistant', 'icon-font', 'scrollview', 'xlm-e', 'diablo', 'farmer', 'symbolic-regression', 'office-addin', 'userbot', 'shiny-themes', 'deepspeech', 'k8s', 'opa', 'xss-detection', 'z80', 'awesome-list', 'hyperparameter', 'java8', 'dynamic-analysis', 'linq-to-xml', 'computer-graphics', 'forecasting', 'concepts', 'udm', 'types', 'qv2ray', 'e2e-tests', 'integration', 'sneakers', 'uprobes', 'disqus', 'graph-attention-model', 'wechattweak-macos', 'cube-ui', 'psr-7', 'fantasy-computer', 'rtmp', 'parenting', 'cryptohash', 'quantum-ai', 'avif', 'searches', 'works-with-quasar', 'ergonomics', 'languageclient', 'xposed-framework', 'ffi', 'xss-bruteforce', 'gdb-ui', 'pcb', 'pretty-printer', 'dtm', 'blitzjs', 'multibody-dynamics', 'd4m', 'ipfs-web', 'render-props', 'wechat-app', 'vanilla', 'rubynlp', 'programmers', 'jitsi-meet', 'ppm', 'apk', 'archcraft', 'linux-desktop', 'bert-wwm', 'flannel', 'quora', 'data-parallelism', 'adi1090x', 'afk', 'barcode-scanner', 'onnxruntime', 'focus-shifters', 'xxl-job', 'uncertainty-estimation', 'multimodal-deep-learning', 'ssg', 'states', 'vpn-protocols', 'netease-cloud-music', 'tooling-team', 'test', 'dynamic-module', 'prediction', 'illa', 'cars', 'peazip', 'rce', 'lamp', 'mvp-library', 'svgo', 'zyplayer', 'crud', 'guid', 'api-test', 'graph-classification', 'ahooks', 'sequencing', 'bruteforce', 'latex', 'argh', 'encodings', 'importexport', 'cvxpy', 'multiple-process', 'webauthn', 'springmvc', 'bloatware', 'jar', 'cocoa', 'ramfs', 'language-team', 'classyshark', 'domain-sockets', 'vertical-slices', 'oneforall', 'seata', 'breakpoint', 'adsbx', 'robotics', 'lms', 'storefront', 'mocking-framework', 'speech-translation', 'nginx', 'bigbluebutton', 'model-view-presenter', 'obfuscation', 'speedometer', 'metadata', 'oss', 'retrofit2', 'm4a', 'steam-games', 'programming-language', 'tcp', 'dga', 'workflows', 'osmocombb', 'cn', 'azkaban', 'usdt', 'ethical-hacking', 'pureconfig', 'intent-classification', 'github-dns', 'shim', 'cloud-native', 'pipeline', 'retool', 'underscore', 'block-based', 'resilience', 'data-labeling', 'pcx', 'assistive-technology', 'memory-leak', 'redisson', 'x', 'gtk4', 'sclang', 'autorun', 'ble-beacons', 'commandline', 'a-frame', 'modeling', 'tabs', 'multiple-thread', 'containerd', 'avplayer', 'todoist-api', 'blazingly-fast', 'vision-language-pretraining', 'postman-collection', 'okr', 'software', 'real-time-strategy', 'gogs', 'orchard-cms', 'creators', 'post-exploitation', 'saml', 'onemore', 'terminal-color', 'ed25519', 'halocms', 'mybatis-spring', 'xorm', 'urlhaus', 'android-cleanarchitecture', 'openstreetmap', 'textutil', 'posix-sh', 'directshow', 'bypass-gfw', 'devirtualizer', 'credit-card', 'powerlevel10k', '3d-tiles', 'syft', 'qart', 'ragnarok', 'open-source-project', 'octave', 'flutterp', 'global-health', 'clr', 'darkside', 'meowcat', 'spring-cache', 'watermark', 'bytecode', 'dockerhub', 'behavioral-interviews', 'tsx', 'magisk-module', 'github-readme', 'article-publisher', 'dubbox', 'machine-learning-interpretability', 'terminal-emulators', 'boto', 'rstats', 'common-lisp', 'kernel-methods', 'tracing', 'sso', 'love2d', 'qgroundcontrol', 'wallpaper', 'remake', 'agent', 'cpp11', 'lolbins', 'highlight', 'fluid', 'zsh-completions', 'overview', 'imgui', 'iml', 'dialogs', 'forensics', 'orangepi', 'cpp20', 'forensic-image-analysis', 'openbb', 'xlswriter', 'interpreter', 'migration', 'eventsourcing', 'utility-classes', 'storm', 'light-theme', 'transient-fault-handling', 'eye-care', 'learn-to-code', 'kaggle', 'material-icons', 'qksms', 'rsyslog', 'pe-format', 'core', 'loadbalancing', 'gdbgui', 'pico8', 'cve-2020-17518', 'sage', 'hitag2', 'aria2', 'gzip', 'yamllint', 'audiobookshelf', 'netflix', 'w3c-webdriver', 'freepascal', 'airsonic', 'web-icons', 'node-js', 'hanlp', 'buds-pro', 'javascript-programming', 'protocol', 'harvesters', 'unmaintained', 'angular2', 'leetcode-golang', 'visual-inertial-odometry', 'java-8', 'wpf', 'animated-transitions', 'codex', 'payroll', 'elementary-apps', 'season', 'cranelift', 'soap-client', 'system-design', 'web-worker', 'learning-by-doing', 'deep-learning', 'bitstream', 'admin-panels', 'multidimensional-arrays', 'a320', 'pluggable-transports', 'pgadmin', 'dbeaver', 'gorilla-websocket', 'azurlane', 'splunk', 'api-documentation', 'leadership', 'actions', 'mongodb', 'cloudfront', 'dns-server', 'ssh-authentication', 'jvm-monitor', 'document-embedding', 'sqlserver', 'command-line-utility', 'deepfm', 'weui', 'rdp', 'google-kubernetes-engine', 'studygolang', 'wine', 'game-library', 'ole', 'wav2lip', 'transition-animation', 'vbnet', 'faas-framework', 'crawling-tasks', 'http-request', 'serverless-functions', 'overlays', 'php-docker-image', 'admin', 'immersive', 'cui', 'kitematic', 'phishing-attacks', 'assembler', 'hero', 'microservices-architecture', 'image-loader', 'interface', 'color-spaces', 'cxx17', 'itsm', 'sdr', 'bbs', 'interviewing', 'traffic-simulation', 'authz', 'joshuto', 'nav', 'game-server', 'firmware', 'tcc', 'sonoff', 'next-auth', 'design-system', 'img2img', 'iam', 'meteor', 'airodump-ng', 'cloudmusic', 'async-functions', 'low-code-framework', 'sre-culture', 'wii-u-emulator', 'termion', 'psr-15', 'kubeless', 'extensions-firewall', 'conference', 'highlighting', 'relax', 'material-design', 'anti-xss', 'epubcheck', 'sandhook', 'mysql-driver', 'anti-996', 'agregation', 'dns-over-https', 'wonderful', 'contribution', 'built-with-rust', 'reagent', 'notepad-plus-plus', 'yii', 'semantic-parsing', 'linked-data', 'xray-panel', 'internet', 'generative-art', 'youtube-client', 'html5-boilerplate', 'blazor-master', 'data-science', 'javafx', 'shell-prompt', 'shard', 'network-clustering', 'vless-grpc', 'blazor', 'network-embedding', 'json-viewer', 'htr-tech', 'dmg', 'archivebox', 'concatenative', 'text-annotation', 'curriculum', 'inav', 'status-bar', 'ffm', 'pre-commit', 'rofi-themes', 'wechat-launchbar', 'sql-audit', 'imbalanced-classes', 'sled', 'hotkeys', 'widget', 'reconstruction', 'changelog-generator', 'material-ui', 'vagas-para-desenvolvedores', 'winui', 'healthcare', 'x11-wm', 'broodwar', 'chat-application', 'gitlab', 'arbitrage', 'vuejs3', 'attestations', 'websites', 'lodash', 'seq2seq', 'command-line-app', 'zsh-users', 'crawler', 'gpgpu', 'drawdown-model', 'sprockets', 'mouse', 'material-shell', 'composition', 'rtcdatachannel', 'explainable-ai', 'unlinkability', 'confirm', 'cron-jobs', 'evernote', 'gpl', 'tikz', 'snark', 'adminpanel', 'dxvk', 'manipulation', 'networking', 'nvim-plugin', 'pwa-apps', 'rvea', 'mesos', 'kafka-connect', 'fasthub', 'kubernetes-cluster', 'ws2813', 'graphql-api', 'multi-tenant', 'universal', 'grid', 'sockjs', 'vimrc', 'virtual-reality', 'gesture-recognition', 'foss', 'matrix-library', 'custom-ruleset', 'rocm', 'labeling', 'webapi', 'nx-workspaces', 'router', 'comic', 'games', 'netfiltersdk', 'xray-core', 'poco', 'memory-management', 'realtime-games', 'ml-platform', 'chroot', 'io', 'csa-iot', 'agile-development', 'wayback-machine', 'cherrypy', 'data-table', 'uml-diagrams', 'adjacency', 'cryptomator', 'secure-computation', 'pixel', 'anbox', 'tweets', 'works-with-vue', 'spectral-dataset', 'android-open-source', 'praw', 'inferno', 'electronics', 'dependency-checker', 'multidex', 'darkflippers', 'reservoir-modeling', 'rss', 'indexing', 'eyes', 'site', 'tar', 'blue-team', 'netcore-mvc', 'polyglot-microservices', 'async-context', 'sha-1', 'scrobbler', 'hacking-script', 'coding-conventions', 'autoload', 'parallel-computing', 'automated-testing', 'colour-science', 'arduplane', 'database-schemas', 'css-standards', 'phaser3', 'event-notifications', 'vector-tiles', 'virtual-youtuber', 'data-breach', 'natural-language-processing', 'adsp', 'modflow', 'privacy-preserving-ml', 'zendesk', 'mtproto', 'elementplus', 'ci-cd', 'trigger', 'text-based-adventure', 'select', 'instantsearch', 'show-busy-java-threads', 'airflow', 'concurrent-programming', 'intellij-platform', 'misuse-resistant', 'solid', 'swagger-js', 'sccm', 'nonlinear', 'bind-shell', 'oauth2', 'voice-recognition', 'faker', 'immersion', 'edmonds-karp-algorithm', 'leancloud', 'fun', 'ublox', 'financial-data-analysis', 'opensourceforgood', 'todotxt', 'embeddings-similarity', 'dx12', 'olap', 'misp', 'c-compiler', 'watchtower', 'holographic', 'control-flow', 'electron-packager', 'git-for-databases', 'marked', 'simplefolio', 'bladerf', 'bitnami', 'algolia', 'oscp', 'onset', 'tacotron2', 'python-notebook', 'openbsd', 'xmonad', 'client-lib', 'responsible-ai', 'osint-python', 'adversarial', 'wechaty', 'rime-custom', 'aiml', 'guides', 'r18', 'notion-alternative', 'uni-app', 'chinese-bert', 'digital-publishing', 'keystonejs', 'gs1-128', 'shade', 'pyqt5', 'msw', 'vitest', 'gpg', 'minimal', 'mqtt', 'storage-servers', 'opc', 'censorship', 'pypi', 'apprise', 'gwk', 'retry', 'tcas', 'stress', 'radio', 'detr', 'cesium', 'eventing', 'xposedmodule', 'visualization-curriculum', 'secure-boot', 'deepfacelab', 'vt340', 'tautulli', 'design-thinking', 'docker-compose', 'genome', 'layui', 'pdf', 'immutable-infrastructure', 'netcore', 'ws2812b', 'rubyml', 'robotgo', 'linting-rules', 'top2vec', 'libtorch', 'readme-md', 'timeout', 'libgdx', 'sqs', 'nodejs', 'lte', 'cryptography-library', 'portainer', 'dashboard-templates', 'monitor', 'automation', 'neteasecloud', 'cleandata', 'aur-packages', 'gaussian-mixture-models', 'packet-parsing', 'bootable-drives', 'malware-analysis', 'python39', 'trojan-gfw', 'webrtc', 'xuexi', 'material-design-3', 'reference', 'raft', 'tree-sitter', 'multiboot', 'pos-tagging', 'eladmin', 'lama', 'tangshi', 'restic', 'leetcode', 'rocket-chip', '3d', 'apple-silicon', 'alternatives', 'tailscale', 'espanso', 'datascraping', 'nuget', 'docker-homebridge', 'hexo', 'freedom-of-speech', 'googlelogin', 'beginner', 'sdwebimage', 'react-sketchapp', 'satellite-imagery', 'electron-app', 'concept-drift', 'conference-talk', 'windows-app', 'macos-app', 'art-qrcode', 'pbft', 'peregrine', 'mmap', 'hover-effects', 'reliability-engineering', 'sdrplay', 'mongodb-orm', 'critical-css', 'flipper', 'worker', 'protobuf', 'org-mode', 'disk-space', 'walker', 'purchase', 'upspin', 'super-resolution', 'plugin-framework', 'webtransport', 'yt-dlp', 'sparse-systems', 'angular2-directive', 'steambot', 'meta-learning', 'nginx-configuration', 'dl4j', 'backend-api', 'fast', 'web-ide', 'emacs-lisp', 'sentence-embeddings', 'phaser-game', 'jackett', 'dashboard', 'scanner-app', 'zerossl', 'ava', 'aur-completions', 'cropperjs', 'ebs-volumes', 'todos', 'blazor-application', 'spectral-datasets', 'sidekick', 'active-record', 'network', 'hacker', 'genetic-programming', 'powerline-fonts', 'temporary-credentials', 'appcenter', 'nanodet', 'bwapi', 'widgets', 'robot-programming', 'lastindexof', 'formula', 'archiving', 'taint-analysis', 'data-collection', 'handwriting', 'password-attack', 'browser-fingerprinting', 'infrastructure-automation', 'design', 'convoy', 'container', 'arrayfire', 'passport', 'react-renderer', 'iot-device', 'streamer', 'roguelike', 'hidden-markov-models', 'bootstrap-template', 'site-builder', 'aur', 'mask-rcnn', 'multi-platform', 'actor-model', 'koin-android', 'serenityos', 'automatic-differentiation', 'similarity-searches', '12-factor-app', 'tips', 'modelling', 'pgsql', 'wechatpay', 'incident-management', 'bidict', 'colour-spaces', 'virtualreality', 'self-driving-car', 'proof-of-work', 'running', 'lidar-odometry', 'tree-ensemble', 'emergency-squawk', 'windows-8-1', 'neutrino', 'log', 'vulnerabilities', 'cross-lingual', 'oh-my-zsh', 'conversational-ai', 'distribution-electron', 'ipywidgets', 'stack', 'voice-synthesis', 'chromium', 'unreal-engine', 'gtk', 'lesspass', 'deep-learning-tutorial', 'windows-10', 'b-plus-tree', 'game-frameworks', 'neovim-dotfiles', 'transloadit', 'qt-framework', 'openebs', 'objects-namespace', 'tensors', 'vhdl', 'scaffold', 'sftp', 'transaction-manager', 'angular-component', 'meson', 'drums', 'iosopendev', 'programming-contests', 'freess', 'llm', 'rootkit', 'antivirus-evasion', 'azur-lane', 'game-boy-advance', 'ocaml', 'uvm', 'thanos', 'authorization', 'data-profiling', 'erp', 'aspnet-mvc-5', 'android-interview-practice', 'typescript-compiler', 'rtc', 'bayesian-inference', 'credit-card-fraud', 'anime', 'gameengine', 'dynamic-time-warping', 'attack', 'foundationdb', 'winappsdk', 'update', 'sickbeard', 'xlsxwriter', 'dx', 'vanced-developers', 'pm2', 'nitter', 'swagger-specification', 'naming-conventions', 'landing-page', 'bun', 'amqp', 'low-code-visual-designer', 'css-performance', 'guardrail', 'playback-controls', 'testssl', 'compensation', 'mnasnet', 'identifiers', 'dbcli', 'json-api', 'fuzzy-search', 'fold', 'metosin-active', 'pcsc-lite', 'science-fiction', 'agenda', 'collaborative-writing', 'multiple-languages', 'findbugs', 'url-upload', 'humans', 'postgres-pager', 'kustomize', 'ml-infrastructure', 'badge', 'mangle', 'esp8266', 'pornblocker', 'cortex-m', 'database-driver', 'ddd-architecture', 'post-processing', 'kotlin-dsl', 'discord-bot', 'knowledge-graph', 'lidar', 'react-components', 'libtheora', 'gmusicapi', 'ebpf', 'onenote-extension', 'color-space', 'readiness', 'geth', 'drawio', 'user-management', 'lolscripts', 'vst-plugin', 'intel-bluetooth', 'appx', 'preprocessor', 'bitbar', 'looking-for-contributors', 'ssl-certificate', 'inline-styles', 'engineering-team', 'qiang-guo', 'sha3-384', 'railway-oriented-programming', 'twig', 'strategy-agent', 'interview', 'nes-emulator', 'zhihu', 'sim', 'xorg', 'evm', 'beit', 'pinetime', 'steam-api', 'data-channel', 'screen', 'itsdangerous', 'multimc', 'czml', 'streaming-api', 'rice', 'telegram-bot-api', 'gallery', 'data-fetching', 'drools', 'bloom-filters', 'consensus', 'business-process', 'latex-template', 'testing-library', 'search', 'pentesting-tools', 'fork', 'mpp', 'feature-introductions', 'code-scanning', 'amazon-cognito', 'particles', 'multimedia', 'beginners', 'shapeless', 'ad-blocker', 'thymeleaf', 'continuous-localization', 'churn', 'shadowsocks', 'markdown-flavors', 'privacy-enhancing-technologies', 'volkswagen', 'granular-dynamics', 'chess', 'date-fns', 'earth-observation', 'change-alert', 'coding-challenges', 'typora', 'iac', 'retinaface', 'named-entity-recognition', 'rest-countries', 'cv', 'mockgen', 'frequency', 'electron-vue', 'teaching-tool', 'anime4k', 'http-proxy', 'upload', 'shadowsocksr', 'learning-rxjava', 'mx-master-mouse', 'terraform-provider', 'javascript-tests', 'gstreamer', 'iff', 'hook', 'ios-transition', 'software-testing', 'ncurses-tui', 'graphing', 'ipad', 'multimodal-pre-trained-model', 'credential-manager', 'neural-machine-translation', 'flow', 'html-to-markdown', 'sslsplit', 'scrapyd-manage', 'mactype', 'offline', 'game-programming', 'cryptocurrency', 'ssh-client', 'markdown-to-pdf', 'excel-export', 'heterogeneous-training', 'remote-job', 'regexp', 'resolution', 'rengine', 'cnn-classification', 'json-diff', 'slf4j', 'suggester', 'wwdc', 'onnx', 'libpcap', 'php', 'terraria-server', 'hmi', 'notification', 'ipfs-gui', 'newbee-mall-vue3', 'aurelia-framework', 'reverse-engineering-tutorial', 'neorg', 'crop', 'dpdk', 'well-architected', 'web-search', 'mutation-analysis', 'angular-components', 'flatbuffers', 'kindle', 'decentralized-exchange', 'libvirt', 'logic-gates', 'x11', 'astronomy', 'nzb', 'bootstrap-themes', 'pokedex', 'miner', 'tagged-template', 'lvgl', 'hevc', 'knowledge-management', 'quasar-framework', 'zoom-images', 'computer-animation', 'weixin-tweak', 'gps-tracking', 'dorks', 'out-of-core', 'anticensorship', 'play-games', 'protobufs', 'redteam', 'dotnet6', 'twitter-bootstrap', 'color-temperature', 'spreadsheet', 'career', 'xml-parser', 'mlflow', 'snippets-collection', 'postfix', 'nes', 'rdf-xml', 'dbt-viewpoint', 'webrtc-demos', 'icc-profiles', 'projectile', 'steganography', 'uwp', 'fluent-ui', 'unity3d-plugin', 'altcoins', 'search-algorithm', 'intrinsics', 'grain', 'code-formatter', 'helmet', 'vfx', 'ouster-slam', 'gpen', 'swiftui', 'qrcode', 'node-version-manager', 'asciimath-notation', 'cloud-storage', 'nvim-lua', 'telegram-group', 'mascot', 'weights-and-biases', 'pyside6', 'swagger', 'aleo', 'matchmedia', 'bulma', 'seo', 'javascript-drag', 'ant-colony-optimization', 'vehicle-security', 'webscan', 'online', 'deb', 'bypass-antivirus', 'lightbox', 'erc20-tokens', 'a7', 'static-analyzer', 'mint-lang', 'sflow', 'hubic', 'phone', 'cookbook', 'pulsar', 'moneyutil', 'ehcache', 'support-vector-machines', 'hacktoberfest2023', 'next', 'devops-tools', 'autopep8', 'mqtt-client', 'nano', 'askama', 'subconverter', 'fix-yahoo-finance', 'top', 'higher-order-component', 'blazor-interop', 'paru', 'open-ended-evolution', 'er-diagram', 'rendering', 'wifi', 'system-monitoring', 'liquid', 'gcp', 'password-vault', 'guest', 'alibaba-middleware', 'conversation-driven-development', 'norevoke', 'efficientnet', 'test-data', 'skewed-data', 'bot', 'raspberry-pi', 'retroarch', 'quantum-chemistry', 'redux-form', 'mailcow', 'starboard-notebook', 'linux-app', 'dx11', 'html5-video', 'primer-css', 'vision-and-language-pre-training', 'sketchybar', 'animatedswitcher', 'openresty', 'investment-portfolio', 'puppeteer', 'testify', 'syntax-highlighter', 'job-search', 'low-code', 'disturbance-observer', 'express', 'springboot-learning', 'digipres', 'gin-vue-admin', 'startups', 'repository-management', 'cheminformatics', 'live2d', 'video-selector', 'wgan-gp', 'bulk-uninstall', 'themes', 'datacleansing', 'data-generation', 'overscroll', 'viewer', 'ponylang', 'facebook', 'serialization', 'jwt-tokens', 'nvim', 'postgis', 'cobra-library', 'profile-readme', 'multimedia-framework', 'finite-state-machine', 'steam-client', 'wordnet', 'auditor', 'bash-completion', 'hash', 'software-quality', 'parallelism', 'podcast', 'fontfaceobserver', 'etcher', 'kops', 'content-moderation', 'smart-home', 'subghz', 'jquery-plugin', 'subdomian-find', 'vp9', 'javassist', 'room-persistence-library', 'calendar-widget', 'autoint', 'google-sheets', 'dotnet', 'kubernetes-cli', 'renderless-components', 'commenting', 'go-admin', 'static', 'ml', 'explorables', 'startup-items', 'vue-cli3', 'dns-controller', 'debugging-tools', 'csharp', 'jxl', 'web-builder-framework', 'pace-js', 'load-tests', 'honeypot', 'debezium', 'uuid', 'regression-models', 'among-us', 'private-server', 'api-gateway', 'point-clouds', 'git-sql', 'linuxboot', 'vulnhub', 'windows-privilege-escalation', 'song-lyrics', 'diy-tool', 'deepin', 'pgfplots', 'ios-libraries', 'atx', 'catserver', 'epic-games-launcher', 'evtol', 'browser', 'website-monitor', 'statistical', 'binding-generator', 'database-access', 'wayland', 'drones', 'v2signingenabled', 'mysql-compatibility', 'windows-7', 'miniprojects', 'dataframe-library', 'rosbag', 'efficientnet-training', 'lyrics', 'openxml', 'podcast-client', 'file-management', 'xlsx-files', 'transparency', 'rate-limiting', 'surfboard', 'exploration', 'zll', 'esrgan', 'transmittable-thread-local', 'chinese-poetry', 'machine-learning-api', 'pg-monitor', 'pysimplegui', 'zendframework', 'gameboy-advance-emulator', 'weibo', 'widgetutil', 'nfv-framework', 'customizable', 'google-analytics', 'proxies', 'rutorrent', 'business-intelligence', 'stmicro', 'virtual-machine', 'ecommerce', 'magnifier', 'shapley', 'tailwind', 'format', 'emotion', 'gpu-computing', 'devtool', 'adapter', 'yii1', 'slam', 'assert', 'design-patterns', 'rsa-key', 'autodl', 'dev', 'bdf', 'scalability', 'fem', 'tls13', 'bash-hacks', 'game-backend', 'vision-transformer-models', 'facebook-cards-loaders', 'wwan', 'skills', 'xss-python', 'graph-algorithms', 'rpa', 'neon', 'string', 'continuous-scanning', 'backend', 'besthackingtool', 'microservice-framework', 'sanic', 'task-queue', 'modem', 'postgresql', 'cpp', 'command-and-conquer', 'manipulate', 'scratch', 'c2', 'muduo', 'colors', 'responsive-charts', 'assemblyscript', 'download', 'risc-v', 'code-snippets', 'pyttsx3', 'os', 'license-management', 'tiling-window-manager', 'interactive-brokers', 'watchos-development', 'avx', 'eyetracking', 'h2o-automl', 'basemap', 'esmm', 'pretrained-models', 'matlab-schemes', 'dos', 'android-ffmpeg', 'wtforms', 'redis-gui', 'pyspark', 'websocket-client', 'create-t3-app', 'desktop-application', 'synchronization', 'graph-based', 'mindfulness', 'pgp', 'nsa', 'prometheus-ha-pairs', 'android-interview-question', 'ipython', 'macos-menu', 'gifmaker', 'marketing', 'mutation-testing', 'aws-security', 'high-resolution', 'packet', 'qtox', 'lisp', 'text', 'pipfile', 'poi', 'rfc-7049', 'libav', 'pytorch-unet', 'sentence-representations', 'audio-fingerprinting', 'riscv', 'jsdoc', 'apple-tv', 'hacking-vehicles', 'mobile-security-framework', 'databricks', 'ibatis-sql', 'sysctl', 'whoops', 'botsort', 'imagenet', 'obfuscate', 'recursor', 'aaron-swartz', 'squirrel', 'retina-flash', 'linting', 'plexdrive', 'software-engineering', 'medical-information', 'jsp', 'qbittorrent', 'bcf', 'windivert', 'seccomp', 'redis-module', 'feed', 'hostseditor', 'x64dbg', 'nginx-zh-cn', 'fcm', 'olefy', 'popup-dialog', 'tailscale-control-server', 'pcapng', 'webgl2', 'stencil', 'code-generator', 'galgame', 'debian', 'privacy-pass', 'stale', 'typescript-node', 'image-background-removal', 'net', 'flying-car', 'linux-command', 'dislike', 'hls', 'homelab', 'qr-codes', 'rcswitch', 'load-generator', 'regl', 'css-reset', 'shiny-inputs', 'indexer', 'materializecss', 'tsdb', 'dynamic-wallpaper', 'arch-linux', 'wordlist-generator', 'neovim', 'odin-programming-language', 'senparc', 'remarkable-tablet', 'arm-templates', 'saas', 'webgl-spec-sheet', 'stabilization', 'frps', 'data-engineering', 'nucleo-boards', 'study-notes', 'mutation', 'drf', 'fault-injection', 'vdf', 'message-bus', 'github-client', 'codeigniter', 'tvm', 'opencl', 'etherpad', 'python-2', 'nintendo-switch', 'security-scanner', 'gfw', 'torchnlp', 'weak-passwords', 'linux-kernel', 'corona', 'meta', 'webpack', 'block-editor', 'google-chromium', 'stable-diffusion', 'whiteboard', 'ux', 'facebook-animation', 'lite', 'dolly', 'mailtrain', 'fabricmc', 'theme-next', 'bootstrap-wordpress', 'line-chart', 'image-labelling-tool', 'web-component', 'archive', 'click', 'thumbnails', 'perceptual-metric', 'vue-next', 'mobile-page-maker', 'moead', 'rofi-menus', 'segmentation', 'react-component', 'react-ui', 'searchguard', 'rp2040', 'source', 'apps', 'endless-sky', 'swinsian', 'kenburnsview', 'oracle', 'polling', 'security-protocol', 'parametric', 'trajectory', 'metal', 'caption', 'websocket-proxy', 'ratchet', 'swing', 'merkletree', 'sftp-client', 'kernelsu', 'far-manager', 'navigation-controller', 'macos-application', 'relocate', 'speech-recognition', 'cvar-optimization', 'payload', 'protoncontacts', 'growth', 'game-engine', 'vips', 'user', 'debugging-tool', 'torrent-client', 'vue-element-admin', 'commercial', 'loki', 'timeline-analysis', 'bookmark', 'selenium-server', '4x', 'nsq', 'popovers', 'open-policy-agent', 'openthread', 'social-media-filter', 'graphs', 'kitura', 'png', 'dualshock4', 'lit', 'recommender-system', 'large-scale-machine-learning', 'first-order-motion-model', 'vox', 'time-series-regression', 'media', 'resnet', 'rdflib', 'videocache', 'greenlet', 'phpexcel', 'binary-analysis', 'pyodide', 'mtproto-tls', 'leanback-launcher', 'security-toolset', 'adversarial-example', 'change-monitoring', 'intermediate-language', 'bootstrap-icons', 'gitops', 'bika', 'typora-themes', 'tamper-evident', 'tweaks', 'virtual-hosts', 'faker-generator', 'gitbook', 'su', 'lockpicking', 'raspberry-pi-os', 'conversation', 'simulator', 'markup-language', 'vant4', 'easter-egg', 'ardurover', 'stylelint', 'offsec', 'search-engines', 'mmoe', 'gui-window', 'music', 'apple-news', 'timerutil', 'hyper', 'laravel-countries', 'code-completion', 'pre-trained-language-models', 'validate', 'semantic-versioning', 'mypy-stubs', 'stretchr', 'poly1305', 'hentai-viwer', 'easyocr', 'infrastructure-services', 'user-stories', 'scientific-computing', 'cauldron', 'sso-authentication', 'no-revoke', 'java-to-kotiln', 'factor', 'three-js', 'dubbo-proxy', 'neural-network', 'certification', 'valve', 'ldap', 'static-analysis', 'weisfeiler-lehman', 'math-typesetting', 'modsecurity', 'forhumans', 'virtualization', 'datalake', 'libraries', 'mesh', 'helpdesk', 'tachidesk', 'hedgefund', 'convolutional-neural-networks', 'vue3-demo', 'wemos-d1', 'executable', 'lxml', 'powerrename', 'library', 'good-first-issue', 'ddos-attack-tool', 'keepass2android', 'awesome-webassembly', 'wm', 'threat-hunting', 'email-marketing', 'controlsfx', 'youtube-video', 'free-photos', 'namespace', 'eda', 'mopidy', 'metasploit', 'treemap', 'mud', 'pontoon', 'pep8', 'kivy', 'ops', 'mozilla-firefox', 'statusbarutil', 'javascript-library', 'enforce-policies', 'cve', 'apple', 'auditable', 'cookiecutter', 'fastapi', 'root', 'fediverse', 'incremental-learning', 'whisper', 'store', 'wordpress-theme', 'cskaoyan', 'wysiwyg', 'wallet', 'costmap', 'es2019', 'dotstar', 'mpa', 'careers', 'vpn-tunnel', 'custom-firmware', 'refactoring', 'v2ray-gui', 'beginner-project', 'vue-swiper-component', 'html5-charts', 'collections', 'vte', 'android-libs', 'google-calendar', 'hugo-theme', 'immutable', 'product-analytics', 'nmap-scripts', 'qt5', '100-days-of-code-log', 'stm32cube', 'angular11', 'hipaa', 'demonstrate-skills', 'hardhat', 'research', 'sony-alpha-cameras', 'webservice', 'elm-architecture', 'grommet', 'google-keep', 'sweetalert2', 'libnabo', 'pacaur', 'voice-as-an-interface', 'system', 'flashback', 'painting', 'vue3', 'springboot2', 'darkmode', 'cayley', 'vae', 'aws-infrastructure', 'denoising-algorithms', 'vagrant', 'blogging', 'weather-information', 'wechat-report', 'html-emails', 'graph-embeddings', 'kubernetes-operational', 'redis-sentinel', 'hacktoberfest', 'stock-price-forecasting', 'js-obfuscator', 'autonomous', 'distributed-sql-database', 'navigationbar', 'information-gathering', 'i3status', 'beatmap-parser', 'zooming', 'model-management', 'convolutional-residual-networks', 'daemon-mode', 'cmder', 'ddos-attack-tools', 'mithril', 'annotation-tool', 'openvdb', 'pdf-generation', 'software-metrics', 'xamarin-forms', 'simd-programming', 'morrowind', 'cloud-cost-estimates', 'tmux-conf', 'pixez', 'self-hosting', 'responsive', 'robust-estimation', 'react-guidelines', 'group', 'site-reliability-engineering', 'ux-framework', 'scrapyd-ui', 'orders', 'psd', 'circuit-breaker-pattern', 'safari-extension', 'leek-fund', 'miro-alternative', 'phpstan-strict', 'bayesian-methods', 'predictionio', 'tensorflow-lite', 'vector-search', 'wallpapers', 'blazor-web', 'spring', 'syncing-bookmarks', 'header-only', 'extensible', 'affine', 'game-engine-2d', 'yolov3', 'temperature-control', 'scxml', 'certificate-authority', 'fullpage', 'reverse-shell-as-a-service', 'beat', 'json-to-kotlin', 'nuxtjs', 'indicator', 'fastgithub', 'learning-webgl', 'libfdk-aac', 'infrared', 'gprs', 'eternalblue-doublepulsar-metasploit', 'php-codesniffer', 'style-linter', 'astrovim', 'prefetch', 'reconciliation', 'neo4j', 'flipper-plugins', 'threat-intelligence', 'fastai', 'pyinstaller', 'gpu', 'information-extraction', 'hud', 'ng-conf', 'application-monitoring', 'cs', 'android-development', 'stenciljs', 'ext-phalcon', 'github-stats', 'discord4j', 'qiniu', 'sqlmap-sqltemplate', 'cinema', '2d', 'threejs', 'stock-photos', 'tempo-tracking', 'angelscript', 'sx1276', 'packet-analyser', 'financial-data', 'orchestration', 'omemo', 'dailymotion', 'voice-cloning', 'front-end-development', 'prolog-implementation', 'android-kotlin', 'css-animations', 'iot-solutions', 'distributed-database', 'ntfy', 'free-book', 'duckduckgo', 'no-code', 'slicer', 'inline-preview', 'manga-downloader', 'data-pipeline', 'note-taking', 'google-dork', 'shake', 'bitap', 'apify', 'react-spring', 'algorithmic-differentation', 'viewpager2', 'wechat-macos', 'rxjava', 'pika', 'shellphish', 'tutorial', 'freedos', 'seccomp-profile', 'yara-python', 'exploits', 'office-tools', 'anki', 'epic-games', 'immutablejs', 'hateoas', 'creating-deepfakes', 'geosite', 'libpeconv', 'kennethreitz', 'xxpay', 'switch-hosts', 'screencast', 'code93', 'clojure', 'data-engineer', 'gerber', 'ruby-gem', 'picacg', 'silent', 'visual-reasoning', 'msbuild', 'htap', 'markdown-writer', 'sliver', 'antisurveillance', 'automate', 'rfc-8834', 'stylish', 'physec', 'hacktoberfest2021', 'app-developer', 'patches', 'luna', 'scrcpy', 'zig', 'video-chat', 'out-of-distribution-detection', 'sqlboiler', 'zfs', 'generative-testing', 'holoviz', 'activerecord', 'tga', 'electroencephalography', 'webrtc-libraries', 'oltp', 'atmel', 'wedeploy', 'microfrontend', 'domain-driven-design', 'applink', 'processing', 'schema', 'ip-address-location', 'raster', 'adversarial-examples', 'umi', 'yew', 'vr-headset', 'test-data-generator', 'youtube-dl', 'packet-capture', 'astronvim', 'ansi-term', 'stock-photography', 'creator-economy', 'dynamic-programming', 'dnn', 'camera-api', 'screenutil', 'discord-api', 'pgm', 'footer', 'ssh-server', 'efficient-frontier', 'derive', 'unattended-uninstall', 'query-engine', 'clash', 'deeplearning4j', 'epic-games-client', 'assets', 'gang-of-four', 'deepsort', 'fps', 'optikey', 'webmail', 'ts-node', 'localization', 'heroku', 'lua-extension', 'materialviewpager', 'cybersecurity', 'plate-recognition', 'd4j', 'telephone-number', 'fine-grained', 'uri-manipulations', 'rtfm', 'bookmark-archiver', 'discovered-subdomains', 'phonegap', 'statsd', 'readme', 'tus', 'v2-ui', 'logo', 'drawer', 'provider', 'vue-typescript', 'classification-algorithm', 'wine-prefixes', 'adguard', 'nixops', 'airport', 'jedis', 'pikvm', 'tdd', 'kernel-extension', 'learn-android', 'cppcon', 'prefixer', 'visualizations', 'cudf', 'chatgpt', 'plugin', 'vst3-host', 'channel-messaging', 'quic', 'rtt', 'web-animation', 'gop', 'jmonkeyengine', 'chatbots', 'pm', 'docker-deployment', 'effects', 'rustpython', 'zappa', 'conversions', 'screenadapter', 'canvas-animation', 'statuspage', 'gce', 'enumeration', 'mirroring', 'polybar-themes', 'ipa', 'storage', 'security-orchestration', 'bookshelf', 'git', 'media-server', 'paas', 'thefatrat', 'shellcheck', 'elasticjob', 'sql-standards', 'jme3', 'ocrlite', 'web-console', 'ntfysh', 'retrospectives', 'federated-learning', 'sha-384', 'drag-drop', 'service-level-agreement', 'rviz', 'gif-library', 'ads-b', 'reactor', 'svg-path', 'unsupervised-learning', 'gameboy-color-emulator', 'lsp', 'openhub', 'pair-programming', 'riru-module', 'in-action', 'nsfw', 'rfcomm', 'jit-compiler', 'obfuscator', 'jellyfin', 'fabric', 'algorithmic-trading-engine', 'deep-zoom-images', 'vector-search-engine', 'video-call', 'brand', 'magicmirror', 'rich-text-editor', 'backstage', 'pushpull', 'opera-addon', 'multicast-streams', 'earbuds', 'multiplayer-game-server', 'modern-php', 'openim', 'nixos', 'retro', 'pixel-wise', 'asrt', 'malware-research', 'inferno-component', 'data-efficient', 'pixel-art-editor', 'metersphere', 'zsh-autosuggestions', 'classifier', 'cplusplus', 'programming-languages', 'rime', 'xkcoding', 'jobs-search', 'portfolio', 'tunnel', 'hxps', 'deeplabcut', 'symfony-bundle', 'topic-search', 'invoicing-software', 'pongo2', 'owasp-zap', 'deep-packet-inspection', 'openid', 'multidimensional-data', 'manuals', 'urlrequest', 'change-detection', 'subtitle', 'email', 'thief', 'pipeline-framework', 'embedding-store', 'mosh', 'hex', 'baidu', 'ai', 'webcrawler', 'jstips', 'gin', 'artificial-intelligence-algorithms', 'example', 'imagenet-classifier', 'iot', 'carto', 'upnp', 'moby', 'todoist', 'howtos', 'first-issue', 'zlkb', 'subdomain-collection', 'chineseocr', 'transmission', 'akka', 'video-communication', 'colorspaces', 'processor-architecture', 'picker', 'interactive', 'grep', '3b1b-videos', 'shiro', 'works-with-codespaces', 'dat', 'wire-ios', 'jupyterhub', 'openshare', 'system-architecture', 'sustainable-development-goals', 'optimization', 'sorting', 'lidar-slam', 'app-framework', 'h2o', 'websocket-compression', 'automatic-colorization', 'curl', 'livestream', 'vim-mode', 'apache', 'mcu', 'aspnet-mvc', 'trio', 'erd', 'nats-server', 'rack', 'ios-cmake', 'branding-assets', 'mqtt-protocol', 'visx', 'monte-carlo-markov-chain', 'depth-prediction', 'dynamic-desktop', 'siemens', 'cordova', 'middleware', 'game-2d', 'sam-specification', 'music-programming-language', 'webpack2', 'terraform-modules', 'shaping', 'outgoing-webhooks', 'feature-toggling', 'cobra-generator', 'domquery', 'anthropocene', 'pihole', 'rewrite', 'pyside2', 'asset-allocation', 'lane-detection', 'plotly', 'putty', 'mvi', 'fft', 'xlsx-writer', 'netflix-chaos-monkey', 'msexcel', 'feature-flags', 'webdis', 'hacker-dictionary-builder', 'colour', 'cocoapods', 'ide-features', 'dart', 'disk-image', 'hudi', 'vant3', 'distributed-file-storage', 'isnan', 'msfs2020', 'user-agent', 'overlay', 'php-docker-images', 'pinpoint', 'java8-stream', 'starcraft', 'swift4-2', 'documentation', 'scheduled-tasks', 'plotlyjs', 'webextensions', 'automl', 'mccabe-metric', 'graph-analytics', 'streak', 'hooking-framework', 'amqp0-9-1', 'sming', 'vitess', 'ahmyth', 'rasterization', 'sw-precache', 'eaf', 'cattle', 'document-foundation-model', 'gui-library', 'filesystem-events', 'generator', 'graphviz-dot', 'bpf', 'emacs-configuration', 'mecm', 'site-search', 'dask', 'image2image', 'topic-modeling', 'pixi', 'pushdear', 'batch-rename', 'godoc', 'gog-galaxy', 'quantum-computing', 'beacon', 'blazeface', 'csapp', 'img2css', 'css-in-js', 'data-orchestrator', 'airbnb', 'aws-iam', 'vim-plugin', 'mozilla-observatory', 'gnome', 'react-best-practice', 'coroutines-android', 'nintendo-ds', 'apk-decompiler', 'animations', 'cni', 'headless-chrome', 'chromiumos', 'resume', 'machine-metrics', 'idea', 'zmq', 'asychronous', 'mashup', 'flux', 'arduino-uno', 'dsp', 'snowflake', 'mozilla', 'audirvana', 'regeorg', 'i3', 'slides', 'deep-learning-stock', 'plugins', 'duration-matching', 'postgresql-metrics-monitor', 'pre-trained-model', 'spotifyd', 'ansi-colors', 'tmux-powerline', 'browser-database', 'procfs', 'webcam', 'retry-strategies', 'fraud-explorer', 'desktop-environment', 'websocket-tls', 'nlp-tasks', 'pivot-tables', 'swift-extensions', 'aspnet-core', 'shiny-apps', 'html-codesniffer', 'sc2k', 'legado', 'amaranth-hdl', 'works-with-yew', 'flash', 'debug', 'dedupe', 'unet', 'keepass', 'system-programming', 'mobile-robots', 'vocoder', 'vnpy', 'emulators', 'transactional', 'connection-pool', 'backend-as-a-service', 'vnf', 'asdf-vm', 'hentai', 'terminal', 'autogpt', 'qemu-kvm', 'spybot', 'spatial-data', 'android-hacking', 'convolutional-networks', 'neural-nets', 'docker-tutorial', 'hacktoberfest2022-accepted', 'nvidia', 'wcag', 'vnote', 'neural-search', 'virtio', 'dagger2', 'catelog', 'assembly-x86-64', 'react-native-app', 'bigtable', 'asset-manager', 'lockfile', 'dates', 'multifactor', 'php-extension', 'swift-5', 'vuepress', 'cheat-sheets', 'orchardcore', 'smms', 'sustainability', 'embedding-models', 'openemr', 'next-generation', 'xposed', 'imgur', 'lovoo', 'gd32', 'freqtrade', 'algorithms-and-data-structures', 'webservices', 'code39', 'swagger-spec', 'windows-on-arm', 'openvr-sdk', 'dataquality', 'android-framework', 'concourse', 'priority-queue', 'terrain-model', 'listview', 'sha256', 'voprf', 'windows-v2ray', 'event-management', 'tulipmania', 'lean', 'posix', 'type-inference', 'load-balancer', 'kanban-board', 'cosmos', 'snapkit', 'mobsf', 'regression-tree', 'brave', 'iron', 'traffic-monitoring', 'denoise', 'gpu-acceleration', 'framework-javascript', 'composable', 'loading-indicator', 'rita', 'companies-list', 'faas-platform', 'r-package', 'published-exploits', 'job-scheduler', 'misconfiguration', 'injection', 'grepping', 'hystrix', 'chinese-speech-recognition', 'learning-to-code', 'spiff-workflow', 'unixporn', 'html5-speedtest', 'avx2', 'gd', 'content-management', 'cloudnative', 'hugo', 'data-competition', 'digitalocean-community-tools', 'recommendation', 'spannable-string', 'conversion', 'kali', 'webcam-capture', 'crud-apis', 'webgpu', 'webhook', 'rmarkdown', 'tabular-data', 'joyent', 'flask', 'drupal', 'challenges', 'uicollectionview', 'springboot-admin', 'runtime', 'voxel', 'layoutxlm', 'mobx', 'stylesheets', 'gojson', 'sms-notifications', 'community', 'python36', 'cms-detector', 'modding', 'cpu-flame-graph', 'distributed-transaction', 'contextualized-representation', 'apisix', 'utls', 'error-messages', 'fisher', 'php-docker', 'theme', 'crash-analysis', 'spotify', 'transit', 'portfolios', 'links', 'bpm', 'positioning', 'phpunit', 'billing', 'weighted-search', 'redactor', 'backtesting', 'uglify', 'wit', 'dien', 'cloud-infrastructure', 'workflow-management', 'laravel-docker', 'beam', 'gpt-35-turbo', 'mobile', 'bundle', 'datavisualization', 'gdb-plugin', 'multiroom-audio', 'fiber', 'fluent-api', 'dev-sidecar', 'cyber-security', 'hosts-file', 'matlab', 'minification', 'source-code', 'wechatapp', 'model-selection', 'offline-songs', 'springcloud', 'realtime-messaging', 'pan', 'turtle-rocket', 'proof-of-stake', 'raspbee', 'plex-client', 'element', 'ctc', 'financial', 'arducopter', 'react-dnd', 'darknet', 'surveillance', 'sr', 'gts', 'mirror', 'workflow-automation', 'winscp', 'alternative-firmware', 'scrfd', 'maas', 'foundation-models', 'data-wrangling', 'hentai-downloader', 'edk2', 'brood-war-api', 'red-team', 'self-hosted', 'slack', 'crypto', 'tls-interception', 'pandect', 'virtual-dom', 'bypassantivirus', 'vuetube', 'bundler-audit', 'reactivex', 'trillion-parameters', 'collaborate', 'tampermonkey', 'investment-research', 'forensic-analysis', 'flutter-ui', 'watch', 'decision-tree', 'luci', 'elastic', 'skydoves', 'web-literacy', 'altname', 'logisim', 'multi-touch', 'svm', 'codeformatter', 'tracking-by-detection', 'templating-engine', 'gitea', 'bicep-templates', 'moderation', 'gitinspector', 'oauth2-client', 'memory-monitoring', 'notification-center', 'distributed-actors', 'filedownloader', 'bounties', 'css-selectors', 'rtmdet', 'admission-webhook', 'mall', 'books', 'nosql-database', 'http-requests', 'semantic-search-engine', 'sections', 'subdomain-bruteforcing', 'design-tool', 'shiro-redis', 'music-tools', 'motivation', 'functional-programming', 'localstorage', 'masvs', 'sickchill', 'teleport-binaries', 'apollo-client', 'pegdown', 'dotfiles-macos', 'radarr', 'version', 'web3js', 'erlang', 'web-fonts', 'imsi-catcher', 'metaboxes', 'code-examples', 'penetration', 'galaxy-buds', 'git-delta', 'arduino-micro', 'smarttablayout', 'beit-3', 'cloudtrail', 'naturallanguageprocessing', '5ghz', 'htmx', 'searchbar', 'credit-card-validation', 'pypy3', 'attack-surface', 'lovelive', 'query', 'es2016', 'alsa', 'linux-kernel-module', 'dns-lookup', 'sql-injection', 'native-platforms', 'incident-response', 'jitsi', 'peertube', 'ukraine', 'sampling', 'good-practices', 'vue-mall', 'wordpress-development', 'locksport', 'avaloniaui', 'metrics-gatherer', 'vector-database', 'vsix', 'timing-diagram', 'extraction', 'help', 'mach-o', 'osm', 'labstreaminglayer', 'nintendo-3ds', 'operationalization', 'optionspicker', 'epub-generation', 'url-monitor', 'crossmodal', 'wechat-plugin', 'refactoring-tools', 'asr', 'freqtrade-strategies', 'slim-framework', 'smartdns', 'bluetooth', 'apollo-graphql', 'armv6', 'cache', 'gitlab-ci', 'daydream', 'xdp', 'css-properties', 'bower', 'airdrop', 'in-memory', 'multicopter', 'rfc-6455', 'cg', 'sql-client', 'firefox', 'jekyll-theme', 'low-code-platform', 'timber', 'permission-android', 'wxpython', 'video-player', 'crossfilter', 'java8-optionals', 'module-bundler', 'wiki', 'pdp-10', 'semver', 'disruptor', 'd3v4', 'incoming-webhooks', 'micro-frontends', 'crow', 'kernel-driver', 'swc', 'sagas', 'android-developers', 'validations', 'reasonml', 'github-profile-readme', 'data-flow', 'equalizer', 'cross-database', 'theforeman', 'github-extension', 'conversational-bots', 'hashes', 'mousetrap', 'nest', 'graph2vec', 'homebridge', 'instagram-account', 'swagger-ui', 'pulltorefresh', 'applicable-exploits', 'filters', 'terraria-servers', 'gorilla', 'distributed', 'liquid-fill-charts', 'gumbo', 'stars', 'flavortown', 'elevation', 'apache2', 'streaming-data', 'audit', 'ember', 'age-encryption', 'movie', 'semantic-search', 'siem', 'event-loop', 'vue-router', 'viewpager', 'regexutil', 'ipvs', 'docker-api', 'acra', 'recorder', 'activity-fragment', 'iceberg', 'gopherjs', 'bookkeeping', 'journal-application', 'grouping', 'fuse-filesystem', 'high-context', 'adb', 'impact', 'api-service', 'github', 'autoscaling', 'esp32', 'revokemsg', 'version-manager', 'smartwatch', 'jwk', 'research-paper', 'low-latency', 'kubernetes-ha', 'yeoman-generator', 'notebook', 'qt', 'nps', 'archlinux', 'metalearning', 'emoji', 'inotify', 'weinre', 'jwe', 'testing', 'nsis', 'google-music', 'geophysics', 'dio', 'scim', 'internal-tools', 'fig', 'redash', 'librealsense', 'cheatsheets', 'learning-js', 'python-3-6', 'graphql-server', 'restful-api', 'identification', 'ecommerce-platform', 'seaweedfs', 'status-page', 'scripts', 'tldextract', 'audio-applications', 'cyclegan', 'todo-cli', 'modular-monoliths', 'php7', 'front-end-interview', 'tauri', 'stl', 'argon2', 'revoke', 'file-manager', 'encoding', 'webext', 'mitie', 'code128', 'cyber', 'authentication', 'nrf52', 'object-detection', 'engineer', 'javascript-closures', 'natural-language-interface', 'csrf', 'otapi', 'machine-learning-library', 'tumblr', 'sql', 'carbon-footprint', 'assembly', 'gtfobins', 'arrow-functions', 'vless', 'waf', 'wechat-weapp', 'intellij', 'libxlsxwriter', 'pointer-lock', 'webperformance', 'tum', 'visulization', 'caddy', 'split-apk', 'openpgp', 'vocals', 'openflow', 'graphql-client', 'supertest', 'physics-engine', 'pentest-scripts', 'image-labeling', 'gdb', 'robust', 'cemu', 'interactive-plots', 'idiomatic', 'breaks', 'reproducibility', 'captcha-solver', 'apk-dex', 'invoice-pdf', 'yara-rules', 'laptop', 'tft', 'android-decompiler', 'defi', 'visual-basic', 'exif', 'protocol-buffers', 'nextcloud', 'contrastive-loss', 'digitalocean-droplets', 'wasm', 'mininet', 'ranger', 'newsfeed', 'mobilenetv3', 'self-taught', 'yii2', 'libevent', 'web-server', 'entity-extraction', 'pxe', 'weixinbot', 'adversary-emulation', 'photography', 'icons', 'rabbit', 'linear-algebra', 'series-database', 'icon', 'tracepoints', 'pinyin', 'b-tree', 'flowable', 'trojans', 'handler', 'watch-files', 'lexical-analysis', 'capture-packets', 'webdriver', 'custom-theme', 'github-desktop', 'terraform-azurerm', 'performance-monitoring', 'distributed-transactions', 'science', 'cloudformation', 'paint', 'imlib2', 'developer-portfolio', 'mvvm', 'manager', 'qa', 'es', 'mrpt', 'bsd', 'net-core', 'sbt-plugin', 'php-framework', 'meterpreter', 'enzyme', 'bin', 'directx-11', 'plyr', 'seed', 'mobile-robotics', 'iso', 'download-lyrics', 'diagramming', 'subcommands', 'frame-types', 'implant', 'beep', 'physical-security', 'whatsapp-web', 'oculus', 'cozoscript', 'qt-applications', 'fpga', 'autolayout', 'indonesia', 'werkzeug', 'stability', 'euroc', 'peerconnection', 'portfolio-optimization', 'aws-session-manager', 'tech', 'low-level', 'dune-2000', 'scripting-language', 'windows-driver-kit', 'neural-networks', 'datacenter', 'fragment-shader', 'kvm', 'rawtherapee', 'secure-by-default', 'ruff', 'kitty-terminal', 'proxmark', 'webgl-tutorials', 'google', 'parsed-arguments', 'pipeline-tests', 'datahub', 'graph-convolutional-networks', 'firefox-theme', 'mars-rover', 'matomo', 'exercise-solutions', 'detextron2', 'pure-function', 'html5-video-player', 'functional-reactive-programming', 'popupwindow', 'cfgmgt', 'ubjson', 'mock-service-worker', 'presence', 'python-language', 'vision-and-language', 'home-cloud', 'wi-fi', 'markdown', 'minecraft-launcher', 'binaries', 'ivewui', 'crawling', 'cmake', 'best-performance', 'android-music-player', 'handshake', 'normalization-free-training', 'colourspaces', 'bot-stores', 'bsd-3-clause', 'nhibernate', 'rancher', 'sharpe-ratio', 'commonjs', 'scraping', 'mvvm-library', 'swoole', 'youtube', 'gan', 'probabilistic-modeling', 'keybindings', 'statusline', 'fraud-management', 'evolution-strategies', 'triangle-mesh', 'linux-wifi-hotspot', 'cassandra', 'x-ui', 'wagmi', 'octopmap', 'icon-fonts', 'fernflower', 'boxjs', 'ppa', 'ioc-container', 'commit-hooks', 'sofa-proxy', 'figma', 'tbschedule', 'control-systems', 'htmlparser2', 'emacs-helm', 'ideabook', 'installer', 'product-activiti', 'smtp', 'translation', 'neuroevolution', 'kitty', 'recruitment', 'structure-from-motion', 'security-vulnerability', 'awesome-wm', 'airplane', 'veil', 'ipsec', 'steam-cards', 'hbuilderx', 'clipboard-manager', 'sandstorm', 'rime-schema', 'algorithms-implemented', 'linkedin', 'tts', 'matlab-syntax', 'ios', 'crx', 'game-boy', 'bayesian-optimization', 'codemirror', 'playframework', 'stroke', 'intellij-community', 'html5-audio', 'argon-theme', 'acpi', 'performance-testing', 'anti-fingerprinting', 'go-tools', 'snap', 'legged-robots', 'e2e-testing', 'semisupervised-learning', 'drop', 'update-chec', 'gettext', 'brand-colors', 'twoyi', 'dialogue-manager', 'bayesopt', 'accessibility-testing', 'flintos', 'ebook-formats', 'uniapp', 'data-mapper', 'cartopy', 'cxx14', 'phantomas', 'speech-to-text', 'minimal-portfolio-template', 'typescript-parser', 'ublock', 'unity3d-script', 'sqlalchemy', 'online-powerpoint', 'timelineutil', 'h264', 'cyberduck', 'interview-preparation', 'aws-inventory', 'media-player', 'badge-maker', 'log-analysis', 'oci', 'angular', 'sponsors', 'apm', 'noise-reduction', 'miio', 'sqlite', 'game-boy-emulator', 'swf', 'arsenal', 'portfolio-page', 'guzzle', 'nonprofits', 'handson', 'quadruped', 'waffit', 'brainfuck', '3d-maps', 'man-in-the-middle', 'openapi-definitions', 'quantum-toolbox', 'numfocus', 'evmc', 'sklearn', 'ean13', 'lets-encrypt', 'geocoding', 'algo', 'tushare', 'functions', 'forward', 'fastly-compute-at-edge', 'deepin-wine', 'cats-over-dogs', 'vision-framework', 'deep-reinforcement-learning', 'graph-kernels', 'graph-neural-networks', 'website-change-notification', 'chatops', 'bookstack', 'state-estimation', 'stylesheet-language', 'velodyne-slam', 'anti-malware', 'code-splitting', 'macho', 'vue', 'csv', 'adapterview', 'qttabbar', 'approximate-nearest-neighbor-search', 'quantum-compiler', 'scaled-yolov4', 'showcase', 'boost', 'trading-algorithms', 'text-classification', 'pager', 'godot', 'restful-webservices', 'stereo-equalizer-effects', 'call', 'iceman', 'jsonb', 'github-api', 'payments', 'courses', 'opengenus', 'leech-bot', 'virtual-distributed-filesystem', 'onewire', 'ssr', 'dotenv', 'sponsorships', 'autosuggest', 'gnu-linux', 'usercss', 'ipv6', 'tree-shaking', 'invidious', 'structures', 'typing-practice', 'zxing', 'tsne', 'mobile-developer', 'cxx', 'udmpro', 'atsign', 'archisteamfarm', 'myths', 'actor', 'ebpf-tc', 'scrapyd-visualization', 'weasyprint', 'ansi-escape-codes', 'uptime-monitor', 'openmax-il', 'bottle', 'quantum-computer', 'offloading', 'lazarus', 'json-serializer', 'datascience', 'unity', 'leetcode-questions', 'defeat', 'a11y', 'closure-compiler', 'ddd-patterns', 'secrets', 'tmux', 'nightmarejs', 'cropper', 'speaker-diarization', 'cmake-toolchain', 'sentiment-analysis', 'motion-transfer', 'sonification', 'developer-folio', 'serverlessapplicationmodel', 'xss-scanner', 'typing', 'mtcnn', 'loader', 'deep-video', 'thread-pool', 'docker-wordpress', 'react-library', 'jupyter-lab', 'whatsapp', 'baby', 'ibapi', 'age-estimation', 'china', 'smtp4dev', 'time-tracking', 'redis-cache', 'wargame', 'azure-blob', 'prototyping', 'redirect-urls', 'speech-recognition-api', 'ssl', 'uefi-firmware', 'ideas', 'mariadb', 'r3f', 'popup', 'jspatch', 'spacemacs', 'eve', 'amazon-drive', 'test-runner', 'mavlink', 'bughunting-methodology', 'gui', 'guideline', 'typeorm', 'decision-tree-model', 'clang', 'encore', 'cef', 'jsx', 'graph-attention-networks', 'sync', 'phonesploit', 'data-versioning', 'websocket', 'bro', 'transfer-files', 'proof-of-space', 'dns-over-tls', 'tweaks-collection', 'wikidata', 'pastebin', 'repeater-field', 'neural-architecture-search', 'corpus', 'lidarr', 'continuous-delivery', 'dna', 'graphile', 'awdl', 'coding-standards', 'personalization', 'marketplace', 'protoncalendar', 'quantum-algorithms', 'physics', 'imagemagick', 'markdown-parser', 'babel-plugin', 'large-language-models', 'mobile-analytics', 'cuda', 'custom-fonts', 'robot-motion-estimate', 'bionic-reading', 'pca', 'fullstack', 'google-cloud', 'python-library', 'pe2shc', 'memory-allocation', 'trojan-panel', 'change-point-detection', 'nanoservices', 'threatintelligence', 'xunlei', 'jdbi', 'cloudflare', 'roku', 'aop', 'circuit', 'open-source-licensing', 'postgres', 'psx', 'astar', 'textfield', 'resume-builder', 'rename', 'network-discovery', 'react-native-navigation', 'forms', 'zeal', 'html-parsing', 'udm-pro', 'blazor-component', 'graph-embedding', 'web-music-player', 'localforage', 'jumpserver', 'styled-components', 'cemu-folder', 'keepassdx', 'fixed-wing', 'model-fusion', 'yabai', 'cloud-security', 'job', 'sailsjs', 'speech-synthesis', 'asyncio', 'validation', 'focus-mode', 'logcat', 'vue-swiper', 'outliner', 'bot-framework', 'server-rendering', 'thread', 'h5-powerpoint', 'word', 'cdf', 'mixture-of-experts', 'stacks', 'gjs', 'javascript-framework', 'hostapd', 'scikit-learn', 'tweet', 'dependency', 'rbac', 'arthas', 'copy', 'sbjson', 'embedded-database', 'orchestration-engine', 'h5-builder', 'qt-gui', 'signal-cli', 'reflect', 'rl', 'mixnet', 'chat-server', 'blogger', 'container-image', 'microfrontends', 'wii-u', 'alternate', 'gamepad', 'tower-defense', 'wineprefix-manager', 'path-tracer', 'hashing', 'automatic-labeling-system', 'discordgo', 'esp8266-arduino', 'bluepill', 'selenium-python', 'management-system', 'zip4j', 'template-builder', 'conditional-formatting', 'bridge', 'pixelart', 'json-dataset', 'modules', 'google-drive', 'maxis', 'clojure-development', 'cloud-providers', 'yolov5', 'quantumult', 'motrix', 'cad', 'schematics', 'server-sent-events', 'word-vectors', 'cemu-emulator', 'stan', 'quantitative-finance', 'pyglet', 'sfm', 'tpu-acceleration', 'chatapp', 'texture', 'openwrt-package', 'isomorphic', 'hubot', 'farmanager', 'wpgraphql', '2fa', 'ddd', 'scheduler', 'cyaron', 'dropbox', 'caffe', 'microservices', 'bastion-server', 'cpu-profile', 'webgl-programming', 'tweak', 'obfs4', 'colab', 'signal', 'whois', 'web-tools', 'scan-ports', 'zephyr-rtos', 'autodiscover', 'framework', 'lsif-enabled', 'python38', 'mathjax', 'strip-ansi', 'height-map', 'nltk', 'html-document', 'elk-stack', 'axure-library', 'powershell-module', 'recoil', 'docx', 'zgen', 'tvos-development', 'shader-effects', 'beego', 'neovim-configuration', 'mx-master', 'parallel-streams', 'vuex', 'flyio', 'realtime-quotes-data', 'error-handling', 'stubby', 'windows-to-go', 'intellectual-property', 'deprecated', 'slider', 'redis-client', 'metaverse', 'scanning', 'openapi31', 'climate', 'youtube-downloader', 'external-dns', 'ffxivlauncher', 'nintendo-dsi', 'pods', 'javaee', 'tiktok', 'javalin', 'au-plugin', 'multiselect', 'emotion-recognition', 'mobile-web', 'isochrones', 'positional-arguments', 'coredns', 'cryptonight', 'rustlings', 'appstore', 'captcha', 'sdl', 'sequence-diagram', 'osx-kvm', 'density', 'esoteric-language', 'workflow', 'multichannel', 'server', 'node-module', 'dot', 'struts', 'nosql-data-storage', 'token', 'chinese-word-segmentation', 'satori', 'scheduled-jobs', 'anchor', 'openapi-specification', 'outlier-detection', 'redoc', 'loadtesting', 'business', 'online-ppt', 'materialshell', 'log-structured', 'dependency-injection-container', 'formulae', 'youtube-player', 'machinelearning', 'packer', 'data-loader', 'sanitization', 'locust', 'jetson', 'asm', 'kubernetes-platform-solution', 'scrum', 'datastructures', 'opengraph-images', 'game-framework', 'api-server', 'calibre', 'lazyload', 'ktx', 'aws-mobile', 'spotify-downloader', 'atom', 'song', 'service-worker', 'query-string', 'cmus', 'x265', 'voice-assistant', 'data-orchestration', 'ricing', 'hangouts', 'go-generate', 'security-tools', 'connected-home', 'website', 'joystick-library', 'setup', 'svn', 'automated-machine-learning', 'openssh', 'setuptools', 'javascript-best-practices', 'tokens', 'dataset-analysis', 'named-entities-recognition', 'albums', 'apex', 'practice-management', 'roller-coaster-tycoon', 'motan-proxy', 'v-charts', 'https', 'iteration', 'pathtracing', 'skeleton', 'tv-shows', 'dart-platform', 'libvips', 'mbed', 'ssm', 'calendar-api', 'koa', 'github-books', 'numerical-analysis', 'bayes', 'ueberzug', 'debugbar', 'flycheck', 'ts', 'metasploit-framework', 'restore', 'climate-science', 'undead', 'touchscreen', 'layout', 'node-redis', 'stopputinnow', 'dockerfile-linter', 'juce', 'awesome', 'registry', 'lsof', 'couchpotatoserver', 'shapefile', 'unix-domain-socket', 'go-zero', 'sha', 'ruleset', 'nteract', 'docker-sync', 'dbt', 'atcoder-library', 'wepy', 'freelancer', 'efficientdet', 'vx', 'digital-circuits', 'transmogrification', 'webscraping', 'mbaas', 'night', 'verilator', 'jpeg-compression', 'lectures', 'idp', 'cluster-analysis', 'naas', 'image-augmentation', 'feature-toggles', 'web-design-framework', 'sonarlint', 'elm', 'mvparms', 'einstein', 'onedrive-for-business', 'audio-engine', 'sharex', '2d-game', 'bhis', 'lsp-mode', 'sorting-algorithms', 'xls', 'laravel-admin', 'rawgraphs', 'vga', 'a-b-testing', 'macos-setup', 'hibernate', 'ui-widget', 'mq', 'webpack-bundle-analyzer', 'salt', 'nzbget', 'organize', 'style', 'folder-viewer', 'libopencm3', 'hostsfile', 'exercise', 'polyfill', 'prisma2', 'jabber', 'interview-practice', 'mental-health', 'dns-resolution', 'style-guide', 'mvc-cms', 'protocols-team-goquorum', 'numerical-calculations', 'phone-number', 'btc', 'sputil', 'http-client', '3d-mapping', 'edx', 'api-testing', 'image-store', 'online-learning', 'yjs', 'epicgames-launcher', 'textmate', 'ebiten', 'geoip2', 'websockets', 'java8-study', 'php-versions', 'mssql-server', 'api-manager', 'timeseries', 'volunteer-computing', 'troubleshooting', 'table', '3d-graphics', 'uncertainty', 'clang-cl', 'loading-animations', 'civ', 'size', 'steamworks', 'analyze', 'express-graphql', 'uitableview', 'manga-reader', 'quantconnect', 'learn-shortcuts', 'nlog', 'sparc', 'pandoc', 'sha3-256', 'yolox-tiny', 'componentization', 'sw-toolbox', 'catalog', 'gradle-plugin', 'encrypt', 'octo-correct-managed', 'icloud', 'tracer', 'lessons-learned', 'insta360', 'ddos-attack', 'traceback', 'illustrations', 'minecraft-server', 'weapp-demo', 'audacious', 'fsm', 'command', 'chatgpt-app', 'file-server', 'tilemill', 'xeon', 'copyq', 'application-manager', 'trojan', 'registry-tweaks', 'oscar', 'idm', 'disassembler', 'binary', 'mdn', 'node', 'rpg-engine', 'algorithms', 'unit-testing', 'flight-software', 'sim800', 'sqlinjection', 'lettuce', 'armv8', 'end-to-end', 'atmega', 'microsoft-store', 'github-android', 'anti-debug', 'dtw', 'disabilities', 'resiliency', 'homekit-api', 'vuejs', 'cpp14', 'miot-spec', 'swift-perfect-community', 'jdbc', 'prismlauncher', 'kafka', 'dartlang', 'e2e', 'visualizing-schemas', 'ui-components', 'awesome-list-awesome-list', 'virtual-machine-translation', 'dev-tools', 'telegram-proxy', 'music-player-application', 'art', 'cartalyst', 'directoryutil', 'homepage', 'pprof', 'pcp', 'fsr', 'unix-toolkit', 'diagrams', 'rofi-drun', 'capsule', 'widget-library', 'generation', 'tokenization', 'ieee', 'alerts', 'flask-wtf', 'muon', 'radio-pyo', 'code-analysis', 'vim-configuration', 'single-page-app', 'vuetifyjs', 'fairness', 'static-code-analysis', 'nfm', 'note-taking-app', 'pytorch-transformers', 'free-pascal', 'works-with-mint', 'github-actions', 'mit', 'redshift', 'architectural-patterns', 'chat-widget', 'visualizer', 'scrapy-visualization', 'protip', 'job-management', 'version-control', 'pachyderm', 'web-extension', 'validator', 'website-defacement-monitoring', 'faceting', 'melgan', 'dfir', 'money', 'traversal', 'repos', 'aliyun', 'data-structures', 'speaker-encodings', 'git-plumbing', 'video-processing', 'otr', 'carthage', 'scanner', 'tool', 'quantumultx', 'doc', 'component-library', 'ebook', 'android-permission', 'raider', 'pop-os', 'graph-layout', 'led', 'metaclass', 'simple', 'hono', 'multiple-themes', 'pixel-art', 'pypa', 'xdeepfm', 'bits', 'react-router', 'archcraft-os', 'fescar', 'cards-against-humanity', 'reliable-messages', 'neumorphism', 'busybox', 'api-catalog', 'game-development', 'kbfs', 'cultivation', 'youku', 'mesh-networks', 'silver-searcher', 'workflow-engine', 'hosting', 'spring-physics', 'apigility', 'hashcat', 'antipatterns', 'chatbot', 'igraph', 'network-diagram', 'jekyll-themes', 'sot', 'starttls', 'ebs', 'net60', 'self-healing', 'procrastination', 'sexy-lists', 'microchip-sam', 'agent-pool', 'trino', 'relational-database', 'buildkit', 'capacitor', 'cve-2016-4437', 'strategy', 'dialogue-agents', '4plex', 'wifiphisher', 'two-way', 'servo', 'jodd', 'styling', 'modrinth', 'semantic-analysis', 'u-net', 'open-course', 'persistent-workloads', 'graphql-js', 'data-centric', 'security', 'hexo-theme', 'scverse', 'dylib', 'skylark', 'coursera', 'image-matting', 'toolset', 'snmp', 'scalable-networking', 'k8s-staging', 'aqua', 'technologies', 'soa', 'vst3', 'cd', 'tldr', 'mali', 'services', 'nmap-parser', 'python310', 'streaming-tts', 'macos', 'miflora', 'speech-enhancement', 'sysops', 'exim', 'docker-ui', 'miro', 'guidelines', 'hadoop-hdfs', 'nosql', 'tts-model', 'boards', 'jsoncrack', 'nas', 'screenshots', 'reading', 'bulk-dns', 'laravel-validation', 'workflowpatterns', 'paq', 'typescript-framework', 'kerberos', 'frontend', 'geopolitics', 'proto', 'malwarebazaar', 'cis-benchmark', 'dislike-button', 'pypdf2', 'monthly-costs', 'netty', 'tantivy', 'keypicking', 'dnscrypt-proxy', 'obsuite', 'anti-detection', 'bmp', 'dat-protocol', 'n3', 'linter', 'key-value', 'hilt', 'tracker', 'password', 'geometry-processing', 'rpc', 'cleanflight', 'subdomain-takeover', 'service-discovery', 'ground-truth', 'frontend-components', 'chunk', 'tc39', 'volume', 'espressif', 'chip', 'miniprogram', 'connectivity-standards-alliance', 'recsys', 'robot-framework', 'shiny-for-python', 'vectors', 'nquads', 'starter-project', 'nginx-rtmp', 'mccabe', 'livecoding', 'port', 'art-qr-code', 'ss', 'thumbnail', 'udp-server', 'mac', 'querystring', 'microsoft-sql-server', 'english-learning', 'mavros', 'semantic-web', 'hapi', 'openwrt', 'zh-cn', 'typewriter-mode', 'rythm', 'flutter-demo', 'datamining', 'zero', 'streaming-app', 'drawing', 'programming-tutorial', 'steamvr-plugin', 'windows-console', 'mpc', 'cncf', 'built-at-rc', 'civilization', 'cachecloud', 'touch-events', 'vagas', 'flvjs', 'bugs', 'cryptographic', 'emberjs', 'weixin-sdk', 'logos', 'mars', 'javascript-engine', 'ssd', 'gazebo-ros', 'synonyms', 'cellular-automata', 'pulse', 'yolor', 'uranium', 'reverse-proxy', 'sdk', 'keepass2', 'vanced', 'tvdb', 'models', 'actix', 'gitlab-cli', 'taichi', 'dismissible', 'offline-storage', 'springboot', 'transitions', 'visual-novel', 'adpcm', 'flutter', 'mnn', 'groupware', 'koma-script', 'magisk', 'logrus', 'packaging-tool', 'bigclam', 'observer', 'visitor-identifier', 'searching', 'judge', 'fans', 'serilog', 'symbols', 'scrapyd-admin', 'conf', 'sandbox', 'censorship-resistance', 'springboot-springcloud', 'inferring-schemas', 'invoicing-application', 'ingress', 'image-captioning', 'lifecycle', 'software-freedom', 'occupancy', 'cloud', 'hashicorp-terraform', 'ticker', 'yay', 'multiplexing', 'keymap', 'office', 'chat', 'android-testing', 'input-parameters', 'sketch-plugin', 'continuous-deployment', 'xudp', 'baiduyun', 'lock', 'schemaspy', 'exchange-web-services', 'cascade-rcnn', 'array', 'bash-alias', 'aliyun-oss', 'syntax', 'html-templates', 'image-annotation', 'nightwatch', 'regression', 'slam-algorithms', 'encode', 'wordpress-alternative', 'sessions', 'lean-engine', 'ndn', 'apollo-python', 'code-review', 'curated', 'httptracer', 'health', 'lmdb', 'posix-compliant', 'dark-theme', 'appxpackages', 'win-rm', 'swift-framework', 'based', 'update-notifier', 'webhooks', 'springs', 'scene2d', 'persistence', 'dotstar-leds', 'open-files', 'ipfs', 'checkbox', 'pydictor', 'custom-services', 'model-compression', 'career-guide', 'actix-web', 'playstore', 'graph-processing', 'await', '7-zip', 'graalvm', 'local-first', 'languages', 'awsome', 'glow-tts', 'shading-language', 'monitoring-tool', 'form-builder', 'tcl', 'pe', 'callbacks', 'chartist', 'azure', 'trading-platform', 'android-book', 'razor', 'google-api', 'nonlinear-programming', 'shadow-dom', 'plain-text-accounting', 'web-security', 'jinyong', 'dex', 'arithmetic-coding', 'fill', 'keepass-dx', 'encrypted-connections', 'evaluation', 'tailwindcss', 'aframe', 'huggingface', 'very-kewl', 'encrypted-media', 'investing', 'x25519', 'mpc-hc', 'triton', 'transactions', 'meg', 'facebook-instant-games', 'sylk', 'feature-extraction', 'container-builder', 'koolgame', 'aws-cloudformation', 'sample-android', 'comment-system', 'animation-library', 'chai', 'ros', 'financial-charting-library', 'stem', 'jssdk', 'git-addons', 'asgi', 'ui-builder', 'jetty', 'px4', 'popupdialog', 'mental-health-awareness', 'editor', 'correct', 'locksmith', 'front-end', 'gif-maker', 'r2dbc', 'yolov6', 'cloud-ide', 'javascript-plugin', 'hyperparameter-search', 'bayesian', 'mobile-security', 'mousewheel', 'logging-library', 'python27', 'kubernetes-ingress-controller', 'crystal', 'modernizr', 'xtls', 'sequence', 'interactive-segmentation', 'social-media', 'wxmp', 'dialogue-systems', 'beautifulsoup', 'node-library', 'dmenu', 'imap', 'sweetalert', 'satysfi', 'overseas', 'node2vec', 'microsoft', 'icalendar', 'choreography', 'debloat', 'codex-editor', 'normalize', 'uac', 'uptime', 'libinput', 'effect', 'glfw-bindings', 'observability', 'red-team-engagement', 'rfspace', 'continuous-delivery-server', 'tabris', 'cfr', 'tomb', 'hyperparameter-tuning', 'skaffold', 'rest-client', 'deeplink', 'piwik', 'simplewall', 'fcos', 'device-sensors', 'username', 'buffer-data', 'amine', 'bloatware-removal', 'arkit', 'web-performance', 'sharding', 'typography', 'custom-internal', 'analysis', 'snowplow-events', 'beacon-sniffer', 'webframeworks', 'ubiquiti', 'cachet', 'terminal-recording', 'document-management', 'ocsort', 'eleventy', 'v2ex', 'procedural-gl-js', 'cli-app', 'normalizr', 'guest-agent', 'apollo', 'power', 'shimmer', 'mybaits', 'flutter-examples', 'threads', 'android-debug-database', 'gridview', 'eventbus', 'nmt', 'serde', 'qemu', 'aws-cognito', 'marketing-automation', 'covid-19', 'sha3-512', 'tech-stacks', 'tpu', 'fuzz-testing', 'vim-plugins', 'srs', 'caas', 'nettitude', 'language-grammars', 'ship', 'openzipkin', 'repl', 'gans', 'image-generation', 'record', 'xposed-module', 'react-hooks', 'dados', 'aircrack', 'bash', 'openal', 'bash-prompt', 'filter', 'codis', 'randomx', 'zettelkasten', 'sstp', 'poetry', 'stock', 'perceptual-losses', 'env', 'technosolutionism', 'mbr', 'mvc', 'dotnet-core', 'ehr', 'offensive-security', 'relay', 'network-namespaces', 'android-ui', 'osx', 'angular10', 'postal-addresses', 'eventsource', 'music-downloader', 'openid-provider', 'mqtt-producer', 'infinite-canvas', 'api-rest', 'abuse', 'alamofire', 'skyline', 'rubinius', 'aws-dynamodb', 'pagebuilder', 'ff14', 'esnext', 'malware-detection', 'ardupilot', 'authn', 'communication', 'bootloader', 'pentest', 'matconvnet', 'openapi', 'etherip', 'uni', 'face', 'create-react-native-app', 'deepmind', 'android-image-cropper', 'regex-pattern', 'swr', 'tld', 'laverna', 'rxdb', 'data-modeling', 'alfred-workflow', 'character', 'uninstaller', 'algorithmic-trading', 'nvmrc', 'falcon-ng', 'gcc-compiler', 'quant', 'parameter-tuning', 'btrfs', 'deformable-convolutional-networks', 'svg-chart', 'fsharp', 'command-line-tool', 'production-ml', 'share', 'prisma-client', 'vmaf', 'virtual-assistant', 'dynamic-widget', 'cluster', 'jetbrains', 'http2', 'permissions-android', 'ecc', 'xterm', 'atomic', 'vpn', 'hardware', 'antlr4', 'docker-symfony', 'kernel-exploitation', 'traceroute', 'cookie', 'collaborative-framework', 'directx', 'python3', 'real-esrgan', 'full-sized', 'schema-validator', 'hvplot', 'chisel', 'terminology', 'owtf', 'dependency-injection', 'av-evasion', 'fingerprintjs', 'plot', 'asset-management', 'coding-challenge', 'pdf-viewer', 'opam', 'visual-novel-engine', 'kitti', 'pipes', 'promises', 'sql-orm', 'autonomous-driving', 'fpv', 'rating', 'buds-plus', 'reliability', 'sysadmin', 'dll-hijack', 'privilege-escalation-linux', 'webchat-server', 'scrapyd-control', 'autojs6', 'compress', 'invest', 'sentence-lda', 'chatglm-6b', 'endecodeutil', 'datasheet', 'pm3', 'plane', 'google-inbox', 'elt', 'face-tracking', 'gitdb', 'wireless', 'terraria-api', 'react', 'differentiable-programming', 'platformio', 'assembly-language', 'aspnetcore', 'multiband-melgan', 'screensavers', 'vagrant-plugin', 'episodes', 'fuzzy-matching', 'libdatachannel', 'posix-compatible', 'graphdb', 'mtproto-proxy', 'javadoc', 'huffman', 'coreapi', 'anns', 'instruments', 'grpc', 'bokeh', 'openstack-swift', 'antd', 'declarative', 'spatial', 'jeecgboot', 'swagger-api', 'ui-automated-tests', 'memory-speed', 'wtf', 'kakoune', 'ebpf-uprobe', 'compressor', 'css-flexbox', 'hbase', 'data-unit-tests', 'ffi-layer', 'jta', 'debugger-visualizer', 'webpack-configuration', 'icon-set', 'memory-profiler', 'principal-components-regression', 'mo-js', 'photovoltaic', 'flowtype', 'cloud-provisioning', 'ms-paint', 'utils', 'oci-specification', 'ghostery', 'human-detection', 'application', 'statusbar', 'cross-chain', 'feature-engineering', 'graceful-restarts', 'istio', 'iot-platform', 'gatsby', 'nzbhydra', 'influxdb', 'termux', 'econometrics', 'cost-estimation', 'subnet', 'nicehash', 'taobao', 'temporal-segment-networks', 'darknet-ros', 'linset', 'works-with-flutter', 'windowsapi', 'spotify-tui', 'dynamic-symbolic-execution', 'apple-lossless', 'benchmark', 'test-driven-development', 'springboot-sample', 'gatling', 'resize', 'youtubers', 'ip-scanner', 'ffxiv', 'async-python', 'playstation', 'tui-rs', 'irc', 'typescipt', 'mapnik', 'unleashed', 'music-server', 'syntax-checking', 'packaging', 'tensor', 'deserialization', 'image-cropper', 'linear-programming', 'javascript-regular-expressions', 'odm', 'ng2-admin', 'fakeap', 'mocking-library', 'snowplow-pipeline', 'jackal', 'deduplication', 'bert', '3d-game-engine', 'payloads', 'groovy', 'bug-tracker', 'phpstan', 'web-panel', 'network-science', 'selfhosted', 'boinc', 'iview', 'journalism', 'python-profilers', 'postgresql-database', 'windowscontainers', 'apk-signature-scheme-v2', 'time-series', 'toml', 'sites', 'sourcekit', 'quantum-mechanics', 'dronecode', 'java-imageio', 'aigc', 'zero-config', 'user-onboarding', 'tasking', 'classification', 'mfcc', 'mdx', 'formatter', 'two-factor', 'web-application-framework', 'arangodb', 'color-scheme', 'isam', 'c-plus-plus-17', 'docs-generator', 'c-plus-plus-11', 'privilege-escalation', 'airspy', 'holoviews', 'json-parsing-library', 'ps1', 'walle-web', 'starscream', 'android-nfc', 'spring-boot-2', 'qv2ray-plugins', 'k3s', 'opentelemetry', 'ijkplayer', 'internet-speed', 'list', 'api-client', 'appointments', 'tenpay', 'touch', 'malware-families', 'zipkin', 'powerline', 'multi-object-tracking', 'culture', 'systemtray', 'droppable', 'sparkles', 'smart-contracts', 'phpcompatibility-standard', 'wasmer', 'open-data', 'easing-functions', 'xiaomi', 'issues', 'system-hardening', 'map-matching', 'cloudflare-bypass', 'coinbase', 'bootstrap-material', 'pubsub', 'e-vtol', 'rwkv', 'tun2socks', 'scrapy-log-analysis', 'aria2-format-tracker', 'automotive', 'sha-3', 'data-visualizations', 'streamlink', 'test-framework', 'network-functions', 'site-generator', 'node-webkit', 'wysiwyg-html-editor', 'data-collector', 'incidents-reports', 'enterprise-search', 'robot', 'frameworks', 'computation-graph', 'font-stacks', 'blade', 'awesome-opencourse', 'series', 'multiple-simulators', 'versioning', 'bundle-size', 'pipelines-as-code', 'contract-testing', 'motion', 'yii2-fecshop', 'parallel-computations', 'internationalization', 'resolutionadviosry', 'nebula', 'google-cloud-platform', 'modsecurity-nginx', 'app-search', 'ortc', 'smartcard', 'qrnn', 'file-uploader', 'libwebp', 'command-cobra', 'dot-config', 'prefix', 'datachannel', 'starcraft-ii', 'mui', 'jeepay', 'i860', 'compress-images', 'inox', 'gameboy-emulator', 'servicedesk', 'replay', 'instance-segmentation', 'vux', 'userchrome', 'graphite', 'colorlib', 'crossplatform', 'gdpr', 'style-conventions', 'officialaccounts', 'numutil', 'feature-detectors', 'vuex4', 'quartz', 'neovim-plugins', 'blame', 'dns-tunneling', 'did', 'css-questions', 'xvid', 'fastjson', 'gin-admin', 'health-panel', 'pattern-matching', 'sru', 'covenant', 'uikit', 'proposals', 'nearest-neighbor-search', 'netlify-cms', 'illustration', 'interviews', 'resolved-subdomains', 'recommendation-algorithm', 'pinecil', 'code-metrics', 'sx1280', 'unified-hosts', 'generic', 'xiaoshuo', 'rc', 'chrome-headless', 'open-vocabulary-segmentation', 'react-native', 'shellcode', 'jsbridge', 'microtonal', 'captcha-solving', 'adblocking', 'chaos-testing', 'npx', 'good-turing-smoothing', 'ews', 'swipe', 'merge', 'react-app', 'newbee-mall', 'cargo', 'websocket-protocol', 'bootable-usb', 'ai-roadmap', 'odometry', 'hyperboria', 'glfw', 'plotly-dash', 'pipeline-testing', 'gadget-finder', 'gopher', 'data-integration', 'longer-breaks', 'blitz', 'space', 'sparql', 'adsb', 'options', 'nuxt', 'traditional-chinese', 'clickhouse', 'wrapper', 'ansj', 'vst3-plugin', 'robotic', 'wireguard-vpn', 'works-with-elm', 'naming-schemes', 'nx', 'javascript-obfuscator', 'keypoint-tracking', 'autopilot', 'shfmt', 'playstation4', 'bot-detection', 'risk-factors', 'x264', 'xmr', 'notification-api', 'conda', 'arch', 'fdroid', 'hacking-tools', 'build-system', 'hsweb', 'symfony', 'svelte', 'postcss', 'kicad', 'object-tracking', 'distil', 'video', 'pecl', 'devops-workflow', 'fraud-prevention', 'home-automation', 'artificial-life', 'arch-installer', 'cloud-computing', 'douyin', 'jupyter-kernels', 'd3-module', 'project-template', 'cloud-native-applications', 'pentesters', 'flask-resources', 'svg-icons', 'nia', 'uefi-boot', 'geochemistry', 'gadgets', 'cmb2', 'notepad', 'barnes-hut', 'buypass', 'ik-analysis', 'interactive-diagrams', 'syslog', 'play', 'homebrew', 'large-scale-ml', 'data-profilers', 'interactive-notebooks', 'proxy-aware', 'user-interface', 'vue-admin', 'chaos-community', 'nuitka', 'jwt', 'bugbounty-tool', 'dns-privacy', 'datashader', 'launchbar-action', 't3', 'git-cliff', 'oauth1', 'audio-production', 'dataframes', 'scss', 'proxy-server', 'iterm2', 'rpg', 'wechat-official-account', 'header', 'nosql-databases', 'clone', 'playback', 'text-expander', 'canvas2d', 'steamkit2', 'resolver', 'performance-metrics', 'intent-detection', 'dev-server', 'silicon', 'sonarcloud', 'esd', 'audio-unit', 'swift-objective', 'memory-forensics', 'infrastructure', 'fetch', 'service-catalog', 'rfc-7159', 'shopping', 'algorithmic-composition', 'mnd', 'i3wm', 'terraria', 'falsehoods', 'onion-architecture', 'lock-free', 'fairness-ml', 'transformers', 'coronavirus', 'vtol', 'sticky-headers', 'mass-storage-device', 'modin', 'sailfish-os', 'social', 'vulkan', 'dpark', 'cve-2021-21975', 'photo2cartoon', 'wireless-attack', 'action-recognition', 'ocr-engine', 'linq', 'quantum-annealing', 'powersploit', 'heml', 'verification', 'eclipse', 'flow-based-programming', 'arduino-leonardo', 'ios-lib', 'oauth2-server', 'acg', 'tracking-protection', 'social-engineering', 'websso', 'profile', 'website-change-monitor', 'cython', 'decryption', 'pytest', 'boilerplate', 'performance-tuning', 'finagle', 'psrp', 'boom', 'fluent-design', 'jsonnet', 'django-oscar', 'pbr', 'scrape-following', 'expression-evaluator', 'typesetting', 'backdropfilter', 'freetype', 'windows-tweaks', 'tutorials', 'label-studio', 'traffic-analysis', 'come-and-take-it', 'microservice-governance', 'ts100', 'wasi', 'system-fonts', 'environment', 'fastly', 'grains', 'chia', 'dataset', 'designpatternsphp', 'rainbow', 'ldap-authentication', 'arm64', 'concurrent', 'notebook-generator', 'xposedbridge', 'flattening', 'jdk8', 'django-shop', 'cve-2020-14882', 'seismic', 'freebsd', 'photoview', 'nobackend', 'virtual-actors', 'simplified-chinese', 'proxmox-ve', 'architecture', 'make-the-internet-great-again', 'ozw', 'grid-map', 'euroc-dataset', 'celery', 'anti-tracking', 'erc721', 'gist', 'automation-framework', 'show-duplicate-java-classes', 'safari', 'github-repos', 'feature-toggle', 'mustache', 'graphcool', 'swim', 'llvm', 'dns', 'routing-engine', 'vdom', 'ssr-tls-caddy', 'add-ons', 'owl', 'iec', 'pre-receive-hooks', 'rrg', 'pony-source', 'sonnet', 'electron-application', 'javascript-game', 'singlefile', 'classical-chinese', 'wacom-tablet', 'generative-ai', 'acme', 'fake', 'autonomous-quadcoptor', 'machine-learning-research', 'android-firewall', 'ui-framework', 'mvp-architecture', 'pascal', 'idiomatic-python', 'golang-package', 'survey', 'acas', 'saga', 'snippets-library', 'airtable', 'jobseeker', 'opensource-apps', 'nginx-vhost-traffic-status', 'triage', 'wallpaper-app', 'okhttp', 'keras', 'timetravel', 'xsalsa20', 'im', 'gaana', 'checkpoint', 'diablo2', 'subdomain-scanner', 'vs2019', 'sparkr', 'whatsapp-bot', 'sortable', 'chrome', 'cartridge', 'surge', 'mkdocs', 'storybook', 'xuexi-qiangguo', 'bignumbers', 'paper', 'log-monitor', 'rewriting', 'android-permissions', 'click-through-rate', 'ss-proxy', 'transform', 'hooks-library', 'unigram', 'loopback', 'adblock', 'advisor', 'flask-application', 'accessibility', 'twsapi', 'soap', 'kubespray', 'hnsw', 'nlp-machine-learning', 'traveling-salesman', 'websocket-library', 'manufacturing', 'registration', 'ip-address-lookup', 'gps', 'game-design', 'pep-621', 'high-throughput-computing', 'serverless-framework', 'zmtp', 'disassembly', 'ffmpeg', 'fonts', 'f-droid', 'trading', 'edgeql', 'usability', 'remote-access', 'scrapyd-keeper', 'auv', 'transfer-learning', 'capistrano', 'text-templating', 'dx7', 'vision-transformer', 'audio-streaming', 'convex-optimization', 'emr', 'vigil', 'generate', 'option-parser', 'response', 'luajit', 'organization', 'singleton', 'transformations', 'brotli', 'importjson', 'calendarview', 'nyaa', 'storage-cluster', 'postmortem', 'clustering-algorithm', 'leetcode-go', 'swifterswift', 'coroutines', 'zgenom', 'auto', 'segments', 'imserver', 'php-errors', 'benchmarking', 'webworkers', 'adblockradio', 'cadence', 'embeddable', 'crash-testing'}\n"
          ]
        }
      ]
    },
    {
      "cell_type": "code",
      "source": [
        "\n",
        "# # NOT needed as we are doing ascii checks\n",
        "# # Step 3: Remove all non english,special character,non ascii tokens\n",
        "# from langdetect import detect\n",
        "# from langdetect.lang_detect_exception import LangDetectException\n",
        "\n",
        "# def remove_non_english(tokens):\n",
        "#     filtered_tokens = []\n",
        "#     for token in tokens:\n",
        "#         try:\n",
        "#             if token.isalpha() and detect(token) == 'en':\n",
        "#                 filtered_tokens.append(token)\n",
        "#         except LangDetectException:\n",
        "#             print(token)\n",
        "#     return filtered_tokens\n",
        "\n",
        "# # repo_data['description_tokens'].count_na()\n",
        "# if not repo_data['description_tokens'].isna().all():\n",
        "#     repo_data['description_tokens'] = repo_data['description_tokens'].apply(remove_non_english)\n",
        "\n",
        "# # repo_data['description_tokens']"
      ],
      "metadata": {
        "id": "DJoQJysXzACt"
      },
      "execution_count": 122,
      "outputs": []
    },
    {
      "cell_type": "code",
      "source": [
        "# # Output is not as expected \n",
        "# # Apply stemming to the remaining tokens to reduce them to their base form\n",
        "# from nltk.stem.porter import PorterStemmer\n",
        "\n",
        "# stemmer = PorterStemmer()\n",
        "\n",
        "# def stem_tokens(tokens):\n",
        "#     # Apply stemming to the token list\n",
        "#     stemmed_tokens = [stemmer.stem(token) for token in tokens]\n",
        "#     return stemmed_tokens\n",
        "\n",
        "# repo_data['description_tokens'] = repo_data['description_tokens'].apply(stem_tokens)\n",
        "# repo_data['description_tokens'].to_string()"
      ],
      "metadata": {
        "id": "JwAJcuGDkqKR"
      },
      "execution_count": null,
      "outputs": []
    },
    {
      "cell_type": "code",
      "source": [
        "#Unique topic set\n",
        "import ast\n",
        "tokens = repo_data[\"description_tokens\"]\n",
        "tokens_list = list()\n",
        "tokens_set = set()\n",
        "for token in tokens:\n",
        "  tokens_list.append(token)\n",
        "  tokens_set = tokens_set.union(set(token))\n",
        "\n",
        "display(len(tokens_list))\n",
        "display(len(tokens_set))"
      ],
      "metadata": {
        "colab": {
          "base_uri": "https://localhost:8080/",
          "height": 53
        },
        "id": "05lOI7_2mXXs",
        "outputId": "a6d3f8cf-2cc9-4e69-df55-1b3c7c12b61e"
      },
      "execution_count": 220,
      "outputs": [
        {
          "output_type": "display_data",
          "data": {
            "text/plain": [
              "5325"
            ]
          },
          "metadata": {}
        },
        {
          "output_type": "display_data",
          "data": {
            "text/plain": [
              "3002"
            ]
          },
          "metadata": {}
        }
      ]
    },
    {
      "cell_type": "code",
      "source": [
        "# Joining all data in list by space and converting lower case\n",
        "repo_data['topics'] = repo_data['topics'].apply(lambda x: ' '.join(x))\n",
        "repo_data['topics'] = repo_data['topics'].apply(lambda x: x.lower())\n",
        "\n",
        "repo_data['lang_name'] = repo_data['lang_name'].apply(lambda x: ' '.join(x))\n",
        "repo_data['lang_name'] = repo_data['lang_name'].apply(lambda x: x.lower())\n",
        "\n",
        "repo_data['description_tokens'] = repo_data['description_tokens'].apply(lambda x: ' '.join(x))\n",
        "repo_data['description_tokens'] = repo_data['description_tokens'].apply(lambda x: x.lower())\n",
        "\n",
        "repo_data['language'] = repo_data['language'].astype(str).apply(lambda x: x.lower())\n",
        "repo_data['name'] = repo_data['name'].astype(str).apply(lambda x: x.lower())\n",
        "repo_data['license_name'] = repo_data['license_name'].astype(str).apply(lambda x: x.lower())"
      ],
      "metadata": {
        "id": "NsMFEvsJc7XR"
      },
      "execution_count": 221,
      "outputs": []
    },
    {
      "cell_type": "code",
      "source": [
        "display(repo_data.head())"
      ],
      "metadata": {
        "colab": {
          "base_uri": "https://localhost:8080/",
          "height": 475
        },
        "id": "Ee48jKvq73Bd",
        "outputId": "d8316846-eae9-4833-825b-7c1bd169dbda"
      },
      "execution_count": 222,
      "outputs": [
        {
          "output_type": "display_data",
          "data": {
            "text/plain": [
              "                  full_name          name  \\\n",
              "0     tensorflow/tensorflow    tensorflow   \n",
              "1     kubernetes/kubernetes    kubernetes   \n",
              "2  huggingface/transformers  transformers   \n",
              "3      microsoft/TypeScript    typescript   \n",
              "4       puppeteer/puppeteer     puppeteer   \n",
              "\n",
              "                                                                           description  \\\n",
              "0                               An Open Source Machine Learning Framework for Everyone   \n",
              "1                                 Production-Grade Container Scheduling and Management   \n",
              "2  🤗 Transformers: State-of-the-art Machine Learning for Pytorch, TensorFlow, and JAX.   \n",
              "3     TypeScript is a superset of JavaScript that compiles to clean JavaScript output.   \n",
              "4                                                          Headless Chrome Node.js API   \n",
              "\n",
              "                                                                                                                                                                                                                                                    topics  \\\n",
              "0                                                                                                                                                      deep-learning deep-neural-networks distributed machine-learning ml neural-network python tensorflow   \n",
              "1                                                                                                                                                                                                                            cncf containers go kubernetes   \n",
              "2  bert deep-learning flax hacktoberfest jax language-model language-models machine-learning model-hub natural-language-processing nlp nlp-library pretrained-models python pytorch pytorch-transformers seq2seq speech-recognition tensorflow transformer   \n",
              "3                                                                                                                                                                                                               javascript language typechecker typescript   \n",
              "4                                                                                                                                                                       automation chrome chromium developer-tools headless-chrome node-module testing web   \n",
              "\n",
              "     language  \\\n",
              "0         c++   \n",
              "1          go   \n",
              "2      python   \n",
              "3  typescript   \n",
              "4  typescript   \n",
              "\n",
              "                                                                                                                                                                                             lang_name  \\\n",
              "0  c++ python mlir starlark html go c java jupyter-notebook shell objective-c++ cmake objective-c smarty swift batchfile sourcepawn c# ruby perl llvm pawn dockerfile cython roff makefile vim-snippet   \n",
              "1                                                                                                                                  go shell powershell makefile dockerfile python c sed batchfile html   \n",
              "2                                                                                                                                           python cuda shell dockerfile c++ c cython makefile jsonnet   \n",
              "3                                                                                                                                                               typescript javascript dockerfile shell   \n",
              "4                                                                                                                                                      typescript javascript html css dockerfile shell   \n",
              "\n",
              "  license_name                                              description_tokens  \n",
              "0   apache-2.0                          open source machine learning framework  \n",
              "1   apache-2.0                      production container scheduling management  \n",
              "2   apache-2.0  transformers state art machine learning pytorch tensorflow jax  \n",
              "3   apache-2.0                       typescript superset javascript javascript  \n",
              "4   apache-2.0                                     headless chrome node js api  "
            ],
            "text/html": [
              "\n",
              "  <div id=\"df-42dff251-f055-43af-a249-ba65d0b107a7\">\n",
              "    <div class=\"colab-df-container\">\n",
              "      <div>\n",
              "<style scoped>\n",
              "    .dataframe tbody tr th:only-of-type {\n",
              "        vertical-align: middle;\n",
              "    }\n",
              "\n",
              "    .dataframe tbody tr th {\n",
              "        vertical-align: top;\n",
              "    }\n",
              "\n",
              "    .dataframe thead th {\n",
              "        text-align: right;\n",
              "    }\n",
              "</style>\n",
              "<table border=\"1\" class=\"dataframe\">\n",
              "  <thead>\n",
              "    <tr style=\"text-align: right;\">\n",
              "      <th></th>\n",
              "      <th>full_name</th>\n",
              "      <th>name</th>\n",
              "      <th>description</th>\n",
              "      <th>topics</th>\n",
              "      <th>language</th>\n",
              "      <th>lang_name</th>\n",
              "      <th>license_name</th>\n",
              "      <th>description_tokens</th>\n",
              "    </tr>\n",
              "  </thead>\n",
              "  <tbody>\n",
              "    <tr>\n",
              "      <th>0</th>\n",
              "      <td>tensorflow/tensorflow</td>\n",
              "      <td>tensorflow</td>\n",
              "      <td>An Open Source Machine Learning Framework for Everyone</td>\n",
              "      <td>deep-learning deep-neural-networks distributed machine-learning ml neural-network python tensorflow</td>\n",
              "      <td>c++</td>\n",
              "      <td>c++ python mlir starlark html go c java jupyter-notebook shell objective-c++ cmake objective-c smarty swift batchfile sourcepawn c# ruby perl llvm pawn dockerfile cython roff makefile vim-snippet</td>\n",
              "      <td>apache-2.0</td>\n",
              "      <td>open source machine learning framework</td>\n",
              "    </tr>\n",
              "    <tr>\n",
              "      <th>1</th>\n",
              "      <td>kubernetes/kubernetes</td>\n",
              "      <td>kubernetes</td>\n",
              "      <td>Production-Grade Container Scheduling and Management</td>\n",
              "      <td>cncf containers go kubernetes</td>\n",
              "      <td>go</td>\n",
              "      <td>go shell powershell makefile dockerfile python c sed batchfile html</td>\n",
              "      <td>apache-2.0</td>\n",
              "      <td>production container scheduling management</td>\n",
              "    </tr>\n",
              "    <tr>\n",
              "      <th>2</th>\n",
              "      <td>huggingface/transformers</td>\n",
              "      <td>transformers</td>\n",
              "      <td>🤗 Transformers: State-of-the-art Machine Learning for Pytorch, TensorFlow, and JAX.</td>\n",
              "      <td>bert deep-learning flax hacktoberfest jax language-model language-models machine-learning model-hub natural-language-processing nlp nlp-library pretrained-models python pytorch pytorch-transformers seq2seq speech-recognition tensorflow transformer</td>\n",
              "      <td>python</td>\n",
              "      <td>python cuda shell dockerfile c++ c cython makefile jsonnet</td>\n",
              "      <td>apache-2.0</td>\n",
              "      <td>transformers state art machine learning pytorch tensorflow jax</td>\n",
              "    </tr>\n",
              "    <tr>\n",
              "      <th>3</th>\n",
              "      <td>microsoft/TypeScript</td>\n",
              "      <td>typescript</td>\n",
              "      <td>TypeScript is a superset of JavaScript that compiles to clean JavaScript output.</td>\n",
              "      <td>javascript language typechecker typescript</td>\n",
              "      <td>typescript</td>\n",
              "      <td>typescript javascript dockerfile shell</td>\n",
              "      <td>apache-2.0</td>\n",
              "      <td>typescript superset javascript javascript</td>\n",
              "    </tr>\n",
              "    <tr>\n",
              "      <th>4</th>\n",
              "      <td>puppeteer/puppeteer</td>\n",
              "      <td>puppeteer</td>\n",
              "      <td>Headless Chrome Node.js API</td>\n",
              "      <td>automation chrome chromium developer-tools headless-chrome node-module testing web</td>\n",
              "      <td>typescript</td>\n",
              "      <td>typescript javascript html css dockerfile shell</td>\n",
              "      <td>apache-2.0</td>\n",
              "      <td>headless chrome node js api</td>\n",
              "    </tr>\n",
              "  </tbody>\n",
              "</table>\n",
              "</div>\n",
              "      <button class=\"colab-df-convert\" onclick=\"convertToInteractive('df-42dff251-f055-43af-a249-ba65d0b107a7')\"\n",
              "              title=\"Convert this dataframe to an interactive table.\"\n",
              "              style=\"display:none;\">\n",
              "        \n",
              "  <svg xmlns=\"http://www.w3.org/2000/svg\" height=\"24px\"viewBox=\"0 0 24 24\"\n",
              "       width=\"24px\">\n",
              "    <path d=\"M0 0h24v24H0V0z\" fill=\"none\"/>\n",
              "    <path d=\"M18.56 5.44l.94 2.06.94-2.06 2.06-.94-2.06-.94-.94-2.06-.94 2.06-2.06.94zm-11 1L8.5 8.5l.94-2.06 2.06-.94-2.06-.94L8.5 2.5l-.94 2.06-2.06.94zm10 10l.94 2.06.94-2.06 2.06-.94-2.06-.94-.94-2.06-.94 2.06-2.06.94z\"/><path d=\"M17.41 7.96l-1.37-1.37c-.4-.4-.92-.59-1.43-.59-.52 0-1.04.2-1.43.59L10.3 9.45l-7.72 7.72c-.78.78-.78 2.05 0 2.83L4 21.41c.39.39.9.59 1.41.59.51 0 1.02-.2 1.41-.59l7.78-7.78 2.81-2.81c.8-.78.8-2.07 0-2.86zM5.41 20L4 18.59l7.72-7.72 1.47 1.35L5.41 20z\"/>\n",
              "  </svg>\n",
              "      </button>\n",
              "      \n",
              "  <style>\n",
              "    .colab-df-container {\n",
              "      display:flex;\n",
              "      flex-wrap:wrap;\n",
              "      gap: 12px;\n",
              "    }\n",
              "\n",
              "    .colab-df-convert {\n",
              "      background-color: #E8F0FE;\n",
              "      border: none;\n",
              "      border-radius: 50%;\n",
              "      cursor: pointer;\n",
              "      display: none;\n",
              "      fill: #1967D2;\n",
              "      height: 32px;\n",
              "      padding: 0 0 0 0;\n",
              "      width: 32px;\n",
              "    }\n",
              "\n",
              "    .colab-df-convert:hover {\n",
              "      background-color: #E2EBFA;\n",
              "      box-shadow: 0px 1px 2px rgba(60, 64, 67, 0.3), 0px 1px 3px 1px rgba(60, 64, 67, 0.15);\n",
              "      fill: #174EA6;\n",
              "    }\n",
              "\n",
              "    [theme=dark] .colab-df-convert {\n",
              "      background-color: #3B4455;\n",
              "      fill: #D2E3FC;\n",
              "    }\n",
              "\n",
              "    [theme=dark] .colab-df-convert:hover {\n",
              "      background-color: #434B5C;\n",
              "      box-shadow: 0px 1px 3px 1px rgba(0, 0, 0, 0.15);\n",
              "      filter: drop-shadow(0px 1px 2px rgba(0, 0, 0, 0.3));\n",
              "      fill: #FFFFFF;\n",
              "    }\n",
              "  </style>\n",
              "\n",
              "      <script>\n",
              "        const buttonEl =\n",
              "          document.querySelector('#df-42dff251-f055-43af-a249-ba65d0b107a7 button.colab-df-convert');\n",
              "        buttonEl.style.display =\n",
              "          google.colab.kernel.accessAllowed ? 'block' : 'none';\n",
              "\n",
              "        async function convertToInteractive(key) {\n",
              "          const element = document.querySelector('#df-42dff251-f055-43af-a249-ba65d0b107a7');\n",
              "          const dataTable =\n",
              "            await google.colab.kernel.invokeFunction('convertToInteractive',\n",
              "                                                     [key], {});\n",
              "          if (!dataTable) return;\n",
              "\n",
              "          const docLinkHtml = 'Like what you see? Visit the ' +\n",
              "            '<a target=\"_blank\" href=https://colab.research.google.com/notebooks/data_table.ipynb>data table notebook</a>'\n",
              "            + ' to learn more about interactive tables.';\n",
              "          element.innerHTML = '';\n",
              "          dataTable['output_type'] = 'display_data';\n",
              "          await google.colab.output.renderOutput(dataTable, element);\n",
              "          const docLink = document.createElement('div');\n",
              "          docLink.innerHTML = docLinkHtml;\n",
              "          element.appendChild(docLink);\n",
              "        }\n",
              "      </script>\n",
              "    </div>\n",
              "  </div>\n",
              "  "
            ]
          },
          "metadata": {}
        }
      ]
    },
    {
      "cell_type": "code",
      "source": [
        "# creating a feature vector\n",
        "repo_data['feature_vector'] =  repo_data[['topics','language','description_tokens']].apply(\n",
        "    lambda x: ' '.join(x.dropna().astype(str)),\n",
        "    axis=1\n",
        ")\n",
        "display(repo_data[\"feature_vector\"])"
      ],
      "metadata": {
        "id": "hkX1-_tMlxkb",
        "colab": {
          "base_uri": "https://localhost:8080/",
          "height": 418
        },
        "outputId": "ea80d737-20c6-475f-b589-fc854b45c184"
      },
      "execution_count": 223,
      "outputs": [
        {
          "output_type": "display_data",
          "data": {
            "text/plain": [
              "0                                                                                                                                                                                      deep-learning deep-neural-networks distributed machine-learning ml neural-network python tensorflow c++ open source machine learning framework\n",
              "1                                                                                                                                                                                                                                                         cncf containers go kubernetes go production container scheduling management\n",
              "2       bert deep-learning flax hacktoberfest jax language-model language-models machine-learning model-hub natural-language-processing nlp nlp-library pretrained-models python pytorch pytorch-transformers seq2seq speech-recognition tensorflow transformer python transformers state art machine learning pytorch tensorflow jax\n",
              "3                                                                                                                                                                                                                                     javascript language typechecker typescript typescript typescript superset javascript javascript\n",
              "4                                                                                                                                                                                                           automation chrome chromium developer-tools headless-chrome node-module testing web typescript headless chrome node js api\n",
              "                                                                                                                                                                    ...                                                                                                                                                              \n",
              "5320                                                                                                                                                                                                                                                                                 javascript terraform cli github actions workflow\n",
              "5321                                                                                                                                                                                                                                                                                                                             c++ \n",
              "5322                                                                                                                                                                                               advisor audit jetbrains mssql mybatis mysql optimize oracle pg postgresql sql sql-audit suggestion go sql audit platform mysql sql\n",
              "5323                                                                                                                                                                                                                                          literate-programming notebook starboard starboard-notebook typescript browser notebooks\n",
              "5324                                                                                                          actions api api-rest api-testing ci continuous-integration github-actions graphql grpc grpc-client http load-testing qa rest-api soap swagger test-automation testing testing-tools trpc typescript api testing quality\n",
              "Name: feature_vector, Length: 5325, dtype: object"
            ]
          },
          "metadata": {}
        }
      ]
    },
    {
      "cell_type": "code",
      "source": [],
      "metadata": {
        "id": "ZopHqD8cTc1H"
      },
      "execution_count": null,
      "outputs": []
    },
    {
      "cell_type": "markdown",
      "source": [
        "# Extract features"
      ],
      "metadata": {
        "id": "iqUZBXIs8noc"
      }
    },
    {
      "cell_type": "code",
      "source": [
        "recomendation_df=repo_data[['full_name','feature_vector']]\n",
        "display(recomendation_df[recomendation_df['full_name'].str.contains('uBlockOrigin/uAssets')])\n",
        "display(recomendation_df[recomendation_df['full_name'].str.contains('uBlockOrigin/uAssets')])"
      ],
      "metadata": {
        "id": "EpKgMzDUHFPM",
        "colab": {
          "base_uri": "https://localhost:8080/",
          "height": 144
        },
        "outputId": "e1b64a42-7b60-401c-e7b8-2f12ecebe3b1"
      },
      "execution_count": 224,
      "outputs": [
        {
          "output_type": "display_data",
          "data": {
            "text/plain": [
              "                 full_name  \\\n",
              "3688  uBlockOrigin/uAssets   \n",
              "\n",
              "                                                 feature_vector  \n",
              "3688   adblock-filter-list resources ublock static filter lists  "
            ],
            "text/html": [
              "\n",
              "  <div id=\"df-4eb625e5-dcdb-40ae-9b13-7cc48338543e\">\n",
              "    <div class=\"colab-df-container\">\n",
              "      <div>\n",
              "<style scoped>\n",
              "    .dataframe tbody tr th:only-of-type {\n",
              "        vertical-align: middle;\n",
              "    }\n",
              "\n",
              "    .dataframe tbody tr th {\n",
              "        vertical-align: top;\n",
              "    }\n",
              "\n",
              "    .dataframe thead th {\n",
              "        text-align: right;\n",
              "    }\n",
              "</style>\n",
              "<table border=\"1\" class=\"dataframe\">\n",
              "  <thead>\n",
              "    <tr style=\"text-align: right;\">\n",
              "      <th></th>\n",
              "      <th>full_name</th>\n",
              "      <th>feature_vector</th>\n",
              "    </tr>\n",
              "  </thead>\n",
              "  <tbody>\n",
              "    <tr>\n",
              "      <th>3688</th>\n",
              "      <td>uBlockOrigin/uAssets</td>\n",
              "      <td>adblock-filter-list resources ublock static filter lists</td>\n",
              "    </tr>\n",
              "  </tbody>\n",
              "</table>\n",
              "</div>\n",
              "      <button class=\"colab-df-convert\" onclick=\"convertToInteractive('df-4eb625e5-dcdb-40ae-9b13-7cc48338543e')\"\n",
              "              title=\"Convert this dataframe to an interactive table.\"\n",
              "              style=\"display:none;\">\n",
              "        \n",
              "  <svg xmlns=\"http://www.w3.org/2000/svg\" height=\"24px\"viewBox=\"0 0 24 24\"\n",
              "       width=\"24px\">\n",
              "    <path d=\"M0 0h24v24H0V0z\" fill=\"none\"/>\n",
              "    <path d=\"M18.56 5.44l.94 2.06.94-2.06 2.06-.94-2.06-.94-.94-2.06-.94 2.06-2.06.94zm-11 1L8.5 8.5l.94-2.06 2.06-.94-2.06-.94L8.5 2.5l-.94 2.06-2.06.94zm10 10l.94 2.06.94-2.06 2.06-.94-2.06-.94-.94-2.06-.94 2.06-2.06.94z\"/><path d=\"M17.41 7.96l-1.37-1.37c-.4-.4-.92-.59-1.43-.59-.52 0-1.04.2-1.43.59L10.3 9.45l-7.72 7.72c-.78.78-.78 2.05 0 2.83L4 21.41c.39.39.9.59 1.41.59.51 0 1.02-.2 1.41-.59l7.78-7.78 2.81-2.81c.8-.78.8-2.07 0-2.86zM5.41 20L4 18.59l7.72-7.72 1.47 1.35L5.41 20z\"/>\n",
              "  </svg>\n",
              "      </button>\n",
              "      \n",
              "  <style>\n",
              "    .colab-df-container {\n",
              "      display:flex;\n",
              "      flex-wrap:wrap;\n",
              "      gap: 12px;\n",
              "    }\n",
              "\n",
              "    .colab-df-convert {\n",
              "      background-color: #E8F0FE;\n",
              "      border: none;\n",
              "      border-radius: 50%;\n",
              "      cursor: pointer;\n",
              "      display: none;\n",
              "      fill: #1967D2;\n",
              "      height: 32px;\n",
              "      padding: 0 0 0 0;\n",
              "      width: 32px;\n",
              "    }\n",
              "\n",
              "    .colab-df-convert:hover {\n",
              "      background-color: #E2EBFA;\n",
              "      box-shadow: 0px 1px 2px rgba(60, 64, 67, 0.3), 0px 1px 3px 1px rgba(60, 64, 67, 0.15);\n",
              "      fill: #174EA6;\n",
              "    }\n",
              "\n",
              "    [theme=dark] .colab-df-convert {\n",
              "      background-color: #3B4455;\n",
              "      fill: #D2E3FC;\n",
              "    }\n",
              "\n",
              "    [theme=dark] .colab-df-convert:hover {\n",
              "      background-color: #434B5C;\n",
              "      box-shadow: 0px 1px 3px 1px rgba(0, 0, 0, 0.15);\n",
              "      filter: drop-shadow(0px 1px 2px rgba(0, 0, 0, 0.3));\n",
              "      fill: #FFFFFF;\n",
              "    }\n",
              "  </style>\n",
              "\n",
              "      <script>\n",
              "        const buttonEl =\n",
              "          document.querySelector('#df-4eb625e5-dcdb-40ae-9b13-7cc48338543e button.colab-df-convert');\n",
              "        buttonEl.style.display =\n",
              "          google.colab.kernel.accessAllowed ? 'block' : 'none';\n",
              "\n",
              "        async function convertToInteractive(key) {\n",
              "          const element = document.querySelector('#df-4eb625e5-dcdb-40ae-9b13-7cc48338543e');\n",
              "          const dataTable =\n",
              "            await google.colab.kernel.invokeFunction('convertToInteractive',\n",
              "                                                     [key], {});\n",
              "          if (!dataTable) return;\n",
              "\n",
              "          const docLinkHtml = 'Like what you see? Visit the ' +\n",
              "            '<a target=\"_blank\" href=https://colab.research.google.com/notebooks/data_table.ipynb>data table notebook</a>'\n",
              "            + ' to learn more about interactive tables.';\n",
              "          element.innerHTML = '';\n",
              "          dataTable['output_type'] = 'display_data';\n",
              "          await google.colab.output.renderOutput(dataTable, element);\n",
              "          const docLink = document.createElement('div');\n",
              "          docLink.innerHTML = docLinkHtml;\n",
              "          element.appendChild(docLink);\n",
              "        }\n",
              "      </script>\n",
              "    </div>\n",
              "  </div>\n",
              "  "
            ]
          },
          "metadata": {}
        },
        {
          "output_type": "display_data",
          "data": {
            "text/plain": [
              "                 full_name  \\\n",
              "3688  uBlockOrigin/uAssets   \n",
              "\n",
              "                                                 feature_vector  \n",
              "3688   adblock-filter-list resources ublock static filter lists  "
            ],
            "text/html": [
              "\n",
              "  <div id=\"df-7cc79c4a-5ba5-4d1e-b03c-77b1f2d20713\">\n",
              "    <div class=\"colab-df-container\">\n",
              "      <div>\n",
              "<style scoped>\n",
              "    .dataframe tbody tr th:only-of-type {\n",
              "        vertical-align: middle;\n",
              "    }\n",
              "\n",
              "    .dataframe tbody tr th {\n",
              "        vertical-align: top;\n",
              "    }\n",
              "\n",
              "    .dataframe thead th {\n",
              "        text-align: right;\n",
              "    }\n",
              "</style>\n",
              "<table border=\"1\" class=\"dataframe\">\n",
              "  <thead>\n",
              "    <tr style=\"text-align: right;\">\n",
              "      <th></th>\n",
              "      <th>full_name</th>\n",
              "      <th>feature_vector</th>\n",
              "    </tr>\n",
              "  </thead>\n",
              "  <tbody>\n",
              "    <tr>\n",
              "      <th>3688</th>\n",
              "      <td>uBlockOrigin/uAssets</td>\n",
              "      <td>adblock-filter-list resources ublock static filter lists</td>\n",
              "    </tr>\n",
              "  </tbody>\n",
              "</table>\n",
              "</div>\n",
              "      <button class=\"colab-df-convert\" onclick=\"convertToInteractive('df-7cc79c4a-5ba5-4d1e-b03c-77b1f2d20713')\"\n",
              "              title=\"Convert this dataframe to an interactive table.\"\n",
              "              style=\"display:none;\">\n",
              "        \n",
              "  <svg xmlns=\"http://www.w3.org/2000/svg\" height=\"24px\"viewBox=\"0 0 24 24\"\n",
              "       width=\"24px\">\n",
              "    <path d=\"M0 0h24v24H0V0z\" fill=\"none\"/>\n",
              "    <path d=\"M18.56 5.44l.94 2.06.94-2.06 2.06-.94-2.06-.94-.94-2.06-.94 2.06-2.06.94zm-11 1L8.5 8.5l.94-2.06 2.06-.94-2.06-.94L8.5 2.5l-.94 2.06-2.06.94zm10 10l.94 2.06.94-2.06 2.06-.94-2.06-.94-.94-2.06-.94 2.06-2.06.94z\"/><path d=\"M17.41 7.96l-1.37-1.37c-.4-.4-.92-.59-1.43-.59-.52 0-1.04.2-1.43.59L10.3 9.45l-7.72 7.72c-.78.78-.78 2.05 0 2.83L4 21.41c.39.39.9.59 1.41.59.51 0 1.02-.2 1.41-.59l7.78-7.78 2.81-2.81c.8-.78.8-2.07 0-2.86zM5.41 20L4 18.59l7.72-7.72 1.47 1.35L5.41 20z\"/>\n",
              "  </svg>\n",
              "      </button>\n",
              "      \n",
              "  <style>\n",
              "    .colab-df-container {\n",
              "      display:flex;\n",
              "      flex-wrap:wrap;\n",
              "      gap: 12px;\n",
              "    }\n",
              "\n",
              "    .colab-df-convert {\n",
              "      background-color: #E8F0FE;\n",
              "      border: none;\n",
              "      border-radius: 50%;\n",
              "      cursor: pointer;\n",
              "      display: none;\n",
              "      fill: #1967D2;\n",
              "      height: 32px;\n",
              "      padding: 0 0 0 0;\n",
              "      width: 32px;\n",
              "    }\n",
              "\n",
              "    .colab-df-convert:hover {\n",
              "      background-color: #E2EBFA;\n",
              "      box-shadow: 0px 1px 2px rgba(60, 64, 67, 0.3), 0px 1px 3px 1px rgba(60, 64, 67, 0.15);\n",
              "      fill: #174EA6;\n",
              "    }\n",
              "\n",
              "    [theme=dark] .colab-df-convert {\n",
              "      background-color: #3B4455;\n",
              "      fill: #D2E3FC;\n",
              "    }\n",
              "\n",
              "    [theme=dark] .colab-df-convert:hover {\n",
              "      background-color: #434B5C;\n",
              "      box-shadow: 0px 1px 3px 1px rgba(0, 0, 0, 0.15);\n",
              "      filter: drop-shadow(0px 1px 2px rgba(0, 0, 0, 0.3));\n",
              "      fill: #FFFFFF;\n",
              "    }\n",
              "  </style>\n",
              "\n",
              "      <script>\n",
              "        const buttonEl =\n",
              "          document.querySelector('#df-7cc79c4a-5ba5-4d1e-b03c-77b1f2d20713 button.colab-df-convert');\n",
              "        buttonEl.style.display =\n",
              "          google.colab.kernel.accessAllowed ? 'block' : 'none';\n",
              "\n",
              "        async function convertToInteractive(key) {\n",
              "          const element = document.querySelector('#df-7cc79c4a-5ba5-4d1e-b03c-77b1f2d20713');\n",
              "          const dataTable =\n",
              "            await google.colab.kernel.invokeFunction('convertToInteractive',\n",
              "                                                     [key], {});\n",
              "          if (!dataTable) return;\n",
              "\n",
              "          const docLinkHtml = 'Like what you see? Visit the ' +\n",
              "            '<a target=\"_blank\" href=https://colab.research.google.com/notebooks/data_table.ipynb>data table notebook</a>'\n",
              "            + ' to learn more about interactive tables.';\n",
              "          element.innerHTML = '';\n",
              "          dataTable['output_type'] = 'display_data';\n",
              "          await google.colab.output.renderOutput(dataTable, element);\n",
              "          const docLink = document.createElement('div');\n",
              "          docLink.innerHTML = docLinkHtml;\n",
              "          element.appendChild(docLink);\n",
              "        }\n",
              "      </script>\n",
              "    </div>\n",
              "  </div>\n",
              "  "
            ]
          },
          "metadata": {}
        }
      ]
    },
    {
      "cell_type": "code",
      "source": [
        "# Import necessary libraries\n",
        "from sklearn.feature_extraction.text import CountVectorizer\n",
        "from sklearn.metrics.pairwise import cosine_similarity\n",
        "\n",
        "vectorizer = CountVectorizer()\n",
        "feature_matrix = vectorizer.fit_transform(recomendation_df['feature_vector'])\n",
        "display(feature_matrix.get_shape())"
      ],
      "metadata": {
        "colab": {
          "base_uri": "https://localhost:8080/",
          "height": 35
        },
        "id": "3cAN1iJm8lJv",
        "outputId": "5ba66f8f-f5a1-4bda-c371-18a86c0ab07e"
      },
      "execution_count": 225,
      "outputs": [
        {
          "output_type": "display_data",
          "data": {
            "text/plain": [
              "(5325, 7978)"
            ]
          },
          "metadata": {}
        }
      ]
    },
    {
      "cell_type": "code",
      "source": [
        "# # Import necessary libraries\n",
        "# from sklearn.feature_extraction.text import TfidfVectorizer\n",
        "# from sklearn.metrics.pairwise import cosine_similarity\n",
        "\n",
        "# # Create a TfidfVectorizer to tokenize the features string and create a sparse matrix\n",
        "# feature_matrix = TfidfVectorizer()\n",
        "# feature_matrix = feature_matrix.fit_transform(repo_data['feature_vector'])\n",
        "# display(feature_matrix.get_shape())"
      ],
      "metadata": {
        "id": "sRTCUzuKh8s4",
        "colab": {
          "base_uri": "https://localhost:8080/",
          "height": 35
        },
        "outputId": "17ba6a1f-38ce-432b-f88a-a7e2791ac6ef"
      },
      "execution_count": 46,
      "outputs": [
        {
          "output_type": "display_data",
          "data": {
            "text/plain": [
              "(5325, 11722)"
            ]
          },
          "metadata": {}
        }
      ]
    },
    {
      "cell_type": "markdown",
      "source": [
        "# Compute similarity"
      ],
      "metadata": {
        "id": "IUuyQqKQ9BrR"
      }
    },
    {
      "cell_type": "code",
      "source": [
        "feature_similarity = cosine_similarity(feature_matrix)"
      ],
      "metadata": {
        "id": "QYKvfFRT9AiD"
      },
      "execution_count": 226,
      "outputs": []
    },
    {
      "cell_type": "code",
      "source": [
        "display(feature_similarity)"
      ],
      "metadata": {
        "colab": {
          "base_uri": "https://localhost:8080/",
          "height": 254
        },
        "id": "VykBkLXD9Z-e",
        "outputId": "f0815d3a-790b-4196-8e2d-8fdcbf6f7d21"
      },
      "execution_count": 227,
      "outputs": [
        {
          "output_type": "display_data",
          "data": {
            "text/plain": [
              "array([[1.        , 0.        , 0.40325254, ..., 0.        , 0.        ,\n",
              "        0.        ],\n",
              "       [0.        , 1.        , 0.        , ..., 0.09534626, 0.        ,\n",
              "        0.        ],\n",
              "       [0.40325254, 0.        , 1.        , ..., 0.        , 0.        ,\n",
              "        0.        ],\n",
              "       ...,\n",
              "       [0.        , 0.09534626, 0.        , ..., 1.        , 0.        ,\n",
              "        0.        ],\n",
              "       [0.        , 0.        , 0.        , ..., 0.        , 1.        ,\n",
              "        0.03120432],\n",
              "       [0.        , 0.        , 0.        , ..., 0.        , 0.03120432,\n",
              "        1.        ]])"
            ]
          },
          "metadata": {}
        }
      ]
    },
    {
      "cell_type": "code",
      "source": [
        "feature_similarity.shape"
      ],
      "metadata": {
        "colab": {
          "base_uri": "https://localhost:8080/"
        },
        "id": "aMsiu2Vq9sBO",
        "outputId": "6ddc3e20-98fd-4d33-894a-6bd43c868faa"
      },
      "execution_count": 228,
      "outputs": [
        {
          "output_type": "execute_result",
          "data": {
            "text/plain": [
              "(5325, 5325)"
            ]
          },
          "metadata": {},
          "execution_count": 228
        }
      ]
    },
    {
      "cell_type": "markdown",
      "source": [
        "# Recommendation Engine"
      ],
      "metadata": {
        "id": "vefzd_3n9R9F"
      }
    },
    {
      "cell_type": "code",
      "source": [
        "# set the display option to show full column width\n",
        "pd.set_option('display.max_colwidth', None)\n",
        "\n",
        "def recommend_repo(features, n=10):\n",
        "    # Find repos with similar features\n",
        "    features_list = features.split(',')\n",
        "    \n",
        "\n",
        "    # Find repos with similar features\n",
        "    feature_indices = set()\n",
        "    # for feature in features_list:\n",
        "        # feature_indices.update(recomendation_df[recomendation_df['feature_vector'].str.contains(feature)].index)\n",
        "    feature_indices.update(recomendation_df[recomendation_df['feature_vector'].apply(lambda x: any(feature in x.split() for feature in features_list))].index)\n",
        "    # print(recomendation_df.iloc[list(feature_indices)][\"feature_vector\"].to_string())\n",
        "    # display(recomendation_df[recomendation_df['feature_vector'].apply(lambda x: any(feature in x.split() for feature in features_list))])\n",
        "    \n",
        "    # Compute repo similarity scores\n",
        "    similarity_scores = []\n",
        "    for repo in feature_indices:\n",
        "        feature_similarities = feature_similarity[repo, list(feature_indices)]\n",
        "        # print(repo_data.iloc[[repo][\"full_name\"]])\n",
        "        similarity_scores.append((repo, feature_similarities.mean()))\n",
        "    \n",
        "    # Sort by similarity scores and recommend top N repos\n",
        "    similarity_scores = sorted(similarity_scores, key=lambda x: x[1], reverse=True)[:n]\n",
        "    recommended_repo = [repo_data.iloc[score[0]]['full_name'] for score in similarity_scores]\n",
        "    \n",
        "    return recommended_repo\n"
      ],
      "metadata": {
        "id": "cIzItlqP9UrD"
      },
      "execution_count": 229,
      "outputs": []
    },
    {
      "cell_type": "code",
      "source": [
        "# set the display option to show full column width\n",
        "pd.set_option('display.max_colwidth', None)\n",
        "recommend_repo('spring,java,spring-boot',n=5)"
      ],
      "metadata": {
        "colab": {
          "base_uri": "https://localhost:8080/"
        },
        "id": "IOBflQQE_y7B",
        "outputId": "26f11d68-926d-40e1-bb2a-e09cce8541c3"
      },
      "execution_count": 230,
      "outputs": [
        {
          "output_type": "execute_result",
          "data": {
            "text/plain": [
              "['proxyee-down-org/proxyee-down',\n",
              " 'bilibili/DanmakuFlameMaster',\n",
              " 'alibaba/otter',\n",
              " 'hongyangAndroid/okhttputils',\n",
              " 'hongyangAndroid/AndroidAutoLayout']"
            ]
          },
          "metadata": {},
          "execution_count": 230
        }
      ]
    },
    {
      "cell_type": "code",
      "source": [
        "recommend_repo('javascript,language,typechecker,compile,output,typescript',n=5)"
      ],
      "metadata": {
        "colab": {
          "base_uri": "https://localhost:8080/"
        },
        "id": "ha0p-84Y-kK9",
        "outputId": "ab306250-79d0-41b1-9b38-0e3331921fdc"
      },
      "execution_count": 231,
      "outputs": [
        {
          "output_type": "execute_result",
          "data": {
            "text/plain": [
              "['EastWorld/wechat-app-mall',\n",
              " 'kesenhoo/android-training-course-in-chinese',\n",
              " 'yemount/pose-animator',\n",
              " 'fex-team/fis3',\n",
              " 'fex-team/kityminder']"
            ]
          },
          "metadata": {},
          "execution_count": 231
        }
      ]
    },
    {
      "cell_type": "code",
      "source": [
        "recommend_repo('testing,chrome,automation,web,chromium,developer-tools,node-module,headless-chrome,typescript,javascript')"
      ],
      "metadata": {
        "colab": {
          "base_uri": "https://localhost:8080/"
        },
        "id": "LgZB-jkI_QDl",
        "outputId": "84ce9bf3-9f8d-41dd-ffe4-b8eb94919b92"
      },
      "execution_count": 232,
      "outputs": [
        {
          "output_type": "execute_result",
          "data": {
            "text/plain": [
              "['EastWorld/wechat-app-mall',\n",
              " 'kesenhoo/android-training-course-in-chinese',\n",
              " 'yemount/pose-animator',\n",
              " 'fex-team/fis3',\n",
              " 'fex-team/kityminder',\n",
              " 'hughsk/flat',\n",
              " 'fex-team/ua-device',\n",
              " 'abourget/gevent-socketio',\n",
              " 'fex-team/kityminder-core',\n",
              " 'mapbox/mapbox-studio-classic']"
            ]
          },
          "metadata": {},
          "execution_count": 232
        }
      ]
    },
    {
      "cell_type": "code",
      "source": [
        "recommend_repo('kubernetes,go,containers,dockerfile,sed,batchfile,cncf')"
      ],
      "metadata": {
        "colab": {
          "base_uri": "https://localhost:8080/"
        },
        "id": "ph1BvkvU_pgM",
        "outputId": "15dba19d-ed81-474e-c145-edab91faf869"
      },
      "execution_count": 233,
      "outputs": [
        {
          "output_type": "execute_result",
          "data": {
            "text/plain": [
              "['tarm/serial',\n",
              " 'Go-zh/tour',\n",
              " 'studygolang/studygolang',\n",
              " 'kardianos/govendor',\n",
              " 'cloudflare/tableflip',\n",
              " 'google/starlark-go',\n",
              " 'spf13/viper',\n",
              " 'glycerine/zygomys',\n",
              " 'fsnotify/fsnotify',\n",
              " 'golangci/golangci-lint']"
            ]
          },
          "metadata": {},
          "execution_count": 233
        }
      ]
    },
    {
      "cell_type": "code",
      "source": [
        "recommend_repo('adblock-filter-list',n=5)"
      ],
      "metadata": {
        "colab": {
          "base_uri": "https://localhost:8080/"
        },
        "id": "-cgRQQn3lAmV",
        "outputId": "cfb284c5-6ea3-42f2-9172-063a7e230380"
      },
      "execution_count": 234,
      "outputs": [
        {
          "output_type": "execute_result",
          "data": {
            "text/plain": [
              "['cjx82630/cjxlist', 'uBlockOrigin/uAssets']"
            ]
          },
          "metadata": {},
          "execution_count": 234
        }
      ]
    },
    {
      "cell_type": "code",
      "source": [
        "recommend_repo('laravel,php',n=5)"
      ],
      "metadata": {
        "colab": {
          "base_uri": "https://localhost:8080/"
        },
        "id": "2bEwnjcgiZKQ",
        "outputId": "edcbb441-4500-4ccd-b9f4-842f6e747774"
      },
      "execution_count": 235,
      "outputs": [
        {
          "output_type": "execute_result",
          "data": {
            "text/plain": [
              "['zendframework/zend-code',\n",
              " 'iagox86/dnscat2',\n",
              " 'sebastianbergmann/recursion-context',\n",
              " 'sebastianbergmann/comparator',\n",
              " 'yiisoft/yii']"
            ]
          },
          "metadata": {},
          "execution_count": 235
        }
      ]
    }
  ]
}